{
  "cells": [
    {
      "cell_type": "markdown",
      "source": [
        "# This notebook is an introduction to R\n"
      ],
      "metadata": {
        "nteract": {
          "transient": {
            "deleting": false
          }
        }
      }
    },
    {
      "cell_type": "markdown",
      "source": [
        "## Data Types in R\n",
        "\n",
        "### R has 6 basic data types:\n",
        "    \n",
        "    character: \"a\", \"swc\"\n",
        "    numeric: 2, 15.5\n",
        "    integer: 2L (the L tells R to store this as an integer)\n",
        "    logical: TRUE, FALSE\n",
        "    complex: 1+4i (complex numbers with real and imaginary parts)"
      ],
      "metadata": {
        "nteract": {
          "transient": {
            "deleting": false
          }
        }
      }
    },
    {
      "cell_type": "markdown",
      "source": [
        "Assign variables with an assignment operator: <- "
      ],
      "metadata": {
        "nteract": {
          "transient": {
            "deleting": false
          }
        }
      }
    },
    {
      "cell_type": "code",
      "source": [
        "name <- \"Deana\"\n",
        "age  <- 33L\n",
        "true <- TRUE\n",
        "\n",
        "print(name)\n",
        "print(age)\n",
        "print(true)\n",
        "typeof(name)\n",
        "typeof(age)\n",
        "typeof(true)\n"
      ],
      "outputs": [
        {
          "output_type": "stream",
          "name": "stdout",
          "text": [
            "[1] \"Deana\"\n",
            "[1] 33\n",
            "[1] TRUE\n"
          ]
        },
        {
          "output_type": "display_data",
          "data": {
            "text/html": "'character'",
            "text/markdown": "'character'",
            "text/latex": "'character'",
            "text/plain": "[1] \"character\""
          },
          "metadata": {}
        },
        {
          "output_type": "display_data",
          "data": {
            "text/html": "'integer'",
            "text/markdown": "'integer'",
            "text/latex": "'integer'",
            "text/plain": "[1] \"integer\""
          },
          "metadata": {}
        },
        {
          "output_type": "display_data",
          "data": {
            "text/html": "'logical'",
            "text/markdown": "'logical'",
            "text/latex": "'logical'",
            "text/plain": "[1] \"logical\""
          },
          "metadata": {}
        }
      ],
      "execution_count": 7,
      "metadata": {
        "collapsed": true,
        "jupyter": {
          "source_hidden": false,
          "outputs_hidden": false
        },
        "nteract": {
          "transient": {
            "deleting": false
          }
        },
        "execution": {
          "iopub.status.busy": "2020-12-23T19:39:19.347Z",
          "iopub.execute_input": "2020-12-23T19:39:19.354Z",
          "iopub.status.idle": "2020-12-23T19:39:19.380Z",
          "shell.execute_reply": "2020-12-23T19:39:19.389Z"
        }
      }
    },
    {
      "cell_type": "markdown",
      "source": [
        "## Vectors\n",
        "\n",
        "A vector is the most common and basic data structure in R and is pretty much the workhorse of R. Technically, vectors can be one of two types:\n",
        "\n",
        "    atomic vectors\n",
        "    lists\n",
        "   \n",
        "   although the term “vector” most commonly refers to the atomic types not to lists."
      ],
      "metadata": {
        "nteract": {
          "transient": {
            "deleting": false
          }
        }
      }
    },
    {
      "cell_type": "code",
      "source": [
        "#an empty 'logical' (default) vector\n",
        "vector()\n",
        "print(vector())"
      ],
      "outputs": [
        {
          "output_type": "display_data",
          "data": {
            "text/html": "",
            "text/markdown": "",
            "text/latex": "",
            "text/plain": "logical(0)"
          },
          "metadata": {}
        },
        {
          "output_type": "stream",
          "name": "stdout",
          "text": [
            "logical(0)\n"
          ]
        }
      ],
      "execution_count": 12,
      "metadata": {
        "collapsed": true,
        "jupyter": {
          "source_hidden": false,
          "outputs_hidden": false
        },
        "nteract": {
          "transient": {
            "deleting": false
          }
        },
        "execution": {
          "iopub.status.busy": "2020-12-23T19:52:45.033Z",
          "iopub.execute_input": "2020-12-23T19:52:45.039Z",
          "shell.execute_reply": "2020-12-23T19:52:45.076Z",
          "iopub.status.idle": "2020-12-23T19:52:45.062Z"
        }
      }
    },
    {
      "cell_type": "code",
      "source": [
        "#You can create vectors in differt modes by defining them or by calling constructors\n",
        "vector(\"character\", length = 4) #a vector of 4 emtpy chacters elements"
      ],
      "outputs": [
        {
          "output_type": "display_data",
          "data": {
            "text/html": "<style>\n.list-inline {list-style: none; margin:0; padding: 0}\n.list-inline>li {display: inline-block}\n.list-inline>li:not(:last-child)::after {content: \"\\00b7\"; padding: 0 .5ex}\n</style>\n<ol class=list-inline><li>''</li><li>''</li><li>''</li><li>''</li></ol>\n",
            "text/markdown": "1. ''\n2. ''\n3. ''\n4. ''\n\n\n",
            "text/latex": "\\begin{enumerate*}\n\\item ''\n\\item ''\n\\item ''\n\\item ''\n\\end{enumerate*}\n",
            "text/plain": "[1] \"\" \"\" \"\" \"\""
          },
          "metadata": {}
        }
      ],
      "execution_count": 14,
      "metadata": {
        "collapsed": true,
        "jupyter": {
          "source_hidden": false,
          "outputs_hidden": false
        },
        "nteract": {
          "transient": {
            "deleting": false
          }
        },
        "execution": {
          "iopub.status.busy": "2020-12-23T19:55:35.274Z",
          "iopub.execute_input": "2020-12-23T19:55:35.280Z",
          "iopub.status.idle": "2020-12-23T19:55:35.306Z",
          "shell.execute_reply": "2020-12-23T19:55:35.316Z"
        }
      }
    },
    {
      "cell_type": "code",
      "source": [
        "character(4) #the same thing"
      ],
      "outputs": [
        {
          "output_type": "display_data",
          "data": {
            "text/html": "<style>\n.list-inline {list-style: none; margin:0; padding: 0}\n.list-inline>li {display: inline-block}\n.list-inline>li:not(:last-child)::after {content: \"\\00b7\"; padding: 0 .5ex}\n</style>\n<ol class=list-inline><li>''</li><li>''</li><li>''</li><li>''</li></ol>\n",
            "text/markdown": "1. ''\n2. ''\n3. ''\n4. ''\n\n\n",
            "text/latex": "\\begin{enumerate*}\n\\item ''\n\\item ''\n\\item ''\n\\item ''\n\\end{enumerate*}\n",
            "text/plain": "[1] \"\" \"\" \"\" \"\""
          },
          "metadata": {}
        }
      ],
      "execution_count": 15,
      "metadata": {
        "collapsed": true,
        "jupyter": {
          "source_hidden": false,
          "outputs_hidden": false
        },
        "nteract": {
          "transient": {
            "deleting": false
          }
        },
        "execution": {
          "iopub.status.busy": "2020-12-23T19:55:47.293Z",
          "iopub.execute_input": "2020-12-23T19:55:47.300Z",
          "iopub.status.idle": "2020-12-23T19:55:47.313Z",
          "shell.execute_reply": "2020-12-23T19:55:47.319Z"
        }
      }
    },
    {
      "cell_type": "code",
      "source": [
        "#lets fill a vector, x,  with different elements\n",
        "x<- c(\"hey\", \"I\", \"am\", \"a\", \"vector\")\n",
        "x\n",
        "\n",
        "typeof(x)"
      ],
      "outputs": [
        {
          "output_type": "display_data",
          "data": {
            "text/html": "<style>\n.list-inline {list-style: none; margin:0; padding: 0}\n.list-inline>li {display: inline-block}\n.list-inline>li:not(:last-child)::after {content: \"\\00b7\"; padding: 0 .5ex}\n</style>\n<ol class=list-inline><li>'hey'</li><li>'I'</li><li>'am'</li><li>'a'</li><li>'vector'</li></ol>\n",
            "text/markdown": "1. 'hey'\n2. 'I'\n3. 'am'\n4. 'a'\n5. 'vector'\n\n\n",
            "text/latex": "\\begin{enumerate*}\n\\item 'hey'\n\\item 'I'\n\\item 'am'\n\\item 'a'\n\\item 'vector'\n\\end{enumerate*}\n",
            "text/plain": "[1] \"hey\"    \"I\"      \"am\"     \"a\"      \"vector\""
          },
          "metadata": {}
        },
        {
          "output_type": "display_data",
          "data": {
            "text/html": "'character'",
            "text/markdown": "'character'",
            "text/latex": "'character'",
            "text/plain": "[1] \"character\""
          },
          "metadata": {}
        }
      ],
      "execution_count": 31,
      "metadata": {
        "collapsed": true,
        "jupyter": {
          "source_hidden": false,
          "outputs_hidden": false
        },
        "nteract": {
          "transient": {
            "deleting": false
          }
        },
        "execution": {
          "iopub.status.busy": "2020-12-23T20:28:08.916Z",
          "iopub.execute_input": "2020-12-23T20:28:08.922Z",
          "iopub.status.idle": "2020-12-23T20:28:08.941Z",
          "shell.execute_reply": "2020-12-23T20:28:08.946Z"
        }
      }
    },
    {
      "cell_type": "code",
      "source": [
        "#you can access different elements in a vector with element position like Python lists but R starts at element 1 (not 0 like with Python)\n",
        "\n",
        "x[1]\n",
        "x[2:4]"
      ],
      "outputs": [
        {
          "output_type": "display_data",
          "data": {
            "text/html": "'hey'",
            "text/markdown": "'hey'",
            "text/latex": "'hey'",
            "text/plain": "[1] \"hey\""
          },
          "metadata": {}
        },
        {
          "output_type": "display_data",
          "data": {
            "text/html": "<style>\n.list-inline {list-style: none; margin:0; padding: 0}\n.list-inline>li {display: inline-block}\n.list-inline>li:not(:last-child)::after {content: \"\\00b7\"; padding: 0 .5ex}\n</style>\n<ol class=list-inline><li>'I'</li><li>'am'</li><li>'a'</li></ol>\n",
            "text/markdown": "1. 'I'\n2. 'am'\n3. 'a'\n\n\n",
            "text/latex": "\\begin{enumerate*}\n\\item 'I'\n\\item 'am'\n\\item 'a'\n\\end{enumerate*}\n",
            "text/plain": "[1] \"I\"  \"am\" \"a\" "
          },
          "metadata": {}
        }
      ],
      "execution_count": 32,
      "metadata": {
        "collapsed": true,
        "jupyter": {
          "source_hidden": false,
          "outputs_hidden": false
        },
        "nteract": {
          "transient": {
            "deleting": false
          }
        },
        "execution": {
          "iopub.status.busy": "2020-12-23T20:28:10.073Z",
          "iopub.execute_input": "2020-12-23T20:28:10.082Z",
          "iopub.status.idle": "2020-12-23T20:28:10.107Z",
          "shell.execute_reply": "2020-12-23T20:28:10.117Z"
        }
      }
    },
    {
      "cell_type": "code",
      "source": [
        "#add elements like this:\n",
        "x <- c(x, \"today\")\n",
        "x\n",
        "#if you worded it like this, it would be combined to the end x <- c(\"today\", x)"
      ],
      "outputs": [
        {
          "output_type": "display_data",
          "data": {
            "text/html": "<style>\n.list-inline {list-style: none; margin:0; padding: 0}\n.list-inline>li {display: inline-block}\n.list-inline>li:not(:last-child)::after {content: \"\\00b7\"; padding: 0 .5ex}\n</style>\n<ol class=list-inline><li>'hey'</li><li>'I'</li><li>'am'</li><li>'a'</li><li>'vector'</li><li>'today'</li></ol>\n",
            "text/markdown": "1. 'hey'\n2. 'I'\n3. 'am'\n4. 'a'\n5. 'vector'\n6. 'today'\n\n\n",
            "text/latex": "\\begin{enumerate*}\n\\item 'hey'\n\\item 'I'\n\\item 'am'\n\\item 'a'\n\\item 'vector'\n\\item 'today'\n\\end{enumerate*}\n",
            "text/plain": "[1] \"hey\"    \"I\"      \"am\"     \"a\"      \"vector\" \"today\" "
          },
          "metadata": {}
        }
      ],
      "execution_count": 33,
      "metadata": {
        "collapsed": true,
        "jupyter": {
          "source_hidden": false,
          "outputs_hidden": false
        },
        "nteract": {
          "transient": {
            "deleting": false
          }
        },
        "execution": {
          "iopub.status.busy": "2020-12-23T20:28:10.857Z",
          "iopub.execute_input": "2020-12-23T20:28:10.865Z",
          "iopub.status.idle": "2020-12-23T20:28:10.882Z",
          "shell.execute_reply": "2020-12-23T20:28:10.889Z"
        }
      }
    },
    {
      "cell_type": "code",
      "source": [
        "#When you put mixed datatypes in a vector, R will create a vector in the mode that works best for all the datatypes. - this is called coercion \n",
        "xx <- c(1.7, \"a\")\n",
        "xx\n",
        "xy <- c(FALSE, 2) #False is 0 and True is 1\n",
        "xy\n",
        "xz <- c(\"a\", TRUE)\n",
        "xz"
      ],
      "outputs": [
        {
          "output_type": "display_data",
          "data": {
            "text/html": "<style>\n.list-inline {list-style: none; margin:0; padding: 0}\n.list-inline>li {display: inline-block}\n.list-inline>li:not(:last-child)::after {content: \"\\00b7\"; padding: 0 .5ex}\n</style>\n<ol class=list-inline><li>'1.7'</li><li>'a'</li></ol>\n",
            "text/markdown": "1. '1.7'\n2. 'a'\n\n\n",
            "text/latex": "\\begin{enumerate*}\n\\item '1.7'\n\\item 'a'\n\\end{enumerate*}\n",
            "text/plain": "[1] \"1.7\" \"a\"  "
          },
          "metadata": {}
        },
        {
          "output_type": "display_data",
          "data": {
            "text/html": "<style>\n.list-inline {list-style: none; margin:0; padding: 0}\n.list-inline>li {display: inline-block}\n.list-inline>li:not(:last-child)::after {content: \"\\00b7\"; padding: 0 .5ex}\n</style>\n<ol class=list-inline><li>0</li><li>2</li></ol>\n",
            "text/markdown": "1. 0\n2. 2\n\n\n",
            "text/latex": "\\begin{enumerate*}\n\\item 0\n\\item 2\n\\end{enumerate*}\n",
            "text/plain": "[1] 0 2"
          },
          "metadata": {}
        },
        {
          "output_type": "display_data",
          "data": {
            "text/html": "<style>\n.list-inline {list-style: none; margin:0; padding: 0}\n.list-inline>li {display: inline-block}\n.list-inline>li:not(:last-child)::after {content: \"\\00b7\"; padding: 0 .5ex}\n</style>\n<ol class=list-inline><li>'a'</li><li>'TRUE'</li></ol>\n",
            "text/markdown": "1. 'a'\n2. 'TRUE'\n\n\n",
            "text/latex": "\\begin{enumerate*}\n\\item 'a'\n\\item 'TRUE'\n\\end{enumerate*}\n",
            "text/plain": "[1] \"a\"    \"TRUE\""
          },
          "metadata": {}
        }
      ],
      "execution_count": 38,
      "metadata": {
        "collapsed": true,
        "jupyter": {
          "source_hidden": false,
          "outputs_hidden": false
        },
        "nteract": {
          "transient": {
            "deleting": false
          }
        },
        "execution": {
          "iopub.status.busy": "2020-12-23T20:49:08.868Z",
          "iopub.execute_input": "2020-12-23T20:49:08.873Z",
          "iopub.status.idle": "2020-12-23T20:49:08.940Z",
          "shell.execute_reply": "2020-12-23T20:49:08.947Z"
        }
      }
    },
    {
      "cell_type": "code",
      "source": [
        "#you can also control how vectors are coerced. Check out how the character element in xx is turned in a N/A\n",
        "as.numeric(xx)"
      ],
      "outputs": [
        {
          "output_type": "stream",
          "name": "stderr",
          "text": [
            "Warning message in eval(expr, envir, enclos):\n",
            "\"NAs introduced by coercion\"\n"
          ]
        },
        {
          "output_type": "display_data",
          "data": {
            "text/html": "<style>\n.list-inline {list-style: none; margin:0; padding: 0}\n.list-inline>li {display: inline-block}\n.list-inline>li:not(:last-child)::after {content: \"\\00b7\"; padding: 0 .5ex}\n</style>\n<ol class=list-inline><li>1.7</li><li>&lt;NA&gt;</li></ol>\n",
            "text/markdown": "1. 1.7\n2. &lt;NA&gt;\n\n\n",
            "text/latex": "\\begin{enumerate*}\n\\item 1.7\n\\item <NA>\n\\end{enumerate*}\n",
            "text/plain": "[1] 1.7  NA"
          },
          "metadata": {}
        }
      ],
      "execution_count": 39,
      "metadata": {
        "collapsed": true,
        "jupyter": {
          "source_hidden": false,
          "outputs_hidden": false
        },
        "nteract": {
          "transient": {
            "deleting": false
          }
        },
        "execution": {
          "iopub.status.busy": "2020-12-23T20:49:23.487Z",
          "iopub.execute_input": "2020-12-23T20:49:23.492Z",
          "iopub.status.idle": "2020-12-23T20:49:23.514Z",
          "shell.execute_reply": "2020-12-23T20:49:23.519Z"
        }
      }
    },
    {
      "cell_type": "markdown",
      "source": [
        "## Matrix\n",
        "\n",
        "Matrices are an extension of numeric or character vectors with demensions of columns and rows."
      ],
      "metadata": {
        "nteract": {
          "transient": {
            "deleting": false
          }
        }
      }
    },
    {
      "cell_type": "code",
      "source": [
        "#Matrices are filled column wise\n",
        "\n",
        "m <- matrix(1:6, nrow = 2, ncol = 3)\n",
        "\n",
        "m"
      ],
      "outputs": [
        {
          "output_type": "display_data",
          "data": {
            "text/html": "<table>\n<caption>A matrix: 2 × 3 of type int</caption>\n<tbody>\n\t<tr><td>1</td><td>3</td><td>5</td></tr>\n\t<tr><td>2</td><td>4</td><td>6</td></tr>\n</tbody>\n</table>\n",
            "text/markdown": "\nA matrix: 2 × 3 of type int\n\n| 1 | 3 | 5 |\n| 2 | 4 | 6 |\n\n",
            "text/latex": "A matrix: 2 × 3 of type int\n\\begin{tabular}{lll}\n\t 1 & 3 & 5\\\\\n\t 2 & 4 & 6\\\\\n\\end{tabular}\n",
            "text/plain": "     [,1] [,2] [,3]\n[1,] 1    3    5   \n[2,] 2    4    6   "
          },
          "metadata": {}
        }
      ],
      "execution_count": 41,
      "metadata": {
        "collapsed": true,
        "jupyter": {
          "source_hidden": false,
          "outputs_hidden": false
        },
        "nteract": {
          "transient": {
            "deleting": false
          }
        },
        "execution": {
          "iopub.status.busy": "2020-12-23T22:02:54.068Z",
          "iopub.execute_input": "2020-12-23T22:02:54.078Z",
          "shell.execute_reply": "2020-12-23T22:02:54.512Z",
          "iopub.status.idle": "2020-12-23T22:02:54.491Z"
        }
      }
    },
    {
      "cell_type": "code",
      "source": [
        "dim(m)\n",
        "class(m)\n",
        "typeof(m)"
      ],
      "outputs": [
        {
          "output_type": "display_data",
          "data": {
            "text/html": "<style>\n.list-inline {list-style: none; margin:0; padding: 0}\n.list-inline>li {display: inline-block}\n.list-inline>li:not(:last-child)::after {content: \"\\00b7\"; padding: 0 .5ex}\n</style>\n<ol class=list-inline><li>2</li><li>3</li></ol>\n",
            "text/markdown": "1. 2\n2. 3\n\n\n",
            "text/latex": "\\begin{enumerate*}\n\\item 2\n\\item 3\n\\end{enumerate*}\n",
            "text/plain": "[1] 2 3"
          },
          "metadata": {}
        },
        {
          "output_type": "display_data",
          "data": {
            "text/html": "<style>\n.list-inline {list-style: none; margin:0; padding: 0}\n.list-inline>li {display: inline-block}\n.list-inline>li:not(:last-child)::after {content: \"\\00b7\"; padding: 0 .5ex}\n</style>\n<ol class=list-inline><li>'matrix'</li><li>'array'</li></ol>\n",
            "text/markdown": "1. 'matrix'\n2. 'array'\n\n\n",
            "text/latex": "\\begin{enumerate*}\n\\item 'matrix'\n\\item 'array'\n\\end{enumerate*}\n",
            "text/plain": "[1] \"matrix\" \"array\" "
          },
          "metadata": {}
        },
        {
          "output_type": "display_data",
          "data": {
            "text/html": "'integer'",
            "text/markdown": "'integer'",
            "text/latex": "'integer'",
            "text/plain": "[1] \"integer\""
          },
          "metadata": {}
        }
      ],
      "execution_count": 44,
      "metadata": {
        "collapsed": true,
        "jupyter": {
          "source_hidden": false,
          "outputs_hidden": false
        },
        "nteract": {
          "transient": {
            "deleting": false
          }
        },
        "execution": {
          "iopub.status.busy": "2020-12-23T22:04:00.048Z",
          "iopub.execute_input": "2020-12-23T22:04:00.059Z",
          "iopub.status.idle": "2020-12-23T22:04:00.088Z",
          "shell.execute_reply": "2020-12-23T22:04:00.113Z"
        }
      }
    },
    {
      "cell_type": "code",
      "source": [
        "#You can take a vector and transform it into a matrix like this\n",
        "x <- 1:10\n",
        "dim(x) <-c(2,5)\n",
        "print(x)"
      ],
      "outputs": [
        {
          "output_type": "stream",
          "name": "stdout",
          "text": [
            "     [,1] [,2] [,3] [,4] [,5]\n",
            "[1,]    1    3    5    7    9\n",
            "[2,]    2    4    6    8   10\n"
          ]
        }
      ],
      "execution_count": 47,
      "metadata": {
        "collapsed": true,
        "jupyter": {
          "source_hidden": false,
          "outputs_hidden": false
        },
        "nteract": {
          "transient": {
            "deleting": false
          }
        },
        "execution": {
          "iopub.status.busy": "2020-12-23T22:05:31.163Z",
          "iopub.execute_input": "2020-12-23T22:05:31.173Z",
          "iopub.status.idle": "2020-12-23T22:05:31.198Z",
          "shell.execute_reply": "2020-12-23T22:05:31.206Z"
        }
      }
    },
    {
      "cell_type": "code",
      "source": [
        "#You can also use cbind and rbind to bind columns into a matrix\n",
        "r <- 1:3\n",
        "s <- 14:16\n",
        "cbind(r,s)"
      ],
      "outputs": [
        {
          "output_type": "display_data",
          "data": {
            "text/html": "<table>\n<caption>A matrix: 3 × 2 of type int</caption>\n<thead>\n\t<tr><th scope=col>r</th><th scope=col>s</th></tr>\n</thead>\n<tbody>\n\t<tr><td>1</td><td>14</td></tr>\n\t<tr><td>2</td><td>15</td></tr>\n\t<tr><td>3</td><td>16</td></tr>\n</tbody>\n</table>\n",
            "text/markdown": "\nA matrix: 3 × 2 of type int\n\n| r | s |\n|---|---|\n| 1 | 14 |\n| 2 | 15 |\n| 3 | 16 |\n\n",
            "text/latex": "A matrix: 3 × 2 of type int\n\\begin{tabular}{ll}\n r & s\\\\\n\\hline\n\t 1 & 14\\\\\n\t 2 & 15\\\\\n\t 3 & 16\\\\\n\\end{tabular}\n",
            "text/plain": "     r s \n[1,] 1 14\n[2,] 2 15\n[3,] 3 16"
          },
          "metadata": {}
        }
      ],
      "execution_count": 48,
      "metadata": {
        "collapsed": true,
        "jupyter": {
          "source_hidden": false,
          "outputs_hidden": false
        },
        "nteract": {
          "transient": {
            "deleting": false
          }
        },
        "execution": {
          "iopub.status.busy": "2020-12-23T22:07:03.756Z",
          "iopub.execute_input": "2020-12-23T22:07:03.763Z",
          "iopub.status.idle": "2020-12-23T22:07:03.781Z",
          "shell.execute_reply": "2020-12-23T22:07:03.789Z"
        }
      }
    },
    {
      "cell_type": "code",
      "source": [
        "rbind(r,s)"
      ],
      "outputs": [
        {
          "output_type": "display_data",
          "data": {
            "text/html": "<table>\n<caption>A matrix: 2 × 3 of type int</caption>\n<tbody>\n\t<tr><th scope=row>r</th><td> 1</td><td> 2</td><td> 3</td></tr>\n\t<tr><th scope=row>s</th><td>14</td><td>15</td><td>16</td></tr>\n</tbody>\n</table>\n",
            "text/markdown": "\nA matrix: 2 × 3 of type int\n\n| r |  1 |  2 |  3 |\n| s | 14 | 15 | 16 |\n\n",
            "text/latex": "A matrix: 2 × 3 of type int\n\\begin{tabular}{r|lll}\n\tr &  1 &  2 &  3\\\\\n\ts & 14 & 15 & 16\\\\\n\\end{tabular}\n",
            "text/plain": "  [,1] [,2] [,3]\nr  1    2    3  \ns 14   15   16  "
          },
          "metadata": {}
        },
        {
          "output_type": "stream",
          "name": "stdout",
          "text": [
            "  [,1] [,2] [,3]\n",
            "r    1    2    3\n",
            "s   14   15   16\n"
          ]
        }
      ],
      "execution_count": 50,
      "metadata": {
        "collapsed": true,
        "jupyter": {
          "source_hidden": false,
          "outputs_hidden": false
        },
        "nteract": {
          "transient": {
            "deleting": false
          }
        },
        "execution": {
          "iopub.status.busy": "2020-12-23T22:07:33.819Z",
          "iopub.execute_input": "2020-12-23T22:07:33.828Z",
          "iopub.status.idle": "2020-12-23T22:07:33.849Z",
          "shell.execute_reply": "2020-12-23T22:07:33.856Z"
        }
      }
    },
    {
      "cell_type": "markdown",
      "source": [
        "## Lists\n",
        "Lists (or generic vectors) act as containers. Unlike atomic vectors, the contents of a list can be different types"
      ],
      "metadata": {
        "nteract": {
          "transient": {
            "deleting": false
          }
        }
      }
    },
    {
      "cell_type": "code",
      "source": [
        "x <- list(1, \"b\", FALSE, 1+4i)\n",
        "x\n",
        "length(x)\n",
        "x[3]"
      ],
      "outputs": [
        {
          "output_type": "display_data",
          "data": {
            "text/html": "<ol>\n\t<li>1</li>\n\t<li>'b'</li>\n\t<li>FALSE</li>\n\t<li>1+4i</li>\n</ol>\n",
            "text/markdown": "1. 1\n2. 'b'\n3. FALSE\n4. 1+4i\n\n\n",
            "text/latex": "\\begin{enumerate}\n\\item 1\n\\item 'b'\n\\item FALSE\n\\item 1+4i\n\\end{enumerate}\n",
            "text/plain": "[[1]]\n[1] 1\n\n[[2]]\n[1] \"b\"\n\n[[3]]\n[1] FALSE\n\n[[4]]\n[1] 1+4i\n"
          },
          "metadata": {}
        },
        {
          "output_type": "display_data",
          "data": {
            "text/html": "4",
            "text/markdown": "4",
            "text/latex": "4",
            "text/plain": "[1] 4"
          },
          "metadata": {}
        },
        {
          "output_type": "display_data",
          "data": {
            "text/html": "<ol>\n\t<li>FALSE</li>\n</ol>\n",
            "text/markdown": "1. FALSE\n\n\n",
            "text/latex": "\\begin{enumerate}\n\\item FALSE\n\\end{enumerate}\n",
            "text/plain": "[[1]]\n[1] FALSE\n"
          },
          "metadata": {}
        }
      ],
      "execution_count": 55,
      "metadata": {
        "collapsed": true,
        "jupyter": {
          "source_hidden": false,
          "outputs_hidden": false
        },
        "nteract": {
          "transient": {
            "deleting": false
          }
        },
        "execution": {
          "iopub.status.busy": "2020-12-23T22:34:22.949Z",
          "iopub.execute_input": "2020-12-23T22:34:22.962Z",
          "iopub.status.idle": "2020-12-23T22:34:23.016Z",
          "shell.execute_reply": "2020-12-23T22:34:23.030Z"
        }
      }
    },
    {
      "cell_type": "code",
      "source": [
        "#elements in a list can have names"
      ],
      "outputs": [],
      "execution_count": null,
      "metadata": {
        "collapsed": true,
        "jupyter": {
          "source_hidden": false,
          "outputs_hidden": false
        },
        "nteract": {
          "transient": {
            "deleting": false
          }
        }
      }
    },
    {
      "cell_type": "code",
      "source": [
        "x <- list(a = 1, b = \"b\", c = FALSE, d = 1+4i)\n",
        "names(x)"
      ],
      "outputs": [
        {
          "output_type": "display_data",
          "data": {
            "text/html": "<style>\n.list-inline {list-style: none; margin:0; padding: 0}\n.list-inline>li {display: inline-block}\n.list-inline>li:not(:last-child)::after {content: \"\\00b7\"; padding: 0 .5ex}\n</style>\n<ol class=list-inline><li>'a'</li><li>'b'</li><li>'c'</li><li>'d'</li></ol>\n",
            "text/markdown": "1. 'a'\n2. 'b'\n3. 'c'\n4. 'd'\n\n\n",
            "text/latex": "\\begin{enumerate*}\n\\item 'a'\n\\item 'b'\n\\item 'c'\n\\item 'd'\n\\end{enumerate*}\n",
            "text/plain": "[1] \"a\" \"b\" \"c\" \"d\""
          },
          "metadata": {}
        }
      ],
      "execution_count": 53,
      "metadata": {
        "collapsed": true,
        "jupyter": {
          "source_hidden": false,
          "outputs_hidden": false
        },
        "nteract": {
          "transient": {
            "deleting": false
          }
        },
        "execution": {
          "iopub.status.busy": "2020-12-23T22:33:51.863Z",
          "iopub.execute_input": "2020-12-23T22:33:51.874Z",
          "iopub.status.idle": "2020-12-23T22:33:51.967Z",
          "shell.execute_reply": "2020-12-23T22:33:51.976Z"
        }
      }
    },
    {
      "cell_type": "markdown",
      "source": [
        "## Data Frames\n",
        "\n",
        "A data frame is a special type of list composed of vectors of equal length."
      ],
      "metadata": {
        "nteract": {
          "transient": {
            "deleting": false
          }
        }
      }
    },
    {
      "cell_type": "code",
      "source": [
        "#You can create your own dataframes\n",
        "name <- c(\"Mike\", \"Lucy\", \"John\") \n",
        "age <- c(20, 25, 30) \n",
        "student <- c(TRUE, FALSE, TRUE) \n",
        "df = data.frame(name, age, student)  \n",
        "df\n",
        "df[[\"age\"]]\n",
        "df$age\n"
      ],
      "outputs": [
        {
          "output_type": "display_data",
          "data": {
            "text/html": "<table>\n<caption>A data.frame: 3 × 3</caption>\n<thead>\n\t<tr><th scope=col>name</th><th scope=col>age</th><th scope=col>student</th></tr>\n\t<tr><th scope=col>&lt;chr&gt;</th><th scope=col>&lt;dbl&gt;</th><th scope=col>&lt;lgl&gt;</th></tr>\n</thead>\n<tbody>\n\t<tr><td>Mike</td><td>20</td><td> TRUE</td></tr>\n\t<tr><td>Lucy</td><td>25</td><td>FALSE</td></tr>\n\t<tr><td>John</td><td>30</td><td> TRUE</td></tr>\n</tbody>\n</table>\n",
            "text/markdown": "\nA data.frame: 3 × 3\n\n| name &lt;chr&gt; | age &lt;dbl&gt; | student &lt;lgl&gt; |\n|---|---|---|\n| Mike | 20 |  TRUE |\n| Lucy | 25 | FALSE |\n| John | 30 |  TRUE |\n\n",
            "text/latex": "A data.frame: 3 × 3\n\\begin{tabular}{lll}\n name & age & student\\\\\n <chr> & <dbl> & <lgl>\\\\\n\\hline\n\t Mike & 20 &  TRUE\\\\\n\t Lucy & 25 & FALSE\\\\\n\t John & 30 &  TRUE\\\\\n\\end{tabular}\n",
            "text/plain": "  name age student\n1 Mike 20   TRUE  \n2 Lucy 25  FALSE  \n3 John 30   TRUE  "
          },
          "metadata": {}
        },
        {
          "output_type": "display_data",
          "data": {
            "text/html": "<style>\n.list-inline {list-style: none; margin:0; padding: 0}\n.list-inline>li {display: inline-block}\n.list-inline>li:not(:last-child)::after {content: \"\\00b7\"; padding: 0 .5ex}\n</style>\n<ol class=list-inline><li>20</li><li>25</li><li>30</li></ol>\n",
            "text/markdown": "1. 20\n2. 25\n3. 30\n\n\n",
            "text/latex": "\\begin{enumerate*}\n\\item 20\n\\item 25\n\\item 30\n\\end{enumerate*}\n",
            "text/plain": "[1] 20 25 30"
          },
          "metadata": {}
        },
        {
          "output_type": "display_data",
          "data": {
            "text/html": "<style>\n.list-inline {list-style: none; margin:0; padding: 0}\n.list-inline>li {display: inline-block}\n.list-inline>li:not(:last-child)::after {content: \"\\00b7\"; padding: 0 .5ex}\n</style>\n<ol class=list-inline><li>20</li><li>25</li><li>30</li></ol>\n",
            "text/markdown": "1. 20\n2. 25\n3. 30\n\n\n",
            "text/latex": "\\begin{enumerate*}\n\\item 20\n\\item 25\n\\item 30\n\\end{enumerate*}\n",
            "text/plain": "[1] 20 25 30"
          },
          "metadata": {}
        }
      ],
      "execution_count": 62,
      "metadata": {
        "collapsed": true,
        "jupyter": {
          "source_hidden": false,
          "outputs_hidden": false
        },
        "nteract": {
          "transient": {
            "deleting": false
          }
        },
        "execution": {
          "iopub.status.busy": "2020-12-23T23:27:37.448Z",
          "iopub.execute_input": "2020-12-23T23:27:37.457Z",
          "iopub.status.idle": "2020-12-23T23:27:37.491Z",
          "shell.execute_reply": "2020-12-23T23:27:37.515Z"
        }
      }
    },
    {
      "cell_type": "markdown",
      "source": [
        "### Useful Data Frame Functions\n",
        "    head() - shows first 6 rows\n",
        "    tail() - shows last 6 rows\n",
        "    dim() - returns the dimensions of data frame (i.e. number of rows and number of columns)\n",
        "    nrow() - number of rows\n",
        "    ncol() - number of columns\n",
        "    str() - structure of data frame - name, type and preview of data in each column\n",
        "    names() or colnames() - both show the names attribute for a data frame\n",
        "    sapply(dataframe, class) - shows the class of each column in the data frame"
      ],
      "metadata": {
        "nteract": {
          "transient": {
            "deleting": false
          }
        }
      }
    },
    {
      "cell_type": "code",
      "source": [
        "dim(df)\n",
        "ncol(df)\n",
        "str(df)"
      ],
      "outputs": [
        {
          "output_type": "display_data",
          "data": {
            "text/html": "<style>\n.list-inline {list-style: none; margin:0; padding: 0}\n.list-inline>li {display: inline-block}\n.list-inline>li:not(:last-child)::after {content: \"\\00b7\"; padding: 0 .5ex}\n</style>\n<ol class=list-inline><li>3</li><li>3</li></ol>\n",
            "text/markdown": "1. 3\n2. 3\n\n\n",
            "text/latex": "\\begin{enumerate*}\n\\item 3\n\\item 3\n\\end{enumerate*}\n",
            "text/plain": "[1] 3 3"
          },
          "metadata": {}
        },
        {
          "output_type": "display_data",
          "data": {
            "text/html": "3",
            "text/markdown": "3",
            "text/latex": "3",
            "text/plain": "[1] 3"
          },
          "metadata": {}
        },
        {
          "output_type": "stream",
          "name": "stdout",
          "text": [
            "'data.frame':\t3 obs. of  3 variables:\n",
            " $ name   : chr  \"Mike\" \"Lucy\" \"John\"\n",
            " $ age    : num  20 25 30\n",
            " $ student: logi  TRUE FALSE TRUE\n"
          ]
        }
      ],
      "execution_count": 66,
      "metadata": {
        "collapsed": true,
        "jupyter": {
          "source_hidden": false,
          "outputs_hidden": false
        },
        "nteract": {
          "transient": {
            "deleting": false
          }
        },
        "execution": {
          "iopub.status.busy": "2020-12-23T23:29:50.807Z",
          "iopub.execute_input": "2020-12-23T23:29:50.823Z",
          "iopub.status.idle": "2020-12-23T23:29:50.979Z",
          "shell.execute_reply": "2020-12-23T23:29:51.014Z"
        }
      }
    },
    {
      "cell_type": "markdown",
      "source": [
        "## Reading from and Writing to CSV files"
      ],
      "metadata": {
        "nteract": {
          "transient": {
            "deleting": false
          }
        }
      }
    },
    {
      "cell_type": "code",
      "source": [
        "#You can write a dataframe to a csv very easily\n",
        "write.csv(df, file=\"sample_df_to_csv_in_R.csv\")"
      ],
      "outputs": [],
      "execution_count": 67,
      "metadata": {
        "collapsed": true,
        "jupyter": {
          "source_hidden": false,
          "outputs_hidden": false
        },
        "nteract": {
          "transient": {
            "deleting": false
          }
        },
        "execution": {
          "iopub.status.busy": "2020-12-23T23:32:22.327Z",
          "iopub.execute_input": "2020-12-23T23:32:22.344Z",
          "shell.execute_reply": "2020-12-23T23:32:22.397Z",
          "iopub.status.idle": "2020-12-23T23:32:22.418Z"
        }
      }
    },
    {
      "cell_type": "code",
      "source": [
        "#You can create data frames by read.csv() and read.table()\n",
        "df1 <- read.csv(file=\"sample_df_to_csv_in_R.csv\")"
      ],
      "outputs": [],
      "execution_count": 69,
      "metadata": {
        "collapsed": true,
        "jupyter": {
          "source_hidden": false,
          "outputs_hidden": false
        },
        "nteract": {
          "transient": {
            "deleting": false
          }
        },
        "execution": {
          "iopub.status.busy": "2020-12-23T23:34:19.113Z",
          "iopub.execute_input": "2020-12-23T23:34:19.127Z",
          "iopub.status.idle": "2020-12-23T23:34:19.168Z",
          "shell.execute_reply": "2020-12-23T23:34:19.186Z"
        }
      }
    },
    {
      "cell_type": "code",
      "source": [
        "df1"
      ],
      "outputs": [
        {
          "output_type": "display_data",
          "data": {
            "text/html": "<table>\n<caption>A data.frame: 3 × 4</caption>\n<thead>\n\t<tr><th scope=col>X</th><th scope=col>name</th><th scope=col>age</th><th scope=col>student</th></tr>\n\t<tr><th scope=col>&lt;int&gt;</th><th scope=col>&lt;chr&gt;</th><th scope=col>&lt;int&gt;</th><th scope=col>&lt;lgl&gt;</th></tr>\n</thead>\n<tbody>\n\t<tr><td>1</td><td>Mike</td><td>20</td><td> TRUE</td></tr>\n\t<tr><td>2</td><td>Lucy</td><td>25</td><td>FALSE</td></tr>\n\t<tr><td>3</td><td>John</td><td>30</td><td> TRUE</td></tr>\n</tbody>\n</table>\n",
            "text/markdown": "\nA data.frame: 3 × 4\n\n| X &lt;int&gt; | name &lt;chr&gt; | age &lt;int&gt; | student &lt;lgl&gt; |\n|---|---|---|---|\n| 1 | Mike | 20 |  TRUE |\n| 2 | Lucy | 25 | FALSE |\n| 3 | John | 30 |  TRUE |\n\n",
            "text/latex": "A data.frame: 3 × 4\n\\begin{tabular}{llll}\n X & name & age & student\\\\\n <int> & <chr> & <int> & <lgl>\\\\\n\\hline\n\t 1 & Mike & 20 &  TRUE\\\\\n\t 2 & Lucy & 25 & FALSE\\\\\n\t 3 & John & 30 &  TRUE\\\\\n\\end{tabular}\n",
            "text/plain": "  X name age student\n1 1 Mike 20   TRUE  \n2 2 Lucy 25  FALSE  \n3 3 John 30   TRUE  "
          },
          "metadata": {}
        }
      ],
      "execution_count": 70,
      "metadata": {
        "collapsed": true,
        "jupyter": {
          "source_hidden": false,
          "outputs_hidden": false
        },
        "nteract": {
          "transient": {
            "deleting": false
          }
        },
        "execution": {
          "iopub.status.busy": "2020-12-23T23:34:21.058Z",
          "iopub.execute_input": "2020-12-23T23:34:21.068Z",
          "iopub.status.idle": "2020-12-23T23:34:21.095Z",
          "shell.execute_reply": "2020-12-23T23:34:21.110Z"
        }
      }
    },
    {
      "cell_type": "code",
      "source": [
        "#the header argument is default set to TRUE, set it to FALSE if the first row of your csv file is not your headers. The strip.white argument removes white spaces around the values in csv. It must also include the seperater argument.\n",
        "df1 <- read.csv(file=\"sample_df_to_csv_in_R.csv\", \n",
        "                header=FALSE, \n",
        "                strip.white=TRUE, \n",
        "                sep=',')\n",
        "names(df1) = c(\"index\",\"names\",\"ages\",\"students\")\n",
        "df1"
      ],
      "outputs": [
        {
          "output_type": "display_data",
          "data": {
            "text/html": "<table>\n<caption>A data.frame: 4 × 4</caption>\n<thead>\n\t<tr><th scope=col>index</th><th scope=col>names</th><th scope=col>ages</th><th scope=col>students</th></tr>\n\t<tr><th scope=col>&lt;int&gt;</th><th scope=col>&lt;chr&gt;</th><th scope=col>&lt;chr&gt;</th><th scope=col>&lt;chr&gt;</th></tr>\n</thead>\n<tbody>\n\t<tr><td>NA</td><td>name</td><td>age</td><td>student</td></tr>\n\t<tr><td> 1</td><td>Mike</td><td>20 </td><td>TRUE   </td></tr>\n\t<tr><td> 2</td><td>Lucy</td><td>25 </td><td>FALSE  </td></tr>\n\t<tr><td> 3</td><td>John</td><td>30 </td><td>TRUE   </td></tr>\n</tbody>\n</table>\n",
            "text/markdown": "\nA data.frame: 4 × 4\n\n| index &lt;int&gt; | names &lt;chr&gt; | ages &lt;chr&gt; | students &lt;chr&gt; |\n|---|---|---|---|\n| NA | name | age | student |\n|  1 | Mike | 20  | TRUE    |\n|  2 | Lucy | 25  | FALSE   |\n|  3 | John | 30  | TRUE    |\n\n",
            "text/latex": "A data.frame: 4 × 4\n\\begin{tabular}{llll}\n index & names & ages & students\\\\\n <int> & <chr> & <chr> & <chr>\\\\\n\\hline\n\t NA & name & age & student\\\\\n\t  1 & Mike & 20  & TRUE   \\\\\n\t  2 & Lucy & 25  & FALSE  \\\\\n\t  3 & John & 30  & TRUE   \\\\\n\\end{tabular}\n",
            "text/plain": "  index names ages students\n1 NA    name  age  student \n2  1    Mike  20   TRUE    \n3  2    Lucy  25   FALSE   \n4  3    John  30   TRUE    "
          },
          "metadata": {}
        }
      ],
      "execution_count": 82,
      "metadata": {
        "collapsed": true,
        "jupyter": {
          "source_hidden": false,
          "outputs_hidden": false
        },
        "nteract": {
          "transient": {
            "deleting": false
          }
        },
        "execution": {
          "iopub.status.busy": "2020-12-24T00:00:28.818Z",
          "iopub.execute_input": "2020-12-24T00:00:28.837Z",
          "iopub.status.idle": "2020-12-24T00:00:28.870Z",
          "shell.execute_reply": "2020-12-24T00:00:28.895Z"
        }
      }
    },
    {
      "cell_type": "markdown",
      "source": [
        "## Playing with Data Frames\n",
        "The R dyplr package provides ways to explore your data"
      ],
      "metadata": {
        "nteract": {
          "transient": {
            "deleting": false
          }
        }
      }
    },
    {
      "cell_type": "code",
      "source": [
        "install.packages(\"dplyr\")\n",
        "library(\"dplyr\")"
      ],
      "outputs": [
        {
          "output_type": "stream",
          "name": "stdout",
          "text": [
            "\n",
            "The downloaded binary packages are in\n",
            "\t/var/folders/4v/lbw09b5s3nvbz8d937j_q9pm0000gp/T//RtmpKuj6Em/downloaded_packages\n"
          ]
        },
        {
          "output_type": "stream",
          "name": "stderr",
          "text": [
            "\n",
            "Attaching package: 'dplyr'\n",
            "\n",
            "\n",
            "The following objects are masked from 'package:stats':\n",
            "\n",
            "    filter, lag\n",
            "\n",
            "\n",
            "The following objects are masked from 'package:base':\n",
            "\n",
            "    intersect, setdiff, setequal, union\n",
            "\n",
            "\n"
          ]
        }
      ],
      "execution_count": 87,
      "metadata": {
        "collapsed": true,
        "jupyter": {
          "source_hidden": false,
          "outputs_hidden": false
        },
        "nteract": {
          "transient": {
            "deleting": false
          }
        },
        "execution": {
          "iopub.status.busy": "2020-12-24T00:11:03.194Z",
          "iopub.execute_input": "2020-12-24T00:11:03.213Z",
          "iopub.status.idle": "2020-12-24T00:11:07.810Z",
          "shell.execute_reply": "2020-12-24T00:11:07.846Z"
        }
      }
    },
    {
      "cell_type": "code",
      "source": [
        "df <- read.csv(file=\"christmas_recipes.csv\")\n",
        "dim(df) #shows dimensions"
      ],
      "outputs": [
        {
          "output_type": "display_data",
          "data": {
            "text/html": "<style>\n.list-inline {list-style: none; margin:0; padding: 0}\n.list-inline>li {display: inline-block}\n.list-inline>li:not(:last-child)::after {content: \"\\00b7\"; padding: 0 .5ex}\n</style>\n<ol class=list-inline><li>42</li><li>6</li></ol>\n",
            "text/markdown": "1. 42\n2. 6\n\n\n",
            "text/latex": "\\begin{enumerate*}\n\\item 42\n\\item 6\n\\end{enumerate*}\n",
            "text/plain": "[1] 42  6"
          },
          "metadata": {}
        }
      ],
      "execution_count": 92,
      "metadata": {
        "collapsed": true,
        "jupyter": {
          "source_hidden": false,
          "outputs_hidden": false
        },
        "nteract": {
          "transient": {
            "deleting": false
          }
        },
        "execution": {
          "iopub.status.busy": "2020-12-24T00:39:36.523Z",
          "iopub.execute_input": "2020-12-24T00:39:36.537Z",
          "iopub.status.idle": "2020-12-24T00:39:36.562Z",
          "shell.execute_reply": "2020-12-24T00:39:36.590Z"
        }
      }
    },
    {
      "cell_type": "code",
      "source": [
        "head(df) #shows the beginning of the dataset"
      ],
      "outputs": [
        {
          "output_type": "display_data",
          "data": {
            "text/html": "<table>\n<caption>A data.frame: 6 × 6</caption>\n<thead>\n\t<tr><th></th><th scope=col>Title</th><th scope=col>Time</th><th scope=col>Servings</th><th scope=col>Ingredients</th><th scope=col>Instructions</th><th scope=col>Image</th></tr>\n\t<tr><th></th><th scope=col>&lt;chr&gt;</th><th scope=col>&lt;int&gt;</th><th scope=col>&lt;chr&gt;</th><th scope=col>&lt;chr&gt;</th><th scope=col>&lt;chr&gt;</th><th scope=col>&lt;chr&gt;</th></tr>\n</thead>\n<tbody>\n\t<tr><th scope=row>1</th><td>Perfect roast turkey                           </td><td>180</td><td>10 serving(s)</td><td>['20ml/<c2><be>fl oz rapeseed oil', '1 x 5kg/11lb good-quality free-range turkey, preferably organically reared, wishbone removed (ask your butcher to remove the wings and neck and chop them into 2.5cm/1in pieces to use in the dish)', '40g/1<c2><bd>oz unsalted butter, softened to room temperature', '2 pinches sea salt flakes', '2 pinches freshly ground white pepper', '200ml/7fl oz water', 'salt and freshly ground black pepper', '1-2 tsp ground arrowroot (depending on how thick you like your gravy), dissolved in 1 tbsp cold water', 'roast potatoes and steamed seasonal vegetables, to serve']                                                                                                                                                                                                                       </td><td>Remove the turkey from the fridge and bring to room temperature - this will take at least an hour.\nWhen you are ready to cook, preheat the oven to 230C/220C Fan/Gas 8.\nHeat the rapeseed oil in a large, heavy-based roasting tray on the stove top. Add the chopped turkey wings and neck and fry for 8-10 minutes, turning the pieces over every 2-3 minutes, or until evenly browned all over.\nMeanwhile, in a small bowl, soften the butter with the back of a dessert spoon, then season with the salt and freshly ground white pepper. Using a pastry brush or your hands, smear the seasoned butter all over the turkey. Add any remaining butter to the roasting tray once the chopped wings and neck have browned.\nPlace the turkey on top of the wing and neck pieces, then roast in the oven for 30 minutes.\nRemove the turkey from the oven and baste all over with the cooking juices.\nReduce the oven temperature to 160C/150C Fan/Gas 3.\nPour the water into the roasting tray, then return the turkey to the oven and continue to cook for a further 1 hour, basting the bird with the cooking juices every 20 minutes (do this quickly to prevent the heat escaping from the oven).\nAt the end of the cooking time, test that the turkey is cooked through by inserting a skewer or roasting fork into the thickest part of its thigh; if the juices run clear, the meat is cooked. Alternatively, use a meat thermometer; if cooked, the temperature should be 65C for 10 minutes, or up to 74C for 2 minutes. If the turkey is not fully cooked, return it to the oven until the juices run clear.\nRemove the turkey from the oven and transfer the bird to a large, deep-sided tray, reserving the roasting tray the turkey was cooked in along with the cooking juices. Set the turkey aside to rest for a minimum of 30 minutes and up to 1<c2><bd> hours.\nWhile the turkey is resting, cook your roast potatoes and vegetable dishes.\nWhen you<e2><80><99>re almost ready to serve the meal, return the roasting tray used to cook the turkey to the stove top. Bring the cooking juices to the boil over a medium heat, scraping up any burned bits from the bottom of the tray using a wooden spoon.\nCollect the juices released by the turkey as it was resting and add them to the gravy. Season, to taste, with salt and freshly ground black pepper, if needed.\nReduce the heat until the gravy is simmering, then stir in the dissolved arrowroot and cook until the gravy has thickened.\nStrain the gravy through a fine sieve into a warmed jug. Keep warm.\nTo serve, bring the turkey to the table and carve into slices. Serve with the roast potatoes and vegetables. Pour over the gravy.                                                                                                                                                                                                                                                                       </td><td>https://ichef.bbci.co.uk/food/ic/food_16x9_832/recipes/the_perfect_roast_turkey_01155_16x9.jpg</td></tr>\n\t<tr><th scope=row>2</th><td>Stuffed roast turkey breast                    </td><td>180</td><td>8 serving(s) </td><td>['1 tbsp sunflower oil', '1 onion, finely chopped', '1 leek, trimmed and finely sliced', '4 pork sausages, around 275g/9<c2><be>oz', '50g/1<c2><be>oz dried cranberries', '25g/1oz flaked almonds', '1 unwaxed lemon, finely grated zest only', '1 heaped tbsp roughly chopped fresh thyme leaves', '40g/1<c2><bd>oz dried white breadcrumbs', 'salt and freshly ground black pepper', '1.5kg/3lb 5oz turkey breast joint, fully thawed if frozen', '16 rashers smoked streaky bacon', '2 tbsp sunflower oil, plus extra for oiling', 'fresh thyme and bay leaves, to garnish', '2 tbsp plain flour', 'splash of wine', '450ml/16fl oz chicken stock, made with 1 chicken stock cube', '1 tbsp redcurrant jelly']                                                                                                                          </td><td>To make the stuffing, heat the oil and gently fry the onion and leek for 5 minutes, or until well softened and lightly browned, stirring regularly. Tip into a mixing bowl and leave to cool for 30 minutes.\nFor the turkey, generously oil a small, sturdy roasting tin, roughly 30cm x 22cm/12 x 8<c2><bd>in <e2><80><93> the turkey needs to fit snugly.\nTo continue the stuffing, once the onion and leek are cool, add the cranberries, almonds, lemon zest, thyme and breadcrumbs. Squeeze the sausage meat out of the skins and add it to the bowl.\nSeason with salt and lots of pepper. Mix well with a spoon or with clean hands until thoroughly combined.\nPlace the turkey breast on a board and gently remove the skin. Turn over and cut horizontally almost all the way through the thickest part of the breast and open up like a book, so that the turkey has a flatter, more oblong shape. Cover with a sheet of cling film and bash with a rolling pin until around 2.5cm/1in thick all over.\nPlace a sheet of cling film on a work surface and put eight pieces of kitchen string, each 50cm/20in long, roughly 4cm/1<c2><bd>in apart along its length. Stretch each rasher of bacon with the back of a knife until around 32cm/13in long. Place the bacon rashers on top of the string and cling film, overlapping each slice.\nPlace the turkey breast, smooth-side down, on top of the bacon and arrange the filling all the way down its length. Bring up the cling film and bacon on both long sides to enclose the filling.\nTie firmly with the string and discard the cling film. Place the turkey parcel in the prepared tin, knot-side down. (You can cover and chill for up to 24 hours before cooking if using a fresh turkey joint, or cook the same day if using a previously frozen joint.)\nPreheat the oven to 200C/180C Fan/Gas 6. Uncover the stuffed turkey joint, then drizzle with oil and season with black pepper. Cover loosely with foil and roast for 1 hour. Remove the foil and continue cooking for a further 30<e2><80><93>45 minutes, or until the bacon is crisp and the turkey and stuffing are thoroughly cooked.\nTransfer the turkey to a warmed platter. Cover with foil and a tea towel and leave to rest for 15 minutes.\nFor the gravy, put the roasting tin on the hob over medium heat and stir in the flour. Add the wine and cook for 15<e2><80><93>20 seconds, stirring constantly.\nGradually add the stock, stirring all the time. Bring the liquid to a simmer, stir in the redcurrant jelly and cook for 2 minutes, or until thickened and glossy. Season to taste, strain carefully (the tin will be extremely hot) through a sieve into a saucepan and keep warm until ready to serve.\nSnip the string off the turkey and garnish with bay leaves and thyme. Carve into slices and serve with the hot gravy.                                                                                                                           </td><td>https://ichef.bbci.co.uk/food/ic/food_16x9_832/recipes/roast_turkey_crown_10545_16x9.jpg      </td></tr>\n\t<tr><th scope=row>3</th><td>Nigella's turkey breast with Christmas stuffing</td><td>150</td><td>12 serving(s)</td><td>['100g/3<c2><bd>oz dried cranberries', '100ml/3<c2><bd>fl oz Marsala', '2 tbsp olive oil', '2 banana shallots, finely chopped', '<c2><bc> tsp ground cloves', '<c2><bd> tsp ground allspice', '2 tsp chopped fresh sage', '1kg/2lb 4oz Italian sausages', '2 free-range eggs, beaten', '50g/2oz parmesan, grated', '60g/2<c2><bc>oz breadcrumbs', '5kg/11lb double breast turkey joint, boned, butterflied, with skin left on', '4 tbsp duck or goose fat']                                                                                                                                                                                                                                                                                                                                                                                </td><td>Put the cranberries and Marsala into a small saucepan and bring to a boil, then take off the heat and leave to one side.\nPut the oil into a large frying pan or similar heavy-based pan, and fry the shallots for a minute or so, then add the spices and shredded sage, turning them in the soft shallots.\nSqueeze the sausagemeat out of its skins, add to the pan and break it up <e2><80><93> using a wooden fork and spatula for ease <e2><80><93> turning it in the hot pan until it loses its pinkness. This will take about five minutes.\nTake the frying pan off the heat and turn the contents into a large bowl, mixing in the steeped cranberries and any Marsala clinging to them, and leave to cool. You can cover with cling film and put in the fridge for up to two days at this stage.\nWhen you are ready to stuff the turkey breast, take the bowl of sausagement out of the fridge.\nPreheat the oven to 200C/400F/Gas 6.\nUncover the bowl of sausagemeat, add the eggs, parmesan and breadcrumbs and <e2><80><93> I use my hands for this <e2><80><93> mix well.\nLay the butterflied turkey joint out in front of you. It really does look like a butterfly though admittedly a fleshy one. Spread the stuffing out first in the slight cavity in the centre of the butterfly and then outwards onto the wings though not going right up to the edge (or it will squodge out when cooking) but as evenly as possible over the whole joint.\nCarefully, in one swift but steady movement, fold one <e2><80><98>wing<e2><80><99> over the other to close the joint, and then sit the turkey on a large roasting tin, breast bone (or where the breast bone would be) uppermost as it would look were it the whole bird, with the pointier bit furthest away from you. Thread two skewers through the base <e2><80><93> i.e., the widest part that is nearer you <e2><80><93> to keep it closed and smear it all over with the duck or goose fat.\nRoast the turkey breast for 2-2<c2><bd> hours, then check it is cooked with a turkey or meat thermometer. When cooked, it should read 75C. (If you<e2><80><99>re leaving it to rest, as you should or to cool, you could take it out at 73C <e2><80><93> it wil retain heat and continue to cook for a short while once out of the oven.)\nFlex your muscles, then lift out onto a carving board, and leave to rest for at least 20 minutes. Or leave to get cold if you are eating it as part of a buffet.\nCut through the whole joint in wide slices right across; they will need to be quite thick, at least 1-2cm/<c2><bd>-1in, to keep the stuffing intact within the slice.\nAs you place it on table or sideboard, dot around it the condiments of your choice: I revert to Christmas in Italy here by putting a lusciously extravagant pot or two of Italian mostarda di Cremona on the table alongside: this is a hot and sweet preserve of mustardy candied fruits that gleam beautifully and taste both festive and fabulous.</td><td>https://ichef.bbci.co.uk/food/ic/food_16x9_832/recipes/turkey_breast_stuffed_43707_16x9.jpg   </td></tr>\n\t<tr><th scope=row>4</th><td>Gordon Ramsay's roast turkey crown             </td><td>120</td><td>8 serving(s) </td><td>['125g/4<c2><bd>oz pack unsalted butter, softened', '3-4 sprigs fresh thyme, leaves only', 'sprig of fresh rosemary, chopped leaves only', '2 tbsp fresh parsley leaves, chopped', 'salt', 'freshly ground black pepper', '2.2kg/4lb 14oz medium-sized turkey crown', '125g/4<c2><bd>oz butter', '1 onion, finely chopped', 'large sprig of thyme and rosemary, chopped leaves only', '200g/7oz white breadcrumbs', '6 fresh sage leaves', '1 lemon, zest only', '50g/2oz pine nuts', '1 tsp sea salt', 'freshly ground black pepper', '3 tbsp fresh parsley, chopped', '1 onion or large shallot, chopped', '2 tbsp olive oil', '125ml/4fl oz dry white wine', '1 sprig fresh thyme', '1 bay leaf', '500ml/17fl oz chicken stock', '200ml/7fl oz double cream', 'sea salt', 'freshly ground black pepper']                                </td><td>Pre-heat the oven to 200C/180C Fan/Gas 6.\nFor the herb butter, mix herbs and butter together to form a paste, season well with salt and freshly ground black pepper.\nLift up the skin of the turkey with your fingers and separate it from the flesh. Divide the herb butter and spread it under the skin. Season well, place in a roasting tin.\nCook the crown for 15 minutes, then reduce the heat to 180C/160C Fan/Gas 4 and cook the turkey for 1<c2><bd> hours, or until the juices run clear. Cover the turkey with foil and tea towels and set aside in a warm place to rest for 30 minutes before carving, reserve the juices for the gravy.\nFor the stuffing, melt butter in a large frying pan and gently saut<c3><a9> onion for 10 minutes until soft. Stir in the herbs for 1 minute then add breadcrumbs to absorb the butter. Mix in the lemon zest, pine nuts and seasoning and cook over medium heat for about seven minutes until crumbs start to brown and crisp. Take off the heat, mix in the parsley and serve warm.\nFor the gravy, gently fry the onion in the olive oil for about five minutes. Pour in the wine and add the thyme and bay and boil until the volume of the liquid is reduced by three-quarters.\nAdd stock and boil until reduced by half then add cream and boil for further five minutes. Season with freshly ground black pepper. Remove from heat, cool for ten minutes and strain. Add the turkey pan juices, boil for two minutes, season with salt and strain.                                                                                                                                                                                                                                                                                                                                                                                                                                                                                                                                                                                                                                                                                                                                                                                                                                                                                                                                                                                                                                                                                                                                                                                                                                                                                                                                                                                                                                                                                                  </td><td>https://ichef.bbci.co.uk/food/ic/food_16x9_832/recipes/roastturkeyandstuffi_71053_16x9.jpg    </td></tr>\n\t<tr><th scope=row>5</th><td>Roast turkey crown                             </td><td>180</td><td>8 serving(s) </td><td>['1 turkey breast crown (a wingless, legless turkey)', '50g/2oz butter', 'salt and pepper', 'about 10 rashers streaky bacon']                                                                                                                                                                                                                                                                                                                                                                                                                                                                                                                                                                                                                                                                                                              </td><td>Preheat the oven to 220C/200C Fan/Gas 7.\nRub the butter all over the bird and season well with salt and freshly ground black pepper. Then lay the bacon rashers over the bird, more or less covering it completely. The job of the bacon is twofold: to help keep the breast basted without you having to open (and therefore cool) the oven every ten minutes; and to buy you time, so the skin doesn't burn before the breast is cooked through.\nPlace the bird in a roasting tray in the centre of the oven. Cook on this high heat for 25-30 minutes until the bacon is almost burnt.\nRemove the bacon from the breast of the bird and put on one side. Baste the breast of the bird with the fat and juices in the pan and return to the oven. Turn down the oven to 180C/160C Fan/Gas 4 and continue to cook for about 12 minutes per 1kg/2<c2><bc>lb, protecting the skin with buttered foil only if it seems to need it. Cook until the juices run clear when the thickest part of the breast is pierced with a skewer and the skin is brown and crispy. Cooked like this even a big bird (say 6-7kg/13<c2><bd>-15<c2><be>lb legless weight) shouldn't take more than 1<c2><bd>-2 hours in total.\nServe slices of roast turkey breast and spoonfuls of the leg meat in their rich gravy, with all the usual trimmings: roast potatoes, bread sauce, steamed sprouts, chipolatas wrapped in bacon and stuffing.                                                                                                                                                                                                                                                                                                                                                                                                                                                                                                                                                                                                                                                                                                                                                                                                                                                                                                                                                                                                                                                                                                                                                                                                                                                                                                                                                                                                                                                                                                                                                                                          </td><td>https://ichef.bbci.co.uk/food/ic/food_16x9_832/recipes/roastleglessturkey_13963_16x9.jpg      </td></tr>\n\t<tr><th scope=row>6</th><td>Roast turkey roll                              </td><td>150</td><td>8 serving(s) </td><td>['100g/3<c2><bd>oz pork scratchings', '100g/3<c2><bd>oz sourdough bread, broken into pieces and baked until crisp', '100g/3<c2><bd>oz shelled pistachios, roughly chopped', '50g/1<c2><be>oz dried cranberries, roughly chopped', '2 tbsp fresh thyme leaves', '1 orange, zest only', '800g/1lb 12oz sausage meat', '400g/14oz onion, finely chopped and fried until translucent, cooled', '100g/3<c2><bd>oz cooked and peeled chestnuts, finely chopped', '160g/5<c2><bd>oz fresh breadcrumbs', '1 bunch fresh sage, chopped', '2 tsp salt', '3 tsp cracked black pepper', '100g/3<c2><bd>oz dried cranberries', '1 tbsp juniper berries, crushed', '20 rashers smoked streaky bacon (approximately 250-300g/9-10<c2><bd>oz)', '2-2.2kg/4lb 8oz-5lb boneless and skinless turkey breast', '140g/5oz brown sauce', 'bread sauce, to serve']</td><td>For the crumble topping, crush the pork scratchings and the sourdough pieces in a bowl. Add the pistachios, cranberries and thyme. Mix with your hands and set aside in a covered container.\nFor the stuffing, mix together all the ingredients apart from the bacon. Mix to combine.\nTrim any bits of fat or membrane from the turkey. With a sharp knife, open out the turkey breast as if you are butterflying it. Place the turkey between two sheets of cling film and flatten it out a little with a rolling pin.\nCut two large pieces of aluminium foil and lay the turkey breast on top. Season with salt and pepper. Spread a generous dollop the stuffing mix in a 5mm/<c2><bc>in layer onto the turkey breast and then use the foil to help you roll it up like a Swiss roll. Completely encase the turkey in the two layers of foil and secure with cook's string at regular intervals along the length of the roll. Place in the fridge until needed.\nPreheat the oven to 120C/250F/Gas <c2><bd>.\nAdd 400ml/14fl oz boiling water to a deep roasting tin. Place a wire rack in the tin and place the rolled turkey breast on top. Cover the roasting tin with aluminium foil.\nRoast in the oven for 1<c2><bd>-2 hours, then check the core temperature with a meat thermometer. You are looking for a temperature of 70C/160F. If it is not ready, place back into the oven and continue to cook until it reaches 70C/160F. Once cooked, remove from the oven, cover with aluminium foil and set aside to rest for 40 minutes. When cool enough to handle, remove the string and foil.\nFor the stuffing, preheat the oven to 170C/325F/Gas 3 and line a terrine mould or flameproof bowl with the streaky bacon, leaving some excess hanging over the sides. Pack the mould with the remaining stuffing mix and wrap the bacon over the top.\nBake in the oven for 45 minutes, or until the middle has reached 70C/160F on a meat thermometer. When cooked, remove from the oven and set aside to rest for 20 minutes.\nAfter 20 minutes, turn out the stuffing and pat dry. Heat the grill to hot, then grill the stuffing until the bacon is crisp.\nWhen rested, remove the turkey from the roasting tin and brush a thick layer of brown sauce over the top. Cover with the Christmas crumble mix, top with a little orange zest and serve straight away with the stuffing.                                                                                                                                                                                                                                                                                                                                                                                                                                                                                                                                                                                                                 </td><td>https://ichef.bbci.co.uk/food/ic/food_16x9_832/recipes/toms_turkey_roll_with_44115_16x9.jpg   </td></tr>\n</tbody>\n</table>\n",
            "text/markdown": "\nA data.frame: 6 × 6\n\n| <!--/--> | Title &lt;chr&gt; | Time &lt;int&gt; | Servings &lt;chr&gt; | Ingredients &lt;chr&gt; | Instructions &lt;chr&gt; | Image &lt;chr&gt; |\n|---|---|---|---|---|---|---|\n| 1 | Perfect roast turkey                            | 180 | 10 serving(s) | ['20ml/<c2><be>fl oz rapeseed oil', '1 x 5kg/11lb good-quality free-range turkey, preferably organically reared, wishbone removed (ask your butcher to remove the wings and neck and chop them into 2.5cm/1in pieces to use in the dish)', '40g/1<c2><bd>oz unsalted butter, softened to room temperature', '2 pinches sea salt flakes', '2 pinches freshly ground white pepper', '200ml/7fl oz water', 'salt and freshly ground black pepper', '1-2 tsp ground arrowroot (depending on how thick you like your gravy), dissolved in 1 tbsp cold water', 'roast potatoes and steamed seasonal vegetables, to serve']                                                                                                                                                                                                                        | Remove the turkey from the fridge and bring to room temperature - this will take at least an hour.\nWhen you are ready to cook, preheat the oven to 230C/220C Fan/Gas 8.\nHeat the rapeseed oil in a large, heavy-based roasting tray on the stove top. Add the chopped turkey wings and neck and fry for 8-10 minutes, turning the pieces over every 2-3 minutes, or until evenly browned all over.\nMeanwhile, in a small bowl, soften the butter with the back of a dessert spoon, then season with the salt and freshly ground white pepper. Using a pastry brush or your hands, smear the seasoned butter all over the turkey. Add any remaining butter to the roasting tray once the chopped wings and neck have browned.\nPlace the turkey on top of the wing and neck pieces, then roast in the oven for 30 minutes.\nRemove the turkey from the oven and baste all over with the cooking juices.\nReduce the oven temperature to 160C/150C Fan/Gas 3.\nPour the water into the roasting tray, then return the turkey to the oven and continue to cook for a further 1 hour, basting the bird with the cooking juices every 20 minutes (do this quickly to prevent the heat escaping from the oven).\nAt the end of the cooking time, test that the turkey is cooked through by inserting a skewer or roasting fork into the thickest part of its thigh; if the juices run clear, the meat is cooked. Alternatively, use a meat thermometer; if cooked, the temperature should be 65C for 10 minutes, or up to 74C for 2 minutes. If the turkey is not fully cooked, return it to the oven until the juices run clear.\nRemove the turkey from the oven and transfer the bird to a large, deep-sided tray, reserving the roasting tray the turkey was cooked in along with the cooking juices. Set the turkey aside to rest for a minimum of 30 minutes and up to 1<c2><bd> hours.\nWhile the turkey is resting, cook your roast potatoes and vegetable dishes.\nWhen you<e2><80><99>re almost ready to serve the meal, return the roasting tray used to cook the turkey to the stove top. Bring the cooking juices to the boil over a medium heat, scraping up any burned bits from the bottom of the tray using a wooden spoon.\nCollect the juices released by the turkey as it was resting and add them to the gravy. Season, to taste, with salt and freshly ground black pepper, if needed.\nReduce the heat until the gravy is simmering, then stir in the dissolved arrowroot and cook until the gravy has thickened.\nStrain the gravy through a fine sieve into a warmed jug. Keep warm.\nTo serve, bring the turkey to the table and carve into slices. Serve with the roast potatoes and vegetables. Pour over the gravy.                                                                                                                                                                                                                                                                        | https://ichef.bbci.co.uk/food/ic/food_16x9_832/recipes/the_perfect_roast_turkey_01155_16x9.jpg |\n| 2 | Stuffed roast turkey breast                     | 180 | 8 serving(s)  | ['1 tbsp sunflower oil', '1 onion, finely chopped', '1 leek, trimmed and finely sliced', '4 pork sausages, around 275g/9<c2><be>oz', '50g/1<c2><be>oz dried cranberries', '25g/1oz flaked almonds', '1 unwaxed lemon, finely grated zest only', '1 heaped tbsp roughly chopped fresh thyme leaves', '40g/1<c2><bd>oz dried white breadcrumbs', 'salt and freshly ground black pepper', '1.5kg/3lb 5oz turkey breast joint, fully thawed if frozen', '16 rashers smoked streaky bacon', '2 tbsp sunflower oil, plus extra for oiling', 'fresh thyme and bay leaves, to garnish', '2 tbsp plain flour', 'splash of wine', '450ml/16fl oz chicken stock, made with 1 chicken stock cube', '1 tbsp redcurrant jelly']                                                                                                                           | To make the stuffing, heat the oil and gently fry the onion and leek for 5 minutes, or until well softened and lightly browned, stirring regularly. Tip into a mixing bowl and leave to cool for 30 minutes.\nFor the turkey, generously oil a small, sturdy roasting tin, roughly 30cm x 22cm/12 x 8<c2><bd>in <e2><80><93> the turkey needs to fit snugly.\nTo continue the stuffing, once the onion and leek are cool, add the cranberries, almonds, lemon zest, thyme and breadcrumbs. Squeeze the sausage meat out of the skins and add it to the bowl.\nSeason with salt and lots of pepper. Mix well with a spoon or with clean hands until thoroughly combined.\nPlace the turkey breast on a board and gently remove the skin. Turn over and cut horizontally almost all the way through the thickest part of the breast and open up like a book, so that the turkey has a flatter, more oblong shape. Cover with a sheet of cling film and bash with a rolling pin until around 2.5cm/1in thick all over.\nPlace a sheet of cling film on a work surface and put eight pieces of kitchen string, each 50cm/20in long, roughly 4cm/1<c2><bd>in apart along its length. Stretch each rasher of bacon with the back of a knife until around 32cm/13in long. Place the bacon rashers on top of the string and cling film, overlapping each slice.\nPlace the turkey breast, smooth-side down, on top of the bacon and arrange the filling all the way down its length. Bring up the cling film and bacon on both long sides to enclose the filling.\nTie firmly with the string and discard the cling film. Place the turkey parcel in the prepared tin, knot-side down. (You can cover and chill for up to 24 hours before cooking if using a fresh turkey joint, or cook the same day if using a previously frozen joint.)\nPreheat the oven to 200C/180C Fan/Gas 6. Uncover the stuffed turkey joint, then drizzle with oil and season with black pepper. Cover loosely with foil and roast for 1 hour. Remove the foil and continue cooking for a further 30<e2><80><93>45 minutes, or until the bacon is crisp and the turkey and stuffing are thoroughly cooked.\nTransfer the turkey to a warmed platter. Cover with foil and a tea towel and leave to rest for 15 minutes.\nFor the gravy, put the roasting tin on the hob over medium heat and stir in the flour. Add the wine and cook for 15<e2><80><93>20 seconds, stirring constantly.\nGradually add the stock, stirring all the time. Bring the liquid to a simmer, stir in the redcurrant jelly and cook for 2 minutes, or until thickened and glossy. Season to taste, strain carefully (the tin will be extremely hot) through a sieve into a saucepan and keep warm until ready to serve.\nSnip the string off the turkey and garnish with bay leaves and thyme. Carve into slices and serve with the hot gravy.                                                                                                                            | https://ichef.bbci.co.uk/food/ic/food_16x9_832/recipes/roast_turkey_crown_10545_16x9.jpg       |\n| 3 | Nigella's turkey breast with Christmas stuffing | 150 | 12 serving(s) | ['100g/3<c2><bd>oz dried cranberries', '100ml/3<c2><bd>fl oz Marsala', '2 tbsp olive oil', '2 banana shallots, finely chopped', '<c2><bc> tsp ground cloves', '<c2><bd> tsp ground allspice', '2 tsp chopped fresh sage', '1kg/2lb 4oz Italian sausages', '2 free-range eggs, beaten', '50g/2oz parmesan, grated', '60g/2<c2><bc>oz breadcrumbs', '5kg/11lb double breast turkey joint, boned, butterflied, with skin left on', '4 tbsp duck or goose fat']                                                                                                                                                                                                                                                                                                                                                                                 | Put the cranberries and Marsala into a small saucepan and bring to a boil, then take off the heat and leave to one side.\nPut the oil into a large frying pan or similar heavy-based pan, and fry the shallots for a minute or so, then add the spices and shredded sage, turning them in the soft shallots.\nSqueeze the sausagemeat out of its skins, add to the pan and break it up <e2><80><93> using a wooden fork and spatula for ease <e2><80><93> turning it in the hot pan until it loses its pinkness. This will take about five minutes.\nTake the frying pan off the heat and turn the contents into a large bowl, mixing in the steeped cranberries and any Marsala clinging to them, and leave to cool. You can cover with cling film and put in the fridge for up to two days at this stage.\nWhen you are ready to stuff the turkey breast, take the bowl of sausagement out of the fridge.\nPreheat the oven to 200C/400F/Gas 6.\nUncover the bowl of sausagemeat, add the eggs, parmesan and breadcrumbs and <e2><80><93> I use my hands for this <e2><80><93> mix well.\nLay the butterflied turkey joint out in front of you. It really does look like a butterfly though admittedly a fleshy one. Spread the stuffing out first in the slight cavity in the centre of the butterfly and then outwards onto the wings though not going right up to the edge (or it will squodge out when cooking) but as evenly as possible over the whole joint.\nCarefully, in one swift but steady movement, fold one <e2><80><98>wing<e2><80><99> over the other to close the joint, and then sit the turkey on a large roasting tin, breast bone (or where the breast bone would be) uppermost as it would look were it the whole bird, with the pointier bit furthest away from you. Thread two skewers through the base <e2><80><93> i.e., the widest part that is nearer you <e2><80><93> to keep it closed and smear it all over with the duck or goose fat.\nRoast the turkey breast for 2-2<c2><bd> hours, then check it is cooked with a turkey or meat thermometer. When cooked, it should read 75C. (If you<e2><80><99>re leaving it to rest, as you should or to cool, you could take it out at 73C <e2><80><93> it wil retain heat and continue to cook for a short while once out of the oven.)\nFlex your muscles, then lift out onto a carving board, and leave to rest for at least 20 minutes. Or leave to get cold if you are eating it as part of a buffet.\nCut through the whole joint in wide slices right across; they will need to be quite thick, at least 1-2cm/<c2><bd>-1in, to keep the stuffing intact within the slice.\nAs you place it on table or sideboard, dot around it the condiments of your choice: I revert to Christmas in Italy here by putting a lusciously extravagant pot or two of Italian mostarda di Cremona on the table alongside: this is a hot and sweet preserve of mustardy candied fruits that gleam beautifully and taste both festive and fabulous. | https://ichef.bbci.co.uk/food/ic/food_16x9_832/recipes/turkey_breast_stuffed_43707_16x9.jpg    |\n| 4 | Gordon Ramsay's roast turkey crown              | 120 | 8 serving(s)  | ['125g/4<c2><bd>oz pack unsalted butter, softened', '3-4 sprigs fresh thyme, leaves only', 'sprig of fresh rosemary, chopped leaves only', '2 tbsp fresh parsley leaves, chopped', 'salt', 'freshly ground black pepper', '2.2kg/4lb 14oz medium-sized turkey crown', '125g/4<c2><bd>oz butter', '1 onion, finely chopped', 'large sprig of thyme and rosemary, chopped leaves only', '200g/7oz white breadcrumbs', '6 fresh sage leaves', '1 lemon, zest only', '50g/2oz pine nuts', '1 tsp sea salt', 'freshly ground black pepper', '3 tbsp fresh parsley, chopped', '1 onion or large shallot, chopped', '2 tbsp olive oil', '125ml/4fl oz dry white wine', '1 sprig fresh thyme', '1 bay leaf', '500ml/17fl oz chicken stock', '200ml/7fl oz double cream', 'sea salt', 'freshly ground black pepper']                                 | Pre-heat the oven to 200C/180C Fan/Gas 6.\nFor the herb butter, mix herbs and butter together to form a paste, season well with salt and freshly ground black pepper.\nLift up the skin of the turkey with your fingers and separate it from the flesh. Divide the herb butter and spread it under the skin. Season well, place in a roasting tin.\nCook the crown for 15 minutes, then reduce the heat to 180C/160C Fan/Gas 4 and cook the turkey for 1<c2><bd> hours, or until the juices run clear. Cover the turkey with foil and tea towels and set aside in a warm place to rest for 30 minutes before carving, reserve the juices for the gravy.\nFor the stuffing, melt butter in a large frying pan and gently saut<c3><a9> onion for 10 minutes until soft. Stir in the herbs for 1 minute then add breadcrumbs to absorb the butter. Mix in the lemon zest, pine nuts and seasoning and cook over medium heat for about seven minutes until crumbs start to brown and crisp. Take off the heat, mix in the parsley and serve warm.\nFor the gravy, gently fry the onion in the olive oil for about five minutes. Pour in the wine and add the thyme and bay and boil until the volume of the liquid is reduced by three-quarters.\nAdd stock and boil until reduced by half then add cream and boil for further five minutes. Season with freshly ground black pepper. Remove from heat, cool for ten minutes and strain. Add the turkey pan juices, boil for two minutes, season with salt and strain.                                                                                                                                                                                                                                                                                                                                                                                                                                                                                                                                                                                                                                                                                                                                                                                                                                                                                                                                                                                                                                                                                                                                                                                                                                                                                                                                                                                                                                                                                                   | https://ichef.bbci.co.uk/food/ic/food_16x9_832/recipes/roastturkeyandstuffi_71053_16x9.jpg     |\n| 5 | Roast turkey crown                              | 180 | 8 serving(s)  | ['1 turkey breast crown (a wingless, legless turkey)', '50g/2oz butter', 'salt and pepper', 'about 10 rashers streaky bacon']                                                                                                                                                                                                                                                                                                                                                                                                                                                                                                                                                                                                                                                                                                               | Preheat the oven to 220C/200C Fan/Gas 7.\nRub the butter all over the bird and season well with salt and freshly ground black pepper. Then lay the bacon rashers over the bird, more or less covering it completely. The job of the bacon is twofold: to help keep the breast basted without you having to open (and therefore cool) the oven every ten minutes; and to buy you time, so the skin doesn't burn before the breast is cooked through.\nPlace the bird in a roasting tray in the centre of the oven. Cook on this high heat for 25-30 minutes until the bacon is almost burnt.\nRemove the bacon from the breast of the bird and put on one side. Baste the breast of the bird with the fat and juices in the pan and return to the oven. Turn down the oven to 180C/160C Fan/Gas 4 and continue to cook for about 12 minutes per 1kg/2<c2><bc>lb, protecting the skin with buttered foil only if it seems to need it. Cook until the juices run clear when the thickest part of the breast is pierced with a skewer and the skin is brown and crispy. Cooked like this even a big bird (say 6-7kg/13<c2><bd>-15<c2><be>lb legless weight) shouldn't take more than 1<c2><bd>-2 hours in total.\nServe slices of roast turkey breast and spoonfuls of the leg meat in their rich gravy, with all the usual trimmings: roast potatoes, bread sauce, steamed sprouts, chipolatas wrapped in bacon and stuffing.                                                                                                                                                                                                                                                                                                                                                                                                                                                                                                                                                                                                                                                                                                                                                                                                                                                                                                                                                                                                                                                                                                                                                                                                                                                                                                                                                                                                                                                                                                                                                                                           | https://ichef.bbci.co.uk/food/ic/food_16x9_832/recipes/roastleglessturkey_13963_16x9.jpg       |\n| 6 | Roast turkey roll                               | 150 | 8 serving(s)  | ['100g/3<c2><bd>oz pork scratchings', '100g/3<c2><bd>oz sourdough bread, broken into pieces and baked until crisp', '100g/3<c2><bd>oz shelled pistachios, roughly chopped', '50g/1<c2><be>oz dried cranberries, roughly chopped', '2 tbsp fresh thyme leaves', '1 orange, zest only', '800g/1lb 12oz sausage meat', '400g/14oz onion, finely chopped and fried until translucent, cooled', '100g/3<c2><bd>oz cooked and peeled chestnuts, finely chopped', '160g/5<c2><bd>oz fresh breadcrumbs', '1 bunch fresh sage, chopped', '2 tsp salt', '3 tsp cracked black pepper', '100g/3<c2><bd>oz dried cranberries', '1 tbsp juniper berries, crushed', '20 rashers smoked streaky bacon (approximately 250-300g/9-10<c2><bd>oz)', '2-2.2kg/4lb 8oz-5lb boneless and skinless turkey breast', '140g/5oz brown sauce', 'bread sauce, to serve'] | For the crumble topping, crush the pork scratchings and the sourdough pieces in a bowl. Add the pistachios, cranberries and thyme. Mix with your hands and set aside in a covered container.\nFor the stuffing, mix together all the ingredients apart from the bacon. Mix to combine.\nTrim any bits of fat or membrane from the turkey. With a sharp knife, open out the turkey breast as if you are butterflying it. Place the turkey between two sheets of cling film and flatten it out a little with a rolling pin.\nCut two large pieces of aluminium foil and lay the turkey breast on top. Season with salt and pepper. Spread a generous dollop the stuffing mix in a 5mm/<c2><bc>in layer onto the turkey breast and then use the foil to help you roll it up like a Swiss roll. Completely encase the turkey in the two layers of foil and secure with cook's string at regular intervals along the length of the roll. Place in the fridge until needed.\nPreheat the oven to 120C/250F/Gas <c2><bd>.\nAdd 400ml/14fl oz boiling water to a deep roasting tin. Place a wire rack in the tin and place the rolled turkey breast on top. Cover the roasting tin with aluminium foil.\nRoast in the oven for 1<c2><bd>-2 hours, then check the core temperature with a meat thermometer. You are looking for a temperature of 70C/160F. If it is not ready, place back into the oven and continue to cook until it reaches 70C/160F. Once cooked, remove from the oven, cover with aluminium foil and set aside to rest for 40 minutes. When cool enough to handle, remove the string and foil.\nFor the stuffing, preheat the oven to 170C/325F/Gas 3 and line a terrine mould or flameproof bowl with the streaky bacon, leaving some excess hanging over the sides. Pack the mould with the remaining stuffing mix and wrap the bacon over the top.\nBake in the oven for 45 minutes, or until the middle has reached 70C/160F on a meat thermometer. When cooked, remove from the oven and set aside to rest for 20 minutes.\nAfter 20 minutes, turn out the stuffing and pat dry. Heat the grill to hot, then grill the stuffing until the bacon is crisp.\nWhen rested, remove the turkey from the roasting tin and brush a thick layer of brown sauce over the top. Cover with the Christmas crumble mix, top with a little orange zest and serve straight away with the stuffing.                                                                                                                                                                                                                                                                                                                                                                                                                                                                                                                                                                                                                  | https://ichef.bbci.co.uk/food/ic/food_16x9_832/recipes/toms_turkey_roll_with_44115_16x9.jpg    |\n\n",
            "text/latex": "A data.frame: 6 × 6\n\\begin{tabular}{r|llllll}\n  & Title & Time & Servings & Ingredients & Instructions & Image\\\\\n  & <chr> & <int> & <chr> & <chr> & <chr> & <chr>\\\\\n\\hline\n\t1 & Perfect roast turkey                            & 180 & 10 serving(s) & {[}'20ml/<c2><be>fl oz rapeseed oil', '1 x 5kg/11lb good-quality free-range turkey, preferably organically reared, wishbone removed (ask your butcher to remove the wings and neck and chop them into 2.5cm/1in pieces to use in the dish)', '40g/1<c2><bd>oz unsalted butter, softened to room temperature', '2 pinches sea salt flakes', '2 pinches freshly ground white pepper', '200ml/7fl oz water', 'salt and freshly ground black pepper', '1-2 tsp ground arrowroot (depending on how thick you like your gravy), dissolved in 1 tbsp cold water', 'roast potatoes and steamed seasonal vegetables, to serve'{]}                                                                                                                                                                                                                        & Remove the turkey from the fridge and bring to room temperature - this will take at least an hour.\nWhen you are ready to cook, preheat the oven to 230C/220C Fan/Gas 8.\nHeat the rapeseed oil in a large, heavy-based roasting tray on the stove top. Add the chopped turkey wings and neck and fry for 8-10 minutes, turning the pieces over every 2-3 minutes, or until evenly browned all over.\nMeanwhile, in a small bowl, soften the butter with the back of a dessert spoon, then season with the salt and freshly ground white pepper. Using a pastry brush or your hands, smear the seasoned butter all over the turkey. Add any remaining butter to the roasting tray once the chopped wings and neck have browned.\nPlace the turkey on top of the wing and neck pieces, then roast in the oven for 30 minutes.\nRemove the turkey from the oven and baste all over with the cooking juices.\nReduce the oven temperature to 160C/150C Fan/Gas 3.\nPour the water into the roasting tray, then return the turkey to the oven and continue to cook for a further 1 hour, basting the bird with the cooking juices every 20 minutes (do this quickly to prevent the heat escaping from the oven).\nAt the end of the cooking time, test that the turkey is cooked through by inserting a skewer or roasting fork into the thickest part of its thigh; if the juices run clear, the meat is cooked. Alternatively, use a meat thermometer; if cooked, the temperature should be 65C for 10 minutes, or up to 74C for 2 minutes. If the turkey is not fully cooked, return it to the oven until the juices run clear.\nRemove the turkey from the oven and transfer the bird to a large, deep-sided tray, reserving the roasting tray the turkey was cooked in along with the cooking juices. Set the turkey aside to rest for a minimum of 30 minutes and up to 1<c2><bd> hours.\nWhile the turkey is resting, cook your roast potatoes and vegetable dishes.\nWhen you<e2><80><99>re almost ready to serve the meal, return the roasting tray used to cook the turkey to the stove top. Bring the cooking juices to the boil over a medium heat, scraping up any burned bits from the bottom of the tray using a wooden spoon.\nCollect the juices released by the turkey as it was resting and add them to the gravy. Season, to taste, with salt and freshly ground black pepper, if needed.\nReduce the heat until the gravy is simmering, then stir in the dissolved arrowroot and cook until the gravy has thickened.\nStrain the gravy through a fine sieve into a warmed jug. Keep warm.\nTo serve, bring the turkey to the table and carve into slices. Serve with the roast potatoes and vegetables. Pour over the gravy.                                                                                                                                                                                                                                                                        & https://ichef.bbci.co.uk/food/ic/food\\_16x9\\_832/recipes/the\\_perfect\\_roast\\_turkey\\_01155\\_16x9.jpg\\\\\n\t2 & Stuffed roast turkey breast                     & 180 & 8 serving(s)  & {[}'1 tbsp sunflower oil', '1 onion, finely chopped', '1 leek, trimmed and finely sliced', '4 pork sausages, around 275g/9<c2><be>oz', '50g/1<c2><be>oz dried cranberries', '25g/1oz flaked almonds', '1 unwaxed lemon, finely grated zest only', '1 heaped tbsp roughly chopped fresh thyme leaves', '40g/1<c2><bd>oz dried white breadcrumbs', 'salt and freshly ground black pepper', '1.5kg/3lb 5oz turkey breast joint, fully thawed if frozen', '16 rashers smoked streaky bacon', '2 tbsp sunflower oil, plus extra for oiling', 'fresh thyme and bay leaves, to garnish', '2 tbsp plain flour', 'splash of wine', '450ml/16fl oz chicken stock, made with 1 chicken stock cube', '1 tbsp redcurrant jelly'{]}                                                                                                                           & To make the stuffing, heat the oil and gently fry the onion and leek for 5 minutes, or until well softened and lightly browned, stirring regularly. Tip into a mixing bowl and leave to cool for 30 minutes.\nFor the turkey, generously oil a small, sturdy roasting tin, roughly 30cm x 22cm/12 x 8<c2><bd>in <e2><80><93> the turkey needs to fit snugly.\nTo continue the stuffing, once the onion and leek are cool, add the cranberries, almonds, lemon zest, thyme and breadcrumbs. Squeeze the sausage meat out of the skins and add it to the bowl.\nSeason with salt and lots of pepper. Mix well with a spoon or with clean hands until thoroughly combined.\nPlace the turkey breast on a board and gently remove the skin. Turn over and cut horizontally almost all the way through the thickest part of the breast and open up like a book, so that the turkey has a flatter, more oblong shape. Cover with a sheet of cling film and bash with a rolling pin until around 2.5cm/1in thick all over.\nPlace a sheet of cling film on a work surface and put eight pieces of kitchen string, each 50cm/20in long, roughly 4cm/1<c2><bd>in apart along its length. Stretch each rasher of bacon with the back of a knife until around 32cm/13in long. Place the bacon rashers on top of the string and cling film, overlapping each slice.\nPlace the turkey breast, smooth-side down, on top of the bacon and arrange the filling all the way down its length. Bring up the cling film and bacon on both long sides to enclose the filling.\nTie firmly with the string and discard the cling film. Place the turkey parcel in the prepared tin, knot-side down. (You can cover and chill for up to 24 hours before cooking if using a fresh turkey joint, or cook the same day if using a previously frozen joint.)\nPreheat the oven to 200C/180C Fan/Gas 6. Uncover the stuffed turkey joint, then drizzle with oil and season with black pepper. Cover loosely with foil and roast for 1 hour. Remove the foil and continue cooking for a further 30<e2><80><93>45 minutes, or until the bacon is crisp and the turkey and stuffing are thoroughly cooked.\nTransfer the turkey to a warmed platter. Cover with foil and a tea towel and leave to rest for 15 minutes.\nFor the gravy, put the roasting tin on the hob over medium heat and stir in the flour. Add the wine and cook for 15<e2><80><93>20 seconds, stirring constantly.\nGradually add the stock, stirring all the time. Bring the liquid to a simmer, stir in the redcurrant jelly and cook for 2 minutes, or until thickened and glossy. Season to taste, strain carefully (the tin will be extremely hot) through a sieve into a saucepan and keep warm until ready to serve.\nSnip the string off the turkey and garnish with bay leaves and thyme. Carve into slices and serve with the hot gravy.                                                                                                                            & https://ichef.bbci.co.uk/food/ic/food\\_16x9\\_832/recipes/roast\\_turkey\\_crown\\_10545\\_16x9.jpg      \\\\\n\t3 & Nigella's turkey breast with Christmas stuffing & 150 & 12 serving(s) & {[}'100g/3<c2><bd>oz dried cranberries', '100ml/3<c2><bd>fl oz Marsala', '2 tbsp olive oil', '2 banana shallots, finely chopped', '<c2><bc> tsp ground cloves', '<c2><bd> tsp ground allspice', '2 tsp chopped fresh sage', '1kg/2lb 4oz Italian sausages', '2 free-range eggs, beaten', '50g/2oz parmesan, grated', '60g/2<c2><bc>oz breadcrumbs', '5kg/11lb double breast turkey joint, boned, butterflied, with skin left on', '4 tbsp duck or goose fat'{]}                                                                                                                                                                                                                                                                                                                                                                                 & Put the cranberries and Marsala into a small saucepan and bring to a boil, then take off the heat and leave to one side.\nPut the oil into a large frying pan or similar heavy-based pan, and fry the shallots for a minute or so, then add the spices and shredded sage, turning them in the soft shallots.\nSqueeze the sausagemeat out of its skins, add to the pan and break it up <e2><80><93> using a wooden fork and spatula for ease <e2><80><93> turning it in the hot pan until it loses its pinkness. This will take about five minutes.\nTake the frying pan off the heat and turn the contents into a large bowl, mixing in the steeped cranberries and any Marsala clinging to them, and leave to cool. You can cover with cling film and put in the fridge for up to two days at this stage.\nWhen you are ready to stuff the turkey breast, take the bowl of sausagement out of the fridge.\nPreheat the oven to 200C/400F/Gas 6.\nUncover the bowl of sausagemeat, add the eggs, parmesan and breadcrumbs and <e2><80><93> I use my hands for this <e2><80><93> mix well.\nLay the butterflied turkey joint out in front of you. It really does look like a butterfly though admittedly a fleshy one. Spread the stuffing out first in the slight cavity in the centre of the butterfly and then outwards onto the wings though not going right up to the edge (or it will squodge out when cooking) but as evenly as possible over the whole joint.\nCarefully, in one swift but steady movement, fold one <e2><80><98>wing<e2><80><99> over the other to close the joint, and then sit the turkey on a large roasting tin, breast bone (or where the breast bone would be) uppermost as it would look were it the whole bird, with the pointier bit furthest away from you. Thread two skewers through the base <e2><80><93> i.e., the widest part that is nearer you <e2><80><93> to keep it closed and smear it all over with the duck or goose fat.\nRoast the turkey breast for 2-2<c2><bd> hours, then check it is cooked with a turkey or meat thermometer. When cooked, it should read 75C. (If you<e2><80><99>re leaving it to rest, as you should or to cool, you could take it out at 73C <e2><80><93> it wil retain heat and continue to cook for a short while once out of the oven.)\nFlex your muscles, then lift out onto a carving board, and leave to rest for at least 20 minutes. Or leave to get cold if you are eating it as part of a buffet.\nCut through the whole joint in wide slices right across; they will need to be quite thick, at least 1-2cm/<c2><bd>-1in, to keep the stuffing intact within the slice.\nAs you place it on table or sideboard, dot around it the condiments of your choice: I revert to Christmas in Italy here by putting a lusciously extravagant pot or two of Italian mostarda di Cremona on the table alongside: this is a hot and sweet preserve of mustardy candied fruits that gleam beautifully and taste both festive and fabulous. & https://ichef.bbci.co.uk/food/ic/food\\_16x9\\_832/recipes/turkey\\_breast\\_stuffed\\_43707\\_16x9.jpg   \\\\\n\t4 & Gordon Ramsay's roast turkey crown              & 120 & 8 serving(s)  & {[}'125g/4<c2><bd>oz pack unsalted butter, softened', '3-4 sprigs fresh thyme, leaves only', 'sprig of fresh rosemary, chopped leaves only', '2 tbsp fresh parsley leaves, chopped', 'salt', 'freshly ground black pepper', '2.2kg/4lb 14oz medium-sized turkey crown', '125g/4<c2><bd>oz butter', '1 onion, finely chopped', 'large sprig of thyme and rosemary, chopped leaves only', '200g/7oz white breadcrumbs', '6 fresh sage leaves', '1 lemon, zest only', '50g/2oz pine nuts', '1 tsp sea salt', 'freshly ground black pepper', '3 tbsp fresh parsley, chopped', '1 onion or large shallot, chopped', '2 tbsp olive oil', '125ml/4fl oz dry white wine', '1 sprig fresh thyme', '1 bay leaf', '500ml/17fl oz chicken stock', '200ml/7fl oz double cream', 'sea salt', 'freshly ground black pepper'{]}                                 & Pre-heat the oven to 200C/180C Fan/Gas 6.\nFor the herb butter, mix herbs and butter together to form a paste, season well with salt and freshly ground black pepper.\nLift up the skin of the turkey with your fingers and separate it from the flesh. Divide the herb butter and spread it under the skin. Season well, place in a roasting tin.\nCook the crown for 15 minutes, then reduce the heat to 180C/160C Fan/Gas 4 and cook the turkey for 1<c2><bd> hours, or until the juices run clear. Cover the turkey with foil and tea towels and set aside in a warm place to rest for 30 minutes before carving, reserve the juices for the gravy.\nFor the stuffing, melt butter in a large frying pan and gently saut<c3><a9> onion for 10 minutes until soft. Stir in the herbs for 1 minute then add breadcrumbs to absorb the butter. Mix in the lemon zest, pine nuts and seasoning and cook over medium heat for about seven minutes until crumbs start to brown and crisp. Take off the heat, mix in the parsley and serve warm.\nFor the gravy, gently fry the onion in the olive oil for about five minutes. Pour in the wine and add the thyme and bay and boil until the volume of the liquid is reduced by three-quarters.\nAdd stock and boil until reduced by half then add cream and boil for further five minutes. Season with freshly ground black pepper. Remove from heat, cool for ten minutes and strain. Add the turkey pan juices, boil for two minutes, season with salt and strain.                                                                                                                                                                                                                                                                                                                                                                                                                                                                                                                                                                                                                                                                                                                                                                                                                                                                                                                                                                                                                                                                                                                                                                                                                                                                                                                                                                                                                                                                                                   & https://ichef.bbci.co.uk/food/ic/food\\_16x9\\_832/recipes/roastturkeyandstuffi\\_71053\\_16x9.jpg    \\\\\n\t5 & Roast turkey crown                              & 180 & 8 serving(s)  & {[}'1 turkey breast crown (a wingless, legless turkey)', '50g/2oz butter', 'salt and pepper', 'about 10 rashers streaky bacon'{]}                                                                                                                                                                                                                                                                                                                                                                                                                                                                                                                                                                                                                                                                                                               & Preheat the oven to 220C/200C Fan/Gas 7.\nRub the butter all over the bird and season well with salt and freshly ground black pepper. Then lay the bacon rashers over the bird, more or less covering it completely. The job of the bacon is twofold: to help keep the breast basted without you having to open (and therefore cool) the oven every ten minutes; and to buy you time, so the skin doesn't burn before the breast is cooked through.\nPlace the bird in a roasting tray in the centre of the oven. Cook on this high heat for 25-30 minutes until the bacon is almost burnt.\nRemove the bacon from the breast of the bird and put on one side. Baste the breast of the bird with the fat and juices in the pan and return to the oven. Turn down the oven to 180C/160C Fan/Gas 4 and continue to cook for about 12 minutes per 1kg/2<c2><bc>lb, protecting the skin with buttered foil only if it seems to need it. Cook until the juices run clear when the thickest part of the breast is pierced with a skewer and the skin is brown and crispy. Cooked like this even a big bird (say 6-7kg/13<c2><bd>-15<c2><be>lb legless weight) shouldn't take more than 1<c2><bd>-2 hours in total.\nServe slices of roast turkey breast and spoonfuls of the leg meat in their rich gravy, with all the usual trimmings: roast potatoes, bread sauce, steamed sprouts, chipolatas wrapped in bacon and stuffing.                                                                                                                                                                                                                                                                                                                                                                                                                                                                                                                                                                                                                                                                                                                                                                                                                                                                                                                                                                                                                                                                                                                                                                                                                                                                                                                                                                                                                                                                                                                                                                                           & https://ichef.bbci.co.uk/food/ic/food\\_16x9\\_832/recipes/roastleglessturkey\\_13963\\_16x9.jpg      \\\\\n\t6 & Roast turkey roll                               & 150 & 8 serving(s)  & {[}'100g/3<c2><bd>oz pork scratchings', '100g/3<c2><bd>oz sourdough bread, broken into pieces and baked until crisp', '100g/3<c2><bd>oz shelled pistachios, roughly chopped', '50g/1<c2><be>oz dried cranberries, roughly chopped', '2 tbsp fresh thyme leaves', '1 orange, zest only', '800g/1lb 12oz sausage meat', '400g/14oz onion, finely chopped and fried until translucent, cooled', '100g/3<c2><bd>oz cooked and peeled chestnuts, finely chopped', '160g/5<c2><bd>oz fresh breadcrumbs', '1 bunch fresh sage, chopped', '2 tsp salt', '3 tsp cracked black pepper', '100g/3<c2><bd>oz dried cranberries', '1 tbsp juniper berries, crushed', '20 rashers smoked streaky bacon (approximately 250-300g/9-10<c2><bd>oz)', '2-2.2kg/4lb 8oz-5lb boneless and skinless turkey breast', '140g/5oz brown sauce', 'bread sauce, to serve'{]} & For the crumble topping, crush the pork scratchings and the sourdough pieces in a bowl. Add the pistachios, cranberries and thyme. Mix with your hands and set aside in a covered container.\nFor the stuffing, mix together all the ingredients apart from the bacon. Mix to combine.\nTrim any bits of fat or membrane from the turkey. With a sharp knife, open out the turkey breast as if you are butterflying it. Place the turkey between two sheets of cling film and flatten it out a little with a rolling pin.\nCut two large pieces of aluminium foil and lay the turkey breast on top. Season with salt and pepper. Spread a generous dollop the stuffing mix in a 5mm/<c2><bc>in layer onto the turkey breast and then use the foil to help you roll it up like a Swiss roll. Completely encase the turkey in the two layers of foil and secure with cook's string at regular intervals along the length of the roll. Place in the fridge until needed.\nPreheat the oven to 120C/250F/Gas <c2><bd>.\nAdd 400ml/14fl oz boiling water to a deep roasting tin. Place a wire rack in the tin and place the rolled turkey breast on top. Cover the roasting tin with aluminium foil.\nRoast in the oven for 1<c2><bd>-2 hours, then check the core temperature with a meat thermometer. You are looking for a temperature of 70C/160F. If it is not ready, place back into the oven and continue to cook until it reaches 70C/160F. Once cooked, remove from the oven, cover with aluminium foil and set aside to rest for 40 minutes. When cool enough to handle, remove the string and foil.\nFor the stuffing, preheat the oven to 170C/325F/Gas 3 and line a terrine mould or flameproof bowl with the streaky bacon, leaving some excess hanging over the sides. Pack the mould with the remaining stuffing mix and wrap the bacon over the top.\nBake in the oven for 45 minutes, or until the middle has reached 70C/160F on a meat thermometer. When cooked, remove from the oven and set aside to rest for 20 minutes.\nAfter 20 minutes, turn out the stuffing and pat dry. Heat the grill to hot, then grill the stuffing until the bacon is crisp.\nWhen rested, remove the turkey from the roasting tin and brush a thick layer of brown sauce over the top. Cover with the Christmas crumble mix, top with a little orange zest and serve straight away with the stuffing.                                                                                                                                                                                                                                                                                                                                                                                                                                                                                                                                                                                                                  & https://ichef.bbci.co.uk/food/ic/food\\_16x9\\_832/recipes/toms\\_turkey\\_roll\\_with\\_44115\\_16x9.jpg   \\\\\n\\end{tabular}\n",
            "text/plain": "  Title                                           Time Servings     \n1 Perfect roast turkey                            180  10 serving(s)\n2 Stuffed roast turkey breast                     180  8 serving(s) \n3 Nigella's turkey breast with Christmas stuffing 150  12 serving(s)\n4 Gordon Ramsay's roast turkey crown              120  8 serving(s) \n5 Roast turkey crown                              180  8 serving(s) \n6 Roast turkey roll                               150  8 serving(s) \n  Ingredients                                                                                                                                                                                                                                                                                                                                                                                                                                                                                                                                                                                                                                                                                                                                                                                                                                \n1 ['20ml/\\302\\276fl oz rapeseed oil', '1 x 5kg/11lb good-quality free-range turkey, preferably organically reared, wishbone removed (ask your butcher to remove the wings and neck and chop them into 2.5cm/1in pieces to use in the dish)', '40g/1\\302\\275oz unsalted butter, softened to room temperature', '2 pinches sea salt flakes', '2 pinches freshly ground white pepper', '200ml/7fl oz water', 'salt and freshly ground black pepper', '1-2 tsp ground arrowroot (depending on how thick you like your gravy), dissolved in 1 tbsp cold water', 'roast potatoes and steamed seasonal vegetables, to serve']                                                                                                                                                                                                                       \n2 ['1 tbsp sunflower oil', '1 onion, finely chopped', '1 leek, trimmed and finely sliced', '4 pork sausages, around 275g/9\\302\\276oz', '50g/1\\302\\276oz dried cranberries', '25g/1oz flaked almonds', '1 unwaxed lemon, finely grated zest only', '1 heaped tbsp roughly chopped fresh thyme leaves', '40g/1\\302\\275oz dried white breadcrumbs', 'salt and freshly ground black pepper', '1.5kg/3lb 5oz turkey breast joint, fully thawed if frozen', '16 rashers smoked streaky bacon', '2 tbsp sunflower oil, plus extra for oiling', 'fresh thyme and bay leaves, to garnish', '2 tbsp plain flour', 'splash of wine', '450ml/16fl oz chicken stock, made with 1 chicken stock cube', '1 tbsp redcurrant jelly']                                                                                                                          \n3 ['100g/3\\302\\275oz dried cranberries', '100ml/3\\302\\275fl oz Marsala', '2 tbsp olive oil', '2 banana shallots, finely chopped', '\\302\\274 tsp ground cloves', '\\302\\275 tsp ground allspice', '2 tsp chopped fresh sage', '1kg/2lb 4oz Italian sausages', '2 free-range eggs, beaten', '50g/2oz parmesan, grated', '60g/2\\302\\274oz breadcrumbs', '5kg/11lb double breast turkey joint, boned, butterflied, with skin left on', '4 tbsp duck or goose fat']                                                                                                                                                                                                                                                                                                                                                                                \n4 ['125g/4\\302\\275oz pack unsalted butter, softened', '3-4 sprigs fresh thyme, leaves only', 'sprig of fresh rosemary, chopped leaves only', '2 tbsp fresh parsley leaves, chopped', 'salt', 'freshly ground black pepper', '2.2kg/4lb 14oz medium-sized turkey crown', '125g/4\\302\\275oz butter', '1 onion, finely chopped', 'large sprig of thyme and rosemary, chopped leaves only', '200g/7oz white breadcrumbs', '6 fresh sage leaves', '1 lemon, zest only', '50g/2oz pine nuts', '1 tsp sea salt', 'freshly ground black pepper', '3 tbsp fresh parsley, chopped', '1 onion or large shallot, chopped', '2 tbsp olive oil', '125ml/4fl oz dry white wine', '1 sprig fresh thyme', '1 bay leaf', '500ml/17fl oz chicken stock', '200ml/7fl oz double cream', 'sea salt', 'freshly ground black pepper']                                \n5 ['1 turkey breast crown (a wingless, legless turkey)', '50g/2oz butter', 'salt and pepper', 'about 10 rashers streaky bacon']                                                                                                                                                                                                                                                                                                                                                                                                                                                                                                                                                                                                                                                                                                              \n6 ['100g/3\\302\\275oz pork scratchings', '100g/3\\302\\275oz sourdough bread, broken into pieces and baked until crisp', '100g/3\\302\\275oz shelled pistachios, roughly chopped', '50g/1\\302\\276oz dried cranberries, roughly chopped', '2 tbsp fresh thyme leaves', '1 orange, zest only', '800g/1lb 12oz sausage meat', '400g/14oz onion, finely chopped and fried until translucent, cooled', '100g/3\\302\\275oz cooked and peeled chestnuts, finely chopped', '160g/5\\302\\275oz fresh breadcrumbs', '1 bunch fresh sage, chopped', '2 tsp salt', '3 tsp cracked black pepper', '100g/3\\302\\275oz dried cranberries', '1 tbsp juniper berries, crushed', '20 rashers smoked streaky bacon (approximately 250-300g/9-10\\302\\275oz)', '2-2.2kg/4lb 8oz-5lb boneless and skinless turkey breast', '140g/5oz brown sauce', 'bread sauce, to serve']\n  Instructions                                                                                                                                                                                                                                                                                                                                                                                                                                                                                                                                                                                                                                                                                                                                                                                                                                                                                                                                                                                                                                                                                                                                                                                                                                                                                                                                                                                                                                                                                                                                                                                                                                                                                                                                                                                                                                                                                                                                                                                                                                                                                                                                                                                                                                                                                                                                                                                                                                                                                                                                                                                                                                                                                                                                                                                                                                                                                                                                                                                                        \n1 Remove the turkey from the fridge and bring to room temperature - this will take at least an hour.\\nWhen you are ready to cook, preheat the oven to 230C/220C Fan/Gas 8.\\nHeat the rapeseed oil in a large, heavy-based roasting tray on the stove top. Add the chopped turkey wings and neck and fry for 8-10 minutes, turning the pieces over every 2-3 minutes, or until evenly browned all over.\\nMeanwhile, in a small bowl, soften the butter with the back of a dessert spoon, then season with the salt and freshly ground white pepper. Using a pastry brush or your hands, smear the seasoned butter all over the turkey. Add any remaining butter to the roasting tray once the chopped wings and neck have browned.\\nPlace the turkey on top of the wing and neck pieces, then roast in the oven for 30 minutes.\\nRemove the turkey from the oven and baste all over with the cooking juices.\\nReduce the oven temperature to 160C/150C Fan/Gas 3.\\nPour the water into the roasting tray, then return the turkey to the oven and continue to cook for a further 1 hour, basting the bird with the cooking juices every 20 minutes (do this quickly to prevent the heat escaping from the oven).\\nAt the end of the cooking time, test that the turkey is cooked through by inserting a skewer or roasting fork into the thickest part of its thigh; if the juices run clear, the meat is cooked. Alternatively, use a meat thermometer; if cooked, the temperature should be 65C for 10 minutes, or up to 74C for 2 minutes. If the turkey is not fully cooked, return it to the oven until the juices run clear.\\nRemove the turkey from the oven and transfer the bird to a large, deep-sided tray, reserving the roasting tray the turkey was cooked in along with the cooking juices. Set the turkey aside to rest for a minimum of 30 minutes and up to 1\\302\\275 hours.\\nWhile the turkey is resting, cook your roast potatoes and vegetable dishes.\\nWhen you\\342\\200\\231re almost ready to serve the meal, return the roasting tray used to cook the turkey to the stove top. Bring the cooking juices to the boil over a medium heat, scraping up any burned bits from the bottom of the tray using a wooden spoon.\\nCollect the juices released by the turkey as it was resting and add them to the gravy. Season, to taste, with salt and freshly ground black pepper, if needed.\\nReduce the heat until the gravy is simmering, then stir in the dissolved arrowroot and cook until the gravy has thickened.\\nStrain the gravy through a fine sieve into a warmed jug. Keep warm.\\nTo serve, bring the turkey to the table and carve into slices. Serve with the roast potatoes and vegetables. Pour over the gravy.                                                                                                                                                                                                                                                                       \n2 To make the stuffing, heat the oil and gently fry the onion and leek for 5 minutes, or until well softened and lightly browned, stirring regularly. Tip into a mixing bowl and leave to cool for 30 minutes.\\nFor the turkey, generously oil a small, sturdy roasting tin, roughly 30cm x 22cm/12 x 8\\302\\275in \\342\\200\\223 the turkey needs to fit snugly.\\nTo continue the stuffing, once the onion and leek are cool, add the cranberries, almonds, lemon zest, thyme and breadcrumbs. Squeeze the sausage meat out of the skins and add it to the bowl.\\nSeason with salt and lots of pepper. Mix well with a spoon or with clean hands until thoroughly combined.\\nPlace the turkey breast on a board and gently remove the skin. Turn over and cut horizontally almost all the way through the thickest part of the breast and open up like a book, so that the turkey has a flatter, more oblong shape. Cover with a sheet of cling film and bash with a rolling pin until around 2.5cm/1in thick all over.\\nPlace a sheet of cling film on a work surface and put eight pieces of kitchen string, each 50cm/20in long, roughly 4cm/1\\302\\275in apart along its length. Stretch each rasher of bacon with the back of a knife until around 32cm/13in long. Place the bacon rashers on top of the string and cling film, overlapping each slice.\\nPlace the turkey breast, smooth-side down, on top of the bacon and arrange the filling all the way down its length. Bring up the cling film and bacon on both long sides to enclose the filling.\\nTie firmly with the string and discard the cling film. Place the turkey parcel in the prepared tin, knot-side down. (You can cover and chill for up to 24 hours before cooking if using a fresh turkey joint, or cook the same day if using a previously frozen joint.)\\nPreheat the oven to 200C/180C Fan/Gas 6. Uncover the stuffed turkey joint, then drizzle with oil and season with black pepper. Cover loosely with foil and roast for 1 hour. Remove the foil and continue cooking for a further 30\\342\\200\\22345 minutes, or until the bacon is crisp and the turkey and stuffing are thoroughly cooked.\\nTransfer the turkey to a warmed platter. Cover with foil and a tea towel and leave to rest for 15 minutes.\\nFor the gravy, put the roasting tin on the hob over medium heat and stir in the flour. Add the wine and cook for 15\\342\\200\\22320 seconds, stirring constantly.\\nGradually add the stock, stirring all the time. Bring the liquid to a simmer, stir in the redcurrant jelly and cook for 2 minutes, or until thickened and glossy. Season to taste, strain carefully (the tin will be extremely hot) through a sieve into a saucepan and keep warm until ready to serve.\\nSnip the string off the turkey and garnish with bay leaves and thyme. Carve into slices and serve with the hot gravy.                                                                                                                           \n3 Put the cranberries and Marsala into a small saucepan and bring to a boil, then take off the heat and leave to one side.\\nPut the oil into a large frying pan or similar heavy-based pan, and fry the shallots for a minute or so, then add the spices and shredded sage, turning them in the soft shallots.\\nSqueeze the sausagemeat out of its skins, add to the pan and break it up \\342\\200\\223 using a wooden fork and spatula for ease \\342\\200\\223 turning it in the hot pan until it loses its pinkness. This will take about five minutes.\\nTake the frying pan off the heat and turn the contents into a large bowl, mixing in the steeped cranberries and any Marsala clinging to them, and leave to cool. You can cover with cling film and put in the fridge for up to two days at this stage.\\nWhen you are ready to stuff the turkey breast, take the bowl of sausagement out of the fridge.\\nPreheat the oven to 200C/400F/Gas 6.\\nUncover the bowl of sausagemeat, add the eggs, parmesan and breadcrumbs and \\342\\200\\223 I use my hands for this \\342\\200\\223 mix well.\\nLay the butterflied turkey joint out in front of you. It really does look like a butterfly though admittedly a fleshy one. Spread the stuffing out first in the slight cavity in the centre of the butterfly and then outwards onto the wings though not going right up to the edge (or it will squodge out when cooking) but as evenly as possible over the whole joint.\\nCarefully, in one swift but steady movement, fold one \\342\\200\\230wing\\342\\200\\231 over the other to close the joint, and then sit the turkey on a large roasting tin, breast bone (or where the breast bone would be) uppermost as it would look were it the whole bird, with the pointier bit furthest away from you. Thread two skewers through the base \\342\\200\\223 i.e., the widest part that is nearer you \\342\\200\\223 to keep it closed and smear it all over with the duck or goose fat.\\nRoast the turkey breast for 2-2\\302\\275 hours, then check it is cooked with a turkey or meat thermometer. When cooked, it should read 75C. (If you\\342\\200\\231re leaving it to rest, as you should or to cool, you could take it out at 73C \\342\\200\\223 it wil retain heat and continue to cook for a short while once out of the oven.)\\nFlex your muscles, then lift out onto a carving board, and leave to rest for at least 20 minutes. Or leave to get cold if you are eating it as part of a buffet.\\nCut through the whole joint in wide slices right across; they will need to be quite thick, at least 1-2cm/\\302\\275-1in, to keep the stuffing intact within the slice.\\nAs you place it on table or sideboard, dot around it the condiments of your choice: I revert to Christmas in Italy here by putting a lusciously extravagant pot or two of Italian mostarda di Cremona on the table alongside: this is a hot and sweet preserve of mustardy candied fruits that gleam beautifully and taste both festive and fabulous.\n4 Pre-heat the oven to 200C/180C Fan/Gas 6.\\nFor the herb butter, mix herbs and butter together to form a paste, season well with salt and freshly ground black pepper.\\nLift up the skin of the turkey with your fingers and separate it from the flesh. Divide the herb butter and spread it under the skin. Season well, place in a roasting tin.\\nCook the crown for 15 minutes, then reduce the heat to 180C/160C Fan/Gas 4 and cook the turkey for 1\\302\\275 hours, or until the juices run clear. Cover the turkey with foil and tea towels and set aside in a warm place to rest for 30 minutes before carving, reserve the juices for the gravy.\\nFor the stuffing, melt butter in a large frying pan and gently saut\\303\\251 onion for 10 minutes until soft. Stir in the herbs for 1 minute then add breadcrumbs to absorb the butter. Mix in the lemon zest, pine nuts and seasoning and cook over medium heat for about seven minutes until crumbs start to brown and crisp. Take off the heat, mix in the parsley and serve warm.\\nFor the gravy, gently fry the onion in the olive oil for about five minutes. Pour in the wine and add the thyme and bay and boil until the volume of the liquid is reduced by three-quarters.\\nAdd stock and boil until reduced by half then add cream and boil for further five minutes. Season with freshly ground black pepper. Remove from heat, cool for ten minutes and strain. Add the turkey pan juices, boil for two minutes, season with salt and strain.                                                                                                                                                                                                                                                                                                                                                                                                                                                                                                                                                                                                                                                                                                                                                                                                                                                                                                                                                                                                                                                                                                                                                                                                                                                                                                                                                                                                                                                                                                  \n5 Preheat the oven to 220C/200C Fan/Gas 7.\\nRub the butter all over the bird and season well with salt and freshly ground black pepper. Then lay the bacon rashers over the bird, more or less covering it completely. The job of the bacon is twofold: to help keep the breast basted without you having to open (and therefore cool) the oven every ten minutes; and to buy you time, so the skin doesn't burn before the breast is cooked through.\\nPlace the bird in a roasting tray in the centre of the oven. Cook on this high heat for 25-30 minutes until the bacon is almost burnt.\\nRemove the bacon from the breast of the bird and put on one side. Baste the breast of the bird with the fat and juices in the pan and return to the oven. Turn down the oven to 180C/160C Fan/Gas 4 and continue to cook for about 12 minutes per 1kg/2\\302\\274lb, protecting the skin with buttered foil only if it seems to need it. Cook until the juices run clear when the thickest part of the breast is pierced with a skewer and the skin is brown and crispy. Cooked like this even a big bird (say 6-7kg/13\\302\\275-15\\302\\276lb legless weight) shouldn't take more than 1\\302\\275-2 hours in total.\\nServe slices of roast turkey breast and spoonfuls of the leg meat in their rich gravy, with all the usual trimmings: roast potatoes, bread sauce, steamed sprouts, chipolatas wrapped in bacon and stuffing.                                                                                                                                                                                                                                                                                                                                                                                                                                                                                                                                                                                                                                                                                                                                                                                                                                                                                                                                                                                                                                                                                                                                                                                                                                                                                                                                                                                                                                                                                                                                                                                          \n6 For the crumble topping, crush the pork scratchings and the sourdough pieces in a bowl. Add the pistachios, cranberries and thyme. Mix with your hands and set aside in a covered container.\\nFor the stuffing, mix together all the ingredients apart from the bacon. Mix to combine.\\nTrim any bits of fat or membrane from the turkey. With a sharp knife, open out the turkey breast as if you are butterflying it. Place the turkey between two sheets of cling film and flatten it out a little with a rolling pin.\\nCut two large pieces of aluminium foil and lay the turkey breast on top. Season with salt and pepper. Spread a generous dollop the stuffing mix in a 5mm/\\302\\274in layer onto the turkey breast and then use the foil to help you roll it up like a Swiss roll. Completely encase the turkey in the two layers of foil and secure with cook's string at regular intervals along the length of the roll. Place in the fridge until needed.\\nPreheat the oven to 120C/250F/Gas \\302\\275.\\nAdd 400ml/14fl oz boiling water to a deep roasting tin. Place a wire rack in the tin and place the rolled turkey breast on top. Cover the roasting tin with aluminium foil.\\nRoast in the oven for 1\\302\\275-2 hours, then check the core temperature with a meat thermometer. You are looking for a temperature of 70C/160F. If it is not ready, place back into the oven and continue to cook until it reaches 70C/160F. Once cooked, remove from the oven, cover with aluminium foil and set aside to rest for 40 minutes. When cool enough to handle, remove the string and foil.\\nFor the stuffing, preheat the oven to 170C/325F/Gas 3 and line a terrine mould or flameproof bowl with the streaky bacon, leaving some excess hanging over the sides. Pack the mould with the remaining stuffing mix and wrap the bacon over the top.\\nBake in the oven for 45 minutes, or until the middle has reached 70C/160F on a meat thermometer. When cooked, remove from the oven and set aside to rest for 20 minutes.\\nAfter 20 minutes, turn out the stuffing and pat dry. Heat the grill to hot, then grill the stuffing until the bacon is crisp.\\nWhen rested, remove the turkey from the roasting tin and brush a thick layer of brown sauce over the top. Cover with the Christmas crumble mix, top with a little orange zest and serve straight away with the stuffing.                                                                                                                                                                                                                                                                                                                                                                                                                                                                                                                                                                                                                 \n  Image                                                                                         \n1 https://ichef.bbci.co.uk/food/ic/food_16x9_832/recipes/the_perfect_roast_turkey_01155_16x9.jpg\n2 https://ichef.bbci.co.uk/food/ic/food_16x9_832/recipes/roast_turkey_crown_10545_16x9.jpg      \n3 https://ichef.bbci.co.uk/food/ic/food_16x9_832/recipes/turkey_breast_stuffed_43707_16x9.jpg   \n4 https://ichef.bbci.co.uk/food/ic/food_16x9_832/recipes/roastturkeyandstuffi_71053_16x9.jpg    \n5 https://ichef.bbci.co.uk/food/ic/food_16x9_832/recipes/roastleglessturkey_13963_16x9.jpg      \n6 https://ichef.bbci.co.uk/food/ic/food_16x9_832/recipes/toms_turkey_roll_with_44115_16x9.jpg   "
          },
          "metadata": {}
        }
      ],
      "execution_count": 89,
      "metadata": {
        "collapsed": true,
        "jupyter": {
          "source_hidden": false,
          "outputs_hidden": false
        },
        "nteract": {
          "transient": {
            "deleting": false
          }
        },
        "execution": {
          "iopub.status.busy": "2020-12-24T00:12:55.095Z",
          "iopub.execute_input": "2020-12-24T00:12:55.109Z",
          "iopub.status.idle": "2020-12-24T00:12:55.135Z",
          "shell.execute_reply": "2020-12-24T00:12:55.147Z"
        }
      }
    },
    {
      "cell_type": "code",
      "source": [
        "#filter() selects rows based on values\n",
        "serves_8 <- df %>% filter(Servings == \"10 serving(s)\", Time >= 120)\n",
        "dim(serves_8)"
      ],
      "outputs": [
        {
          "output_type": "display_data",
          "data": {
            "text/html": "<style>\n.list-inline {list-style: none; margin:0; padding: 0}\n.list-inline>li {display: inline-block}\n.list-inline>li:not(:last-child)::after {content: \"\\00b7\"; padding: 0 .5ex}\n</style>\n<ol class=list-inline><li>3</li><li>6</li></ol>\n",
            "text/markdown": "1. 3\n2. 6\n\n\n",
            "text/latex": "\\begin{enumerate*}\n\\item 3\n\\item 6\n\\end{enumerate*}\n",
            "text/plain": "[1] 3 6"
          },
          "metadata": {}
        }
      ],
      "execution_count": 94,
      "metadata": {
        "collapsed": true,
        "jupyter": {
          "source_hidden": false,
          "outputs_hidden": false
        },
        "nteract": {
          "transient": {
            "deleting": false
          }
        },
        "execution": {
          "iopub.status.busy": "2020-12-24T00:41:32.741Z",
          "iopub.execute_input": "2020-12-24T00:41:32.757Z",
          "shell.execute_reply": "2020-12-24T00:41:32.815Z",
          "iopub.status.idle": "2020-12-24T00:41:32.795Z"
        }
      }
    },
    {
      "cell_type": "code",
      "source": [
        "#select() selects columns by variables\n",
        "turkey <- df %>% filter( Title ==\"Stuffed roast turkey breast\")\n",
        "shopping_list <- turkey %>% select(Ingredients)\n",
        "shopping_list"
      ],
      "outputs": [
        {
          "output_type": "display_data",
          "data": {
            "text/html": "<table>\n<caption>A data.frame: 1 × 1</caption>\n<thead>\n\t<tr><th scope=col>Ingredients</th></tr>\n\t<tr><th scope=col>&lt;chr&gt;</th></tr>\n</thead>\n<tbody>\n\t<tr><td>['1 tbsp sunflower oil', '1 onion, finely chopped', '1 leek, trimmed and finely sliced', '4 pork sausages, around 275g/9<c2><be>oz', '50g/1<c2><be>oz dried cranberries', '25g/1oz flaked almonds', '1 unwaxed lemon, finely grated zest only', '1 heaped tbsp roughly chopped fresh thyme leaves', '40g/1<c2><bd>oz dried white breadcrumbs', 'salt and freshly ground black pepper', '1.5kg/3lb 5oz turkey breast joint, fully thawed if frozen', '16 rashers smoked streaky bacon', '2 tbsp sunflower oil, plus extra for oiling', 'fresh thyme and bay leaves, to garnish', '2 tbsp plain flour', 'splash of wine', '450ml/16fl oz chicken stock, made with 1 chicken stock cube', '1 tbsp redcurrant jelly']</td></tr>\n</tbody>\n</table>\n",
            "text/markdown": "\nA data.frame: 1 × 1\n\n| Ingredients &lt;chr&gt; |\n|---|\n| ['1 tbsp sunflower oil', '1 onion, finely chopped', '1 leek, trimmed and finely sliced', '4 pork sausages, around 275g/9<c2><be>oz', '50g/1<c2><be>oz dried cranberries', '25g/1oz flaked almonds', '1 unwaxed lemon, finely grated zest only', '1 heaped tbsp roughly chopped fresh thyme leaves', '40g/1<c2><bd>oz dried white breadcrumbs', 'salt and freshly ground black pepper', '1.5kg/3lb 5oz turkey breast joint, fully thawed if frozen', '16 rashers smoked streaky bacon', '2 tbsp sunflower oil, plus extra for oiling', 'fresh thyme and bay leaves, to garnish', '2 tbsp plain flour', 'splash of wine', '450ml/16fl oz chicken stock, made with 1 chicken stock cube', '1 tbsp redcurrant jelly'] |\n\n",
            "text/latex": "A data.frame: 1 × 1\n\\begin{tabular}{l}\n Ingredients\\\\\n <chr>\\\\\n\\hline\n\t {[}'1 tbsp sunflower oil', '1 onion, finely chopped', '1 leek, trimmed and finely sliced', '4 pork sausages, around 275g/9<c2><be>oz', '50g/1<c2><be>oz dried cranberries', '25g/1oz flaked almonds', '1 unwaxed lemon, finely grated zest only', '1 heaped tbsp roughly chopped fresh thyme leaves', '40g/1<c2><bd>oz dried white breadcrumbs', 'salt and freshly ground black pepper', '1.5kg/3lb 5oz turkey breast joint, fully thawed if frozen', '16 rashers smoked streaky bacon', '2 tbsp sunflower oil, plus extra for oiling', 'fresh thyme and bay leaves, to garnish', '2 tbsp plain flour', 'splash of wine', '450ml/16fl oz chicken stock, made with 1 chicken stock cube', '1 tbsp redcurrant jelly'{]}\\\\\n\\end{tabular}\n",
            "text/plain": "  Ingredients                                                                                                                                                                                                                                                                                                                                                                                                                                                                                                                                                                                                                                                                                                      \n1 ['1 tbsp sunflower oil', '1 onion, finely chopped', '1 leek, trimmed and finely sliced', '4 pork sausages, around 275g/9\\302\\276oz', '50g/1\\302\\276oz dried cranberries', '25g/1oz flaked almonds', '1 unwaxed lemon, finely grated zest only', '1 heaped tbsp roughly chopped fresh thyme leaves', '40g/1\\302\\275oz dried white breadcrumbs', 'salt and freshly ground black pepper', '1.5kg/3lb 5oz turkey breast joint, fully thawed if frozen', '16 rashers smoked streaky bacon', '2 tbsp sunflower oil, plus extra for oiling', 'fresh thyme and bay leaves, to garnish', '2 tbsp plain flour', 'splash of wine', '450ml/16fl oz chicken stock, made with 1 chicken stock cube', '1 tbsp redcurrant jelly']"
          },
          "metadata": {}
        }
      ],
      "execution_count": 101,
      "metadata": {
        "collapsed": true,
        "jupyter": {
          "source_hidden": false,
          "outputs_hidden": false
        },
        "nteract": {
          "transient": {
            "deleting": false
          }
        },
        "execution": {
          "iopub.status.busy": "2020-12-24T00:50:17.697Z",
          "iopub.execute_input": "2020-12-24T00:50:17.711Z",
          "shell.execute_reply": "2020-12-24T00:50:17.764Z",
          "iopub.status.idle": "2020-12-24T00:50:17.740Z"
        }
      }
    },
    {
      "cell_type": "code",
      "source": [
        "#arrange() lets you arrange by a column\n",
        "serves_8 %>% arrange(Time)"
      ],
      "outputs": [
        {
          "output_type": "display_data",
          "data": {
            "text/html": "<table>\n<caption>A data.frame: 3 × 6</caption>\n<thead>\n\t<tr><th scope=col>Title</th><th scope=col>Time</th><th scope=col>Servings</th><th scope=col>Ingredients</th><th scope=col>Instructions</th><th scope=col>Image</th></tr>\n\t<tr><th scope=col>&lt;chr&gt;</th><th scope=col>&lt;int&gt;</th><th scope=col>&lt;chr&gt;</th><th scope=col>&lt;chr&gt;</th><th scope=col>&lt;chr&gt;</th><th scope=col>&lt;chr&gt;</th></tr>\n</thead>\n<tbody>\n\t<tr><td>Honey-glazed gammon        </td><td>150</td><td>10 serving(s)</td><td>['2kg/4lb 8oz unsmoked boneless gammon joint, tied', '2 onions, halved', '2 carrots, unpeeled, cut into 5cm/2in pieces', '2 celery stalks, cut into 5cm/2in pieces', '4 bay leaves', '12 black peppercorns', 'small handful cloves', '4 tbsp runny honey', '4 tbsp English mustard']                                                                                                                                                                                                                                                                                                                                </td><td>Place the gammon joint into a large lidded saucepan, cover with cold water and bring to the boil over a high heat. Drain the water from the saucepan, add fresh cold water, the onions, carrots, celery, bay and peppercorns and bring to the boil once more. Reduce the heat, cover with a lid and simmer the gammon and vegetables gently for 20 minutes per 500g/1lb 2oz. (If your pan is not quite large enough to cover the joint completely, turn the gammon over halfway through the cooking time.)\nRemove the gammon from the water and set aside to cool for 15 minutes. (The cooking liquid can be strained and reserved for making soup for another time.)\nPreheat the oven to 200C/180C Fan/Gas 6 and line a large roasting tin with kitchen foil.\nUse a small knife to remove the rind from the gammon joint, leaving as much of the fat intact as possible. Score the fat in a diamond pattern, and push a clove into the centre of each 'X'.\nPlace the gammon into the foil-lined roasting tray, ensuring that the sides of the foil come halfway up the joint to contain any roasting juices.\nFor the glaze, mix the honey and mustard together and brush half of it evenly over the gammon, including one side of the joint. Roast in the centre of the oven for 10 minutes, then take the joint out and brush the top and remaining side with the rest of the glaze. Return the gammon to the oven for a further 10<e2><80><93> 15 minutes, rotating the tin so that the opposite side of the gammon faces the back of the oven.\nThe gammon is ready when the fat on top is glossy and golden brown. Cover loosely with foil if the top begins to look too brown. Remove the gammon from the oven and set aside to rest for 15 minutes before carving.\nPour any juices that have collected in the kitchen foil into a small pan, and warm through gently.\nCarve the gammon, serve on a large platter and spoon over the warmed juices .                                                                                                                                                                                                                                                                                                                                                                                                                                                                                                                                                                                                                                                                                                                                                                            </td><td>https://ichef.bbci.co.uk/food/ic/food_16x9_832/recipes/traditional_honey-glazed_52289_16x9.jpg</td></tr>\n\t<tr><td>Slow cooker honey roast ham</td><td>150</td><td>10 serving(s)</td><td>['1.6kg/3lb 8oz boneless, rolled smoked or unsmoked gammon', '1 onion, peeled and quartered', '1 tbsp English mustard', '1 tbsp clear honey', '2 tbsp demerara sugar']                                                                                                                                                                                                                                                                                                                                                                                                                                              </td><td>Put the gammon, onion and 100ml/3<c2><bd>fl oz water in the slow cooker, cover with the lid and cook on low for 6<e2><80><93>8 hours, or until the pork is thoroughly cooked. The longer the gammon is cooked, the more like pulled ham it will become.\nRemove the lid, lift the pork out of the slow cooker and onto a board, and leave it to stand for 10 minutes, or until cool enough to handle.\nPreheat the oven to 220C/200C Fan/Gas 7. Very carefully, snip off the string and slide a knife, in a horizontal sawing motion, between the ham rind and fat, then lift off the rind, leaving a thin layer of fat on the meat. (You may need to do this in strips.)\nLightly score the ham fat with a knife in a crisscross pattern. Line a small roasting tin with a piece of foil, large enough to come up the sides of the tin. Place the ham on top, fat-side up. If the ham is thinner one end than the other, prop the short end up with a wodge of crumpled kitchen foil, so the fat is more horizontal <e2><80><93> this will help it brown more evenly.\nMix the mustard, honey and sugar in a small bowl and spread it all over the ham fat. Bring the foil in towards the ham to create a bowl to catch any sticky juices. Bake the ham for 12<e2><80><93>15 minutes, or until the fat is nicely browned.\nServe in slices, warm or cold.                                                                                                                                                                                                                                                                                                                                                                                                                                                                                                                                                                                                                                                                                                                                                                                                                                                                                                                                                                                                                                                                                                                                                                                                                                                                                                                                                                                   </td><td>https://ichef.bbci.co.uk/food/ic/food_16x9_832/recipes/slow-cooker_roast_ham_25878_16x9.jpg   </td></tr>\n\t<tr><td>Perfect roast turkey       </td><td>180</td><td>10 serving(s)</td><td>['20ml/<c2><be>fl oz rapeseed oil', '1 x 5kg/11lb good-quality free-range turkey, preferably organically reared, wishbone removed (ask your butcher to remove the wings and neck and chop them into 2.5cm/1in pieces to use in the dish)', '40g/1<c2><bd>oz unsalted butter, softened to room temperature', '2 pinches sea salt flakes', '2 pinches freshly ground white pepper', '200ml/7fl oz water', 'salt and freshly ground black pepper', '1-2 tsp ground arrowroot (depending on how thick you like your gravy), dissolved in 1 tbsp cold water', 'roast potatoes and steamed seasonal vegetables, to serve']</td><td>Remove the turkey from the fridge and bring to room temperature - this will take at least an hour.\nWhen you are ready to cook, preheat the oven to 230C/220C Fan/Gas 8.\nHeat the rapeseed oil in a large, heavy-based roasting tray on the stove top. Add the chopped turkey wings and neck and fry for 8-10 minutes, turning the pieces over every 2-3 minutes, or until evenly browned all over.\nMeanwhile, in a small bowl, soften the butter with the back of a dessert spoon, then season with the salt and freshly ground white pepper. Using a pastry brush or your hands, smear the seasoned butter all over the turkey. Add any remaining butter to the roasting tray once the chopped wings and neck have browned.\nPlace the turkey on top of the wing and neck pieces, then roast in the oven for 30 minutes.\nRemove the turkey from the oven and baste all over with the cooking juices.\nReduce the oven temperature to 160C/150C Fan/Gas 3.\nPour the water into the roasting tray, then return the turkey to the oven and continue to cook for a further 1 hour, basting the bird with the cooking juices every 20 minutes (do this quickly to prevent the heat escaping from the oven).\nAt the end of the cooking time, test that the turkey is cooked through by inserting a skewer or roasting fork into the thickest part of its thigh; if the juices run clear, the meat is cooked. Alternatively, use a meat thermometer; if cooked, the temperature should be 65C for 10 minutes, or up to 74C for 2 minutes. If the turkey is not fully cooked, return it to the oven until the juices run clear.\nRemove the turkey from the oven and transfer the bird to a large, deep-sided tray, reserving the roasting tray the turkey was cooked in along with the cooking juices. Set the turkey aside to rest for a minimum of 30 minutes and up to 1<c2><bd> hours.\nWhile the turkey is resting, cook your roast potatoes and vegetable dishes.\nWhen you<e2><80><99>re almost ready to serve the meal, return the roasting tray used to cook the turkey to the stove top. Bring the cooking juices to the boil over a medium heat, scraping up any burned bits from the bottom of the tray using a wooden spoon.\nCollect the juices released by the turkey as it was resting and add them to the gravy. Season, to taste, with salt and freshly ground black pepper, if needed.\nReduce the heat until the gravy is simmering, then stir in the dissolved arrowroot and cook until the gravy has thickened.\nStrain the gravy through a fine sieve into a warmed jug. Keep warm.\nTo serve, bring the turkey to the table and carve into slices. Serve with the roast potatoes and vegetables. Pour over the gravy.</td><td>https://ichef.bbci.co.uk/food/ic/food_16x9_832/recipes/the_perfect_roast_turkey_01155_16x9.jpg</td></tr>\n</tbody>\n</table>\n",
            "text/markdown": "\nA data.frame: 3 × 6\n\n| Title &lt;chr&gt; | Time &lt;int&gt; | Servings &lt;chr&gt; | Ingredients &lt;chr&gt; | Instructions &lt;chr&gt; | Image &lt;chr&gt; |\n|---|---|---|---|---|---|\n| Honey-glazed gammon         | 150 | 10 serving(s) | ['2kg/4lb 8oz unsmoked boneless gammon joint, tied', '2 onions, halved', '2 carrots, unpeeled, cut into 5cm/2in pieces', '2 celery stalks, cut into 5cm/2in pieces', '4 bay leaves', '12 black peppercorns', 'small handful cloves', '4 tbsp runny honey', '4 tbsp English mustard']                                                                                                                                                                                                                                                                                                                                 | Place the gammon joint into a large lidded saucepan, cover with cold water and bring to the boil over a high heat. Drain the water from the saucepan, add fresh cold water, the onions, carrots, celery, bay and peppercorns and bring to the boil once more. Reduce the heat, cover with a lid and simmer the gammon and vegetables gently for 20 minutes per 500g/1lb 2oz. (If your pan is not quite large enough to cover the joint completely, turn the gammon over halfway through the cooking time.)\nRemove the gammon from the water and set aside to cool for 15 minutes. (The cooking liquid can be strained and reserved for making soup for another time.)\nPreheat the oven to 200C/180C Fan/Gas 6 and line a large roasting tin with kitchen foil.\nUse a small knife to remove the rind from the gammon joint, leaving as much of the fat intact as possible. Score the fat in a diamond pattern, and push a clove into the centre of each 'X'.\nPlace the gammon into the foil-lined roasting tray, ensuring that the sides of the foil come halfway up the joint to contain any roasting juices.\nFor the glaze, mix the honey and mustard together and brush half of it evenly over the gammon, including one side of the joint. Roast in the centre of the oven for 10 minutes, then take the joint out and brush the top and remaining side with the rest of the glaze. Return the gammon to the oven for a further 10<e2><80><93> 15 minutes, rotating the tin so that the opposite side of the gammon faces the back of the oven.\nThe gammon is ready when the fat on top is glossy and golden brown. Cover loosely with foil if the top begins to look too brown. Remove the gammon from the oven and set aside to rest for 15 minutes before carving.\nPour any juices that have collected in the kitchen foil into a small pan, and warm through gently.\nCarve the gammon, serve on a large platter and spoon over the warmed juices .                                                                                                                                                                                                                                                                                                                                                                                                                                                                                                                                                                                                                                                                                                                                                                             | https://ichef.bbci.co.uk/food/ic/food_16x9_832/recipes/traditional_honey-glazed_52289_16x9.jpg |\n| Slow cooker honey roast ham | 150 | 10 serving(s) | ['1.6kg/3lb 8oz boneless, rolled smoked or unsmoked gammon', '1 onion, peeled and quartered', '1 tbsp English mustard', '1 tbsp clear honey', '2 tbsp demerara sugar']                                                                                                                                                                                                                                                                                                                                                                                                                                               | Put the gammon, onion and 100ml/3<c2><bd>fl oz water in the slow cooker, cover with the lid and cook on low for 6<e2><80><93>8 hours, or until the pork is thoroughly cooked. The longer the gammon is cooked, the more like pulled ham it will become.\nRemove the lid, lift the pork out of the slow cooker and onto a board, and leave it to stand for 10 minutes, or until cool enough to handle.\nPreheat the oven to 220C/200C Fan/Gas 7. Very carefully, snip off the string and slide a knife, in a horizontal sawing motion, between the ham rind and fat, then lift off the rind, leaving a thin layer of fat on the meat. (You may need to do this in strips.)\nLightly score the ham fat with a knife in a crisscross pattern. Line a small roasting tin with a piece of foil, large enough to come up the sides of the tin. Place the ham on top, fat-side up. If the ham is thinner one end than the other, prop the short end up with a wodge of crumpled kitchen foil, so the fat is more horizontal <e2><80><93> this will help it brown more evenly.\nMix the mustard, honey and sugar in a small bowl and spread it all over the ham fat. Bring the foil in towards the ham to create a bowl to catch any sticky juices. Bake the ham for 12<e2><80><93>15 minutes, or until the fat is nicely browned.\nServe in slices, warm or cold.                                                                                                                                                                                                                                                                                                                                                                                                                                                                                                                                                                                                                                                                                                                                                                                                                                                                                                                                                                                                                                                                                                                                                                                                                                                                                                                                                                                    | https://ichef.bbci.co.uk/food/ic/food_16x9_832/recipes/slow-cooker_roast_ham_25878_16x9.jpg    |\n| Perfect roast turkey        | 180 | 10 serving(s) | ['20ml/<c2><be>fl oz rapeseed oil', '1 x 5kg/11lb good-quality free-range turkey, preferably organically reared, wishbone removed (ask your butcher to remove the wings and neck and chop them into 2.5cm/1in pieces to use in the dish)', '40g/1<c2><bd>oz unsalted butter, softened to room temperature', '2 pinches sea salt flakes', '2 pinches freshly ground white pepper', '200ml/7fl oz water', 'salt and freshly ground black pepper', '1-2 tsp ground arrowroot (depending on how thick you like your gravy), dissolved in 1 tbsp cold water', 'roast potatoes and steamed seasonal vegetables, to serve'] | Remove the turkey from the fridge and bring to room temperature - this will take at least an hour.\nWhen you are ready to cook, preheat the oven to 230C/220C Fan/Gas 8.\nHeat the rapeseed oil in a large, heavy-based roasting tray on the stove top. Add the chopped turkey wings and neck and fry for 8-10 minutes, turning the pieces over every 2-3 minutes, or until evenly browned all over.\nMeanwhile, in a small bowl, soften the butter with the back of a dessert spoon, then season with the salt and freshly ground white pepper. Using a pastry brush or your hands, smear the seasoned butter all over the turkey. Add any remaining butter to the roasting tray once the chopped wings and neck have browned.\nPlace the turkey on top of the wing and neck pieces, then roast in the oven for 30 minutes.\nRemove the turkey from the oven and baste all over with the cooking juices.\nReduce the oven temperature to 160C/150C Fan/Gas 3.\nPour the water into the roasting tray, then return the turkey to the oven and continue to cook for a further 1 hour, basting the bird with the cooking juices every 20 minutes (do this quickly to prevent the heat escaping from the oven).\nAt the end of the cooking time, test that the turkey is cooked through by inserting a skewer or roasting fork into the thickest part of its thigh; if the juices run clear, the meat is cooked. Alternatively, use a meat thermometer; if cooked, the temperature should be 65C for 10 minutes, or up to 74C for 2 minutes. If the turkey is not fully cooked, return it to the oven until the juices run clear.\nRemove the turkey from the oven and transfer the bird to a large, deep-sided tray, reserving the roasting tray the turkey was cooked in along with the cooking juices. Set the turkey aside to rest for a minimum of 30 minutes and up to 1<c2><bd> hours.\nWhile the turkey is resting, cook your roast potatoes and vegetable dishes.\nWhen you<e2><80><99>re almost ready to serve the meal, return the roasting tray used to cook the turkey to the stove top. Bring the cooking juices to the boil over a medium heat, scraping up any burned bits from the bottom of the tray using a wooden spoon.\nCollect the juices released by the turkey as it was resting and add them to the gravy. Season, to taste, with salt and freshly ground black pepper, if needed.\nReduce the heat until the gravy is simmering, then stir in the dissolved arrowroot and cook until the gravy has thickened.\nStrain the gravy through a fine sieve into a warmed jug. Keep warm.\nTo serve, bring the turkey to the table and carve into slices. Serve with the roast potatoes and vegetables. Pour over the gravy. | https://ichef.bbci.co.uk/food/ic/food_16x9_832/recipes/the_perfect_roast_turkey_01155_16x9.jpg |\n\n",
            "text/latex": "A data.frame: 3 × 6\n\\begin{tabular}{llllll}\n Title & Time & Servings & Ingredients & Instructions & Image\\\\\n <chr> & <int> & <chr> & <chr> & <chr> & <chr>\\\\\n\\hline\n\t Honey-glazed gammon         & 150 & 10 serving(s) & {[}'2kg/4lb 8oz unsmoked boneless gammon joint, tied', '2 onions, halved', '2 carrots, unpeeled, cut into 5cm/2in pieces', '2 celery stalks, cut into 5cm/2in pieces', '4 bay leaves', '12 black peppercorns', 'small handful cloves', '4 tbsp runny honey', '4 tbsp English mustard'{]}                                                                                                                                                                                                                                                                                                                                 & Place the gammon joint into a large lidded saucepan, cover with cold water and bring to the boil over a high heat. Drain the water from the saucepan, add fresh cold water, the onions, carrots, celery, bay and peppercorns and bring to the boil once more. Reduce the heat, cover with a lid and simmer the gammon and vegetables gently for 20 minutes per 500g/1lb 2oz. (If your pan is not quite large enough to cover the joint completely, turn the gammon over halfway through the cooking time.)\nRemove the gammon from the water and set aside to cool for 15 minutes. (The cooking liquid can be strained and reserved for making soup for another time.)\nPreheat the oven to 200C/180C Fan/Gas 6 and line a large roasting tin with kitchen foil.\nUse a small knife to remove the rind from the gammon joint, leaving as much of the fat intact as possible. Score the fat in a diamond pattern, and push a clove into the centre of each 'X'.\nPlace the gammon into the foil-lined roasting tray, ensuring that the sides of the foil come halfway up the joint to contain any roasting juices.\nFor the glaze, mix the honey and mustard together and brush half of it evenly over the gammon, including one side of the joint. Roast in the centre of the oven for 10 minutes, then take the joint out and brush the top and remaining side with the rest of the glaze. Return the gammon to the oven for a further 10<e2><80><93> 15 minutes, rotating the tin so that the opposite side of the gammon faces the back of the oven.\nThe gammon is ready when the fat on top is glossy and golden brown. Cover loosely with foil if the top begins to look too brown. Remove the gammon from the oven and set aside to rest for 15 minutes before carving.\nPour any juices that have collected in the kitchen foil into a small pan, and warm through gently.\nCarve the gammon, serve on a large platter and spoon over the warmed juices .                                                                                                                                                                                                                                                                                                                                                                                                                                                                                                                                                                                                                                                                                                                                                                             & https://ichef.bbci.co.uk/food/ic/food\\_16x9\\_832/recipes/traditional\\_honey-glazed\\_52289\\_16x9.jpg\\\\\n\t Slow cooker honey roast ham & 150 & 10 serving(s) & {[}'1.6kg/3lb 8oz boneless, rolled smoked or unsmoked gammon', '1 onion, peeled and quartered', '1 tbsp English mustard', '1 tbsp clear honey', '2 tbsp demerara sugar'{]}                                                                                                                                                                                                                                                                                                                                                                                                                                               & Put the gammon, onion and 100ml/3<c2><bd>fl oz water in the slow cooker, cover with the lid and cook on low for 6<e2><80><93>8 hours, or until the pork is thoroughly cooked. The longer the gammon is cooked, the more like pulled ham it will become.\nRemove the lid, lift the pork out of the slow cooker and onto a board, and leave it to stand for 10 minutes, or until cool enough to handle.\nPreheat the oven to 220C/200C Fan/Gas 7. Very carefully, snip off the string and slide a knife, in a horizontal sawing motion, between the ham rind and fat, then lift off the rind, leaving a thin layer of fat on the meat. (You may need to do this in strips.)\nLightly score the ham fat with a knife in a crisscross pattern. Line a small roasting tin with a piece of foil, large enough to come up the sides of the tin. Place the ham on top, fat-side up. If the ham is thinner one end than the other, prop the short end up with a wodge of crumpled kitchen foil, so the fat is more horizontal <e2><80><93> this will help it brown more evenly.\nMix the mustard, honey and sugar in a small bowl and spread it all over the ham fat. Bring the foil in towards the ham to create a bowl to catch any sticky juices. Bake the ham for 12<e2><80><93>15 minutes, or until the fat is nicely browned.\nServe in slices, warm or cold.                                                                                                                                                                                                                                                                                                                                                                                                                                                                                                                                                                                                                                                                                                                                                                                                                                                                                                                                                                                                                                                                                                                                                                                                                                                                                                                                                                                    & https://ichef.bbci.co.uk/food/ic/food\\_16x9\\_832/recipes/slow-cooker\\_roast\\_ham\\_25878\\_16x9.jpg   \\\\\n\t Perfect roast turkey        & 180 & 10 serving(s) & {[}'20ml/<c2><be>fl oz rapeseed oil', '1 x 5kg/11lb good-quality free-range turkey, preferably organically reared, wishbone removed (ask your butcher to remove the wings and neck and chop them into 2.5cm/1in pieces to use in the dish)', '40g/1<c2><bd>oz unsalted butter, softened to room temperature', '2 pinches sea salt flakes', '2 pinches freshly ground white pepper', '200ml/7fl oz water', 'salt and freshly ground black pepper', '1-2 tsp ground arrowroot (depending on how thick you like your gravy), dissolved in 1 tbsp cold water', 'roast potatoes and steamed seasonal vegetables, to serve'{]} & Remove the turkey from the fridge and bring to room temperature - this will take at least an hour.\nWhen you are ready to cook, preheat the oven to 230C/220C Fan/Gas 8.\nHeat the rapeseed oil in a large, heavy-based roasting tray on the stove top. Add the chopped turkey wings and neck and fry for 8-10 minutes, turning the pieces over every 2-3 minutes, or until evenly browned all over.\nMeanwhile, in a small bowl, soften the butter with the back of a dessert spoon, then season with the salt and freshly ground white pepper. Using a pastry brush or your hands, smear the seasoned butter all over the turkey. Add any remaining butter to the roasting tray once the chopped wings and neck have browned.\nPlace the turkey on top of the wing and neck pieces, then roast in the oven for 30 minutes.\nRemove the turkey from the oven and baste all over with the cooking juices.\nReduce the oven temperature to 160C/150C Fan/Gas 3.\nPour the water into the roasting tray, then return the turkey to the oven and continue to cook for a further 1 hour, basting the bird with the cooking juices every 20 minutes (do this quickly to prevent the heat escaping from the oven).\nAt the end of the cooking time, test that the turkey is cooked through by inserting a skewer or roasting fork into the thickest part of its thigh; if the juices run clear, the meat is cooked. Alternatively, use a meat thermometer; if cooked, the temperature should be 65C for 10 minutes, or up to 74C for 2 minutes. If the turkey is not fully cooked, return it to the oven until the juices run clear.\nRemove the turkey from the oven and transfer the bird to a large, deep-sided tray, reserving the roasting tray the turkey was cooked in along with the cooking juices. Set the turkey aside to rest for a minimum of 30 minutes and up to 1<c2><bd> hours.\nWhile the turkey is resting, cook your roast potatoes and vegetable dishes.\nWhen you<e2><80><99>re almost ready to serve the meal, return the roasting tray used to cook the turkey to the stove top. Bring the cooking juices to the boil over a medium heat, scraping up any burned bits from the bottom of the tray using a wooden spoon.\nCollect the juices released by the turkey as it was resting and add them to the gravy. Season, to taste, with salt and freshly ground black pepper, if needed.\nReduce the heat until the gravy is simmering, then stir in the dissolved arrowroot and cook until the gravy has thickened.\nStrain the gravy through a fine sieve into a warmed jug. Keep warm.\nTo serve, bring the turkey to the table and carve into slices. Serve with the roast potatoes and vegetables. Pour over the gravy. & https://ichef.bbci.co.uk/food/ic/food\\_16x9\\_832/recipes/the\\_perfect\\_roast\\_turkey\\_01155\\_16x9.jpg\\\\\n\\end{tabular}\n",
            "text/plain": "  Title                       Time Servings     \n1 Honey-glazed gammon         150  10 serving(s)\n2 Slow cooker honey roast ham 150  10 serving(s)\n3 Perfect roast turkey        180  10 serving(s)\n  Ingredients                                                                                                                                                                                                                                                                                                                                                                                                                                                                                                                                                                                                         \n1 ['2kg/4lb 8oz unsmoked boneless gammon joint, tied', '2 onions, halved', '2 carrots, unpeeled, cut into 5cm/2in pieces', '2 celery stalks, cut into 5cm/2in pieces', '4 bay leaves', '12 black peppercorns', 'small handful cloves', '4 tbsp runny honey', '4 tbsp English mustard']                                                                                                                                                                                                                                                                                                                                \n2 ['1.6kg/3lb 8oz boneless, rolled smoked or unsmoked gammon', '1 onion, peeled and quartered', '1 tbsp English mustard', '1 tbsp clear honey', '2 tbsp demerara sugar']                                                                                                                                                                                                                                                                                                                                                                                                                                              \n3 ['20ml/\\302\\276fl oz rapeseed oil', '1 x 5kg/11lb good-quality free-range turkey, preferably organically reared, wishbone removed (ask your butcher to remove the wings and neck and chop them into 2.5cm/1in pieces to use in the dish)', '40g/1\\302\\275oz unsalted butter, softened to room temperature', '2 pinches sea salt flakes', '2 pinches freshly ground white pepper', '200ml/7fl oz water', 'salt and freshly ground black pepper', '1-2 tsp ground arrowroot (depending on how thick you like your gravy), dissolved in 1 tbsp cold water', 'roast potatoes and steamed seasonal vegetables, to serve']\n  Instructions                                                                                                                                                                                                                                                                                                                                                                                                                                                                                                                                                                                                                                                                                                                                                                                                                                                                                                                                                                                                                                                                                                                                                                                                                                                                                                                                                                                                                                                                                                                                                                                                                                                                                                                                                                                                                                                                                                                                                                                                                                                                                                                                                                                                                                                                                                                                                                                                                                                                                                                                                                                                                                                                                                                                 \n1 Place the gammon joint into a large lidded saucepan, cover with cold water and bring to the boil over a high heat. Drain the water from the saucepan, add fresh cold water, the onions, carrots, celery, bay and peppercorns and bring to the boil once more. Reduce the heat, cover with a lid and simmer the gammon and vegetables gently for 20 minutes per 500g/1lb 2oz. (If your pan is not quite large enough to cover the joint completely, turn the gammon over halfway through the cooking time.)\\nRemove the gammon from the water and set aside to cool for 15 minutes. (The cooking liquid can be strained and reserved for making soup for another time.)\\nPreheat the oven to 200C/180C Fan/Gas 6 and line a large roasting tin with kitchen foil.\\nUse a small knife to remove the rind from the gammon joint, leaving as much of the fat intact as possible. Score the fat in a diamond pattern, and push a clove into the centre of each 'X'.\\nPlace the gammon into the foil-lined roasting tray, ensuring that the sides of the foil come halfway up the joint to contain any roasting juices.\\nFor the glaze, mix the honey and mustard together and brush half of it evenly over the gammon, including one side of the joint. Roast in the centre of the oven for 10 minutes, then take the joint out and brush the top and remaining side with the rest of the glaze. Return the gammon to the oven for a further 10\\342\\200\\223 15 minutes, rotating the tin so that the opposite side of the gammon faces the back of the oven.\\nThe gammon is ready when the fat on top is glossy and golden brown. Cover loosely with foil if the top begins to look too brown. Remove the gammon from the oven and set aside to rest for 15 minutes before carving.\\nPour any juices that have collected in the kitchen foil into a small pan, and warm through gently.\\nCarve the gammon, serve on a large platter and spoon over the warmed juices .                                                                                                                                                                                                                                                                                                                                                                                                                                                                                                                                                                                                                                                                                                                                                                            \n2 Put the gammon, onion and 100ml/3\\302\\275fl oz water in the slow cooker, cover with the lid and cook on low for 6\\342\\200\\2238 hours, or until the pork is thoroughly cooked. The longer the gammon is cooked, the more like pulled ham it will become.\\nRemove the lid, lift the pork out of the slow cooker and onto a board, and leave it to stand for 10 minutes, or until cool enough to handle.\\nPreheat the oven to 220C/200C Fan/Gas 7. Very carefully, snip off the string and slide a knife, in a horizontal sawing motion, between the ham rind and fat, then lift off the rind, leaving a thin layer of fat on the meat. (You may need to do this in strips.)\\nLightly score the ham fat with a knife in a crisscross pattern. Line a small roasting tin with a piece of foil, large enough to come up the sides of the tin. Place the ham on top, fat-side up. If the ham is thinner one end than the other, prop the short end up with a wodge of crumpled kitchen foil, so the fat is more horizontal \\342\\200\\223 this will help it brown more evenly.\\nMix the mustard, honey and sugar in a small bowl and spread it all over the ham fat. Bring the foil in towards the ham to create a bowl to catch any sticky juices. Bake the ham for 12\\342\\200\\22315 minutes, or until the fat is nicely browned.\\nServe in slices, warm or cold.                                                                                                                                                                                                                                                                                                                                                                                                                                                                                                                                                                                                                                                                                                                                                                                                                                                                                                                                                                                                                                                                                                                                                                                                                                                                                                                                                                                   \n3 Remove the turkey from the fridge and bring to room temperature - this will take at least an hour.\\nWhen you are ready to cook, preheat the oven to 230C/220C Fan/Gas 8.\\nHeat the rapeseed oil in a large, heavy-based roasting tray on the stove top. Add the chopped turkey wings and neck and fry for 8-10 minutes, turning the pieces over every 2-3 minutes, or until evenly browned all over.\\nMeanwhile, in a small bowl, soften the butter with the back of a dessert spoon, then season with the salt and freshly ground white pepper. Using a pastry brush or your hands, smear the seasoned butter all over the turkey. Add any remaining butter to the roasting tray once the chopped wings and neck have browned.\\nPlace the turkey on top of the wing and neck pieces, then roast in the oven for 30 minutes.\\nRemove the turkey from the oven and baste all over with the cooking juices.\\nReduce the oven temperature to 160C/150C Fan/Gas 3.\\nPour the water into the roasting tray, then return the turkey to the oven and continue to cook for a further 1 hour, basting the bird with the cooking juices every 20 minutes (do this quickly to prevent the heat escaping from the oven).\\nAt the end of the cooking time, test that the turkey is cooked through by inserting a skewer or roasting fork into the thickest part of its thigh; if the juices run clear, the meat is cooked. Alternatively, use a meat thermometer; if cooked, the temperature should be 65C for 10 minutes, or up to 74C for 2 minutes. If the turkey is not fully cooked, return it to the oven until the juices run clear.\\nRemove the turkey from the oven and transfer the bird to a large, deep-sided tray, reserving the roasting tray the turkey was cooked in along with the cooking juices. Set the turkey aside to rest for a minimum of 30 minutes and up to 1\\302\\275 hours.\\nWhile the turkey is resting, cook your roast potatoes and vegetable dishes.\\nWhen you\\342\\200\\231re almost ready to serve the meal, return the roasting tray used to cook the turkey to the stove top. Bring the cooking juices to the boil over a medium heat, scraping up any burned bits from the bottom of the tray using a wooden spoon.\\nCollect the juices released by the turkey as it was resting and add them to the gravy. Season, to taste, with salt and freshly ground black pepper, if needed.\\nReduce the heat until the gravy is simmering, then stir in the dissolved arrowroot and cook until the gravy has thickened.\\nStrain the gravy through a fine sieve into a warmed jug. Keep warm.\\nTo serve, bring the turkey to the table and carve into slices. Serve with the roast potatoes and vegetables. Pour over the gravy.\n  Image                                                                                         \n1 https://ichef.bbci.co.uk/food/ic/food_16x9_832/recipes/traditional_honey-glazed_52289_16x9.jpg\n2 https://ichef.bbci.co.uk/food/ic/food_16x9_832/recipes/slow-cooker_roast_ham_25878_16x9.jpg   \n3 https://ichef.bbci.co.uk/food/ic/food_16x9_832/recipes/the_perfect_roast_turkey_01155_16x9.jpg"
          },
          "metadata": {}
        }
      ],
      "execution_count": 105,
      "metadata": {
        "collapsed": true,
        "jupyter": {
          "source_hidden": false,
          "outputs_hidden": false
        },
        "nteract": {
          "transient": {
            "deleting": false
          }
        },
        "execution": {
          "iopub.status.busy": "2020-12-24T01:09:44.124Z",
          "iopub.execute_input": "2020-12-24T01:09:44.140Z",
          "iopub.status.idle": "2020-12-24T01:09:44.309Z",
          "shell.execute_reply": "2020-12-24T01:09:44.326Z"
        }
      }
    },
    {
      "cell_type": "code",
      "source": [
        "#summerize takes a summary from multiple values in your Data Frame\n",
        "df %>%\n",
        "summarize(averge_time = mean(Time))\n"
      ],
      "outputs": [
        {
          "output_type": "display_data",
          "data": {
            "text/html": "<table>\n<caption>A data.frame: 1 × 1</caption>\n<thead>\n\t<tr><th scope=col>averge_time</th></tr>\n\t<tr><th scope=col>&lt;dbl&gt;</th></tr>\n</thead>\n<tbody>\n\t<tr><td>92.85714</td></tr>\n</tbody>\n</table>\n",
            "text/markdown": "\nA data.frame: 1 × 1\n\n| averge_time &lt;dbl&gt; |\n|---|\n| 92.85714 |\n\n",
            "text/latex": "A data.frame: 1 × 1\n\\begin{tabular}{l}\n averge\\_time\\\\\n <dbl>\\\\\n\\hline\n\t 92.85714\\\\\n\\end{tabular}\n",
            "text/plain": "  averge_time\n1 92.85714   "
          },
          "metadata": {}
        }
      ],
      "execution_count": 104,
      "metadata": {
        "collapsed": true,
        "jupyter": {
          "source_hidden": false,
          "outputs_hidden": false
        },
        "nteract": {
          "transient": {
            "deleting": false
          }
        },
        "execution": {
          "iopub.status.busy": "2020-12-24T00:53:49.644Z",
          "iopub.execute_input": "2020-12-24T00:53:49.657Z",
          "iopub.status.idle": "2020-12-24T00:53:49.690Z",
          "shell.execute_reply": "2020-12-24T00:53:49.701Z"
        }
      }
    },
    {
      "cell_type": "markdown",
      "source": [
        "These are just a few ways to explore data with R. Check it out and learn more for yourself! https://www.r-project.org/"
      ],
      "metadata": {
        "nteract": {
          "transient": {
            "deleting": false
          }
        }
      }
    },
    {
      "cell_type": "markdown",
      "source": [
        "Sources for this research include:\n",
        "\n",
        "John Blischak, Daniel Chen, Harriet Dashnow, and Denis Haine (eds):\n",
        "\"Software Carpentry: Programming with R.\"  Version 2016.06, June 2016,\n",
        "https://github.com/swcarpentry/r-novice-inflammation,\n",
        "10.5281/zenodo.57541.\n",
        "\n",
        "Codeacademy.com\n",
        "\n",
        "6 Most Useful dplyr Commands to Manipulate a Data Frame in R, cmdline, January 27, 2018 https://cmdlinetips.com/2018/01/6-most-useful-dplyr-verbs-to-manipulate-a-data-frame-in-r/"
      ],
      "metadata": {
        "nteract": {
          "transient": {
            "deleting": false
          }
        }
      }
    }
  ],
  "metadata": {
    "kernel_info": {
      "name": "ir"
    },
    "language_info": {
      "name": "R",
      "codemirror_mode": "r",
      "pygments_lexer": "r",
      "mimetype": "text/x-r-source",
      "file_extension": ".r",
      "version": "4.0.3"
    },
    "kernelspec": {
      "argv": [
        "/Library/Frameworks/R.framework/Resources/bin/R",
        "--slave",
        "-e",
        "IRkernel::main()",
        "--args",
        "{connection_file}"
      ],
      "display_name": "R",
      "language": "R",
      "name": "ir"
    },
    "nteract": {
      "version": "0.27.0"
    }
  },
  "nbformat": 4,
  "nbformat_minor": 0
}