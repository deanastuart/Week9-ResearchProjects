{
  "cells": [
    {
      "cell_type": "markdown",
      "source": [
        "## Adding Data Frames to Redis\n",
        "PyArrow serializes the Data Frame to add to Redis as a whole piece"
      ],
      "metadata": {
        "nteract": {
          "transient": {
            "deleting": false
          }
        }
      }
    },
    {
      "cell_type": "code",
      "source": [
        "import pandas as pd\n",
        "df = pd.read_csv(\"the_office_series.csv\")"
      ],
      "outputs": [],
      "execution_count": 1,
      "metadata": {
        "collapsed": true,
        "jupyter": {
          "source_hidden": false,
          "outputs_hidden": false
        },
        "nteract": {
          "transient": {
            "deleting": false
          }
        },
        "execution": {
          "iopub.status.busy": "2020-12-28T14:36:23.703Z",
          "iopub.execute_input": "2020-12-28T14:36:23.717Z",
          "iopub.status.idle": "2020-12-28T14:36:23.728Z",
          "shell.execute_reply": "2020-12-28T14:36:23.467Z"
        }
      }
    },
    {
      "cell_type": "code",
      "source": [
        "df.info()"
      ],
      "outputs": [
        {
          "output_type": "stream",
          "name": "stdout",
          "text": [
            "<class 'pandas.core.frame.DataFrame'>\n",
            "RangeIndex: 188 entries, 0 to 187\n",
            "Data columns (total 12 columns):\n",
            " #   Column        Non-Null Count  Dtype  \n",
            "---  ------        --------------  -----  \n",
            " 0   Unnamed: 0    188 non-null    int64  \n",
            " 1   Season        188 non-null    int64  \n",
            " 2   EpisodeTitle  188 non-null    object \n",
            " 3   About         188 non-null    object \n",
            " 4   Ratings       188 non-null    float64\n",
            " 5   Votes         188 non-null    int64  \n",
            " 6   Viewership    188 non-null    float64\n",
            " 7   Duration      188 non-null    int64  \n",
            " 8   Date          188 non-null    object \n",
            " 9   GuestStars    29 non-null     object \n",
            " 10  Director      188 non-null    object \n",
            " 11  Writers       188 non-null    object \n",
            "dtypes: float64(2), int64(4), object(6)\n",
            "memory usage: 17.8+ KB\n"
          ]
        }
      ],
      "execution_count": 2,
      "metadata": {
        "collapsed": true,
        "jupyter": {
          "source_hidden": false,
          "outputs_hidden": false
        },
        "nteract": {
          "transient": {
            "deleting": false
          }
        },
        "execution": {
          "iopub.status.busy": "2020-12-28T14:36:23.747Z",
          "iopub.execute_input": "2020-12-28T14:36:23.757Z",
          "iopub.status.idle": "2020-12-28T14:36:23.770Z",
          "shell.execute_reply": "2020-12-28T14:36:23.479Z"
        }
      }
    },
    {
      "cell_type": "code",
      "source": [
        "import redis\n",
        "r = redis.Redis(host='localhost', port=6379, db=0)"
      ],
      "outputs": [],
      "execution_count": 3,
      "metadata": {
        "collapsed": true,
        "jupyter": {
          "source_hidden": false,
          "outputs_hidden": false
        },
        "nteract": {
          "transient": {
            "deleting": false
          }
        },
        "execution": {
          "iopub.status.busy": "2020-12-28T14:36:23.797Z",
          "iopub.execute_input": "2020-12-28T14:36:23.811Z",
          "iopub.status.idle": "2020-12-28T14:36:23.824Z",
          "shell.execute_reply": "2020-12-28T14:36:23.490Z"
        }
      }
    },
    {
      "cell_type": "code",
      "source": [
        "import pyarrow as pa\n",
        "\n",
        "context = pa.default_serialization_context()\n",
        "r.set(\"key\",context.serialize(df).to_buffer().to_pybytes())"
      ],
      "outputs": [
        {
          "output_type": "stream",
          "name": "stderr",
          "text": [
            "<ipython-input-4-30a97950b199>:3: DeprecationWarning: 'pyarrow.default_serialization_context' is deprecated as of 2.0.0 and will be removed in a future version. Use pickle or the pyarrow IPC functionality instead.\n",
            "  context = pa.default_serialization_context()\n"
          ]
        },
        {
          "output_type": "execute_result",
          "execution_count": 4,
          "data": {
            "text/plain": "True"
          },
          "metadata": {}
        }
      ],
      "execution_count": 4,
      "metadata": {
        "collapsed": true,
        "jupyter": {
          "source_hidden": false,
          "outputs_hidden": false
        },
        "nteract": {
          "transient": {
            "deleting": false
          }
        },
        "execution": {
          "iopub.status.busy": "2020-12-28T14:36:23.844Z",
          "iopub.execute_input": "2020-12-28T14:36:23.855Z",
          "iopub.status.idle": "2020-12-28T14:36:23.874Z",
          "shell.execute_reply": "2020-12-28T14:36:23.501Z"
        }
      }
    },
    {
      "cell_type": "code",
      "source": [
        "df2 = context.deserialize(r.get(\"key\"))\n",
        "df2.info()"
      ],
      "outputs": [
        {
          "output_type": "stream",
          "name": "stdout",
          "text": [
            "<class 'pandas.core.frame.DataFrame'>\n",
            "RangeIndex: 188 entries, 0 to 187\n",
            "Data columns (total 12 columns):\n",
            " #   Column        Non-Null Count  Dtype  \n",
            "---  ------        --------------  -----  \n",
            " 0   Unnamed: 0    188 non-null    int64  \n",
            " 1   Season        188 non-null    int64  \n",
            " 2   EpisodeTitle  188 non-null    object \n",
            " 3   About         188 non-null    object \n",
            " 4   Ratings       188 non-null    float64\n",
            " 5   Votes         188 non-null    int64  \n",
            " 6   Viewership    188 non-null    float64\n",
            " 7   Duration      188 non-null    int64  \n",
            " 8   Date          188 non-null    object \n",
            " 9   GuestStars    29 non-null     object \n",
            " 10  Director      188 non-null    object \n",
            " 11  Writers       188 non-null    object \n",
            "dtypes: float64(2), int64(4), object(6)\n",
            "memory usage: 17.8+ KB\n"
          ]
        }
      ],
      "execution_count": 5,
      "metadata": {
        "collapsed": true,
        "jupyter": {
          "source_hidden": false,
          "outputs_hidden": false
        },
        "nteract": {
          "transient": {
            "deleting": false
          }
        },
        "execution": {
          "iopub.status.busy": "2020-12-28T14:36:23.890Z",
          "iopub.execute_input": "2020-12-28T14:36:23.901Z",
          "iopub.status.idle": "2020-12-28T14:36:23.919Z",
          "shell.execute_reply": "2020-12-28T14:36:23.513Z"
        }
      }
    },
    {
      "cell_type": "markdown",
      "source": [
        "## JSON data and Redis\n",
        "If the dataframe is small, you can convert it to a json file to add to Redis"
      ],
      "metadata": {
        "nteract": {
          "transient": {
            "deleting": false
          }
        }
      }
    },
    {
      "cell_type": "code",
      "source": [
        "r = redis.Redis(host='localhost', port=6379, db=0, decode_responses=True)\n",
        "data = {'Product': ['Desktop Computer','Tablet','iPhone','Laptop'],\n",
        "        'Price': [700,250,800,1200]\n",
        "        }\n",
        "\n",
        "df3 = pd.DataFrame(data, columns= ['Product', 'Price'])\n",
        "df3"
      ],
      "outputs": [
        {
          "output_type": "execute_result",
          "execution_count": 6,
          "data": {
            "text/plain": "            Product  Price\n0  Desktop Computer    700\n1            Tablet    250\n2            iPhone    800\n3            Laptop   1200",
            "text/html": "<div>\n<style scoped>\n    .dataframe tbody tr th:only-of-type {\n        vertical-align: middle;\n    }\n\n    .dataframe tbody tr th {\n        vertical-align: top;\n    }\n\n    .dataframe thead th {\n        text-align: right;\n    }\n</style>\n<table border=\"1\" class=\"dataframe\">\n  <thead>\n    <tr style=\"text-align: right;\">\n      <th></th>\n      <th>Product</th>\n      <th>Price</th>\n    </tr>\n  </thead>\n  <tbody>\n    <tr>\n      <th>0</th>\n      <td>Desktop Computer</td>\n      <td>700</td>\n    </tr>\n    <tr>\n      <th>1</th>\n      <td>Tablet</td>\n      <td>250</td>\n    </tr>\n    <tr>\n      <th>2</th>\n      <td>iPhone</td>\n      <td>800</td>\n    </tr>\n    <tr>\n      <th>3</th>\n      <td>Laptop</td>\n      <td>1200</td>\n    </tr>\n  </tbody>\n</table>\n</div>"
          },
          "metadata": {}
        }
      ],
      "execution_count": 6,
      "metadata": {
        "collapsed": true,
        "jupyter": {
          "source_hidden": false,
          "outputs_hidden": false
        },
        "nteract": {
          "transient": {
            "deleting": false
          }
        },
        "execution": {
          "iopub.status.busy": "2020-12-28T14:36:23.933Z",
          "iopub.execute_input": "2020-12-28T14:36:23.941Z",
          "iopub.status.idle": "2020-12-28T14:36:23.967Z",
          "shell.execute_reply": "2020-12-28T14:36:23.523Z"
        }
      }
    },
    {
      "cell_type": "code",
      "source": [
        "import json\n",
        "result = df3.to_json(orient=\"index\")\n",
        "parsed = json.loads(result)"
      ],
      "outputs": [],
      "execution_count": 7,
      "metadata": {
        "collapsed": true,
        "jupyter": {
          "source_hidden": false,
          "outputs_hidden": false
        },
        "nteract": {
          "transient": {
            "deleting": false
          }
        },
        "execution": {
          "iopub.status.busy": "2020-12-28T14:36:23.983Z",
          "iopub.execute_input": "2020-12-28T14:36:23.993Z",
          "iopub.status.idle": "2020-12-28T14:36:24.003Z",
          "shell.execute_reply": "2020-12-28T14:36:23.538Z"
        }
      }
    },
    {
      "cell_type": "code",
      "source": [
        "r.set(\"df3\",json.dumps(parsed))"
      ],
      "outputs": [
        {
          "output_type": "execute_result",
          "execution_count": 8,
          "data": {
            "text/plain": "True"
          },
          "metadata": {}
        }
      ],
      "execution_count": 8,
      "metadata": {
        "collapsed": true,
        "jupyter": {
          "source_hidden": false,
          "outputs_hidden": false
        },
        "nteract": {
          "transient": {
            "deleting": false
          }
        },
        "execution": {
          "iopub.status.busy": "2020-12-28T14:36:24.017Z",
          "iopub.execute_input": "2020-12-28T14:36:24.026Z",
          "iopub.status.idle": "2020-12-28T14:36:24.042Z",
          "shell.execute_reply": "2020-12-28T14:36:23.550Z"
        }
      }
    },
    {
      "cell_type": "code",
      "source": [
        "df4 = r.get(\"df3\")\n",
        "df4"
      ],
      "outputs": [
        {
          "output_type": "execute_result",
          "execution_count": 9,
          "data": {
            "text/plain": "'{\"0\": {\"Product\": \"Desktop Computer\", \"Price\": 700}, \"1\": {\"Product\": \"Tablet\", \"Price\": 250}, \"2\": {\"Product\": \"iPhone\", \"Price\": 800}, \"3\": {\"Product\": \"Laptop\", \"Price\": 1200}}'"
          },
          "metadata": {}
        }
      ],
      "execution_count": 9,
      "metadata": {
        "collapsed": true,
        "jupyter": {
          "source_hidden": false,
          "outputs_hidden": false
        },
        "nteract": {
          "transient": {
            "deleting": false
          }
        },
        "execution": {
          "iopub.status.busy": "2020-12-28T14:36:24.056Z",
          "iopub.execute_input": "2020-12-28T14:36:24.068Z",
          "iopub.status.idle": "2020-12-28T14:36:24.084Z",
          "shell.execute_reply": "2020-12-28T14:36:23.559Z"
        }
      }
    },
    {
      "cell_type": "code",
      "source": [
        "df4 = pd.read_json(df4, orient='index')"
      ],
      "outputs": [],
      "execution_count": 10,
      "metadata": {
        "collapsed": true,
        "jupyter": {
          "source_hidden": false,
          "outputs_hidden": false
        },
        "nteract": {
          "transient": {
            "deleting": false
          }
        },
        "execution": {
          "iopub.status.busy": "2020-12-28T14:36:24.099Z",
          "iopub.execute_input": "2020-12-28T14:36:24.109Z",
          "iopub.status.idle": "2020-12-28T14:36:24.118Z",
          "shell.execute_reply": "2020-12-28T14:36:23.567Z"
        }
      }
    },
    {
      "cell_type": "code",
      "source": [
        "df4"
      ],
      "outputs": [
        {
          "output_type": "execute_result",
          "execution_count": 11,
          "data": {
            "text/plain": "            Product  Price\n0  Desktop Computer    700\n1            Tablet    250\n2            iPhone    800\n3            Laptop   1200",
            "text/html": "<div>\n<style scoped>\n    .dataframe tbody tr th:only-of-type {\n        vertical-align: middle;\n    }\n\n    .dataframe tbody tr th {\n        vertical-align: top;\n    }\n\n    .dataframe thead th {\n        text-align: right;\n    }\n</style>\n<table border=\"1\" class=\"dataframe\">\n  <thead>\n    <tr style=\"text-align: right;\">\n      <th></th>\n      <th>Product</th>\n      <th>Price</th>\n    </tr>\n  </thead>\n  <tbody>\n    <tr>\n      <th>0</th>\n      <td>Desktop Computer</td>\n      <td>700</td>\n    </tr>\n    <tr>\n      <th>1</th>\n      <td>Tablet</td>\n      <td>250</td>\n    </tr>\n    <tr>\n      <th>2</th>\n      <td>iPhone</td>\n      <td>800</td>\n    </tr>\n    <tr>\n      <th>3</th>\n      <td>Laptop</td>\n      <td>1200</td>\n    </tr>\n  </tbody>\n</table>\n</div>"
          },
          "metadata": {}
        }
      ],
      "execution_count": 11,
      "metadata": {
        "collapsed": true,
        "jupyter": {
          "source_hidden": false,
          "outputs_hidden": false
        },
        "nteract": {
          "transient": {
            "deleting": false
          }
        },
        "execution": {
          "iopub.status.busy": "2020-12-28T14:36:24.133Z",
          "iopub.execute_input": "2020-12-28T14:36:24.142Z",
          "iopub.status.idle": "2020-12-28T14:36:24.157Z",
          "shell.execute_reply": "2020-12-28T14:36:23.577Z"
        }
      }
    },
    {
      "cell_type": "markdown",
      "source": [
        "## Dictionaries into Redis\n",
        "\n",
        "You can also transform your dataframe into a dictionary and save it to redis as key/value pairs"
      ],
      "metadata": {
        "nteract": {
          "transient": {
            "deleting": false
          }
        }
      }
    },
    {
      "cell_type": "code",
      "source": [
        "data2 = {'Menu': ['Burger','MacNCheese', 'Salad','Lamb Chops','Quesadilla'],\n",
        "        'Price': [10,12,9,13,8]\n",
        "        }\n",
        "\n",
        "df5 = pd.DataFrame(data2, columns= ['Menu', 'Price'])\n",
        "df5"
      ],
      "outputs": [
        {
          "output_type": "execute_result",
          "execution_count": 12,
          "data": {
            "text/plain": "         Menu  Price\n0      Burger     10\n1  MacNCheese     12\n2       Salad      9\n3  Lamb Chops     13\n4  Quesadilla      8",
            "text/html": "<div>\n<style scoped>\n    .dataframe tbody tr th:only-of-type {\n        vertical-align: middle;\n    }\n\n    .dataframe tbody tr th {\n        vertical-align: top;\n    }\n\n    .dataframe thead th {\n        text-align: right;\n    }\n</style>\n<table border=\"1\" class=\"dataframe\">\n  <thead>\n    <tr style=\"text-align: right;\">\n      <th></th>\n      <th>Menu</th>\n      <th>Price</th>\n    </tr>\n  </thead>\n  <tbody>\n    <tr>\n      <th>0</th>\n      <td>Burger</td>\n      <td>10</td>\n    </tr>\n    <tr>\n      <th>1</th>\n      <td>MacNCheese</td>\n      <td>12</td>\n    </tr>\n    <tr>\n      <th>2</th>\n      <td>Salad</td>\n      <td>9</td>\n    </tr>\n    <tr>\n      <th>3</th>\n      <td>Lamb Chops</td>\n      <td>13</td>\n    </tr>\n    <tr>\n      <th>4</th>\n      <td>Quesadilla</td>\n      <td>8</td>\n    </tr>\n  </tbody>\n</table>\n</div>"
          },
          "metadata": {}
        }
      ],
      "execution_count": 12,
      "metadata": {
        "collapsed": true,
        "jupyter": {
          "source_hidden": false,
          "outputs_hidden": false
        },
        "nteract": {
          "transient": {
            "deleting": false
          }
        },
        "execution": {
          "iopub.status.busy": "2020-12-28T14:36:24.173Z",
          "iopub.execute_input": "2020-12-28T14:36:24.181Z",
          "iopub.status.idle": "2020-12-28T14:36:24.197Z",
          "shell.execute_reply": "2020-12-28T14:36:23.587Z"
        }
      }
    },
    {
      "cell_type": "code",
      "source": [
        "df5=df5.to_dict()\n"
      ],
      "outputs": [],
      "execution_count": 13,
      "metadata": {
        "collapsed": true,
        "jupyter": {
          "source_hidden": false,
          "outputs_hidden": false
        },
        "nteract": {
          "transient": {
            "deleting": false
          }
        },
        "execution": {
          "iopub.status.busy": "2020-12-28T14:36:24.212Z",
          "iopub.execute_input": "2020-12-28T14:36:24.221Z",
          "iopub.status.idle": "2020-12-28T14:36:24.231Z",
          "shell.execute_reply": "2020-12-28T14:36:23.597Z"
        }
      }
    },
    {
      "cell_type": "code",
      "source": [
        "r.set(str(df5.keys()),str(df5.values()))\n"
      ],
      "outputs": [
        {
          "output_type": "execute_result",
          "execution_count": 14,
          "data": {
            "text/plain": "True"
          },
          "metadata": {}
        }
      ],
      "execution_count": 14,
      "metadata": {
        "collapsed": true,
        "jupyter": {
          "source_hidden": false,
          "outputs_hidden": false
        },
        "nteract": {
          "transient": {
            "deleting": false
          }
        },
        "execution": {
          "iopub.status.busy": "2020-12-28T14:36:24.245Z",
          "iopub.execute_input": "2020-12-28T14:36:24.260Z",
          "iopub.status.idle": "2020-12-28T14:36:24.285Z",
          "shell.execute_reply": "2020-12-28T14:36:23.609Z"
        }
      }
    },
    {
      "cell_type": "code",
      "source": [
        "df6 = r.get(str(df5.keys()))\n",
        "df6"
      ],
      "outputs": [
        {
          "output_type": "execute_result",
          "execution_count": 24,
          "data": {
            "text/plain": "\"dict_values([{0: 'Burger', 1: 'MacNCheese', 2: 'Salad', 3: 'Lamb Chops', 4: 'Quesadilla'}, {0: 10, 1: 12, 2: 9, 3: 13, 4: 8}])\""
          },
          "metadata": {}
        }
      ],
      "execution_count": 24,
      "metadata": {
        "collapsed": true,
        "jupyter": {
          "source_hidden": false,
          "outputs_hidden": false
        },
        "nteract": {
          "transient": {
            "deleting": false
          }
        },
        "execution": {
          "iopub.status.busy": "2020-12-28T14:47:35.172Z",
          "iopub.execute_input": "2020-12-28T14:47:35.194Z",
          "iopub.status.idle": "2020-12-28T14:47:35.228Z",
          "shell.execute_reply": "2020-12-28T14:47:35.254Z"
        }
      }
    },
    {
      "cell_type": "code",
      "source": [
        "df6\n",
        "df6 = df6[11::]\n",
        "\n",
        "res = eval(df6)\n",
        "df6"
      ],
      "outputs": [
        {
          "output_type": "execute_result",
          "execution_count": 23,
          "data": {
            "text/plain": "\"([{0: 'Burger', 1: 'MacNCheese', 2: 'Salad', 3: 'Lamb Chops', 4: 'Quesadilla'}, {0: 10, 1: 12, 2: 9, 3: 13, 4: 8}])\""
          },
          "metadata": {}
        }
      ],
      "execution_count": 23,
      "metadata": {
        "collapsed": true,
        "jupyter": {
          "source_hidden": false,
          "outputs_hidden": false
        },
        "nteract": {
          "transient": {
            "deleting": false
          }
        },
        "execution": {
          "iopub.status.busy": "2020-12-28T14:38:49.293Z",
          "iopub.execute_input": "2020-12-28T14:38:49.301Z",
          "iopub.status.idle": "2020-12-28T14:38:49.327Z",
          "shell.execute_reply": "2020-12-28T14:38:49.335Z"
        }
      }
    },
    {
      "cell_type": "code",
      "source": [
        "res\n",
        "df6 = pd.DataFrame(res)"
      ],
      "outputs": [],
      "execution_count": 17,
      "metadata": {
        "collapsed": true,
        "jupyter": {
          "source_hidden": false,
          "outputs_hidden": false
        },
        "nteract": {
          "transient": {
            "deleting": false
          }
        },
        "execution": {
          "iopub.status.busy": "2020-12-28T14:36:24.387Z",
          "iopub.execute_input": "2020-12-28T14:36:24.401Z",
          "iopub.status.idle": "2020-12-28T14:36:24.416Z",
          "shell.execute_reply": "2020-12-28T14:36:23.646Z"
        }
      }
    },
    {
      "cell_type": "code",
      "source": [
        "df6 = df6.transpose()\n",
        "df6 = df6.rename( columns={0:\"Menu\",1:\"Price\"})"
      ],
      "outputs": [],
      "execution_count": 18,
      "metadata": {
        "collapsed": true,
        "jupyter": {
          "source_hidden": false,
          "outputs_hidden": false
        },
        "nteract": {
          "transient": {
            "deleting": false
          }
        },
        "execution": {
          "iopub.status.busy": "2020-12-28T14:36:24.434Z",
          "iopub.execute_input": "2020-12-28T14:36:24.442Z",
          "iopub.status.idle": "2020-12-28T14:36:24.453Z",
          "shell.execute_reply": "2020-12-28T14:36:23.656Z"
        }
      }
    },
    {
      "cell_type": "code",
      "source": [
        "df6"
      ],
      "outputs": [
        {
          "output_type": "execute_result",
          "execution_count": 19,
          "data": {
            "text/plain": "         Menu Price\n0      Burger    10\n1  MacNCheese    12\n2       Salad     9\n3  Lamb Chops    13\n4  Quesadilla     8",
            "text/html": "<div>\n<style scoped>\n    .dataframe tbody tr th:only-of-type {\n        vertical-align: middle;\n    }\n\n    .dataframe tbody tr th {\n        vertical-align: top;\n    }\n\n    .dataframe thead th {\n        text-align: right;\n    }\n</style>\n<table border=\"1\" class=\"dataframe\">\n  <thead>\n    <tr style=\"text-align: right;\">\n      <th></th>\n      <th>Menu</th>\n      <th>Price</th>\n    </tr>\n  </thead>\n  <tbody>\n    <tr>\n      <th>0</th>\n      <td>Burger</td>\n      <td>10</td>\n    </tr>\n    <tr>\n      <th>1</th>\n      <td>MacNCheese</td>\n      <td>12</td>\n    </tr>\n    <tr>\n      <th>2</th>\n      <td>Salad</td>\n      <td>9</td>\n    </tr>\n    <tr>\n      <th>3</th>\n      <td>Lamb Chops</td>\n      <td>13</td>\n    </tr>\n    <tr>\n      <th>4</th>\n      <td>Quesadilla</td>\n      <td>8</td>\n    </tr>\n  </tbody>\n</table>\n</div>"
          },
          "metadata": {}
        }
      ],
      "execution_count": 19,
      "metadata": {
        "collapsed": true,
        "jupyter": {
          "source_hidden": false,
          "outputs_hidden": false
        },
        "nteract": {
          "transient": {
            "deleting": false
          }
        },
        "execution": {
          "iopub.status.busy": "2020-12-28T14:36:24.468Z",
          "iopub.execute_input": "2020-12-28T14:36:24.480Z",
          "iopub.status.idle": "2020-12-28T14:36:24.503Z",
          "shell.execute_reply": "2020-12-28T14:36:23.669Z"
        }
      }
    },
    {
      "cell_type": "code",
      "source": [],
      "outputs": [],
      "execution_count": null,
      "metadata": {
        "collapsed": true,
        "jupyter": {
          "source_hidden": false,
          "outputs_hidden": false
        },
        "nteract": {
          "transient": {
            "deleting": false
          }
        }
      }
    }
  ],
  "metadata": {
    "kernel_info": {
      "name": "python3"
    },
    "language_info": {
      "name": "python",
      "version": "3.8.3",
      "mimetype": "text/x-python",
      "codemirror_mode": {
        "name": "ipython",
        "version": 3
      },
      "pygments_lexer": "ipython3",
      "nbconvert_exporter": "python",
      "file_extension": ".py"
    },
    "kernelspec": {
      "argv": [
        "/Users/deana/opt/anaconda3/bin/python3",
        "-m",
        "ipykernel_launcher",
        "-f",
        "{connection_file}"
      ],
      "display_name": "Python 3",
      "language": "python",
      "name": "python3"
    },
    "nteract": {
      "version": "0.27.0"
    }
  },
  "nbformat": 4,
  "nbformat_minor": 0
}