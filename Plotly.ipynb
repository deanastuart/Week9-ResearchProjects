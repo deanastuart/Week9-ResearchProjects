{
  "cells": [
    {
      "cell_type": "markdown",
      "source": [
        "## Data Visualizaiton with Plotly\n",
        "This notebook is using a data set of The Office Episodes to explore data visualization with Plotly"
      ],
      "metadata": {
        "nteract": {
          "transient": {
            "deleting": false
          }
        }
      }
    },
    {
      "cell_type": "code",
      "source": [
        "import pandas as pd\n",
        "import plotly as pt"
      ],
      "outputs": [],
      "execution_count": 1,
      "metadata": {
        "collapsed": true,
        "jupyter": {
          "source_hidden": false,
          "outputs_hidden": false
        },
        "nteract": {
          "transient": {
            "deleting": false
          }
        },
        "execution": {
          "iopub.status.busy": "2020-12-27T18:00:24.174Z",
          "iopub.execute_input": "2020-12-27T18:00:24.183Z",
          "shell.execute_reply": "2020-12-27T18:00:25.313Z",
          "iopub.status.idle": "2020-12-27T18:00:25.054Z"
        }
      }
    },
    {
      "cell_type": "code",
      "source": [
        "df = pd.read_csv(\"the_office_series.csv\")"
      ],
      "outputs": [],
      "execution_count": 2,
      "metadata": {
        "collapsed": true,
        "jupyter": {
          "source_hidden": false,
          "outputs_hidden": false
        },
        "nteract": {
          "transient": {
            "deleting": false
          }
        },
        "execution": {
          "iopub.status.busy": "2020-12-27T18:00:25.067Z",
          "iopub.execute_input": "2020-12-27T18:00:25.075Z",
          "iopub.status.idle": "2020-12-27T18:00:25.090Z",
          "shell.execute_reply": "2020-12-27T18:00:25.321Z"
        }
      }
    },
    {
      "cell_type": "code",
      "source": [
        "df.shape"
      ],
      "outputs": [
        {
          "output_type": "execute_result",
          "execution_count": 29,
          "data": {
            "text/plain": "(188, 12)"
          },
          "metadata": {}
        }
      ],
      "execution_count": 29,
      "metadata": {
        "collapsed": true,
        "jupyter": {
          "source_hidden": false,
          "outputs_hidden": false
        },
        "nteract": {
          "transient": {
            "deleting": false
          }
        },
        "execution": {
          "iopub.status.busy": "2020-12-28T16:55:03.221Z",
          "iopub.execute_input": "2020-12-28T16:55:03.238Z",
          "iopub.status.idle": "2020-12-28T16:55:03.278Z",
          "shell.execute_reply": "2020-12-28T16:55:03.300Z"
        }
      }
    },
    {
      "cell_type": "code",
      "source": [
        "df.head(3)"
      ],
      "outputs": [
        {
          "output_type": "execute_result",
          "execution_count": 4,
          "data": {
            "text/plain": "   Unnamed: 0  Season   EpisodeTitle  \\\n0           0       1          Pilot   \n1           1       1  Diversity Day   \n2           2       1    Health Care   \n\n                                               About  Ratings  Votes  \\\n0  The premiere episode introduces the boss and s...      7.5   4936   \n1  Michael's off color remark puts a sensitivity ...      8.3   4801   \n2  Michael leaves Dwight in charge of picking the...      7.8   4024   \n\n   Viewership  Duration            Date GuestStars         Director  \\\n0        11.2        23   24 March 2005        NaN       Ken Kwapis   \n1         6.0        23   29 March 2005        NaN       Ken Kwapis   \n2         5.8        22    5 April 2005        NaN  Ken Whittingham   \n\n                                            Writers  \n0  Ricky Gervais |Stephen Merchant and Greg Daniels  \n1                                       B. J. Novak  \n2                                  Paul Lieberstein  ",
            "text/html": "<div>\n<style scoped>\n    .dataframe tbody tr th:only-of-type {\n        vertical-align: middle;\n    }\n\n    .dataframe tbody tr th {\n        vertical-align: top;\n    }\n\n    .dataframe thead th {\n        text-align: right;\n    }\n</style>\n<table border=\"1\" class=\"dataframe\">\n  <thead>\n    <tr style=\"text-align: right;\">\n      <th></th>\n      <th>Unnamed: 0</th>\n      <th>Season</th>\n      <th>EpisodeTitle</th>\n      <th>About</th>\n      <th>Ratings</th>\n      <th>Votes</th>\n      <th>Viewership</th>\n      <th>Duration</th>\n      <th>Date</th>\n      <th>GuestStars</th>\n      <th>Director</th>\n      <th>Writers</th>\n    </tr>\n  </thead>\n  <tbody>\n    <tr>\n      <th>0</th>\n      <td>0</td>\n      <td>1</td>\n      <td>Pilot</td>\n      <td>The premiere episode introduces the boss and s...</td>\n      <td>7.5</td>\n      <td>4936</td>\n      <td>11.2</td>\n      <td>23</td>\n      <td>24 March 2005</td>\n      <td>NaN</td>\n      <td>Ken Kwapis</td>\n      <td>Ricky Gervais |Stephen Merchant and Greg Daniels</td>\n    </tr>\n    <tr>\n      <th>1</th>\n      <td>1</td>\n      <td>1</td>\n      <td>Diversity Day</td>\n      <td>Michael's off color remark puts a sensitivity ...</td>\n      <td>8.3</td>\n      <td>4801</td>\n      <td>6.0</td>\n      <td>23</td>\n      <td>29 March 2005</td>\n      <td>NaN</td>\n      <td>Ken Kwapis</td>\n      <td>B. J. Novak</td>\n    </tr>\n    <tr>\n      <th>2</th>\n      <td>2</td>\n      <td>1</td>\n      <td>Health Care</td>\n      <td>Michael leaves Dwight in charge of picking the...</td>\n      <td>7.8</td>\n      <td>4024</td>\n      <td>5.8</td>\n      <td>22</td>\n      <td>5 April 2005</td>\n      <td>NaN</td>\n      <td>Ken Whittingham</td>\n      <td>Paul Lieberstein</td>\n    </tr>\n  </tbody>\n</table>\n</div>"
          },
          "metadata": {}
        }
      ],
      "execution_count": 4,
      "metadata": {
        "collapsed": true,
        "jupyter": {
          "source_hidden": false,
          "outputs_hidden": false
        },
        "nteract": {
          "transient": {
            "deleting": false
          }
        },
        "execution": {
          "iopub.status.busy": "2020-12-27T18:00:25.151Z",
          "iopub.execute_input": "2020-12-27T18:00:25.165Z",
          "iopub.status.idle": "2020-12-27T18:00:25.185Z",
          "shell.execute_reply": "2020-12-27T18:00:25.334Z"
        }
      }
    },
    {
      "cell_type": "code",
      "source": [
        "df.info()"
      ],
      "outputs": [
        {
          "output_type": "stream",
          "name": "stdout",
          "text": [
            "<class 'pandas.core.frame.DataFrame'>\n",
            "RangeIndex: 188 entries, 0 to 187\n",
            "Data columns (total 12 columns):\n",
            " #   Column        Non-Null Count  Dtype  \n",
            "---  ------        --------------  -----  \n",
            " 0   Unnamed: 0    188 non-null    int64  \n",
            " 1   Season        188 non-null    int64  \n",
            " 2   EpisodeTitle  188 non-null    object \n",
            " 3   About         188 non-null    object \n",
            " 4   Ratings       188 non-null    float64\n",
            " 5   Votes         188 non-null    int64  \n",
            " 6   Viewership    188 non-null    float64\n",
            " 7   Duration      188 non-null    int64  \n",
            " 8   Date          188 non-null    object \n",
            " 9   GuestStars    29 non-null     object \n",
            " 10  Director      188 non-null    object \n",
            " 11  Writers       188 non-null    object \n",
            "dtypes: float64(2), int64(4), object(6)\n",
            "memory usage: 17.8+ KB\n"
          ]
        }
      ],
      "execution_count": 5,
      "metadata": {
        "collapsed": true,
        "jupyter": {
          "source_hidden": false,
          "outputs_hidden": false
        },
        "nteract": {
          "transient": {
            "deleting": false
          }
        },
        "execution": {
          "iopub.status.busy": "2020-12-27T18:00:25.198Z",
          "iopub.execute_input": "2020-12-27T18:00:25.204Z",
          "shell.execute_reply": "2020-12-27T18:00:25.340Z",
          "iopub.status.idle": "2020-12-27T18:00:25.219Z"
        }
      }
    },
    {
      "cell_type": "code",
      "source": [
        "df = df.rename(columns={\"Unnamed: 0\":\"Episode_Number\"})"
      ],
      "outputs": [],
      "execution_count": 6,
      "metadata": {
        "collapsed": true,
        "jupyter": {
          "source_hidden": false,
          "outputs_hidden": false
        },
        "nteract": {
          "transient": {
            "deleting": false
          }
        },
        "execution": {
          "iopub.status.busy": "2020-12-27T18:00:25.230Z",
          "iopub.execute_input": "2020-12-27T18:00:25.235Z",
          "iopub.status.idle": "2020-12-27T18:00:25.244Z",
          "shell.execute_reply": "2020-12-27T18:00:25.348Z"
        }
      }
    },
    {
      "cell_type": "code",
      "source": [
        "df.head(1)"
      ],
      "outputs": [
        {
          "output_type": "execute_result",
          "execution_count": 7,
          "data": {
            "text/plain": "   Episode_Number  Season EpisodeTitle  \\\n0               0       1        Pilot   \n\n                                               About  Ratings  Votes  \\\n0  The premiere episode introduces the boss and s...      7.5   4936   \n\n   Viewership  Duration            Date GuestStars    Director  \\\n0        11.2        23   24 March 2005        NaN  Ken Kwapis   \n\n                                            Writers  \n0  Ricky Gervais |Stephen Merchant and Greg Daniels  ",
            "text/html": "<div>\n<style scoped>\n    .dataframe tbody tr th:only-of-type {\n        vertical-align: middle;\n    }\n\n    .dataframe tbody tr th {\n        vertical-align: top;\n    }\n\n    .dataframe thead th {\n        text-align: right;\n    }\n</style>\n<table border=\"1\" class=\"dataframe\">\n  <thead>\n    <tr style=\"text-align: right;\">\n      <th></th>\n      <th>Episode_Number</th>\n      <th>Season</th>\n      <th>EpisodeTitle</th>\n      <th>About</th>\n      <th>Ratings</th>\n      <th>Votes</th>\n      <th>Viewership</th>\n      <th>Duration</th>\n      <th>Date</th>\n      <th>GuestStars</th>\n      <th>Director</th>\n      <th>Writers</th>\n    </tr>\n  </thead>\n  <tbody>\n    <tr>\n      <th>0</th>\n      <td>0</td>\n      <td>1</td>\n      <td>Pilot</td>\n      <td>The premiere episode introduces the boss and s...</td>\n      <td>7.5</td>\n      <td>4936</td>\n      <td>11.2</td>\n      <td>23</td>\n      <td>24 March 2005</td>\n      <td>NaN</td>\n      <td>Ken Kwapis</td>\n      <td>Ricky Gervais |Stephen Merchant and Greg Daniels</td>\n    </tr>\n  </tbody>\n</table>\n</div>"
          },
          "metadata": {}
        }
      ],
      "execution_count": 7,
      "metadata": {
        "collapsed": true,
        "jupyter": {
          "source_hidden": false,
          "outputs_hidden": false
        },
        "nteract": {
          "transient": {
            "deleting": false
          }
        },
        "execution": {
          "iopub.status.busy": "2020-12-27T18:00:25.252Z",
          "iopub.execute_input": "2020-12-27T18:00:25.258Z",
          "iopub.status.idle": "2020-12-27T18:00:25.272Z",
          "shell.execute_reply": "2020-12-27T18:00:25.352Z"
        }
      }
    },
    {
      "cell_type": "code",
      "source": [
        "import plotly.express as px\n",
        "df1 = px.data.gapminder()\n",
        "fig = px.line(df, x=\"Writers\", y=\"Ratings\", color=\"Season\",\n",
        "              line_group=\"Season\", hover_name=\"Writers\", title=\"The Office Ratings by Writer\" )\n",
        "fig.show()\n"
      ],
      "outputs": [
        {
          "output_type": "display_data",
          "data": {
            "application/vnd.plotly.v1+json": {
              "config": {
                "plotlyServerURL": "https://plot.ly"
              },
              "data": [
                {
                  "hovertemplate": "<b>%{hovertext}</b><br><br>Season=1<br>Writers=%{x}<br>Ratings=%{y}<extra></extra>",
                  "hovertext": [
                    "Ricky Gervais |Stephen Merchant and Greg Daniels",
                    "B. J. Novak",
                    "Paul Lieberstein",
                    "Michael Schur",
                    "Greg Daniels",
                    "Mindy Kaling"
                  ],
                  "legendgroup": "1",
                  "line": {
                    "color": "#636efa",
                    "dash": "solid"
                  },
                  "mode": "lines",
                  "name": "1",
                  "orientation": "v",
                  "showlegend": true,
                  "type": "scatter",
                  "x": [
                    "Ricky Gervais |Stephen Merchant and Greg Daniels",
                    "B. J. Novak",
                    "Paul Lieberstein",
                    "Michael Schur",
                    "Greg Daniels",
                    "Mindy Kaling"
                  ],
                  "xaxis": "x",
                  "y": [
                    7.5,
                    8.3,
                    7.8,
                    8.1,
                    8.4,
                    7.7
                  ],
                  "yaxis": "y"
                },
                {
                  "hovertemplate": "<b>%{hovertext}</b><br><br>Season=2<br>Writers=%{x}<br>Ratings=%{y}<extra></extra>",
                  "hovertext": [
                    "Mindy Kaling",
                    "B. J. Novak",
                    "Michael Schur",
                    "B. J. Novak",
                    "Greg Daniels",
                    "Gene Stupnitsky | Lee Eisenberg",
                    "Paul Lieberstein",
                    "Larry Wilmore",
                    "Jennifer Celotta",
                    "Michael Schur",
                    "Greg Daniels",
                    "Mindy Kaling",
                    "Lee Eisenberg | Gene Stupnitsky",
                    "Paul Lieberstein",
                    "B. J. Novak",
                    "Michael Schur",
                    "Paul Lieberstein",
                    "Mindy Kaling",
                    "Gene Stupnitsky | Lee Eisenberg",
                    "Jennifer Celotta",
                    "Greg Daniels",
                    "Steve Carell"
                  ],
                  "legendgroup": "2",
                  "line": {
                    "color": "#EF553B",
                    "dash": "solid"
                  },
                  "mode": "lines",
                  "name": "2",
                  "orientation": "v",
                  "showlegend": true,
                  "type": "scatter",
                  "x": [
                    "Mindy Kaling",
                    "B. J. Novak",
                    "Michael Schur",
                    "B. J. Novak",
                    "Greg Daniels",
                    "Gene Stupnitsky | Lee Eisenberg",
                    "Paul Lieberstein",
                    "Larry Wilmore",
                    "Jennifer Celotta",
                    "Michael Schur",
                    "Greg Daniels",
                    "Mindy Kaling",
                    "Lee Eisenberg | Gene Stupnitsky",
                    "Paul Lieberstein",
                    "B. J. Novak",
                    "Michael Schur",
                    "Paul Lieberstein",
                    "Mindy Kaling",
                    "Gene Stupnitsky | Lee Eisenberg",
                    "Jennifer Celotta",
                    "Greg Daniels",
                    "Steve Carell"
                  ],
                  "xaxis": "x",
                  "y": [
                    8.7,
                    8.2,
                    8.4,
                    8.4,
                    8.1,
                    8.1,
                    8.6,
                    8.2,
                    8.4,
                    8.9,
                    8.6,
                    9.1,
                    8.3,
                    7.8,
                    8.2,
                    8.3,
                    8.5,
                    8.3,
                    8.1,
                    8.4,
                    8.7,
                    9.4
                  ],
                  "yaxis": "y"
                },
                {
                  "hovertemplate": "<b>%{hovertext}</b><br><br>Season=3<br>Writers=%{x}<br>Ratings=%{y}<extra></extra>",
                  "hovertext": [
                    "Greg Daniels",
                    "Gene Stupnitsky | Lee Eisenberg",
                    "Paul Lieberstein",
                    "Jennifer Celotta",
                    "B. J. Novak",
                    "Mindy Kaling",
                    "Michael Schur",
                    "Brent Forrester",
                    "Ricky Gervais | Stephen Merchant",
                    "Jennifer Celotta",
                    "Justin Spitzer",
                    "Michael Schur | Lee Eisenberg | Gene Stupnitsky",
                    "Lee Eisenberg | Gene Stupnitsky | Michael Schur",
                    "Mindy Kaling",
                    "Caroline Williams",
                    "Brent Forrester",
                    "Paul Lieberstein",
                    "Michael Schur",
                    "B. J. Novak",
                    "Justin Spitzer | Brent Forrester",
                    "Gene Stupnitsky | Lee Eisenberg",
                    "Jennifer Celotta | Greg Daniels",
                    "Paul Lieberstein | Michael Schur"
                  ],
                  "legendgroup": "3",
                  "line": {
                    "color": "#00cc96",
                    "dash": "solid"
                  },
                  "mode": "lines",
                  "name": "3",
                  "orientation": "v",
                  "showlegend": true,
                  "type": "scatter",
                  "x": [
                    "Greg Daniels",
                    "Gene Stupnitsky | Lee Eisenberg",
                    "Paul Lieberstein",
                    "Jennifer Celotta",
                    "B. J. Novak",
                    "Mindy Kaling",
                    "Michael Schur",
                    "Brent Forrester",
                    "Ricky Gervais | Stephen Merchant",
                    "Jennifer Celotta",
                    "Justin Spitzer",
                    "Michael Schur | Lee Eisenberg | Gene Stupnitsky",
                    "Lee Eisenberg | Gene Stupnitsky | Michael Schur",
                    "Mindy Kaling",
                    "Caroline Williams",
                    "Brent Forrester",
                    "Paul Lieberstein",
                    "Michael Schur",
                    "B. J. Novak",
                    "Justin Spitzer | Brent Forrester",
                    "Gene Stupnitsky | Lee Eisenberg",
                    "Jennifer Celotta | Greg Daniels",
                    "Paul Lieberstein | Michael Schur"
                  ],
                  "xaxis": "x",
                  "y": [
                    9,
                    8.2,
                    8.5,
                    8,
                    8.1,
                    7.9,
                    8.6,
                    8.7,
                    8.3,
                    8.8,
                    8.5,
                    8.6,
                    8.8,
                    8.1,
                    8.2,
                    8.9,
                    8.5,
                    9,
                    8.8,
                    8.7,
                    8.8,
                    9.2,
                    9.3
                  ],
                  "yaxis": "y"
                },
                {
                  "hovertemplate": "<b>%{hovertext}</b><br><br>Season=4<br>Writers=%{x}<br>Ratings=%{y}<extra></extra>",
                  "hovertext": [
                    "Greg Daniels",
                    "Michael Schur",
                    "Jennifer Celotta",
                    "Paul Lieberstein",
                    "B. J. Novak",
                    "Mindy Kaling",
                    "Steve Carell",
                    "Lester Lewis",
                    "Gene Stupnitsky | Lee Eisenberg",
                    "B. J. Novak",
                    "Mindy Kaling",
                    "Brent Forrester | Justin Spitzer",
                    "Lee Eisenberg | Gene Stupnitsky",
                    "Jennifer Celotta | Paul Lieberstein"
                  ],
                  "legendgroup": "4",
                  "line": {
                    "color": "#ab63fa",
                    "dash": "solid"
                  },
                  "mode": "lines",
                  "name": "4",
                  "orientation": "v",
                  "showlegend": true,
                  "type": "scatter",
                  "x": [
                    "Greg Daniels",
                    "Michael Schur",
                    "Jennifer Celotta",
                    "Paul Lieberstein",
                    "B. J. Novak",
                    "Mindy Kaling",
                    "Steve Carell",
                    "Lester Lewis",
                    "Gene Stupnitsky | Lee Eisenberg",
                    "B. J. Novak",
                    "Mindy Kaling",
                    "Brent Forrester | Justin Spitzer",
                    "Lee Eisenberg | Gene Stupnitsky",
                    "Jennifer Celotta | Paul Lieberstein"
                  ],
                  "xaxis": "x",
                  "y": [
                    8.8,
                    8.3,
                    8.4,
                    8.7,
                    8.8,
                    8.5,
                    8.2,
                    8.7,
                    9.5,
                    8,
                    8.6,
                    8.3,
                    7.8,
                    9.3
                  ],
                  "yaxis": "y"
                },
                {
                  "hovertemplate": "<b>%{hovertext}</b><br><br>Season=5<br>Writers=%{x}<br>Ratings=%{y}<extra></extra>",
                  "hovertext": [
                    "Lee Eisenberg | Gene Stupnitsky",
                    "Ryan Koh",
                    "Aaron Shure",
                    "Charlie Grandy",
                    "Anthony Q. Farrell",
                    "Lester Lewis",
                    "Brent Forrester",
                    "Mindy Kaling",
                    "Gene Stupnitsky | Lee Eisenberg",
                    "Justin Spitzer",
                    "Jennifer Celotta",
                    "B. J. Novak",
                    "Paul Lieberstein",
                    "Mindy Kaling",
                    "Mindy Kaling",
                    "Brent Forrester",
                    "Mindy Kaling",
                    "Lee Eisenberg | Gene Stupnitsky",
                    "Aaron Shure",
                    "B. J. Novak",
                    "Justin Spitzer",
                    "Ryan Koh",
                    "Charlie Grandy",
                    "Anthony Q. Farrell",
                    "Warren Lieberstein | Halsted Sullivan",
                    "Jennifer Celotta | Paul Lieberstein"
                  ],
                  "legendgroup": "5",
                  "line": {
                    "color": "#FFA15A",
                    "dash": "solid"
                  },
                  "mode": "lines",
                  "name": "5",
                  "orientation": "v",
                  "showlegend": true,
                  "type": "scatter",
                  "x": [
                    "Lee Eisenberg | Gene Stupnitsky",
                    "Ryan Koh",
                    "Aaron Shure",
                    "Charlie Grandy",
                    "Anthony Q. Farrell",
                    "Lester Lewis",
                    "Brent Forrester",
                    "Mindy Kaling",
                    "Gene Stupnitsky | Lee Eisenberg",
                    "Justin Spitzer",
                    "Jennifer Celotta",
                    "B. J. Novak",
                    "Paul Lieberstein",
                    "Mindy Kaling",
                    "Mindy Kaling",
                    "Brent Forrester",
                    "Mindy Kaling",
                    "Lee Eisenberg | Gene Stupnitsky",
                    "Aaron Shure",
                    "B. J. Novak",
                    "Justin Spitzer",
                    "Ryan Koh",
                    "Charlie Grandy",
                    "Anthony Q. Farrell",
                    "Warren Lieberstein | Halsted Sullivan",
                    "Jennifer Celotta | Paul Lieberstein"
                  ],
                  "xaxis": "x",
                  "y": [
                    8.8,
                    8.3,
                    8,
                    8.1,
                    8,
                    8.5,
                    8.2,
                    8.6,
                    8.8,
                    8.4,
                    8.7,
                    8,
                    9.7,
                    8.2,
                    8.1,
                    8,
                    8.7,
                    8.3,
                    8.4,
                    8.3,
                    8.7,
                    8.7,
                    9.2,
                    8.3,
                    8.7,
                    9
                  ],
                  "yaxis": "y"
                },
                {
                  "hovertemplate": "<b>%{hovertext}</b><br><br>Season=6<br>Writers=%{x}<br>Ratings=%{y}<extra></extra>",
                  "hovertext": [
                    "Paul Lieberstein",
                    "Aaron Shure",
                    "Jennifer Celotta",
                    "Greg Daniels | Mindy Kaling",
                    "Greg Daniels | Mindy Kaling",
                    "Brent Forrester",
                    "Lee Eisenberg | Gene Stupnitsky",
                    "Warren Lieberstein | Halsted Sullivan",
                    "Charlie Grandy",
                    "Daniel Chun",
                    "Justin Spitzer",
                    "Gene Stupnitsky | Lee Eisenberg",
                    "Mindy Kaling",
                    "Jason Kessler",
                    "Jennifer Celotta",
                    "Mindy Kaling",
                    "Daniel Chun",
                    "Daniel Chun",
                    "Jonathan Hughes",
                    "Brent Forrester",
                    "B. J. Novak",
                    "Mindy Kaling",
                    "Justin Spitzer",
                    "Gene Stupnitsky | Lee Eisenberg",
                    "Aaron Shure",
                    "Warren Lieberstein | Halsted Sullivan"
                  ],
                  "legendgroup": "6",
                  "line": {
                    "color": "#19d3f3",
                    "dash": "solid"
                  },
                  "mode": "lines",
                  "name": "6",
                  "orientation": "v",
                  "showlegend": true,
                  "type": "scatter",
                  "x": [
                    "Paul Lieberstein",
                    "Aaron Shure",
                    "Jennifer Celotta",
                    "Greg Daniels | Mindy Kaling",
                    "Greg Daniels | Mindy Kaling",
                    "Brent Forrester",
                    "Lee Eisenberg | Gene Stupnitsky",
                    "Warren Lieberstein | Halsted Sullivan",
                    "Charlie Grandy",
                    "Daniel Chun",
                    "Justin Spitzer",
                    "Gene Stupnitsky | Lee Eisenberg",
                    "Mindy Kaling",
                    "Jason Kessler",
                    "Jennifer Celotta",
                    "Mindy Kaling",
                    "Daniel Chun",
                    "Daniel Chun",
                    "Jonathan Hughes",
                    "Brent Forrester",
                    "B. J. Novak",
                    "Mindy Kaling",
                    "Justin Spitzer",
                    "Gene Stupnitsky | Lee Eisenberg",
                    "Aaron Shure",
                    "Warren Lieberstein | Halsted Sullivan"
                  ],
                  "xaxis": "x",
                  "y": [
                    8.8,
                    8.1,
                    8,
                    9.4,
                    9.4,
                    7.6,
                    8.6,
                    8.2,
                    8.1,
                    8.7,
                    8.2,
                    8.3,
                    8.5,
                    6.8,
                    7.7,
                    8.1,
                    8.4,
                    8.5,
                    7.7,
                    7.7,
                    8.6,
                    7.8,
                    8,
                    8.1,
                    7.8,
                    8
                  ],
                  "yaxis": "y"
                },
                {
                  "hovertemplate": "<b>%{hovertext}</b><br><br>Season=7<br>Writers=%{x}<br>Ratings=%{y}<extra></extra>",
                  "hovertext": [
                    "Daniel Chun",
                    "B. J. Novak",
                    "Charlie Grandy",
                    "Paul Lieberstein",
                    "Mindy Kaling",
                    "Justin Spitzer",
                    "Peter Ocko",
                    "Jon Vitti",
                    "Aaron Shure",
                    "Halsted Sullivan | Warren Lieberstein",
                    "Mindy Kaling",
                    "Carrie Kemper",
                    "Steve Hely",
                    "Brent Forrester",
                    "Robert Padnick",
                    "B. J. Novak",
                    "Amelie Gillette",
                    "Jon Vitti",
                    "Daniel Chun",
                    "Mindy Kaling",
                    "Greg Daniels",
                    "Charlie Grandy",
                    "Justin Spitzer",
                    "Paul Lieberstein"
                  ],
                  "legendgroup": "7",
                  "line": {
                    "color": "#FF6692",
                    "dash": "solid"
                  },
                  "mode": "lines",
                  "name": "7",
                  "orientation": "v",
                  "showlegend": true,
                  "type": "scatter",
                  "x": [
                    "Daniel Chun",
                    "B. J. Novak",
                    "Charlie Grandy",
                    "Paul Lieberstein",
                    "Mindy Kaling",
                    "Justin Spitzer",
                    "Peter Ocko",
                    "Jon Vitti",
                    "Aaron Shure",
                    "Halsted Sullivan | Warren Lieberstein",
                    "Mindy Kaling",
                    "Carrie Kemper",
                    "Steve Hely",
                    "Brent Forrester",
                    "Robert Padnick",
                    "B. J. Novak",
                    "Amelie Gillette",
                    "Jon Vitti",
                    "Daniel Chun",
                    "Mindy Kaling",
                    "Greg Daniels",
                    "Charlie Grandy",
                    "Justin Spitzer",
                    "Paul Lieberstein"
                  ],
                  "xaxis": "x",
                  "y": [
                    8.4,
                    8.2,
                    8.2,
                    7.8,
                    7.8,
                    8.2,
                    7.4,
                    7.8,
                    7.7,
                    8.2,
                    9,
                    8.3,
                    7.6,
                    8.5,
                    8.4,
                    9.4,
                    7.5,
                    9.3,
                    7.8,
                    9,
                    9.8,
                    7.6,
                    8.7,
                    8.8
                  ],
                  "yaxis": "y"
                },
                {
                  "hovertemplate": "<b>%{hovertext}</b><br><br>Season=8<br>Writers=%{x}<br>Ratings=%{y}<extra></extra>",
                  "hovertext": [
                    "B. J. Novak",
                    "Paul Lieberstein",
                    "Charlie Grandy",
                    "Justin Spitzer",
                    "Carrie Kemper",
                    "Daniel Chun",
                    "Allison Silverman",
                    "Robert Padnick",
                    "Dan Greaney",
                    "Mindy Kaling",
                    "Steve Hely",
                    "Owen Ellickson",
                    "Aaron Shure",
                    "Amelie Gillette",
                    "Daniel Chun",
                    "Halsted Sullivan | Warren Lieberstein",
                    "Mindy Kaling",
                    "Robert Padnick",
                    "Charlie Grandy",
                    "Steve Hely",
                    "Justin Spitzer",
                    "Owen Ellickson",
                    "Warren Lieberstein | Halsted Sullivan",
                    "B. J. Novak"
                  ],
                  "legendgroup": "8",
                  "line": {
                    "color": "#B6E880",
                    "dash": "solid"
                  },
                  "mode": "lines",
                  "name": "8",
                  "orientation": "v",
                  "showlegend": true,
                  "type": "scatter",
                  "x": [
                    "B. J. Novak",
                    "Paul Lieberstein",
                    "Charlie Grandy",
                    "Justin Spitzer",
                    "Carrie Kemper",
                    "Daniel Chun",
                    "Allison Silverman",
                    "Robert Padnick",
                    "Dan Greaney",
                    "Mindy Kaling",
                    "Steve Hely",
                    "Owen Ellickson",
                    "Aaron Shure",
                    "Amelie Gillette",
                    "Daniel Chun",
                    "Halsted Sullivan | Warren Lieberstein",
                    "Mindy Kaling",
                    "Robert Padnick",
                    "Charlie Grandy",
                    "Steve Hely",
                    "Justin Spitzer",
                    "Owen Ellickson",
                    "Warren Lieberstein | Halsted Sullivan",
                    "B. J. Novak"
                  ],
                  "xaxis": "x",
                  "y": [
                    8.1,
                    8.1,
                    7.3,
                    8.1,
                    7.5,
                    7.7,
                    7.7,
                    6.9,
                    7.7,
                    7.9,
                    7.9,
                    8,
                    7.4,
                    7.7,
                    7.8,
                    8.1,
                    7.8,
                    7.8,
                    6.6,
                    7.1,
                    7,
                    7,
                    7.6,
                    7.7
                  ],
                  "yaxis": "y"
                },
                {
                  "hovertemplate": "<b>%{hovertext}</b><br><br>Season=9<br>Writers=%{x}<br>Ratings=%{y}<extra></extra>",
                  "hovertext": [
                    "Greg Daniels",
                    "Allison Silverman",
                    "Jonathan Green | Gabe Miller",
                    "Brent Forrester",
                    "Owen Ellickson",
                    "Dan Sterling",
                    "Carrie Kemper",
                    "Graham Wagner",
                    "Robert Padnick",
                    "Niki Schwartz-Wright",
                    "Dan Greaney",
                    "Jonathan Green | Gabe Miller",
                    "Carrie Kemper",
                    "Owen Ellickson",
                    "Allison Silverman",
                    "Graham Wagner",
                    "Paul Lieberstein",
                    "Tim McAuliffe",
                    "Dan Sterling",
                    "Halsted Sullivan | Warren Lieberstein",
                    "Niki Schwartz-Wright",
                    "Brent Forrester",
                    "Greg Daniels"
                  ],
                  "legendgroup": "9",
                  "line": {
                    "color": "#FF97FF",
                    "dash": "solid"
                  },
                  "mode": "lines",
                  "name": "9",
                  "orientation": "v",
                  "showlegend": true,
                  "type": "scatter",
                  "x": [
                    "Greg Daniels",
                    "Allison Silverman",
                    "Jonathan Green | Gabe Miller",
                    "Brent Forrester",
                    "Owen Ellickson",
                    "Dan Sterling",
                    "Carrie Kemper",
                    "Graham Wagner",
                    "Robert Padnick",
                    "Niki Schwartz-Wright",
                    "Dan Greaney",
                    "Jonathan Green | Gabe Miller",
                    "Carrie Kemper",
                    "Owen Ellickson",
                    "Allison Silverman",
                    "Graham Wagner",
                    "Paul Lieberstein",
                    "Tim McAuliffe",
                    "Dan Sterling",
                    "Halsted Sullivan | Warren Lieberstein",
                    "Niki Schwartz-Wright",
                    "Brent Forrester",
                    "Greg Daniels"
                  ],
                  "xaxis": "x",
                  "y": [
                    7.6,
                    7.1,
                    7.4,
                    7.8,
                    7,
                    7.7,
                    7.6,
                    7.8,
                    8.4,
                    7.6,
                    7.8,
                    7.9,
                    7.6,
                    7.5,
                    7.3,
                    8.1,
                    7.5,
                    8,
                    8,
                    8,
                    9,
                    9.5,
                    9.8
                  ],
                  "yaxis": "y"
                }
              ],
              "layout": {
                "legend": {
                  "title": {
                    "text": "Season"
                  },
                  "tracegroupgap": 0
                },
                "template": {
                  "data": {
                    "bar": [
                      {
                        "error_x": {
                          "color": "#2a3f5f"
                        },
                        "error_y": {
                          "color": "#2a3f5f"
                        },
                        "marker": {
                          "line": {
                            "color": "#E5ECF6",
                            "width": 0.5
                          }
                        },
                        "type": "bar"
                      }
                    ],
                    "barpolar": [
                      {
                        "marker": {
                          "line": {
                            "color": "#E5ECF6",
                            "width": 0.5
                          }
                        },
                        "type": "barpolar"
                      }
                    ],
                    "carpet": [
                      {
                        "aaxis": {
                          "endlinecolor": "#2a3f5f",
                          "gridcolor": "white",
                          "linecolor": "white",
                          "minorgridcolor": "white",
                          "startlinecolor": "#2a3f5f"
                        },
                        "baxis": {
                          "endlinecolor": "#2a3f5f",
                          "gridcolor": "white",
                          "linecolor": "white",
                          "minorgridcolor": "white",
                          "startlinecolor": "#2a3f5f"
                        },
                        "type": "carpet"
                      }
                    ],
                    "choropleth": [
                      {
                        "colorbar": {
                          "outlinewidth": 0,
                          "ticks": ""
                        },
                        "type": "choropleth"
                      }
                    ],
                    "contour": [
                      {
                        "colorbar": {
                          "outlinewidth": 0,
                          "ticks": ""
                        },
                        "colorscale": [
                          [
                            0,
                            "#0d0887"
                          ],
                          [
                            0.1111111111111111,
                            "#46039f"
                          ],
                          [
                            0.2222222222222222,
                            "#7201a8"
                          ],
                          [
                            0.3333333333333333,
                            "#9c179e"
                          ],
                          [
                            0.4444444444444444,
                            "#bd3786"
                          ],
                          [
                            0.5555555555555556,
                            "#d8576b"
                          ],
                          [
                            0.6666666666666666,
                            "#ed7953"
                          ],
                          [
                            0.7777777777777778,
                            "#fb9f3a"
                          ],
                          [
                            0.8888888888888888,
                            "#fdca26"
                          ],
                          [
                            1,
                            "#f0f921"
                          ]
                        ],
                        "type": "contour"
                      }
                    ],
                    "contourcarpet": [
                      {
                        "colorbar": {
                          "outlinewidth": 0,
                          "ticks": ""
                        },
                        "type": "contourcarpet"
                      }
                    ],
                    "heatmap": [
                      {
                        "colorbar": {
                          "outlinewidth": 0,
                          "ticks": ""
                        },
                        "colorscale": [
                          [
                            0,
                            "#0d0887"
                          ],
                          [
                            0.1111111111111111,
                            "#46039f"
                          ],
                          [
                            0.2222222222222222,
                            "#7201a8"
                          ],
                          [
                            0.3333333333333333,
                            "#9c179e"
                          ],
                          [
                            0.4444444444444444,
                            "#bd3786"
                          ],
                          [
                            0.5555555555555556,
                            "#d8576b"
                          ],
                          [
                            0.6666666666666666,
                            "#ed7953"
                          ],
                          [
                            0.7777777777777778,
                            "#fb9f3a"
                          ],
                          [
                            0.8888888888888888,
                            "#fdca26"
                          ],
                          [
                            1,
                            "#f0f921"
                          ]
                        ],
                        "type": "heatmap"
                      }
                    ],
                    "heatmapgl": [
                      {
                        "colorbar": {
                          "outlinewidth": 0,
                          "ticks": ""
                        },
                        "colorscale": [
                          [
                            0,
                            "#0d0887"
                          ],
                          [
                            0.1111111111111111,
                            "#46039f"
                          ],
                          [
                            0.2222222222222222,
                            "#7201a8"
                          ],
                          [
                            0.3333333333333333,
                            "#9c179e"
                          ],
                          [
                            0.4444444444444444,
                            "#bd3786"
                          ],
                          [
                            0.5555555555555556,
                            "#d8576b"
                          ],
                          [
                            0.6666666666666666,
                            "#ed7953"
                          ],
                          [
                            0.7777777777777778,
                            "#fb9f3a"
                          ],
                          [
                            0.8888888888888888,
                            "#fdca26"
                          ],
                          [
                            1,
                            "#f0f921"
                          ]
                        ],
                        "type": "heatmapgl"
                      }
                    ],
                    "histogram": [
                      {
                        "marker": {
                          "colorbar": {
                            "outlinewidth": 0,
                            "ticks": ""
                          }
                        },
                        "type": "histogram"
                      }
                    ],
                    "histogram2d": [
                      {
                        "colorbar": {
                          "outlinewidth": 0,
                          "ticks": ""
                        },
                        "colorscale": [
                          [
                            0,
                            "#0d0887"
                          ],
                          [
                            0.1111111111111111,
                            "#46039f"
                          ],
                          [
                            0.2222222222222222,
                            "#7201a8"
                          ],
                          [
                            0.3333333333333333,
                            "#9c179e"
                          ],
                          [
                            0.4444444444444444,
                            "#bd3786"
                          ],
                          [
                            0.5555555555555556,
                            "#d8576b"
                          ],
                          [
                            0.6666666666666666,
                            "#ed7953"
                          ],
                          [
                            0.7777777777777778,
                            "#fb9f3a"
                          ],
                          [
                            0.8888888888888888,
                            "#fdca26"
                          ],
                          [
                            1,
                            "#f0f921"
                          ]
                        ],
                        "type": "histogram2d"
                      }
                    ],
                    "histogram2dcontour": [
                      {
                        "colorbar": {
                          "outlinewidth": 0,
                          "ticks": ""
                        },
                        "colorscale": [
                          [
                            0,
                            "#0d0887"
                          ],
                          [
                            0.1111111111111111,
                            "#46039f"
                          ],
                          [
                            0.2222222222222222,
                            "#7201a8"
                          ],
                          [
                            0.3333333333333333,
                            "#9c179e"
                          ],
                          [
                            0.4444444444444444,
                            "#bd3786"
                          ],
                          [
                            0.5555555555555556,
                            "#d8576b"
                          ],
                          [
                            0.6666666666666666,
                            "#ed7953"
                          ],
                          [
                            0.7777777777777778,
                            "#fb9f3a"
                          ],
                          [
                            0.8888888888888888,
                            "#fdca26"
                          ],
                          [
                            1,
                            "#f0f921"
                          ]
                        ],
                        "type": "histogram2dcontour"
                      }
                    ],
                    "mesh3d": [
                      {
                        "colorbar": {
                          "outlinewidth": 0,
                          "ticks": ""
                        },
                        "type": "mesh3d"
                      }
                    ],
                    "parcoords": [
                      {
                        "line": {
                          "colorbar": {
                            "outlinewidth": 0,
                            "ticks": ""
                          }
                        },
                        "type": "parcoords"
                      }
                    ],
                    "pie": [
                      {
                        "automargin": true,
                        "type": "pie"
                      }
                    ],
                    "scatter": [
                      {
                        "marker": {
                          "colorbar": {
                            "outlinewidth": 0,
                            "ticks": ""
                          }
                        },
                        "type": "scatter"
                      }
                    ],
                    "scatter3d": [
                      {
                        "line": {
                          "colorbar": {
                            "outlinewidth": 0,
                            "ticks": ""
                          }
                        },
                        "marker": {
                          "colorbar": {
                            "outlinewidth": 0,
                            "ticks": ""
                          }
                        },
                        "type": "scatter3d"
                      }
                    ],
                    "scattercarpet": [
                      {
                        "marker": {
                          "colorbar": {
                            "outlinewidth": 0,
                            "ticks": ""
                          }
                        },
                        "type": "scattercarpet"
                      }
                    ],
                    "scattergeo": [
                      {
                        "marker": {
                          "colorbar": {
                            "outlinewidth": 0,
                            "ticks": ""
                          }
                        },
                        "type": "scattergeo"
                      }
                    ],
                    "scattergl": [
                      {
                        "marker": {
                          "colorbar": {
                            "outlinewidth": 0,
                            "ticks": ""
                          }
                        },
                        "type": "scattergl"
                      }
                    ],
                    "scattermapbox": [
                      {
                        "marker": {
                          "colorbar": {
                            "outlinewidth": 0,
                            "ticks": ""
                          }
                        },
                        "type": "scattermapbox"
                      }
                    ],
                    "scatterpolar": [
                      {
                        "marker": {
                          "colorbar": {
                            "outlinewidth": 0,
                            "ticks": ""
                          }
                        },
                        "type": "scatterpolar"
                      }
                    ],
                    "scatterpolargl": [
                      {
                        "marker": {
                          "colorbar": {
                            "outlinewidth": 0,
                            "ticks": ""
                          }
                        },
                        "type": "scatterpolargl"
                      }
                    ],
                    "scatterternary": [
                      {
                        "marker": {
                          "colorbar": {
                            "outlinewidth": 0,
                            "ticks": ""
                          }
                        },
                        "type": "scatterternary"
                      }
                    ],
                    "surface": [
                      {
                        "colorbar": {
                          "outlinewidth": 0,
                          "ticks": ""
                        },
                        "colorscale": [
                          [
                            0,
                            "#0d0887"
                          ],
                          [
                            0.1111111111111111,
                            "#46039f"
                          ],
                          [
                            0.2222222222222222,
                            "#7201a8"
                          ],
                          [
                            0.3333333333333333,
                            "#9c179e"
                          ],
                          [
                            0.4444444444444444,
                            "#bd3786"
                          ],
                          [
                            0.5555555555555556,
                            "#d8576b"
                          ],
                          [
                            0.6666666666666666,
                            "#ed7953"
                          ],
                          [
                            0.7777777777777778,
                            "#fb9f3a"
                          ],
                          [
                            0.8888888888888888,
                            "#fdca26"
                          ],
                          [
                            1,
                            "#f0f921"
                          ]
                        ],
                        "type": "surface"
                      }
                    ],
                    "table": [
                      {
                        "cells": {
                          "fill": {
                            "color": "#EBF0F8"
                          },
                          "line": {
                            "color": "white"
                          }
                        },
                        "header": {
                          "fill": {
                            "color": "#C8D4E3"
                          },
                          "line": {
                            "color": "white"
                          }
                        },
                        "type": "table"
                      }
                    ]
                  },
                  "layout": {
                    "annotationdefaults": {
                      "arrowcolor": "#2a3f5f",
                      "arrowhead": 0,
                      "arrowwidth": 1
                    },
                    "autotypenumbers": "strict",
                    "coloraxis": {
                      "colorbar": {
                        "outlinewidth": 0,
                        "ticks": ""
                      }
                    },
                    "colorscale": {
                      "diverging": [
                        [
                          0,
                          "#8e0152"
                        ],
                        [
                          0.1,
                          "#c51b7d"
                        ],
                        [
                          0.2,
                          "#de77ae"
                        ],
                        [
                          0.3,
                          "#f1b6da"
                        ],
                        [
                          0.4,
                          "#fde0ef"
                        ],
                        [
                          0.5,
                          "#f7f7f7"
                        ],
                        [
                          0.6,
                          "#e6f5d0"
                        ],
                        [
                          0.7,
                          "#b8e186"
                        ],
                        [
                          0.8,
                          "#7fbc41"
                        ],
                        [
                          0.9,
                          "#4d9221"
                        ],
                        [
                          1,
                          "#276419"
                        ]
                      ],
                      "sequential": [
                        [
                          0,
                          "#0d0887"
                        ],
                        [
                          0.1111111111111111,
                          "#46039f"
                        ],
                        [
                          0.2222222222222222,
                          "#7201a8"
                        ],
                        [
                          0.3333333333333333,
                          "#9c179e"
                        ],
                        [
                          0.4444444444444444,
                          "#bd3786"
                        ],
                        [
                          0.5555555555555556,
                          "#d8576b"
                        ],
                        [
                          0.6666666666666666,
                          "#ed7953"
                        ],
                        [
                          0.7777777777777778,
                          "#fb9f3a"
                        ],
                        [
                          0.8888888888888888,
                          "#fdca26"
                        ],
                        [
                          1,
                          "#f0f921"
                        ]
                      ],
                      "sequentialminus": [
                        [
                          0,
                          "#0d0887"
                        ],
                        [
                          0.1111111111111111,
                          "#46039f"
                        ],
                        [
                          0.2222222222222222,
                          "#7201a8"
                        ],
                        [
                          0.3333333333333333,
                          "#9c179e"
                        ],
                        [
                          0.4444444444444444,
                          "#bd3786"
                        ],
                        [
                          0.5555555555555556,
                          "#d8576b"
                        ],
                        [
                          0.6666666666666666,
                          "#ed7953"
                        ],
                        [
                          0.7777777777777778,
                          "#fb9f3a"
                        ],
                        [
                          0.8888888888888888,
                          "#fdca26"
                        ],
                        [
                          1,
                          "#f0f921"
                        ]
                      ]
                    },
                    "colorway": [
                      "#636efa",
                      "#EF553B",
                      "#00cc96",
                      "#ab63fa",
                      "#FFA15A",
                      "#19d3f3",
                      "#FF6692",
                      "#B6E880",
                      "#FF97FF",
                      "#FECB52"
                    ],
                    "font": {
                      "color": "#2a3f5f"
                    },
                    "geo": {
                      "bgcolor": "white",
                      "lakecolor": "white",
                      "landcolor": "#E5ECF6",
                      "showlakes": true,
                      "showland": true,
                      "subunitcolor": "white"
                    },
                    "hoverlabel": {
                      "align": "left"
                    },
                    "hovermode": "closest",
                    "mapbox": {
                      "style": "light"
                    },
                    "paper_bgcolor": "white",
                    "plot_bgcolor": "#E5ECF6",
                    "polar": {
                      "angularaxis": {
                        "gridcolor": "white",
                        "linecolor": "white",
                        "ticks": ""
                      },
                      "bgcolor": "#E5ECF6",
                      "radialaxis": {
                        "gridcolor": "white",
                        "linecolor": "white",
                        "ticks": ""
                      }
                    },
                    "scene": {
                      "xaxis": {
                        "backgroundcolor": "#E5ECF6",
                        "gridcolor": "white",
                        "gridwidth": 2,
                        "linecolor": "white",
                        "showbackground": true,
                        "ticks": "",
                        "zerolinecolor": "white"
                      },
                      "yaxis": {
                        "backgroundcolor": "#E5ECF6",
                        "gridcolor": "white",
                        "gridwidth": 2,
                        "linecolor": "white",
                        "showbackground": true,
                        "ticks": "",
                        "zerolinecolor": "white"
                      },
                      "zaxis": {
                        "backgroundcolor": "#E5ECF6",
                        "gridcolor": "white",
                        "gridwidth": 2,
                        "linecolor": "white",
                        "showbackground": true,
                        "ticks": "",
                        "zerolinecolor": "white"
                      }
                    },
                    "shapedefaults": {
                      "line": {
                        "color": "#2a3f5f"
                      }
                    },
                    "ternary": {
                      "aaxis": {
                        "gridcolor": "white",
                        "linecolor": "white",
                        "ticks": ""
                      },
                      "baxis": {
                        "gridcolor": "white",
                        "linecolor": "white",
                        "ticks": ""
                      },
                      "bgcolor": "#E5ECF6",
                      "caxis": {
                        "gridcolor": "white",
                        "linecolor": "white",
                        "ticks": ""
                      }
                    },
                    "title": {
                      "x": 0.05
                    },
                    "xaxis": {
                      "automargin": true,
                      "gridcolor": "white",
                      "linecolor": "white",
                      "ticks": "",
                      "title": {
                        "standoff": 15
                      },
                      "zerolinecolor": "white",
                      "zerolinewidth": 2
                    },
                    "yaxis": {
                      "automargin": true,
                      "gridcolor": "white",
                      "linecolor": "white",
                      "ticks": "",
                      "title": {
                        "standoff": 15
                      },
                      "zerolinecolor": "white",
                      "zerolinewidth": 2
                    }
                  }
                },
                "title": {
                  "text": "The Office Ratings by Writer"
                },
                "xaxis": {
                  "anchor": "y",
                  "domain": [
                    0,
                    1
                  ],
                  "title": {
                    "text": "Writers"
                  }
                },
                "yaxis": {
                  "anchor": "x",
                  "domain": [
                    0,
                    1
                  ],
                  "title": {
                    "text": "Ratings"
                  }
                }
              }
            },
            "text/html": "<div>                            <div id=\"0b6208dd-870b-4b3d-8854-a369a29d9327\" class=\"plotly-graph-div\" style=\"height:525px; width:100%;\"></div>            <script type=\"text/javascript\">                require([\"plotly\"], function(Plotly) {                    window.PLOTLYENV=window.PLOTLYENV || {};                                    if (document.getElementById(\"0b6208dd-870b-4b3d-8854-a369a29d9327\")) {                    Plotly.newPlot(                        \"0b6208dd-870b-4b3d-8854-a369a29d9327\",                        [{\"hovertemplate\": \"<b>%{hovertext}</b><br><br>Season=1<br>Writers=%{x}<br>Ratings=%{y}<extra></extra>\", \"hovertext\": [\"Ricky Gervais |Stephen Merchant and Greg Daniels\", \"B. J. Novak\", \"Paul Lieberstein\", \"Michael Schur\", \"Greg Daniels\", \"Mindy Kaling\"], \"legendgroup\": \"1\", \"line\": {\"color\": \"#636efa\", \"dash\": \"solid\"}, \"mode\": \"lines\", \"name\": \"1\", \"orientation\": \"v\", \"showlegend\": true, \"type\": \"scatter\", \"x\": [\"Ricky Gervais |Stephen Merchant and Greg Daniels\", \"B. J. Novak\", \"Paul Lieberstein\", \"Michael Schur\", \"Greg Daniels\", \"Mindy Kaling\"], \"xaxis\": \"x\", \"y\": [7.5, 8.3, 7.8, 8.1, 8.4, 7.7], \"yaxis\": \"y\"}, {\"hovertemplate\": \"<b>%{hovertext}</b><br><br>Season=2<br>Writers=%{x}<br>Ratings=%{y}<extra></extra>\", \"hovertext\": [\"Mindy Kaling\", \"B. J. Novak\", \"Michael Schur\", \"B. J. Novak\", \"Greg Daniels\", \"Gene Stupnitsky | Lee Eisenberg\", \"Paul Lieberstein\", \"Larry Wilmore\", \"Jennifer Celotta\", \"Michael Schur\", \"Greg Daniels\", \"Mindy Kaling\", \"Lee Eisenberg | Gene Stupnitsky\", \"Paul Lieberstein\", \"B. J. Novak\", \"Michael Schur\", \"Paul Lieberstein\", \"Mindy Kaling\", \"Gene Stupnitsky | Lee Eisenberg\", \"Jennifer Celotta\", \"Greg Daniels\", \"Steve Carell\"], \"legendgroup\": \"2\", \"line\": {\"color\": \"#EF553B\", \"dash\": \"solid\"}, \"mode\": \"lines\", \"name\": \"2\", \"orientation\": \"v\", \"showlegend\": true, \"type\": \"scatter\", \"x\": [\"Mindy Kaling\", \"B. J. Novak\", \"Michael Schur\", \"B. J. Novak\", \"Greg Daniels\", \"Gene Stupnitsky | Lee Eisenberg\", \"Paul Lieberstein\", \"Larry Wilmore\", \"Jennifer Celotta\", \"Michael Schur\", \"Greg Daniels\", \"Mindy Kaling\", \"Lee Eisenberg | Gene Stupnitsky\", \"Paul Lieberstein\", \"B. J. Novak\", \"Michael Schur\", \"Paul Lieberstein\", \"Mindy Kaling\", \"Gene Stupnitsky | Lee Eisenberg\", \"Jennifer Celotta\", \"Greg Daniels\", \"Steve Carell\"], \"xaxis\": \"x\", \"y\": [8.7, 8.2, 8.4, 8.4, 8.1, 8.1, 8.6, 8.2, 8.4, 8.9, 8.6, 9.1, 8.3, 7.8, 8.2, 8.3, 8.5, 8.3, 8.1, 8.4, 8.7, 9.4], \"yaxis\": \"y\"}, {\"hovertemplate\": \"<b>%{hovertext}</b><br><br>Season=3<br>Writers=%{x}<br>Ratings=%{y}<extra></extra>\", \"hovertext\": [\"Greg Daniels\", \"Gene Stupnitsky | Lee Eisenberg\", \"Paul Lieberstein\", \"Jennifer Celotta\", \"B. J. Novak\", \"Mindy Kaling\", \"Michael Schur\", \"Brent Forrester\", \"Ricky Gervais | Stephen Merchant\", \"Jennifer Celotta\", \"Justin Spitzer\", \"Michael Schur | Lee Eisenberg | Gene Stupnitsky\", \"Lee Eisenberg | Gene Stupnitsky | Michael Schur\", \"Mindy Kaling\", \"Caroline Williams\", \"Brent Forrester\", \"Paul Lieberstein\", \"Michael Schur\", \"B. J. Novak\", \"Justin Spitzer | Brent Forrester\", \"Gene Stupnitsky | Lee Eisenberg\", \"Jennifer Celotta | Greg Daniels\", \"Paul Lieberstein | Michael Schur\"], \"legendgroup\": \"3\", \"line\": {\"color\": \"#00cc96\", \"dash\": \"solid\"}, \"mode\": \"lines\", \"name\": \"3\", \"orientation\": \"v\", \"showlegend\": true, \"type\": \"scatter\", \"x\": [\"Greg Daniels\", \"Gene Stupnitsky | Lee Eisenberg\", \"Paul Lieberstein\", \"Jennifer Celotta\", \"B. J. Novak\", \"Mindy Kaling\", \"Michael Schur\", \"Brent Forrester\", \"Ricky Gervais | Stephen Merchant\", \"Jennifer Celotta\", \"Justin Spitzer\", \"Michael Schur | Lee Eisenberg | Gene Stupnitsky\", \"Lee Eisenberg | Gene Stupnitsky | Michael Schur\", \"Mindy Kaling\", \"Caroline Williams\", \"Brent Forrester\", \"Paul Lieberstein\", \"Michael Schur\", \"B. J. Novak\", \"Justin Spitzer | Brent Forrester\", \"Gene Stupnitsky | Lee Eisenberg\", \"Jennifer Celotta | Greg Daniels\", \"Paul Lieberstein | Michael Schur\"], \"xaxis\": \"x\", \"y\": [9.0, 8.2, 8.5, 8.0, 8.1, 7.9, 8.6, 8.7, 8.3, 8.8, 8.5, 8.6, 8.8, 8.1, 8.2, 8.9, 8.5, 9.0, 8.8, 8.7, 8.8, 9.2, 9.3], \"yaxis\": \"y\"}, {\"hovertemplate\": \"<b>%{hovertext}</b><br><br>Season=4<br>Writers=%{x}<br>Ratings=%{y}<extra></extra>\", \"hovertext\": [\"Greg Daniels\", \"Michael Schur\", \"Jennifer Celotta\", \"Paul Lieberstein\", \"B. J. Novak\", \"Mindy Kaling\", \"Steve Carell\", \"Lester Lewis\", \"Gene Stupnitsky | Lee Eisenberg\", \"B. J. Novak\", \"Mindy Kaling\", \"Brent Forrester | Justin Spitzer\", \"Lee Eisenberg | Gene Stupnitsky\", \"Jennifer Celotta | Paul Lieberstein\"], \"legendgroup\": \"4\", \"line\": {\"color\": \"#ab63fa\", \"dash\": \"solid\"}, \"mode\": \"lines\", \"name\": \"4\", \"orientation\": \"v\", \"showlegend\": true, \"type\": \"scatter\", \"x\": [\"Greg Daniels\", \"Michael Schur\", \"Jennifer Celotta\", \"Paul Lieberstein\", \"B. J. Novak\", \"Mindy Kaling\", \"Steve Carell\", \"Lester Lewis\", \"Gene Stupnitsky | Lee Eisenberg\", \"B. J. Novak\", \"Mindy Kaling\", \"Brent Forrester | Justin Spitzer\", \"Lee Eisenberg | Gene Stupnitsky\", \"Jennifer Celotta | Paul Lieberstein\"], \"xaxis\": \"x\", \"y\": [8.8, 8.3, 8.4, 8.7, 8.8, 8.5, 8.2, 8.7, 9.5, 8.0, 8.6, 8.3, 7.8, 9.3], \"yaxis\": \"y\"}, {\"hovertemplate\": \"<b>%{hovertext}</b><br><br>Season=5<br>Writers=%{x}<br>Ratings=%{y}<extra></extra>\", \"hovertext\": [\"Lee Eisenberg | Gene Stupnitsky\", \"Ryan Koh\", \"Aaron Shure\", \"Charlie Grandy\", \"Anthony Q. Farrell\", \"Lester Lewis\", \"Brent Forrester\", \"Mindy Kaling\", \"Gene Stupnitsky | Lee Eisenberg\", \"Justin Spitzer\", \"Jennifer Celotta\", \"B. J. Novak\", \"Paul Lieberstein\", \"Mindy Kaling\", \"Mindy Kaling\", \"Brent Forrester\", \"Mindy Kaling\", \"Lee Eisenberg | Gene Stupnitsky\", \"Aaron Shure\", \"B. J. Novak\", \"Justin Spitzer\", \"Ryan Koh\", \"Charlie Grandy\", \"Anthony Q. Farrell\", \"Warren Lieberstein | Halsted Sullivan\", \"Jennifer Celotta | Paul Lieberstein\"], \"legendgroup\": \"5\", \"line\": {\"color\": \"#FFA15A\", \"dash\": \"solid\"}, \"mode\": \"lines\", \"name\": \"5\", \"orientation\": \"v\", \"showlegend\": true, \"type\": \"scatter\", \"x\": [\"Lee Eisenberg | Gene Stupnitsky\", \"Ryan Koh\", \"Aaron Shure\", \"Charlie Grandy\", \"Anthony Q. Farrell\", \"Lester Lewis\", \"Brent Forrester\", \"Mindy Kaling\", \"Gene Stupnitsky | Lee Eisenberg\", \"Justin Spitzer\", \"Jennifer Celotta\", \"B. J. Novak\", \"Paul Lieberstein\", \"Mindy Kaling\", \"Mindy Kaling\", \"Brent Forrester\", \"Mindy Kaling\", \"Lee Eisenberg | Gene Stupnitsky\", \"Aaron Shure\", \"B. J. Novak\", \"Justin Spitzer\", \"Ryan Koh\", \"Charlie Grandy\", \"Anthony Q. Farrell\", \"Warren Lieberstein | Halsted Sullivan\", \"Jennifer Celotta | Paul Lieberstein\"], \"xaxis\": \"x\", \"y\": [8.8, 8.3, 8.0, 8.1, 8.0, 8.5, 8.2, 8.6, 8.8, 8.4, 8.7, 8.0, 9.7, 8.2, 8.1, 8.0, 8.7, 8.3, 8.4, 8.3, 8.7, 8.7, 9.2, 8.3, 8.7, 9.0], \"yaxis\": \"y\"}, {\"hovertemplate\": \"<b>%{hovertext}</b><br><br>Season=6<br>Writers=%{x}<br>Ratings=%{y}<extra></extra>\", \"hovertext\": [\"Paul Lieberstein\", \"Aaron Shure\", \"Jennifer Celotta\", \"Greg Daniels | Mindy Kaling\", \"Greg Daniels | Mindy Kaling\", \"Brent Forrester\", \"Lee Eisenberg | Gene Stupnitsky\", \"Warren Lieberstein | Halsted Sullivan\", \"Charlie Grandy\", \"Daniel Chun\", \"Justin Spitzer\", \"Gene Stupnitsky | Lee Eisenberg\", \"Mindy Kaling\", \"Jason Kessler\", \"Jennifer Celotta\", \"Mindy Kaling\", \"Daniel Chun\", \"Daniel Chun\", \"Jonathan Hughes\", \"Brent Forrester\", \"B. J. Novak\", \"Mindy Kaling\", \"Justin Spitzer\", \"Gene Stupnitsky | Lee Eisenberg\", \"Aaron Shure\", \"Warren Lieberstein | Halsted Sullivan\"], \"legendgroup\": \"6\", \"line\": {\"color\": \"#19d3f3\", \"dash\": \"solid\"}, \"mode\": \"lines\", \"name\": \"6\", \"orientation\": \"v\", \"showlegend\": true, \"type\": \"scatter\", \"x\": [\"Paul Lieberstein\", \"Aaron Shure\", \"Jennifer Celotta\", \"Greg Daniels | Mindy Kaling\", \"Greg Daniels | Mindy Kaling\", \"Brent Forrester\", \"Lee Eisenberg | Gene Stupnitsky\", \"Warren Lieberstein | Halsted Sullivan\", \"Charlie Grandy\", \"Daniel Chun\", \"Justin Spitzer\", \"Gene Stupnitsky | Lee Eisenberg\", \"Mindy Kaling\", \"Jason Kessler\", \"Jennifer Celotta\", \"Mindy Kaling\", \"Daniel Chun\", \"Daniel Chun\", \"Jonathan Hughes\", \"Brent Forrester\", \"B. J. Novak\", \"Mindy Kaling\", \"Justin Spitzer\", \"Gene Stupnitsky | Lee Eisenberg\", \"Aaron Shure\", \"Warren Lieberstein | Halsted Sullivan\"], \"xaxis\": \"x\", \"y\": [8.8, 8.1, 8.0, 9.4, 9.4, 7.6, 8.6, 8.2, 8.1, 8.7, 8.2, 8.3, 8.5, 6.8, 7.7, 8.1, 8.4, 8.5, 7.7, 7.7, 8.6, 7.8, 8.0, 8.1, 7.8, 8.0], \"yaxis\": \"y\"}, {\"hovertemplate\": \"<b>%{hovertext}</b><br><br>Season=7<br>Writers=%{x}<br>Ratings=%{y}<extra></extra>\", \"hovertext\": [\"Daniel Chun\", \"B. J. Novak\", \"Charlie Grandy\", \"Paul Lieberstein\", \"Mindy Kaling\", \"Justin Spitzer\", \"Peter Ocko\", \"Jon Vitti\", \"Aaron Shure\", \"Halsted Sullivan | Warren Lieberstein\", \"Mindy Kaling\", \"Carrie Kemper\", \"Steve Hely\", \"Brent Forrester\", \"Robert Padnick\", \"B. J. Novak\", \"Amelie Gillette\", \"Jon Vitti\", \"Daniel Chun\", \"Mindy Kaling\", \"Greg Daniels\", \"Charlie Grandy\", \"Justin Spitzer\", \"Paul Lieberstein\"], \"legendgroup\": \"7\", \"line\": {\"color\": \"#FF6692\", \"dash\": \"solid\"}, \"mode\": \"lines\", \"name\": \"7\", \"orientation\": \"v\", \"showlegend\": true, \"type\": \"scatter\", \"x\": [\"Daniel Chun\", \"B. J. Novak\", \"Charlie Grandy\", \"Paul Lieberstein\", \"Mindy Kaling\", \"Justin Spitzer\", \"Peter Ocko\", \"Jon Vitti\", \"Aaron Shure\", \"Halsted Sullivan | Warren Lieberstein\", \"Mindy Kaling\", \"Carrie Kemper\", \"Steve Hely\", \"Brent Forrester\", \"Robert Padnick\", \"B. J. Novak\", \"Amelie Gillette\", \"Jon Vitti\", \"Daniel Chun\", \"Mindy Kaling\", \"Greg Daniels\", \"Charlie Grandy\", \"Justin Spitzer\", \"Paul Lieberstein\"], \"xaxis\": \"x\", \"y\": [8.4, 8.2, 8.2, 7.8, 7.8, 8.2, 7.4, 7.8, 7.7, 8.2, 9.0, 8.3, 7.6, 8.5, 8.4, 9.4, 7.5, 9.3, 7.8, 9.0, 9.8, 7.6, 8.7, 8.8], \"yaxis\": \"y\"}, {\"hovertemplate\": \"<b>%{hovertext}</b><br><br>Season=8<br>Writers=%{x}<br>Ratings=%{y}<extra></extra>\", \"hovertext\": [\"B. J. Novak\", \"Paul Lieberstein\", \"Charlie Grandy\", \"Justin Spitzer\", \"Carrie Kemper\", \"Daniel Chun\", \"Allison Silverman\", \"Robert Padnick\", \"Dan Greaney\", \"Mindy Kaling\", \"Steve Hely\", \"Owen Ellickson\", \"Aaron Shure\", \"Amelie Gillette\", \"Daniel Chun\", \"Halsted Sullivan | Warren Lieberstein\", \"Mindy Kaling\", \"Robert Padnick\", \"Charlie Grandy\", \"Steve Hely\", \"Justin Spitzer\", \"Owen Ellickson\", \"Warren Lieberstein | Halsted Sullivan\", \"B. J. Novak\"], \"legendgroup\": \"8\", \"line\": {\"color\": \"#B6E880\", \"dash\": \"solid\"}, \"mode\": \"lines\", \"name\": \"8\", \"orientation\": \"v\", \"showlegend\": true, \"type\": \"scatter\", \"x\": [\"B. J. Novak\", \"Paul Lieberstein\", \"Charlie Grandy\", \"Justin Spitzer\", \"Carrie Kemper\", \"Daniel Chun\", \"Allison Silverman\", \"Robert Padnick\", \"Dan Greaney\", \"Mindy Kaling\", \"Steve Hely\", \"Owen Ellickson\", \"Aaron Shure\", \"Amelie Gillette\", \"Daniel Chun\", \"Halsted Sullivan | Warren Lieberstein\", \"Mindy Kaling\", \"Robert Padnick\", \"Charlie Grandy\", \"Steve Hely\", \"Justin Spitzer\", \"Owen Ellickson\", \"Warren Lieberstein | Halsted Sullivan\", \"B. J. Novak\"], \"xaxis\": \"x\", \"y\": [8.1, 8.1, 7.3, 8.1, 7.5, 7.7, 7.7, 6.9, 7.7, 7.9, 7.9, 8.0, 7.4, 7.7, 7.8, 8.1, 7.8, 7.8, 6.6, 7.1, 7.0, 7.0, 7.6, 7.7], \"yaxis\": \"y\"}, {\"hovertemplate\": \"<b>%{hovertext}</b><br><br>Season=9<br>Writers=%{x}<br>Ratings=%{y}<extra></extra>\", \"hovertext\": [\"Greg Daniels\", \"Allison Silverman\", \"Jonathan Green | Gabe Miller\", \"Brent Forrester\", \"Owen Ellickson\", \"Dan Sterling\", \"Carrie Kemper\", \"Graham Wagner\", \"Robert Padnick\", \"Niki Schwartz-Wright\", \"Dan Greaney\", \"Jonathan Green | Gabe Miller\", \"Carrie Kemper\", \"Owen Ellickson\", \"Allison Silverman\", \"Graham Wagner\", \"Paul Lieberstein\", \"Tim McAuliffe\", \"Dan Sterling\", \"Halsted Sullivan | Warren Lieberstein\", \"Niki Schwartz-Wright\", \"Brent Forrester\", \"Greg Daniels\"], \"legendgroup\": \"9\", \"line\": {\"color\": \"#FF97FF\", \"dash\": \"solid\"}, \"mode\": \"lines\", \"name\": \"9\", \"orientation\": \"v\", \"showlegend\": true, \"type\": \"scatter\", \"x\": [\"Greg Daniels\", \"Allison Silverman\", \"Jonathan Green | Gabe Miller\", \"Brent Forrester\", \"Owen Ellickson\", \"Dan Sterling\", \"Carrie Kemper\", \"Graham Wagner\", \"Robert Padnick\", \"Niki Schwartz-Wright\", \"Dan Greaney\", \"Jonathan Green | Gabe Miller\", \"Carrie Kemper\", \"Owen Ellickson\", \"Allison Silverman\", \"Graham Wagner\", \"Paul Lieberstein\", \"Tim McAuliffe\", \"Dan Sterling\", \"Halsted Sullivan | Warren Lieberstein\", \"Niki Schwartz-Wright\", \"Brent Forrester\", \"Greg Daniels\"], \"xaxis\": \"x\", \"y\": [7.6, 7.1, 7.4, 7.8, 7.0, 7.7, 7.6, 7.8, 8.4, 7.6, 7.8, 7.9, 7.6, 7.5, 7.3, 8.1, 7.5, 8.0, 8.0, 8.0, 9.0, 9.5, 9.8], \"yaxis\": \"y\"}],                        {\"legend\": {\"title\": {\"text\": \"Season\"}, \"tracegroupgap\": 0}, \"template\": {\"data\": {\"bar\": [{\"error_x\": {\"color\": \"#2a3f5f\"}, \"error_y\": {\"color\": \"#2a3f5f\"}, \"marker\": {\"line\": {\"color\": \"#E5ECF6\", \"width\": 0.5}}, \"type\": \"bar\"}], \"barpolar\": [{\"marker\": {\"line\": {\"color\": \"#E5ECF6\", \"width\": 0.5}}, \"type\": \"barpolar\"}], \"carpet\": [{\"aaxis\": {\"endlinecolor\": \"#2a3f5f\", \"gridcolor\": \"white\", \"linecolor\": \"white\", \"minorgridcolor\": \"white\", \"startlinecolor\": \"#2a3f5f\"}, \"baxis\": {\"endlinecolor\": \"#2a3f5f\", \"gridcolor\": \"white\", \"linecolor\": \"white\", \"minorgridcolor\": \"white\", \"startlinecolor\": \"#2a3f5f\"}, \"type\": \"carpet\"}], \"choropleth\": [{\"colorbar\": {\"outlinewidth\": 0, \"ticks\": \"\"}, \"type\": \"choropleth\"}], \"contour\": [{\"colorbar\": {\"outlinewidth\": 0, \"ticks\": \"\"}, \"colorscale\": [[0.0, \"#0d0887\"], [0.1111111111111111, \"#46039f\"], [0.2222222222222222, \"#7201a8\"], [0.3333333333333333, \"#9c179e\"], [0.4444444444444444, \"#bd3786\"], [0.5555555555555556, \"#d8576b\"], [0.6666666666666666, \"#ed7953\"], [0.7777777777777778, \"#fb9f3a\"], [0.8888888888888888, \"#fdca26\"], [1.0, \"#f0f921\"]], \"type\": \"contour\"}], \"contourcarpet\": [{\"colorbar\": {\"outlinewidth\": 0, \"ticks\": \"\"}, \"type\": \"contourcarpet\"}], \"heatmap\": [{\"colorbar\": {\"outlinewidth\": 0, \"ticks\": \"\"}, \"colorscale\": [[0.0, \"#0d0887\"], [0.1111111111111111, \"#46039f\"], [0.2222222222222222, \"#7201a8\"], [0.3333333333333333, \"#9c179e\"], [0.4444444444444444, \"#bd3786\"], [0.5555555555555556, \"#d8576b\"], [0.6666666666666666, \"#ed7953\"], [0.7777777777777778, \"#fb9f3a\"], [0.8888888888888888, \"#fdca26\"], [1.0, \"#f0f921\"]], \"type\": \"heatmap\"}], \"heatmapgl\": [{\"colorbar\": {\"outlinewidth\": 0, \"ticks\": \"\"}, \"colorscale\": [[0.0, \"#0d0887\"], [0.1111111111111111, \"#46039f\"], [0.2222222222222222, \"#7201a8\"], [0.3333333333333333, \"#9c179e\"], [0.4444444444444444, \"#bd3786\"], [0.5555555555555556, \"#d8576b\"], [0.6666666666666666, \"#ed7953\"], [0.7777777777777778, \"#fb9f3a\"], [0.8888888888888888, \"#fdca26\"], [1.0, \"#f0f921\"]], \"type\": \"heatmapgl\"}], \"histogram\": [{\"marker\": {\"colorbar\": {\"outlinewidth\": 0, \"ticks\": \"\"}}, \"type\": \"histogram\"}], \"histogram2d\": [{\"colorbar\": {\"outlinewidth\": 0, \"ticks\": \"\"}, \"colorscale\": [[0.0, \"#0d0887\"], [0.1111111111111111, \"#46039f\"], [0.2222222222222222, \"#7201a8\"], [0.3333333333333333, \"#9c179e\"], [0.4444444444444444, \"#bd3786\"], [0.5555555555555556, \"#d8576b\"], [0.6666666666666666, \"#ed7953\"], [0.7777777777777778, \"#fb9f3a\"], [0.8888888888888888, \"#fdca26\"], [1.0, \"#f0f921\"]], \"type\": \"histogram2d\"}], \"histogram2dcontour\": [{\"colorbar\": {\"outlinewidth\": 0, \"ticks\": \"\"}, \"colorscale\": [[0.0, \"#0d0887\"], [0.1111111111111111, \"#46039f\"], [0.2222222222222222, \"#7201a8\"], [0.3333333333333333, \"#9c179e\"], [0.4444444444444444, \"#bd3786\"], [0.5555555555555556, \"#d8576b\"], [0.6666666666666666, \"#ed7953\"], [0.7777777777777778, \"#fb9f3a\"], [0.8888888888888888, \"#fdca26\"], [1.0, \"#f0f921\"]], \"type\": \"histogram2dcontour\"}], \"mesh3d\": [{\"colorbar\": {\"outlinewidth\": 0, \"ticks\": \"\"}, \"type\": \"mesh3d\"}], \"parcoords\": [{\"line\": {\"colorbar\": {\"outlinewidth\": 0, \"ticks\": \"\"}}, \"type\": \"parcoords\"}], \"pie\": [{\"automargin\": true, \"type\": \"pie\"}], \"scatter\": [{\"marker\": {\"colorbar\": {\"outlinewidth\": 0, \"ticks\": \"\"}}, \"type\": \"scatter\"}], \"scatter3d\": [{\"line\": {\"colorbar\": {\"outlinewidth\": 0, \"ticks\": \"\"}}, \"marker\": {\"colorbar\": {\"outlinewidth\": 0, \"ticks\": \"\"}}, \"type\": \"scatter3d\"}], \"scattercarpet\": [{\"marker\": {\"colorbar\": {\"outlinewidth\": 0, \"ticks\": \"\"}}, \"type\": \"scattercarpet\"}], \"scattergeo\": [{\"marker\": {\"colorbar\": {\"outlinewidth\": 0, \"ticks\": \"\"}}, \"type\": \"scattergeo\"}], \"scattergl\": [{\"marker\": {\"colorbar\": {\"outlinewidth\": 0, \"ticks\": \"\"}}, \"type\": \"scattergl\"}], \"scattermapbox\": [{\"marker\": {\"colorbar\": {\"outlinewidth\": 0, \"ticks\": \"\"}}, \"type\": \"scattermapbox\"}], \"scatterpolar\": [{\"marker\": {\"colorbar\": {\"outlinewidth\": 0, \"ticks\": \"\"}}, \"type\": \"scatterpolar\"}], \"scatterpolargl\": [{\"marker\": {\"colorbar\": {\"outlinewidth\": 0, \"ticks\": \"\"}}, \"type\": \"scatterpolargl\"}], \"scatterternary\": [{\"marker\": {\"colorbar\": {\"outlinewidth\": 0, \"ticks\": \"\"}}, \"type\": \"scatterternary\"}], \"surface\": [{\"colorbar\": {\"outlinewidth\": 0, \"ticks\": \"\"}, \"colorscale\": [[0.0, \"#0d0887\"], [0.1111111111111111, \"#46039f\"], [0.2222222222222222, \"#7201a8\"], [0.3333333333333333, \"#9c179e\"], [0.4444444444444444, \"#bd3786\"], [0.5555555555555556, \"#d8576b\"], [0.6666666666666666, \"#ed7953\"], [0.7777777777777778, \"#fb9f3a\"], [0.8888888888888888, \"#fdca26\"], [1.0, \"#f0f921\"]], \"type\": \"surface\"}], \"table\": [{\"cells\": {\"fill\": {\"color\": \"#EBF0F8\"}, \"line\": {\"color\": \"white\"}}, \"header\": {\"fill\": {\"color\": \"#C8D4E3\"}, \"line\": {\"color\": \"white\"}}, \"type\": \"table\"}]}, \"layout\": {\"annotationdefaults\": {\"arrowcolor\": \"#2a3f5f\", \"arrowhead\": 0, \"arrowwidth\": 1}, \"autotypenumbers\": \"strict\", \"coloraxis\": {\"colorbar\": {\"outlinewidth\": 0, \"ticks\": \"\"}}, \"colorscale\": {\"diverging\": [[0, \"#8e0152\"], [0.1, \"#c51b7d\"], [0.2, \"#de77ae\"], [0.3, \"#f1b6da\"], [0.4, \"#fde0ef\"], [0.5, \"#f7f7f7\"], [0.6, \"#e6f5d0\"], [0.7, \"#b8e186\"], [0.8, \"#7fbc41\"], [0.9, \"#4d9221\"], [1, \"#276419\"]], \"sequential\": [[0.0, \"#0d0887\"], [0.1111111111111111, \"#46039f\"], [0.2222222222222222, \"#7201a8\"], [0.3333333333333333, \"#9c179e\"], [0.4444444444444444, \"#bd3786\"], [0.5555555555555556, \"#d8576b\"], [0.6666666666666666, \"#ed7953\"], [0.7777777777777778, \"#fb9f3a\"], [0.8888888888888888, \"#fdca26\"], [1.0, \"#f0f921\"]], \"sequentialminus\": [[0.0, \"#0d0887\"], [0.1111111111111111, \"#46039f\"], [0.2222222222222222, \"#7201a8\"], [0.3333333333333333, \"#9c179e\"], [0.4444444444444444, \"#bd3786\"], [0.5555555555555556, \"#d8576b\"], [0.6666666666666666, \"#ed7953\"], [0.7777777777777778, \"#fb9f3a\"], [0.8888888888888888, \"#fdca26\"], [1.0, \"#f0f921\"]]}, \"colorway\": [\"#636efa\", \"#EF553B\", \"#00cc96\", \"#ab63fa\", \"#FFA15A\", \"#19d3f3\", \"#FF6692\", \"#B6E880\", \"#FF97FF\", \"#FECB52\"], \"font\": {\"color\": \"#2a3f5f\"}, \"geo\": {\"bgcolor\": \"white\", \"lakecolor\": \"white\", \"landcolor\": \"#E5ECF6\", \"showlakes\": true, \"showland\": true, \"subunitcolor\": \"white\"}, \"hoverlabel\": {\"align\": \"left\"}, \"hovermode\": \"closest\", \"mapbox\": {\"style\": \"light\"}, \"paper_bgcolor\": \"white\", \"plot_bgcolor\": \"#E5ECF6\", \"polar\": {\"angularaxis\": {\"gridcolor\": \"white\", \"linecolor\": \"white\", \"ticks\": \"\"}, \"bgcolor\": \"#E5ECF6\", \"radialaxis\": {\"gridcolor\": \"white\", \"linecolor\": \"white\", \"ticks\": \"\"}}, \"scene\": {\"xaxis\": {\"backgroundcolor\": \"#E5ECF6\", \"gridcolor\": \"white\", \"gridwidth\": 2, \"linecolor\": \"white\", \"showbackground\": true, \"ticks\": \"\", \"zerolinecolor\": \"white\"}, \"yaxis\": {\"backgroundcolor\": \"#E5ECF6\", \"gridcolor\": \"white\", \"gridwidth\": 2, \"linecolor\": \"white\", \"showbackground\": true, \"ticks\": \"\", \"zerolinecolor\": \"white\"}, \"zaxis\": {\"backgroundcolor\": \"#E5ECF6\", \"gridcolor\": \"white\", \"gridwidth\": 2, \"linecolor\": \"white\", \"showbackground\": true, \"ticks\": \"\", \"zerolinecolor\": \"white\"}}, \"shapedefaults\": {\"line\": {\"color\": \"#2a3f5f\"}}, \"ternary\": {\"aaxis\": {\"gridcolor\": \"white\", \"linecolor\": \"white\", \"ticks\": \"\"}, \"baxis\": {\"gridcolor\": \"white\", \"linecolor\": \"white\", \"ticks\": \"\"}, \"bgcolor\": \"#E5ECF6\", \"caxis\": {\"gridcolor\": \"white\", \"linecolor\": \"white\", \"ticks\": \"\"}}, \"title\": {\"x\": 0.05}, \"xaxis\": {\"automargin\": true, \"gridcolor\": \"white\", \"linecolor\": \"white\", \"ticks\": \"\", \"title\": {\"standoff\": 15}, \"zerolinecolor\": \"white\", \"zerolinewidth\": 2}, \"yaxis\": {\"automargin\": true, \"gridcolor\": \"white\", \"linecolor\": \"white\", \"ticks\": \"\", \"title\": {\"standoff\": 15}, \"zerolinecolor\": \"white\", \"zerolinewidth\": 2}}}, \"title\": {\"text\": \"The Office Ratings by Writer\"}, \"xaxis\": {\"anchor\": \"y\", \"domain\": [0.0, 1.0], \"title\": {\"text\": \"Writers\"}}, \"yaxis\": {\"anchor\": \"x\", \"domain\": [0.0, 1.0], \"title\": {\"text\": \"Ratings\"}}},                        {\"responsive\": true}                    ).then(function(){\n                            \nvar gd = document.getElementById('0b6208dd-870b-4b3d-8854-a369a29d9327');\nvar x = new MutationObserver(function (mutations, observer) {{\n        var display = window.getComputedStyle(gd).display;\n        if (!display || display === 'none') {{\n            console.log([gd, 'removed!']);\n            Plotly.purge(gd);\n            observer.disconnect();\n        }}\n}});\n\n// Listen for the removal of the full notebook cells\nvar notebookContainer = gd.closest('#notebook-container');\nif (notebookContainer) {{\n    x.observe(notebookContainer, {childList: true});\n}}\n\n// Listen for the clearing of the current output cell\nvar outputEl = gd.closest('.output');\nif (outputEl) {{\n    x.observe(outputEl, {childList: true});\n}}\n\n                        })                };                });            </script>        </div>"
          },
          "metadata": {}
        }
      ],
      "execution_count": 16,
      "metadata": {
        "collapsed": false,
        "jupyter": {
          "source_hidden": false,
          "outputs_hidden": false
        },
        "nteract": {
          "transient": {
            "deleting": false
          }
        },
        "execution": {
          "iopub.status.busy": "2020-12-27T18:04:38.122Z",
          "iopub.execute_input": "2020-12-27T18:04:38.133Z",
          "iopub.status.idle": "2020-12-27T18:04:38.309Z",
          "shell.execute_reply": "2020-12-27T18:04:38.353Z"
        }
      }
    },
    {
      "cell_type": "code",
      "source": [
        "import plotly.express as px\n",
        "df1 = px.data.gapminder()\n",
        "fig = px.scatter(df, x=\"Ratings\", y=\"Writers\", color=\"Season\",\n",
        "             hover_name=\"Writers\", title=\"The Office Episode Ratings by Writer\" )\n",
        "fig.show()"
      ],
      "outputs": [
        {
          "output_type": "display_data",
          "data": {
            "application/vnd.plotly.v1+json": {
              "config": {
                "plotlyServerURL": "https://plot.ly"
              },
              "data": [
                {
                  "hovertemplate": "<b>%{hovertext}</b><br><br>Ratings=%{x}<br>Writers=%{y}<br>Season=%{marker.color}<extra></extra>",
                  "hovertext": [
                    "Ricky Gervais |Stephen Merchant and Greg Daniels",
                    "B. J. Novak",
                    "Paul Lieberstein",
                    "Michael Schur",
                    "Greg Daniels",
                    "Mindy Kaling",
                    "Mindy Kaling",
                    "B. J. Novak",
                    "Michael Schur",
                    "B. J. Novak",
                    "Greg Daniels",
                    "Gene Stupnitsky | Lee Eisenberg",
                    "Paul Lieberstein",
                    "Larry Wilmore",
                    "Jennifer Celotta",
                    "Michael Schur",
                    "Greg Daniels",
                    "Mindy Kaling",
                    "Lee Eisenberg | Gene Stupnitsky",
                    "Paul Lieberstein",
                    "B. J. Novak",
                    "Michael Schur",
                    "Paul Lieberstein",
                    "Mindy Kaling",
                    "Gene Stupnitsky | Lee Eisenberg",
                    "Jennifer Celotta",
                    "Greg Daniels",
                    "Steve Carell",
                    "Greg Daniels",
                    "Gene Stupnitsky | Lee Eisenberg",
                    "Paul Lieberstein",
                    "Jennifer Celotta",
                    "B. J. Novak",
                    "Mindy Kaling",
                    "Michael Schur",
                    "Brent Forrester",
                    "Ricky Gervais | Stephen Merchant",
                    "Jennifer Celotta",
                    "Justin Spitzer",
                    "Michael Schur | Lee Eisenberg | Gene Stupnitsky",
                    "Lee Eisenberg | Gene Stupnitsky | Michael Schur",
                    "Mindy Kaling",
                    "Caroline Williams",
                    "Brent Forrester",
                    "Paul Lieberstein",
                    "Michael Schur",
                    "B. J. Novak",
                    "Justin Spitzer | Brent Forrester",
                    "Gene Stupnitsky | Lee Eisenberg",
                    "Jennifer Celotta | Greg Daniels",
                    "Paul Lieberstein | Michael Schur",
                    "Greg Daniels",
                    "Michael Schur",
                    "Jennifer Celotta",
                    "Paul Lieberstein",
                    "B. J. Novak",
                    "Mindy Kaling",
                    "Steve Carell",
                    "Lester Lewis",
                    "Gene Stupnitsky | Lee Eisenberg",
                    "B. J. Novak",
                    "Mindy Kaling",
                    "Brent Forrester | Justin Spitzer",
                    "Lee Eisenberg | Gene Stupnitsky",
                    "Jennifer Celotta | Paul Lieberstein",
                    "Lee Eisenberg | Gene Stupnitsky",
                    "Ryan Koh",
                    "Aaron Shure",
                    "Charlie Grandy",
                    "Anthony Q. Farrell",
                    "Lester Lewis",
                    "Brent Forrester",
                    "Mindy Kaling",
                    "Gene Stupnitsky | Lee Eisenberg",
                    "Justin Spitzer",
                    "Jennifer Celotta",
                    "B. J. Novak",
                    "Paul Lieberstein",
                    "Mindy Kaling",
                    "Mindy Kaling",
                    "Brent Forrester",
                    "Mindy Kaling",
                    "Lee Eisenberg | Gene Stupnitsky",
                    "Aaron Shure",
                    "B. J. Novak",
                    "Justin Spitzer",
                    "Ryan Koh",
                    "Charlie Grandy",
                    "Anthony Q. Farrell",
                    "Warren Lieberstein | Halsted Sullivan",
                    "Jennifer Celotta | Paul Lieberstein",
                    "Paul Lieberstein",
                    "Aaron Shure",
                    "Jennifer Celotta",
                    "Greg Daniels | Mindy Kaling",
                    "Greg Daniels | Mindy Kaling",
                    "Brent Forrester",
                    "Lee Eisenberg | Gene Stupnitsky",
                    "Warren Lieberstein | Halsted Sullivan",
                    "Charlie Grandy",
                    "Daniel Chun",
                    "Justin Spitzer",
                    "Gene Stupnitsky | Lee Eisenberg",
                    "Mindy Kaling",
                    "Jason Kessler",
                    "Jennifer Celotta",
                    "Mindy Kaling",
                    "Daniel Chun",
                    "Daniel Chun",
                    "Jonathan Hughes",
                    "Brent Forrester",
                    "B. J. Novak",
                    "Mindy Kaling",
                    "Justin Spitzer",
                    "Gene Stupnitsky | Lee Eisenberg",
                    "Aaron Shure",
                    "Warren Lieberstein | Halsted Sullivan",
                    "Daniel Chun",
                    "B. J. Novak",
                    "Charlie Grandy",
                    "Paul Lieberstein",
                    "Mindy Kaling",
                    "Justin Spitzer",
                    "Peter Ocko",
                    "Jon Vitti",
                    "Aaron Shure",
                    "Halsted Sullivan | Warren Lieberstein",
                    "Mindy Kaling",
                    "Carrie Kemper",
                    "Steve Hely",
                    "Brent Forrester",
                    "Robert Padnick",
                    "B. J. Novak",
                    "Amelie Gillette",
                    "Jon Vitti",
                    "Daniel Chun",
                    "Mindy Kaling",
                    "Greg Daniels",
                    "Charlie Grandy",
                    "Justin Spitzer",
                    "Paul Lieberstein",
                    "B. J. Novak",
                    "Paul Lieberstein",
                    "Charlie Grandy",
                    "Justin Spitzer",
                    "Carrie Kemper",
                    "Daniel Chun",
                    "Allison Silverman",
                    "Robert Padnick",
                    "Dan Greaney",
                    "Mindy Kaling",
                    "Steve Hely",
                    "Owen Ellickson",
                    "Aaron Shure",
                    "Amelie Gillette",
                    "Daniel Chun",
                    "Halsted Sullivan | Warren Lieberstein",
                    "Mindy Kaling",
                    "Robert Padnick",
                    "Charlie Grandy",
                    "Steve Hely",
                    "Justin Spitzer",
                    "Owen Ellickson",
                    "Warren Lieberstein | Halsted Sullivan",
                    "B. J. Novak",
                    "Greg Daniels",
                    "Allison Silverman",
                    "Jonathan Green | Gabe Miller",
                    "Brent Forrester",
                    "Owen Ellickson",
                    "Dan Sterling",
                    "Carrie Kemper",
                    "Graham Wagner",
                    "Robert Padnick",
                    "Niki Schwartz-Wright",
                    "Dan Greaney",
                    "Jonathan Green | Gabe Miller",
                    "Carrie Kemper",
                    "Owen Ellickson",
                    "Allison Silverman",
                    "Graham Wagner",
                    "Paul Lieberstein",
                    "Tim McAuliffe",
                    "Dan Sterling",
                    "Halsted Sullivan | Warren Lieberstein",
                    "Niki Schwartz-Wright",
                    "Brent Forrester",
                    "Greg Daniels"
                  ],
                  "legendgroup": "",
                  "marker": {
                    "color": [
                      1,
                      1,
                      1,
                      1,
                      1,
                      1,
                      2,
                      2,
                      2,
                      2,
                      2,
                      2,
                      2,
                      2,
                      2,
                      2,
                      2,
                      2,
                      2,
                      2,
                      2,
                      2,
                      2,
                      2,
                      2,
                      2,
                      2,
                      2,
                      3,
                      3,
                      3,
                      3,
                      3,
                      3,
                      3,
                      3,
                      3,
                      3,
                      3,
                      3,
                      3,
                      3,
                      3,
                      3,
                      3,
                      3,
                      3,
                      3,
                      3,
                      3,
                      3,
                      4,
                      4,
                      4,
                      4,
                      4,
                      4,
                      4,
                      4,
                      4,
                      4,
                      4,
                      4,
                      4,
                      4,
                      5,
                      5,
                      5,
                      5,
                      5,
                      5,
                      5,
                      5,
                      5,
                      5,
                      5,
                      5,
                      5,
                      5,
                      5,
                      5,
                      5,
                      5,
                      5,
                      5,
                      5,
                      5,
                      5,
                      5,
                      5,
                      5,
                      6,
                      6,
                      6,
                      6,
                      6,
                      6,
                      6,
                      6,
                      6,
                      6,
                      6,
                      6,
                      6,
                      6,
                      6,
                      6,
                      6,
                      6,
                      6,
                      6,
                      6,
                      6,
                      6,
                      6,
                      6,
                      6,
                      7,
                      7,
                      7,
                      7,
                      7,
                      7,
                      7,
                      7,
                      7,
                      7,
                      7,
                      7,
                      7,
                      7,
                      7,
                      7,
                      7,
                      7,
                      7,
                      7,
                      7,
                      7,
                      7,
                      7,
                      8,
                      8,
                      8,
                      8,
                      8,
                      8,
                      8,
                      8,
                      8,
                      8,
                      8,
                      8,
                      8,
                      8,
                      8,
                      8,
                      8,
                      8,
                      8,
                      8,
                      8,
                      8,
                      8,
                      8,
                      9,
                      9,
                      9,
                      9,
                      9,
                      9,
                      9,
                      9,
                      9,
                      9,
                      9,
                      9,
                      9,
                      9,
                      9,
                      9,
                      9,
                      9,
                      9,
                      9,
                      9,
                      9,
                      9
                    ],
                    "coloraxis": "coloraxis",
                    "symbol": "circle"
                  },
                  "mode": "markers",
                  "name": "",
                  "orientation": "h",
                  "showlegend": false,
                  "type": "scatter",
                  "x": [
                    7.5,
                    8.3,
                    7.8,
                    8.1,
                    8.4,
                    7.7,
                    8.7,
                    8.2,
                    8.4,
                    8.4,
                    8.1,
                    8.1,
                    8.6,
                    8.2,
                    8.4,
                    8.9,
                    8.6,
                    9.1,
                    8.3,
                    7.8,
                    8.2,
                    8.3,
                    8.5,
                    8.3,
                    8.1,
                    8.4,
                    8.7,
                    9.4,
                    9,
                    8.2,
                    8.5,
                    8,
                    8.1,
                    7.9,
                    8.6,
                    8.7,
                    8.3,
                    8.8,
                    8.5,
                    8.6,
                    8.8,
                    8.1,
                    8.2,
                    8.9,
                    8.5,
                    9,
                    8.8,
                    8.7,
                    8.8,
                    9.2,
                    9.3,
                    8.8,
                    8.3,
                    8.4,
                    8.7,
                    8.8,
                    8.5,
                    8.2,
                    8.7,
                    9.5,
                    8,
                    8.6,
                    8.3,
                    7.8,
                    9.3,
                    8.8,
                    8.3,
                    8,
                    8.1,
                    8,
                    8.5,
                    8.2,
                    8.6,
                    8.8,
                    8.4,
                    8.7,
                    8,
                    9.7,
                    8.2,
                    8.1,
                    8,
                    8.7,
                    8.3,
                    8.4,
                    8.3,
                    8.7,
                    8.7,
                    9.2,
                    8.3,
                    8.7,
                    9,
                    8.8,
                    8.1,
                    8,
                    9.4,
                    9.4,
                    7.6,
                    8.6,
                    8.2,
                    8.1,
                    8.7,
                    8.2,
                    8.3,
                    8.5,
                    6.8,
                    7.7,
                    8.1,
                    8.4,
                    8.5,
                    7.7,
                    7.7,
                    8.6,
                    7.8,
                    8,
                    8.1,
                    7.8,
                    8,
                    8.4,
                    8.2,
                    8.2,
                    7.8,
                    7.8,
                    8.2,
                    7.4,
                    7.8,
                    7.7,
                    8.2,
                    9,
                    8.3,
                    7.6,
                    8.5,
                    8.4,
                    9.4,
                    7.5,
                    9.3,
                    7.8,
                    9,
                    9.8,
                    7.6,
                    8.7,
                    8.8,
                    8.1,
                    8.1,
                    7.3,
                    8.1,
                    7.5,
                    7.7,
                    7.7,
                    6.9,
                    7.7,
                    7.9,
                    7.9,
                    8,
                    7.4,
                    7.7,
                    7.8,
                    8.1,
                    7.8,
                    7.8,
                    6.6,
                    7.1,
                    7,
                    7,
                    7.6,
                    7.7,
                    7.6,
                    7.1,
                    7.4,
                    7.8,
                    7,
                    7.7,
                    7.6,
                    7.8,
                    8.4,
                    7.6,
                    7.8,
                    7.9,
                    7.6,
                    7.5,
                    7.3,
                    8.1,
                    7.5,
                    8,
                    8,
                    8,
                    9,
                    9.5,
                    9.8
                  ],
                  "xaxis": "x",
                  "y": [
                    "Ricky Gervais |Stephen Merchant and Greg Daniels",
                    "B. J. Novak",
                    "Paul Lieberstein",
                    "Michael Schur",
                    "Greg Daniels",
                    "Mindy Kaling",
                    "Mindy Kaling",
                    "B. J. Novak",
                    "Michael Schur",
                    "B. J. Novak",
                    "Greg Daniels",
                    "Gene Stupnitsky | Lee Eisenberg",
                    "Paul Lieberstein",
                    "Larry Wilmore",
                    "Jennifer Celotta",
                    "Michael Schur",
                    "Greg Daniels",
                    "Mindy Kaling",
                    "Lee Eisenberg | Gene Stupnitsky",
                    "Paul Lieberstein",
                    "B. J. Novak",
                    "Michael Schur",
                    "Paul Lieberstein",
                    "Mindy Kaling",
                    "Gene Stupnitsky | Lee Eisenberg",
                    "Jennifer Celotta",
                    "Greg Daniels",
                    "Steve Carell",
                    "Greg Daniels",
                    "Gene Stupnitsky | Lee Eisenberg",
                    "Paul Lieberstein",
                    "Jennifer Celotta",
                    "B. J. Novak",
                    "Mindy Kaling",
                    "Michael Schur",
                    "Brent Forrester",
                    "Ricky Gervais | Stephen Merchant",
                    "Jennifer Celotta",
                    "Justin Spitzer",
                    "Michael Schur | Lee Eisenberg | Gene Stupnitsky",
                    "Lee Eisenberg | Gene Stupnitsky | Michael Schur",
                    "Mindy Kaling",
                    "Caroline Williams",
                    "Brent Forrester",
                    "Paul Lieberstein",
                    "Michael Schur",
                    "B. J. Novak",
                    "Justin Spitzer | Brent Forrester",
                    "Gene Stupnitsky | Lee Eisenberg",
                    "Jennifer Celotta | Greg Daniels",
                    "Paul Lieberstein | Michael Schur",
                    "Greg Daniels",
                    "Michael Schur",
                    "Jennifer Celotta",
                    "Paul Lieberstein",
                    "B. J. Novak",
                    "Mindy Kaling",
                    "Steve Carell",
                    "Lester Lewis",
                    "Gene Stupnitsky | Lee Eisenberg",
                    "B. J. Novak",
                    "Mindy Kaling",
                    "Brent Forrester | Justin Spitzer",
                    "Lee Eisenberg | Gene Stupnitsky",
                    "Jennifer Celotta | Paul Lieberstein",
                    "Lee Eisenberg | Gene Stupnitsky",
                    "Ryan Koh",
                    "Aaron Shure",
                    "Charlie Grandy",
                    "Anthony Q. Farrell",
                    "Lester Lewis",
                    "Brent Forrester",
                    "Mindy Kaling",
                    "Gene Stupnitsky | Lee Eisenberg",
                    "Justin Spitzer",
                    "Jennifer Celotta",
                    "B. J. Novak",
                    "Paul Lieberstein",
                    "Mindy Kaling",
                    "Mindy Kaling",
                    "Brent Forrester",
                    "Mindy Kaling",
                    "Lee Eisenberg | Gene Stupnitsky",
                    "Aaron Shure",
                    "B. J. Novak",
                    "Justin Spitzer",
                    "Ryan Koh",
                    "Charlie Grandy",
                    "Anthony Q. Farrell",
                    "Warren Lieberstein | Halsted Sullivan",
                    "Jennifer Celotta | Paul Lieberstein",
                    "Paul Lieberstein",
                    "Aaron Shure",
                    "Jennifer Celotta",
                    "Greg Daniels | Mindy Kaling",
                    "Greg Daniels | Mindy Kaling",
                    "Brent Forrester",
                    "Lee Eisenberg | Gene Stupnitsky",
                    "Warren Lieberstein | Halsted Sullivan",
                    "Charlie Grandy",
                    "Daniel Chun",
                    "Justin Spitzer",
                    "Gene Stupnitsky | Lee Eisenberg",
                    "Mindy Kaling",
                    "Jason Kessler",
                    "Jennifer Celotta",
                    "Mindy Kaling",
                    "Daniel Chun",
                    "Daniel Chun",
                    "Jonathan Hughes",
                    "Brent Forrester",
                    "B. J. Novak",
                    "Mindy Kaling",
                    "Justin Spitzer",
                    "Gene Stupnitsky | Lee Eisenberg",
                    "Aaron Shure",
                    "Warren Lieberstein | Halsted Sullivan",
                    "Daniel Chun",
                    "B. J. Novak",
                    "Charlie Grandy",
                    "Paul Lieberstein",
                    "Mindy Kaling",
                    "Justin Spitzer",
                    "Peter Ocko",
                    "Jon Vitti",
                    "Aaron Shure",
                    "Halsted Sullivan | Warren Lieberstein",
                    "Mindy Kaling",
                    "Carrie Kemper",
                    "Steve Hely",
                    "Brent Forrester",
                    "Robert Padnick",
                    "B. J. Novak",
                    "Amelie Gillette",
                    "Jon Vitti",
                    "Daniel Chun",
                    "Mindy Kaling",
                    "Greg Daniels",
                    "Charlie Grandy",
                    "Justin Spitzer",
                    "Paul Lieberstein",
                    "B. J. Novak",
                    "Paul Lieberstein",
                    "Charlie Grandy",
                    "Justin Spitzer",
                    "Carrie Kemper",
                    "Daniel Chun",
                    "Allison Silverman",
                    "Robert Padnick",
                    "Dan Greaney",
                    "Mindy Kaling",
                    "Steve Hely",
                    "Owen Ellickson",
                    "Aaron Shure",
                    "Amelie Gillette",
                    "Daniel Chun",
                    "Halsted Sullivan | Warren Lieberstein",
                    "Mindy Kaling",
                    "Robert Padnick",
                    "Charlie Grandy",
                    "Steve Hely",
                    "Justin Spitzer",
                    "Owen Ellickson",
                    "Warren Lieberstein | Halsted Sullivan",
                    "B. J. Novak",
                    "Greg Daniels",
                    "Allison Silverman",
                    "Jonathan Green | Gabe Miller",
                    "Brent Forrester",
                    "Owen Ellickson",
                    "Dan Sterling",
                    "Carrie Kemper",
                    "Graham Wagner",
                    "Robert Padnick",
                    "Niki Schwartz-Wright",
                    "Dan Greaney",
                    "Jonathan Green | Gabe Miller",
                    "Carrie Kemper",
                    "Owen Ellickson",
                    "Allison Silverman",
                    "Graham Wagner",
                    "Paul Lieberstein",
                    "Tim McAuliffe",
                    "Dan Sterling",
                    "Halsted Sullivan | Warren Lieberstein",
                    "Niki Schwartz-Wright",
                    "Brent Forrester",
                    "Greg Daniels"
                  ],
                  "yaxis": "y"
                }
              ],
              "layout": {
                "coloraxis": {
                  "colorbar": {
                    "title": {
                      "text": "Season"
                    }
                  },
                  "colorscale": [
                    [
                      0,
                      "#0d0887"
                    ],
                    [
                      0.1111111111111111,
                      "#46039f"
                    ],
                    [
                      0.2222222222222222,
                      "#7201a8"
                    ],
                    [
                      0.3333333333333333,
                      "#9c179e"
                    ],
                    [
                      0.4444444444444444,
                      "#bd3786"
                    ],
                    [
                      0.5555555555555556,
                      "#d8576b"
                    ],
                    [
                      0.6666666666666666,
                      "#ed7953"
                    ],
                    [
                      0.7777777777777778,
                      "#fb9f3a"
                    ],
                    [
                      0.8888888888888888,
                      "#fdca26"
                    ],
                    [
                      1,
                      "#f0f921"
                    ]
                  ]
                },
                "legend": {
                  "tracegroupgap": 0
                },
                "template": {
                  "data": {
                    "bar": [
                      {
                        "error_x": {
                          "color": "#2a3f5f"
                        },
                        "error_y": {
                          "color": "#2a3f5f"
                        },
                        "marker": {
                          "line": {
                            "color": "#E5ECF6",
                            "width": 0.5
                          }
                        },
                        "type": "bar"
                      }
                    ],
                    "barpolar": [
                      {
                        "marker": {
                          "line": {
                            "color": "#E5ECF6",
                            "width": 0.5
                          }
                        },
                        "type": "barpolar"
                      }
                    ],
                    "carpet": [
                      {
                        "aaxis": {
                          "endlinecolor": "#2a3f5f",
                          "gridcolor": "white",
                          "linecolor": "white",
                          "minorgridcolor": "white",
                          "startlinecolor": "#2a3f5f"
                        },
                        "baxis": {
                          "endlinecolor": "#2a3f5f",
                          "gridcolor": "white",
                          "linecolor": "white",
                          "minorgridcolor": "white",
                          "startlinecolor": "#2a3f5f"
                        },
                        "type": "carpet"
                      }
                    ],
                    "choropleth": [
                      {
                        "colorbar": {
                          "outlinewidth": 0,
                          "ticks": ""
                        },
                        "type": "choropleth"
                      }
                    ],
                    "contour": [
                      {
                        "colorbar": {
                          "outlinewidth": 0,
                          "ticks": ""
                        },
                        "colorscale": [
                          [
                            0,
                            "#0d0887"
                          ],
                          [
                            0.1111111111111111,
                            "#46039f"
                          ],
                          [
                            0.2222222222222222,
                            "#7201a8"
                          ],
                          [
                            0.3333333333333333,
                            "#9c179e"
                          ],
                          [
                            0.4444444444444444,
                            "#bd3786"
                          ],
                          [
                            0.5555555555555556,
                            "#d8576b"
                          ],
                          [
                            0.6666666666666666,
                            "#ed7953"
                          ],
                          [
                            0.7777777777777778,
                            "#fb9f3a"
                          ],
                          [
                            0.8888888888888888,
                            "#fdca26"
                          ],
                          [
                            1,
                            "#f0f921"
                          ]
                        ],
                        "type": "contour"
                      }
                    ],
                    "contourcarpet": [
                      {
                        "colorbar": {
                          "outlinewidth": 0,
                          "ticks": ""
                        },
                        "type": "contourcarpet"
                      }
                    ],
                    "heatmap": [
                      {
                        "colorbar": {
                          "outlinewidth": 0,
                          "ticks": ""
                        },
                        "colorscale": [
                          [
                            0,
                            "#0d0887"
                          ],
                          [
                            0.1111111111111111,
                            "#46039f"
                          ],
                          [
                            0.2222222222222222,
                            "#7201a8"
                          ],
                          [
                            0.3333333333333333,
                            "#9c179e"
                          ],
                          [
                            0.4444444444444444,
                            "#bd3786"
                          ],
                          [
                            0.5555555555555556,
                            "#d8576b"
                          ],
                          [
                            0.6666666666666666,
                            "#ed7953"
                          ],
                          [
                            0.7777777777777778,
                            "#fb9f3a"
                          ],
                          [
                            0.8888888888888888,
                            "#fdca26"
                          ],
                          [
                            1,
                            "#f0f921"
                          ]
                        ],
                        "type": "heatmap"
                      }
                    ],
                    "heatmapgl": [
                      {
                        "colorbar": {
                          "outlinewidth": 0,
                          "ticks": ""
                        },
                        "colorscale": [
                          [
                            0,
                            "#0d0887"
                          ],
                          [
                            0.1111111111111111,
                            "#46039f"
                          ],
                          [
                            0.2222222222222222,
                            "#7201a8"
                          ],
                          [
                            0.3333333333333333,
                            "#9c179e"
                          ],
                          [
                            0.4444444444444444,
                            "#bd3786"
                          ],
                          [
                            0.5555555555555556,
                            "#d8576b"
                          ],
                          [
                            0.6666666666666666,
                            "#ed7953"
                          ],
                          [
                            0.7777777777777778,
                            "#fb9f3a"
                          ],
                          [
                            0.8888888888888888,
                            "#fdca26"
                          ],
                          [
                            1,
                            "#f0f921"
                          ]
                        ],
                        "type": "heatmapgl"
                      }
                    ],
                    "histogram": [
                      {
                        "marker": {
                          "colorbar": {
                            "outlinewidth": 0,
                            "ticks": ""
                          }
                        },
                        "type": "histogram"
                      }
                    ],
                    "histogram2d": [
                      {
                        "colorbar": {
                          "outlinewidth": 0,
                          "ticks": ""
                        },
                        "colorscale": [
                          [
                            0,
                            "#0d0887"
                          ],
                          [
                            0.1111111111111111,
                            "#46039f"
                          ],
                          [
                            0.2222222222222222,
                            "#7201a8"
                          ],
                          [
                            0.3333333333333333,
                            "#9c179e"
                          ],
                          [
                            0.4444444444444444,
                            "#bd3786"
                          ],
                          [
                            0.5555555555555556,
                            "#d8576b"
                          ],
                          [
                            0.6666666666666666,
                            "#ed7953"
                          ],
                          [
                            0.7777777777777778,
                            "#fb9f3a"
                          ],
                          [
                            0.8888888888888888,
                            "#fdca26"
                          ],
                          [
                            1,
                            "#f0f921"
                          ]
                        ],
                        "type": "histogram2d"
                      }
                    ],
                    "histogram2dcontour": [
                      {
                        "colorbar": {
                          "outlinewidth": 0,
                          "ticks": ""
                        },
                        "colorscale": [
                          [
                            0,
                            "#0d0887"
                          ],
                          [
                            0.1111111111111111,
                            "#46039f"
                          ],
                          [
                            0.2222222222222222,
                            "#7201a8"
                          ],
                          [
                            0.3333333333333333,
                            "#9c179e"
                          ],
                          [
                            0.4444444444444444,
                            "#bd3786"
                          ],
                          [
                            0.5555555555555556,
                            "#d8576b"
                          ],
                          [
                            0.6666666666666666,
                            "#ed7953"
                          ],
                          [
                            0.7777777777777778,
                            "#fb9f3a"
                          ],
                          [
                            0.8888888888888888,
                            "#fdca26"
                          ],
                          [
                            1,
                            "#f0f921"
                          ]
                        ],
                        "type": "histogram2dcontour"
                      }
                    ],
                    "mesh3d": [
                      {
                        "colorbar": {
                          "outlinewidth": 0,
                          "ticks": ""
                        },
                        "type": "mesh3d"
                      }
                    ],
                    "parcoords": [
                      {
                        "line": {
                          "colorbar": {
                            "outlinewidth": 0,
                            "ticks": ""
                          }
                        },
                        "type": "parcoords"
                      }
                    ],
                    "pie": [
                      {
                        "automargin": true,
                        "type": "pie"
                      }
                    ],
                    "scatter": [
                      {
                        "marker": {
                          "colorbar": {
                            "outlinewidth": 0,
                            "ticks": ""
                          }
                        },
                        "type": "scatter"
                      }
                    ],
                    "scatter3d": [
                      {
                        "line": {
                          "colorbar": {
                            "outlinewidth": 0,
                            "ticks": ""
                          }
                        },
                        "marker": {
                          "colorbar": {
                            "outlinewidth": 0,
                            "ticks": ""
                          }
                        },
                        "type": "scatter3d"
                      }
                    ],
                    "scattercarpet": [
                      {
                        "marker": {
                          "colorbar": {
                            "outlinewidth": 0,
                            "ticks": ""
                          }
                        },
                        "type": "scattercarpet"
                      }
                    ],
                    "scattergeo": [
                      {
                        "marker": {
                          "colorbar": {
                            "outlinewidth": 0,
                            "ticks": ""
                          }
                        },
                        "type": "scattergeo"
                      }
                    ],
                    "scattergl": [
                      {
                        "marker": {
                          "colorbar": {
                            "outlinewidth": 0,
                            "ticks": ""
                          }
                        },
                        "type": "scattergl"
                      }
                    ],
                    "scattermapbox": [
                      {
                        "marker": {
                          "colorbar": {
                            "outlinewidth": 0,
                            "ticks": ""
                          }
                        },
                        "type": "scattermapbox"
                      }
                    ],
                    "scatterpolar": [
                      {
                        "marker": {
                          "colorbar": {
                            "outlinewidth": 0,
                            "ticks": ""
                          }
                        },
                        "type": "scatterpolar"
                      }
                    ],
                    "scatterpolargl": [
                      {
                        "marker": {
                          "colorbar": {
                            "outlinewidth": 0,
                            "ticks": ""
                          }
                        },
                        "type": "scatterpolargl"
                      }
                    ],
                    "scatterternary": [
                      {
                        "marker": {
                          "colorbar": {
                            "outlinewidth": 0,
                            "ticks": ""
                          }
                        },
                        "type": "scatterternary"
                      }
                    ],
                    "surface": [
                      {
                        "colorbar": {
                          "outlinewidth": 0,
                          "ticks": ""
                        },
                        "colorscale": [
                          [
                            0,
                            "#0d0887"
                          ],
                          [
                            0.1111111111111111,
                            "#46039f"
                          ],
                          [
                            0.2222222222222222,
                            "#7201a8"
                          ],
                          [
                            0.3333333333333333,
                            "#9c179e"
                          ],
                          [
                            0.4444444444444444,
                            "#bd3786"
                          ],
                          [
                            0.5555555555555556,
                            "#d8576b"
                          ],
                          [
                            0.6666666666666666,
                            "#ed7953"
                          ],
                          [
                            0.7777777777777778,
                            "#fb9f3a"
                          ],
                          [
                            0.8888888888888888,
                            "#fdca26"
                          ],
                          [
                            1,
                            "#f0f921"
                          ]
                        ],
                        "type": "surface"
                      }
                    ],
                    "table": [
                      {
                        "cells": {
                          "fill": {
                            "color": "#EBF0F8"
                          },
                          "line": {
                            "color": "white"
                          }
                        },
                        "header": {
                          "fill": {
                            "color": "#C8D4E3"
                          },
                          "line": {
                            "color": "white"
                          }
                        },
                        "type": "table"
                      }
                    ]
                  },
                  "layout": {
                    "annotationdefaults": {
                      "arrowcolor": "#2a3f5f",
                      "arrowhead": 0,
                      "arrowwidth": 1
                    },
                    "autotypenumbers": "strict",
                    "coloraxis": {
                      "colorbar": {
                        "outlinewidth": 0,
                        "ticks": ""
                      }
                    },
                    "colorscale": {
                      "diverging": [
                        [
                          0,
                          "#8e0152"
                        ],
                        [
                          0.1,
                          "#c51b7d"
                        ],
                        [
                          0.2,
                          "#de77ae"
                        ],
                        [
                          0.3,
                          "#f1b6da"
                        ],
                        [
                          0.4,
                          "#fde0ef"
                        ],
                        [
                          0.5,
                          "#f7f7f7"
                        ],
                        [
                          0.6,
                          "#e6f5d0"
                        ],
                        [
                          0.7,
                          "#b8e186"
                        ],
                        [
                          0.8,
                          "#7fbc41"
                        ],
                        [
                          0.9,
                          "#4d9221"
                        ],
                        [
                          1,
                          "#276419"
                        ]
                      ],
                      "sequential": [
                        [
                          0,
                          "#0d0887"
                        ],
                        [
                          0.1111111111111111,
                          "#46039f"
                        ],
                        [
                          0.2222222222222222,
                          "#7201a8"
                        ],
                        [
                          0.3333333333333333,
                          "#9c179e"
                        ],
                        [
                          0.4444444444444444,
                          "#bd3786"
                        ],
                        [
                          0.5555555555555556,
                          "#d8576b"
                        ],
                        [
                          0.6666666666666666,
                          "#ed7953"
                        ],
                        [
                          0.7777777777777778,
                          "#fb9f3a"
                        ],
                        [
                          0.8888888888888888,
                          "#fdca26"
                        ],
                        [
                          1,
                          "#f0f921"
                        ]
                      ],
                      "sequentialminus": [
                        [
                          0,
                          "#0d0887"
                        ],
                        [
                          0.1111111111111111,
                          "#46039f"
                        ],
                        [
                          0.2222222222222222,
                          "#7201a8"
                        ],
                        [
                          0.3333333333333333,
                          "#9c179e"
                        ],
                        [
                          0.4444444444444444,
                          "#bd3786"
                        ],
                        [
                          0.5555555555555556,
                          "#d8576b"
                        ],
                        [
                          0.6666666666666666,
                          "#ed7953"
                        ],
                        [
                          0.7777777777777778,
                          "#fb9f3a"
                        ],
                        [
                          0.8888888888888888,
                          "#fdca26"
                        ],
                        [
                          1,
                          "#f0f921"
                        ]
                      ]
                    },
                    "colorway": [
                      "#636efa",
                      "#EF553B",
                      "#00cc96",
                      "#ab63fa",
                      "#FFA15A",
                      "#19d3f3",
                      "#FF6692",
                      "#B6E880",
                      "#FF97FF",
                      "#FECB52"
                    ],
                    "font": {
                      "color": "#2a3f5f"
                    },
                    "geo": {
                      "bgcolor": "white",
                      "lakecolor": "white",
                      "landcolor": "#E5ECF6",
                      "showlakes": true,
                      "showland": true,
                      "subunitcolor": "white"
                    },
                    "hoverlabel": {
                      "align": "left"
                    },
                    "hovermode": "closest",
                    "mapbox": {
                      "style": "light"
                    },
                    "paper_bgcolor": "white",
                    "plot_bgcolor": "#E5ECF6",
                    "polar": {
                      "angularaxis": {
                        "gridcolor": "white",
                        "linecolor": "white",
                        "ticks": ""
                      },
                      "bgcolor": "#E5ECF6",
                      "radialaxis": {
                        "gridcolor": "white",
                        "linecolor": "white",
                        "ticks": ""
                      }
                    },
                    "scene": {
                      "xaxis": {
                        "backgroundcolor": "#E5ECF6",
                        "gridcolor": "white",
                        "gridwidth": 2,
                        "linecolor": "white",
                        "showbackground": true,
                        "ticks": "",
                        "zerolinecolor": "white"
                      },
                      "yaxis": {
                        "backgroundcolor": "#E5ECF6",
                        "gridcolor": "white",
                        "gridwidth": 2,
                        "linecolor": "white",
                        "showbackground": true,
                        "ticks": "",
                        "zerolinecolor": "white"
                      },
                      "zaxis": {
                        "backgroundcolor": "#E5ECF6",
                        "gridcolor": "white",
                        "gridwidth": 2,
                        "linecolor": "white",
                        "showbackground": true,
                        "ticks": "",
                        "zerolinecolor": "white"
                      }
                    },
                    "shapedefaults": {
                      "line": {
                        "color": "#2a3f5f"
                      }
                    },
                    "ternary": {
                      "aaxis": {
                        "gridcolor": "white",
                        "linecolor": "white",
                        "ticks": ""
                      },
                      "baxis": {
                        "gridcolor": "white",
                        "linecolor": "white",
                        "ticks": ""
                      },
                      "bgcolor": "#E5ECF6",
                      "caxis": {
                        "gridcolor": "white",
                        "linecolor": "white",
                        "ticks": ""
                      }
                    },
                    "title": {
                      "x": 0.05
                    },
                    "xaxis": {
                      "automargin": true,
                      "gridcolor": "white",
                      "linecolor": "white",
                      "ticks": "",
                      "title": {
                        "standoff": 15
                      },
                      "zerolinecolor": "white",
                      "zerolinewidth": 2
                    },
                    "yaxis": {
                      "automargin": true,
                      "gridcolor": "white",
                      "linecolor": "white",
                      "ticks": "",
                      "title": {
                        "standoff": 15
                      },
                      "zerolinecolor": "white",
                      "zerolinewidth": 2
                    }
                  }
                },
                "title": {
                  "text": "The Office Episode Ratings by Writer"
                },
                "xaxis": {
                  "anchor": "y",
                  "domain": [
                    0,
                    1
                  ],
                  "title": {
                    "text": "Ratings"
                  }
                },
                "yaxis": {
                  "anchor": "x",
                  "domain": [
                    0,
                    1
                  ],
                  "title": {
                    "text": "Writers"
                  }
                }
              }
            },
            "text/html": "<div>                            <div id=\"909c5055-6af5-4ede-805a-0c2ffc2916d3\" class=\"plotly-graph-div\" style=\"height:525px; width:100%;\"></div>            <script type=\"text/javascript\">                require([\"plotly\"], function(Plotly) {                    window.PLOTLYENV=window.PLOTLYENV || {};                                    if (document.getElementById(\"909c5055-6af5-4ede-805a-0c2ffc2916d3\")) {                    Plotly.newPlot(                        \"909c5055-6af5-4ede-805a-0c2ffc2916d3\",                        [{\"hovertemplate\": \"<b>%{hovertext}</b><br><br>Ratings=%{x}<br>Writers=%{y}<br>Season=%{marker.color}<extra></extra>\", \"hovertext\": [\"Ricky Gervais |Stephen Merchant and Greg Daniels\", \"B. J. Novak\", \"Paul Lieberstein\", \"Michael Schur\", \"Greg Daniels\", \"Mindy Kaling\", \"Mindy Kaling\", \"B. J. Novak\", \"Michael Schur\", \"B. J. Novak\", \"Greg Daniels\", \"Gene Stupnitsky | Lee Eisenberg\", \"Paul Lieberstein\", \"Larry Wilmore\", \"Jennifer Celotta\", \"Michael Schur\", \"Greg Daniels\", \"Mindy Kaling\", \"Lee Eisenberg | Gene Stupnitsky\", \"Paul Lieberstein\", \"B. J. Novak\", \"Michael Schur\", \"Paul Lieberstein\", \"Mindy Kaling\", \"Gene Stupnitsky | Lee Eisenberg\", \"Jennifer Celotta\", \"Greg Daniels\", \"Steve Carell\", \"Greg Daniels\", \"Gene Stupnitsky | Lee Eisenberg\", \"Paul Lieberstein\", \"Jennifer Celotta\", \"B. J. Novak\", \"Mindy Kaling\", \"Michael Schur\", \"Brent Forrester\", \"Ricky Gervais | Stephen Merchant\", \"Jennifer Celotta\", \"Justin Spitzer\", \"Michael Schur | Lee Eisenberg | Gene Stupnitsky\", \"Lee Eisenberg | Gene Stupnitsky | Michael Schur\", \"Mindy Kaling\", \"Caroline Williams\", \"Brent Forrester\", \"Paul Lieberstein\", \"Michael Schur\", \"B. J. Novak\", \"Justin Spitzer | Brent Forrester\", \"Gene Stupnitsky | Lee Eisenberg\", \"Jennifer Celotta | Greg Daniels\", \"Paul Lieberstein | Michael Schur\", \"Greg Daniels\", \"Michael Schur\", \"Jennifer Celotta\", \"Paul Lieberstein\", \"B. J. Novak\", \"Mindy Kaling\", \"Steve Carell\", \"Lester Lewis\", \"Gene Stupnitsky | Lee Eisenberg\", \"B. J. Novak\", \"Mindy Kaling\", \"Brent Forrester | Justin Spitzer\", \"Lee Eisenberg | Gene Stupnitsky\", \"Jennifer Celotta | Paul Lieberstein\", \"Lee Eisenberg | Gene Stupnitsky\", \"Ryan Koh\", \"Aaron Shure\", \"Charlie Grandy\", \"Anthony Q. Farrell\", \"Lester Lewis\", \"Brent Forrester\", \"Mindy Kaling\", \"Gene Stupnitsky | Lee Eisenberg\", \"Justin Spitzer\", \"Jennifer Celotta\", \"B. J. Novak\", \"Paul Lieberstein\", \"Mindy Kaling\", \"Mindy Kaling\", \"Brent Forrester\", \"Mindy Kaling\", \"Lee Eisenberg | Gene Stupnitsky\", \"Aaron Shure\", \"B. J. Novak\", \"Justin Spitzer\", \"Ryan Koh\", \"Charlie Grandy\", \"Anthony Q. Farrell\", \"Warren Lieberstein | Halsted Sullivan\", \"Jennifer Celotta | Paul Lieberstein\", \"Paul Lieberstein\", \"Aaron Shure\", \"Jennifer Celotta\", \"Greg Daniels | Mindy Kaling\", \"Greg Daniels | Mindy Kaling\", \"Brent Forrester\", \"Lee Eisenberg | Gene Stupnitsky\", \"Warren Lieberstein | Halsted Sullivan\", \"Charlie Grandy\", \"Daniel Chun\", \"Justin Spitzer\", \"Gene Stupnitsky | Lee Eisenberg\", \"Mindy Kaling\", \"Jason Kessler\", \"Jennifer Celotta\", \"Mindy Kaling\", \"Daniel Chun\", \"Daniel Chun\", \"Jonathan Hughes\", \"Brent Forrester\", \"B. J. Novak\", \"Mindy Kaling\", \"Justin Spitzer\", \"Gene Stupnitsky | Lee Eisenberg\", \"Aaron Shure\", \"Warren Lieberstein | Halsted Sullivan\", \"Daniel Chun\", \"B. J. Novak\", \"Charlie Grandy\", \"Paul Lieberstein\", \"Mindy Kaling\", \"Justin Spitzer\", \"Peter Ocko\", \"Jon Vitti\", \"Aaron Shure\", \"Halsted Sullivan | Warren Lieberstein\", \"Mindy Kaling\", \"Carrie Kemper\", \"Steve Hely\", \"Brent Forrester\", \"Robert Padnick\", \"B. J. Novak\", \"Amelie Gillette\", \"Jon Vitti\", \"Daniel Chun\", \"Mindy Kaling\", \"Greg Daniels\", \"Charlie Grandy\", \"Justin Spitzer\", \"Paul Lieberstein\", \"B. J. Novak\", \"Paul Lieberstein\", \"Charlie Grandy\", \"Justin Spitzer\", \"Carrie Kemper\", \"Daniel Chun\", \"Allison Silverman\", \"Robert Padnick\", \"Dan Greaney\", \"Mindy Kaling\", \"Steve Hely\", \"Owen Ellickson\", \"Aaron Shure\", \"Amelie Gillette\", \"Daniel Chun\", \"Halsted Sullivan | Warren Lieberstein\", \"Mindy Kaling\", \"Robert Padnick\", \"Charlie Grandy\", \"Steve Hely\", \"Justin Spitzer\", \"Owen Ellickson\", \"Warren Lieberstein | Halsted Sullivan\", \"B. J. Novak\", \"Greg Daniels\", \"Allison Silverman\", \"Jonathan Green | Gabe Miller\", \"Brent Forrester\", \"Owen Ellickson\", \"Dan Sterling\", \"Carrie Kemper\", \"Graham Wagner\", \"Robert Padnick\", \"Niki Schwartz-Wright\", \"Dan Greaney\", \"Jonathan Green | Gabe Miller\", \"Carrie Kemper\", \"Owen Ellickson\", \"Allison Silverman\", \"Graham Wagner\", \"Paul Lieberstein\", \"Tim McAuliffe\", \"Dan Sterling\", \"Halsted Sullivan | Warren Lieberstein\", \"Niki Schwartz-Wright\", \"Brent Forrester\", \"Greg Daniels\"], \"legendgroup\": \"\", \"marker\": {\"color\": [1, 1, 1, 1, 1, 1, 2, 2, 2, 2, 2, 2, 2, 2, 2, 2, 2, 2, 2, 2, 2, 2, 2, 2, 2, 2, 2, 2, 3, 3, 3, 3, 3, 3, 3, 3, 3, 3, 3, 3, 3, 3, 3, 3, 3, 3, 3, 3, 3, 3, 3, 4, 4, 4, 4, 4, 4, 4, 4, 4, 4, 4, 4, 4, 4, 5, 5, 5, 5, 5, 5, 5, 5, 5, 5, 5, 5, 5, 5, 5, 5, 5, 5, 5, 5, 5, 5, 5, 5, 5, 5, 6, 6, 6, 6, 6, 6, 6, 6, 6, 6, 6, 6, 6, 6, 6, 6, 6, 6, 6, 6, 6, 6, 6, 6, 6, 6, 7, 7, 7, 7, 7, 7, 7, 7, 7, 7, 7, 7, 7, 7, 7, 7, 7, 7, 7, 7, 7, 7, 7, 7, 8, 8, 8, 8, 8, 8, 8, 8, 8, 8, 8, 8, 8, 8, 8, 8, 8, 8, 8, 8, 8, 8, 8, 8, 9, 9, 9, 9, 9, 9, 9, 9, 9, 9, 9, 9, 9, 9, 9, 9, 9, 9, 9, 9, 9, 9, 9], \"coloraxis\": \"coloraxis\", \"symbol\": \"circle\"}, \"mode\": \"markers\", \"name\": \"\", \"orientation\": \"h\", \"showlegend\": false, \"type\": \"scatter\", \"x\": [7.5, 8.3, 7.8, 8.1, 8.4, 7.7, 8.7, 8.2, 8.4, 8.4, 8.1, 8.1, 8.6, 8.2, 8.4, 8.9, 8.6, 9.1, 8.3, 7.8, 8.2, 8.3, 8.5, 8.3, 8.1, 8.4, 8.7, 9.4, 9.0, 8.2, 8.5, 8.0, 8.1, 7.9, 8.6, 8.7, 8.3, 8.8, 8.5, 8.6, 8.8, 8.1, 8.2, 8.9, 8.5, 9.0, 8.8, 8.7, 8.8, 9.2, 9.3, 8.8, 8.3, 8.4, 8.7, 8.8, 8.5, 8.2, 8.7, 9.5, 8.0, 8.6, 8.3, 7.8, 9.3, 8.8, 8.3, 8.0, 8.1, 8.0, 8.5, 8.2, 8.6, 8.8, 8.4, 8.7, 8.0, 9.7, 8.2, 8.1, 8.0, 8.7, 8.3, 8.4, 8.3, 8.7, 8.7, 9.2, 8.3, 8.7, 9.0, 8.8, 8.1, 8.0, 9.4, 9.4, 7.6, 8.6, 8.2, 8.1, 8.7, 8.2, 8.3, 8.5, 6.8, 7.7, 8.1, 8.4, 8.5, 7.7, 7.7, 8.6, 7.8, 8.0, 8.1, 7.8, 8.0, 8.4, 8.2, 8.2, 7.8, 7.8, 8.2, 7.4, 7.8, 7.7, 8.2, 9.0, 8.3, 7.6, 8.5, 8.4, 9.4, 7.5, 9.3, 7.8, 9.0, 9.8, 7.6, 8.7, 8.8, 8.1, 8.1, 7.3, 8.1, 7.5, 7.7, 7.7, 6.9, 7.7, 7.9, 7.9, 8.0, 7.4, 7.7, 7.8, 8.1, 7.8, 7.8, 6.6, 7.1, 7.0, 7.0, 7.6, 7.7, 7.6, 7.1, 7.4, 7.8, 7.0, 7.7, 7.6, 7.8, 8.4, 7.6, 7.8, 7.9, 7.6, 7.5, 7.3, 8.1, 7.5, 8.0, 8.0, 8.0, 9.0, 9.5, 9.8], \"xaxis\": \"x\", \"y\": [\"Ricky Gervais |Stephen Merchant and Greg Daniels\", \"B. J. Novak\", \"Paul Lieberstein\", \"Michael Schur\", \"Greg Daniels\", \"Mindy Kaling\", \"Mindy Kaling\", \"B. J. Novak\", \"Michael Schur\", \"B. J. Novak\", \"Greg Daniels\", \"Gene Stupnitsky | Lee Eisenberg\", \"Paul Lieberstein\", \"Larry Wilmore\", \"Jennifer Celotta\", \"Michael Schur\", \"Greg Daniels\", \"Mindy Kaling\", \"Lee Eisenberg | Gene Stupnitsky\", \"Paul Lieberstein\", \"B. J. Novak\", \"Michael Schur\", \"Paul Lieberstein\", \"Mindy Kaling\", \"Gene Stupnitsky | Lee Eisenberg\", \"Jennifer Celotta\", \"Greg Daniels\", \"Steve Carell\", \"Greg Daniels\", \"Gene Stupnitsky | Lee Eisenberg\", \"Paul Lieberstein\", \"Jennifer Celotta\", \"B. J. Novak\", \"Mindy Kaling\", \"Michael Schur\", \"Brent Forrester\", \"Ricky Gervais | Stephen Merchant\", \"Jennifer Celotta\", \"Justin Spitzer\", \"Michael Schur | Lee Eisenberg | Gene Stupnitsky\", \"Lee Eisenberg | Gene Stupnitsky | Michael Schur\", \"Mindy Kaling\", \"Caroline Williams\", \"Brent Forrester\", \"Paul Lieberstein\", \"Michael Schur\", \"B. J. Novak\", \"Justin Spitzer | Brent Forrester\", \"Gene Stupnitsky | Lee Eisenberg\", \"Jennifer Celotta | Greg Daniels\", \"Paul Lieberstein | Michael Schur\", \"Greg Daniels\", \"Michael Schur\", \"Jennifer Celotta\", \"Paul Lieberstein\", \"B. J. Novak\", \"Mindy Kaling\", \"Steve Carell\", \"Lester Lewis\", \"Gene Stupnitsky | Lee Eisenberg\", \"B. J. Novak\", \"Mindy Kaling\", \"Brent Forrester | Justin Spitzer\", \"Lee Eisenberg | Gene Stupnitsky\", \"Jennifer Celotta | Paul Lieberstein\", \"Lee Eisenberg | Gene Stupnitsky\", \"Ryan Koh\", \"Aaron Shure\", \"Charlie Grandy\", \"Anthony Q. Farrell\", \"Lester Lewis\", \"Brent Forrester\", \"Mindy Kaling\", \"Gene Stupnitsky | Lee Eisenberg\", \"Justin Spitzer\", \"Jennifer Celotta\", \"B. J. Novak\", \"Paul Lieberstein\", \"Mindy Kaling\", \"Mindy Kaling\", \"Brent Forrester\", \"Mindy Kaling\", \"Lee Eisenberg | Gene Stupnitsky\", \"Aaron Shure\", \"B. J. Novak\", \"Justin Spitzer\", \"Ryan Koh\", \"Charlie Grandy\", \"Anthony Q. Farrell\", \"Warren Lieberstein | Halsted Sullivan\", \"Jennifer Celotta | Paul Lieberstein\", \"Paul Lieberstein\", \"Aaron Shure\", \"Jennifer Celotta\", \"Greg Daniels | Mindy Kaling\", \"Greg Daniels | Mindy Kaling\", \"Brent Forrester\", \"Lee Eisenberg | Gene Stupnitsky\", \"Warren Lieberstein | Halsted Sullivan\", \"Charlie Grandy\", \"Daniel Chun\", \"Justin Spitzer\", \"Gene Stupnitsky | Lee Eisenberg\", \"Mindy Kaling\", \"Jason Kessler\", \"Jennifer Celotta\", \"Mindy Kaling\", \"Daniel Chun\", \"Daniel Chun\", \"Jonathan Hughes\", \"Brent Forrester\", \"B. J. Novak\", \"Mindy Kaling\", \"Justin Spitzer\", \"Gene Stupnitsky | Lee Eisenberg\", \"Aaron Shure\", \"Warren Lieberstein | Halsted Sullivan\", \"Daniel Chun\", \"B. J. Novak\", \"Charlie Grandy\", \"Paul Lieberstein\", \"Mindy Kaling\", \"Justin Spitzer\", \"Peter Ocko\", \"Jon Vitti\", \"Aaron Shure\", \"Halsted Sullivan | Warren Lieberstein\", \"Mindy Kaling\", \"Carrie Kemper\", \"Steve Hely\", \"Brent Forrester\", \"Robert Padnick\", \"B. J. Novak\", \"Amelie Gillette\", \"Jon Vitti\", \"Daniel Chun\", \"Mindy Kaling\", \"Greg Daniels\", \"Charlie Grandy\", \"Justin Spitzer\", \"Paul Lieberstein\", \"B. J. Novak\", \"Paul Lieberstein\", \"Charlie Grandy\", \"Justin Spitzer\", \"Carrie Kemper\", \"Daniel Chun\", \"Allison Silverman\", \"Robert Padnick\", \"Dan Greaney\", \"Mindy Kaling\", \"Steve Hely\", \"Owen Ellickson\", \"Aaron Shure\", \"Amelie Gillette\", \"Daniel Chun\", \"Halsted Sullivan | Warren Lieberstein\", \"Mindy Kaling\", \"Robert Padnick\", \"Charlie Grandy\", \"Steve Hely\", \"Justin Spitzer\", \"Owen Ellickson\", \"Warren Lieberstein | Halsted Sullivan\", \"B. J. Novak\", \"Greg Daniels\", \"Allison Silverman\", \"Jonathan Green | Gabe Miller\", \"Brent Forrester\", \"Owen Ellickson\", \"Dan Sterling\", \"Carrie Kemper\", \"Graham Wagner\", \"Robert Padnick\", \"Niki Schwartz-Wright\", \"Dan Greaney\", \"Jonathan Green | Gabe Miller\", \"Carrie Kemper\", \"Owen Ellickson\", \"Allison Silverman\", \"Graham Wagner\", \"Paul Lieberstein\", \"Tim McAuliffe\", \"Dan Sterling\", \"Halsted Sullivan | Warren Lieberstein\", \"Niki Schwartz-Wright\", \"Brent Forrester\", \"Greg Daniels\"], \"yaxis\": \"y\"}],                        {\"coloraxis\": {\"colorbar\": {\"title\": {\"text\": \"Season\"}}, \"colorscale\": [[0.0, \"#0d0887\"], [0.1111111111111111, \"#46039f\"], [0.2222222222222222, \"#7201a8\"], [0.3333333333333333, \"#9c179e\"], [0.4444444444444444, \"#bd3786\"], [0.5555555555555556, \"#d8576b\"], [0.6666666666666666, \"#ed7953\"], [0.7777777777777778, \"#fb9f3a\"], [0.8888888888888888, \"#fdca26\"], [1.0, \"#f0f921\"]]}, \"legend\": {\"tracegroupgap\": 0}, \"template\": {\"data\": {\"bar\": [{\"error_x\": {\"color\": \"#2a3f5f\"}, \"error_y\": {\"color\": \"#2a3f5f\"}, \"marker\": {\"line\": {\"color\": \"#E5ECF6\", \"width\": 0.5}}, \"type\": \"bar\"}], \"barpolar\": [{\"marker\": {\"line\": {\"color\": \"#E5ECF6\", \"width\": 0.5}}, \"type\": \"barpolar\"}], \"carpet\": [{\"aaxis\": {\"endlinecolor\": \"#2a3f5f\", \"gridcolor\": \"white\", \"linecolor\": \"white\", \"minorgridcolor\": \"white\", \"startlinecolor\": \"#2a3f5f\"}, \"baxis\": {\"endlinecolor\": \"#2a3f5f\", \"gridcolor\": \"white\", \"linecolor\": \"white\", \"minorgridcolor\": \"white\", \"startlinecolor\": \"#2a3f5f\"}, \"type\": \"carpet\"}], \"choropleth\": [{\"colorbar\": {\"outlinewidth\": 0, \"ticks\": \"\"}, \"type\": \"choropleth\"}], \"contour\": [{\"colorbar\": {\"outlinewidth\": 0, \"ticks\": \"\"}, \"colorscale\": [[0.0, \"#0d0887\"], [0.1111111111111111, \"#46039f\"], [0.2222222222222222, \"#7201a8\"], [0.3333333333333333, \"#9c179e\"], [0.4444444444444444, \"#bd3786\"], [0.5555555555555556, \"#d8576b\"], [0.6666666666666666, \"#ed7953\"], [0.7777777777777778, \"#fb9f3a\"], [0.8888888888888888, \"#fdca26\"], [1.0, \"#f0f921\"]], \"type\": \"contour\"}], \"contourcarpet\": [{\"colorbar\": {\"outlinewidth\": 0, \"ticks\": \"\"}, \"type\": \"contourcarpet\"}], \"heatmap\": [{\"colorbar\": {\"outlinewidth\": 0, \"ticks\": \"\"}, \"colorscale\": [[0.0, \"#0d0887\"], [0.1111111111111111, \"#46039f\"], [0.2222222222222222, \"#7201a8\"], [0.3333333333333333, \"#9c179e\"], [0.4444444444444444, \"#bd3786\"], [0.5555555555555556, \"#d8576b\"], [0.6666666666666666, \"#ed7953\"], [0.7777777777777778, \"#fb9f3a\"], [0.8888888888888888, \"#fdca26\"], [1.0, \"#f0f921\"]], \"type\": \"heatmap\"}], \"heatmapgl\": [{\"colorbar\": {\"outlinewidth\": 0, \"ticks\": \"\"}, \"colorscale\": [[0.0, \"#0d0887\"], [0.1111111111111111, \"#46039f\"], [0.2222222222222222, \"#7201a8\"], [0.3333333333333333, \"#9c179e\"], [0.4444444444444444, \"#bd3786\"], [0.5555555555555556, \"#d8576b\"], [0.6666666666666666, \"#ed7953\"], [0.7777777777777778, \"#fb9f3a\"], [0.8888888888888888, \"#fdca26\"], [1.0, \"#f0f921\"]], \"type\": \"heatmapgl\"}], \"histogram\": [{\"marker\": {\"colorbar\": {\"outlinewidth\": 0, \"ticks\": \"\"}}, \"type\": \"histogram\"}], \"histogram2d\": [{\"colorbar\": {\"outlinewidth\": 0, \"ticks\": \"\"}, \"colorscale\": [[0.0, \"#0d0887\"], [0.1111111111111111, \"#46039f\"], [0.2222222222222222, \"#7201a8\"], [0.3333333333333333, \"#9c179e\"], [0.4444444444444444, \"#bd3786\"], [0.5555555555555556, \"#d8576b\"], [0.6666666666666666, \"#ed7953\"], [0.7777777777777778, \"#fb9f3a\"], [0.8888888888888888, \"#fdca26\"], [1.0, \"#f0f921\"]], \"type\": \"histogram2d\"}], \"histogram2dcontour\": [{\"colorbar\": {\"outlinewidth\": 0, \"ticks\": \"\"}, \"colorscale\": [[0.0, \"#0d0887\"], [0.1111111111111111, \"#46039f\"], [0.2222222222222222, \"#7201a8\"], [0.3333333333333333, \"#9c179e\"], [0.4444444444444444, \"#bd3786\"], [0.5555555555555556, \"#d8576b\"], [0.6666666666666666, \"#ed7953\"], [0.7777777777777778, \"#fb9f3a\"], [0.8888888888888888, \"#fdca26\"], [1.0, \"#f0f921\"]], \"type\": \"histogram2dcontour\"}], \"mesh3d\": [{\"colorbar\": {\"outlinewidth\": 0, \"ticks\": \"\"}, \"type\": \"mesh3d\"}], \"parcoords\": [{\"line\": {\"colorbar\": {\"outlinewidth\": 0, \"ticks\": \"\"}}, \"type\": \"parcoords\"}], \"pie\": [{\"automargin\": true, \"type\": \"pie\"}], \"scatter\": [{\"marker\": {\"colorbar\": {\"outlinewidth\": 0, \"ticks\": \"\"}}, \"type\": \"scatter\"}], \"scatter3d\": [{\"line\": {\"colorbar\": {\"outlinewidth\": 0, \"ticks\": \"\"}}, \"marker\": {\"colorbar\": {\"outlinewidth\": 0, \"ticks\": \"\"}}, \"type\": \"scatter3d\"}], \"scattercarpet\": [{\"marker\": {\"colorbar\": {\"outlinewidth\": 0, \"ticks\": \"\"}}, \"type\": \"scattercarpet\"}], \"scattergeo\": [{\"marker\": {\"colorbar\": {\"outlinewidth\": 0, \"ticks\": \"\"}}, \"type\": \"scattergeo\"}], \"scattergl\": [{\"marker\": {\"colorbar\": {\"outlinewidth\": 0, \"ticks\": \"\"}}, \"type\": \"scattergl\"}], \"scattermapbox\": [{\"marker\": {\"colorbar\": {\"outlinewidth\": 0, \"ticks\": \"\"}}, \"type\": \"scattermapbox\"}], \"scatterpolar\": [{\"marker\": {\"colorbar\": {\"outlinewidth\": 0, \"ticks\": \"\"}}, \"type\": \"scatterpolar\"}], \"scatterpolargl\": [{\"marker\": {\"colorbar\": {\"outlinewidth\": 0, \"ticks\": \"\"}}, \"type\": \"scatterpolargl\"}], \"scatterternary\": [{\"marker\": {\"colorbar\": {\"outlinewidth\": 0, \"ticks\": \"\"}}, \"type\": \"scatterternary\"}], \"surface\": [{\"colorbar\": {\"outlinewidth\": 0, \"ticks\": \"\"}, \"colorscale\": [[0.0, \"#0d0887\"], [0.1111111111111111, \"#46039f\"], [0.2222222222222222, \"#7201a8\"], [0.3333333333333333, \"#9c179e\"], [0.4444444444444444, \"#bd3786\"], [0.5555555555555556, \"#d8576b\"], [0.6666666666666666, \"#ed7953\"], [0.7777777777777778, \"#fb9f3a\"], [0.8888888888888888, \"#fdca26\"], [1.0, \"#f0f921\"]], \"type\": \"surface\"}], \"table\": [{\"cells\": {\"fill\": {\"color\": \"#EBF0F8\"}, \"line\": {\"color\": \"white\"}}, \"header\": {\"fill\": {\"color\": \"#C8D4E3\"}, \"line\": {\"color\": \"white\"}}, \"type\": \"table\"}]}, \"layout\": {\"annotationdefaults\": {\"arrowcolor\": \"#2a3f5f\", \"arrowhead\": 0, \"arrowwidth\": 1}, \"autotypenumbers\": \"strict\", \"coloraxis\": {\"colorbar\": {\"outlinewidth\": 0, \"ticks\": \"\"}}, \"colorscale\": {\"diverging\": [[0, \"#8e0152\"], [0.1, \"#c51b7d\"], [0.2, \"#de77ae\"], [0.3, \"#f1b6da\"], [0.4, \"#fde0ef\"], [0.5, \"#f7f7f7\"], [0.6, \"#e6f5d0\"], [0.7, \"#b8e186\"], [0.8, \"#7fbc41\"], [0.9, \"#4d9221\"], [1, \"#276419\"]], \"sequential\": [[0.0, \"#0d0887\"], [0.1111111111111111, \"#46039f\"], [0.2222222222222222, \"#7201a8\"], [0.3333333333333333, \"#9c179e\"], [0.4444444444444444, \"#bd3786\"], [0.5555555555555556, \"#d8576b\"], [0.6666666666666666, \"#ed7953\"], [0.7777777777777778, \"#fb9f3a\"], [0.8888888888888888, \"#fdca26\"], [1.0, \"#f0f921\"]], \"sequentialminus\": [[0.0, \"#0d0887\"], [0.1111111111111111, \"#46039f\"], [0.2222222222222222, \"#7201a8\"], [0.3333333333333333, \"#9c179e\"], [0.4444444444444444, \"#bd3786\"], [0.5555555555555556, \"#d8576b\"], [0.6666666666666666, \"#ed7953\"], [0.7777777777777778, \"#fb9f3a\"], [0.8888888888888888, \"#fdca26\"], [1.0, \"#f0f921\"]]}, \"colorway\": [\"#636efa\", \"#EF553B\", \"#00cc96\", \"#ab63fa\", \"#FFA15A\", \"#19d3f3\", \"#FF6692\", \"#B6E880\", \"#FF97FF\", \"#FECB52\"], \"font\": {\"color\": \"#2a3f5f\"}, \"geo\": {\"bgcolor\": \"white\", \"lakecolor\": \"white\", \"landcolor\": \"#E5ECF6\", \"showlakes\": true, \"showland\": true, \"subunitcolor\": \"white\"}, \"hoverlabel\": {\"align\": \"left\"}, \"hovermode\": \"closest\", \"mapbox\": {\"style\": \"light\"}, \"paper_bgcolor\": \"white\", \"plot_bgcolor\": \"#E5ECF6\", \"polar\": {\"angularaxis\": {\"gridcolor\": \"white\", \"linecolor\": \"white\", \"ticks\": \"\"}, \"bgcolor\": \"#E5ECF6\", \"radialaxis\": {\"gridcolor\": \"white\", \"linecolor\": \"white\", \"ticks\": \"\"}}, \"scene\": {\"xaxis\": {\"backgroundcolor\": \"#E5ECF6\", \"gridcolor\": \"white\", \"gridwidth\": 2, \"linecolor\": \"white\", \"showbackground\": true, \"ticks\": \"\", \"zerolinecolor\": \"white\"}, \"yaxis\": {\"backgroundcolor\": \"#E5ECF6\", \"gridcolor\": \"white\", \"gridwidth\": 2, \"linecolor\": \"white\", \"showbackground\": true, \"ticks\": \"\", \"zerolinecolor\": \"white\"}, \"zaxis\": {\"backgroundcolor\": \"#E5ECF6\", \"gridcolor\": \"white\", \"gridwidth\": 2, \"linecolor\": \"white\", \"showbackground\": true, \"ticks\": \"\", \"zerolinecolor\": \"white\"}}, \"shapedefaults\": {\"line\": {\"color\": \"#2a3f5f\"}}, \"ternary\": {\"aaxis\": {\"gridcolor\": \"white\", \"linecolor\": \"white\", \"ticks\": \"\"}, \"baxis\": {\"gridcolor\": \"white\", \"linecolor\": \"white\", \"ticks\": \"\"}, \"bgcolor\": \"#E5ECF6\", \"caxis\": {\"gridcolor\": \"white\", \"linecolor\": \"white\", \"ticks\": \"\"}}, \"title\": {\"x\": 0.05}, \"xaxis\": {\"automargin\": true, \"gridcolor\": \"white\", \"linecolor\": \"white\", \"ticks\": \"\", \"title\": {\"standoff\": 15}, \"zerolinecolor\": \"white\", \"zerolinewidth\": 2}, \"yaxis\": {\"automargin\": true, \"gridcolor\": \"white\", \"linecolor\": \"white\", \"ticks\": \"\", \"title\": {\"standoff\": 15}, \"zerolinecolor\": \"white\", \"zerolinewidth\": 2}}}, \"title\": {\"text\": \"The Office Episode Ratings by Writer\"}, \"xaxis\": {\"anchor\": \"y\", \"domain\": [0.0, 1.0], \"title\": {\"text\": \"Ratings\"}}, \"yaxis\": {\"anchor\": \"x\", \"domain\": [0.0, 1.0], \"title\": {\"text\": \"Writers\"}}},                        {\"responsive\": true}                    ).then(function(){\n                            \nvar gd = document.getElementById('909c5055-6af5-4ede-805a-0c2ffc2916d3');\nvar x = new MutationObserver(function (mutations, observer) {{\n        var display = window.getComputedStyle(gd).display;\n        if (!display || display === 'none') {{\n            console.log([gd, 'removed!']);\n            Plotly.purge(gd);\n            observer.disconnect();\n        }}\n}});\n\n// Listen for the removal of the full notebook cells\nvar notebookContainer = gd.closest('#notebook-container');\nif (notebookContainer) {{\n    x.observe(notebookContainer, {childList: true});\n}}\n\n// Listen for the clearing of the current output cell\nvar outputEl = gd.closest('.output');\nif (outputEl) {{\n    x.observe(outputEl, {childList: true});\n}}\n\n                        })                };                });            </script>        </div>"
          },
          "metadata": {}
        }
      ],
      "execution_count": 15,
      "metadata": {
        "collapsed": false,
        "jupyter": {
          "source_hidden": false,
          "outputs_hidden": false
        },
        "nteract": {
          "transient": {
            "deleting": false
          }
        },
        "execution": {
          "iopub.status.busy": "2020-12-27T18:04:21.858Z",
          "iopub.execute_input": "2020-12-27T18:04:21.869Z",
          "iopub.status.idle": "2020-12-27T18:04:22.042Z",
          "shell.execute_reply": "2020-12-27T18:04:22.051Z"
        }
      }
    },
    {
      "cell_type": "code",
      "source": [
        "import plotly.express as px\n",
        "df1 = px.data.gapminder()\n",
        "fig = px.scatter(df, x=\"Ratings\", y=\"GuestStars\", color=\"Season\",\n",
        "             hover_name=\"Viewership\", title=\"The Office Episode Ratings by Guest Stars\" )\n",
        "fig.show()"
      ],
      "outputs": [
        {
          "output_type": "display_data",
          "data": {
            "application/vnd.plotly.v1+json": {
              "config": {
                "plotlyServerURL": "https://plot.ly"
              },
              "data": [
                {
                  "hovertemplate": "<b>%{hovertext}</b><br><br>Ratings=%{x}<br>GuestStars=%{y}<br>Season=%{marker.color}<extra></extra>",
                  "hovertext": [
                    11.2,
                    6,
                    5.8,
                    5.4,
                    5,
                    4.8,
                    9,
                    7.13,
                    8.3,
                    7.6,
                    8,
                    7.9,
                    7.5,
                    8,
                    8.1,
                    9.7,
                    8.7,
                    10.3,
                    8.7,
                    8.6,
                    5.42,
                    8.95,
                    8.4,
                    8.8,
                    7.8,
                    7.8,
                    7.4,
                    7.6,
                    9.11,
                    7.78,
                    8.89,
                    8.83,
                    8.46,
                    8.81,
                    8.05,
                    8.63,
                    9.07,
                    8.44,
                    8.8,
                    10.12,
                    10.2,
                    10.11,
                    8.84,
                    8.84,
                    8.3,
                    6.74,
                    7.71,
                    7.56,
                    7,
                    7.2,
                    7.88,
                    9.7,
                    8.49,
                    8.91,
                    8.5,
                    8.98,
                    8.39,
                    8.29,
                    8.86,
                    9.22,
                    9.81,
                    7.56,
                    7.67,
                    7.22,
                    8.07,
                    9.2,
                    8.99,
                    8.07,
                    7.74,
                    9.32,
                    8.35,
                    8.18,
                    8.4,
                    8.33,
                    8.79,
                    8.5,
                    8.74,
                    22.91,
                    8.39,
                    8.89,
                    8.63,
                    7.51,
                    7.95,
                    8.45,
                    7.2,
                    7.94,
                    8.24,
                    7.21,
                    7.31,
                    7.71,
                    6.72,
                    8.2,
                    7.33,
                    7.28,
                    9.42,
                    9.42,
                    8.1,
                    8.52,
                    8.2,
                    7.94,
                    7.76,
                    7.43,
                    8.1,
                    8.51,
                    7.29,
                    7.36,
                    7.4,
                    9,
                    9,
                    7.51,
                    7.63,
                    7.17,
                    6.3,
                    7.01,
                    6.84,
                    6.6,
                    6.6,
                    8.4,
                    7.36,
                    6.95,
                    7.36,
                    6.87,
                    8.07,
                    7.65,
                    7.15,
                    7.28,
                    7.31,
                    7.18,
                    8.26,
                    7.93,
                    7.29,
                    6.9,
                    6.41,
                    6.12,
                    7.07,
                    7.87,
                    6.85,
                    8.42,
                    6.9,
                    6.45,
                    7.29,
                    7.64,
                    6.7,
                    5.82,
                    6.08,
                    5.53,
                    6.15,
                    5.96,
                    5.5,
                    5.71,
                    5.79,
                    5.9,
                    6.02,
                    5.31,
                    5.19,
                    4.38,
                    5.02,
                    4.95,
                    4.89,
                    4.87,
                    4.39,
                    4.35,
                    4.17,
                    4.44,
                    4.49,
                    4.28,
                    4.13,
                    4.14,
                    4.28,
                    4,
                    4.83,
                    4.16,
                    3.88,
                    4.16,
                    4.54,
                    4.15,
                    4.19,
                    4.45,
                    3.97,
                    4.15,
                    4.06,
                    3.54,
                    3.44,
                    3.83,
                    3.25,
                    3.51,
                    4.56,
                    5.69
                  ],
                  "legendgroup": "",
                  "marker": {
                    "color": [
                      1,
                      1,
                      1,
                      1,
                      1,
                      1,
                      2,
                      2,
                      2,
                      2,
                      2,
                      2,
                      2,
                      2,
                      2,
                      2,
                      2,
                      2,
                      2,
                      2,
                      2,
                      2,
                      2,
                      2,
                      2,
                      2,
                      2,
                      2,
                      3,
                      3,
                      3,
                      3,
                      3,
                      3,
                      3,
                      3,
                      3,
                      3,
                      3,
                      3,
                      3,
                      3,
                      3,
                      3,
                      3,
                      3,
                      3,
                      3,
                      3,
                      3,
                      3,
                      4,
                      4,
                      4,
                      4,
                      4,
                      4,
                      4,
                      4,
                      4,
                      4,
                      4,
                      4,
                      4,
                      4,
                      5,
                      5,
                      5,
                      5,
                      5,
                      5,
                      5,
                      5,
                      5,
                      5,
                      5,
                      5,
                      5,
                      5,
                      5,
                      5,
                      5,
                      5,
                      5,
                      5,
                      5,
                      5,
                      5,
                      5,
                      5,
                      5,
                      6,
                      6,
                      6,
                      6,
                      6,
                      6,
                      6,
                      6,
                      6,
                      6,
                      6,
                      6,
                      6,
                      6,
                      6,
                      6,
                      6,
                      6,
                      6,
                      6,
                      6,
                      6,
                      6,
                      6,
                      6,
                      6,
                      7,
                      7,
                      7,
                      7,
                      7,
                      7,
                      7,
                      7,
                      7,
                      7,
                      7,
                      7,
                      7,
                      7,
                      7,
                      7,
                      7,
                      7,
                      7,
                      7,
                      7,
                      7,
                      7,
                      7,
                      8,
                      8,
                      8,
                      8,
                      8,
                      8,
                      8,
                      8,
                      8,
                      8,
                      8,
                      8,
                      8,
                      8,
                      8,
                      8,
                      8,
                      8,
                      8,
                      8,
                      8,
                      8,
                      8,
                      8,
                      9,
                      9,
                      9,
                      9,
                      9,
                      9,
                      9,
                      9,
                      9,
                      9,
                      9,
                      9,
                      9,
                      9,
                      9,
                      9,
                      9,
                      9,
                      9,
                      9,
                      9,
                      9,
                      9
                    ],
                    "coloraxis": "coloraxis",
                    "symbol": "circle"
                  },
                  "mode": "markers",
                  "name": "",
                  "orientation": "h",
                  "showlegend": false,
                  "type": "scatter",
                  "x": [
                    7.5,
                    8.3,
                    7.8,
                    8.1,
                    8.4,
                    7.7,
                    8.7,
                    8.2,
                    8.4,
                    8.4,
                    8.1,
                    8.1,
                    8.6,
                    8.2,
                    8.4,
                    8.9,
                    8.6,
                    9.1,
                    8.3,
                    7.8,
                    8.2,
                    8.3,
                    8.5,
                    8.3,
                    8.1,
                    8.4,
                    8.7,
                    9.4,
                    9,
                    8.2,
                    8.5,
                    8,
                    8.1,
                    7.9,
                    8.6,
                    8.7,
                    8.3,
                    8.8,
                    8.5,
                    8.6,
                    8.8,
                    8.1,
                    8.2,
                    8.9,
                    8.5,
                    9,
                    8.8,
                    8.7,
                    8.8,
                    9.2,
                    9.3,
                    8.8,
                    8.3,
                    8.4,
                    8.7,
                    8.8,
                    8.5,
                    8.2,
                    8.7,
                    9.5,
                    8,
                    8.6,
                    8.3,
                    7.8,
                    9.3,
                    8.8,
                    8.3,
                    8,
                    8.1,
                    8,
                    8.5,
                    8.2,
                    8.6,
                    8.8,
                    8.4,
                    8.7,
                    8,
                    9.7,
                    8.2,
                    8.1,
                    8,
                    8.7,
                    8.3,
                    8.4,
                    8.3,
                    8.7,
                    8.7,
                    9.2,
                    8.3,
                    8.7,
                    9,
                    8.8,
                    8.1,
                    8,
                    9.4,
                    9.4,
                    7.6,
                    8.6,
                    8.2,
                    8.1,
                    8.7,
                    8.2,
                    8.3,
                    8.5,
                    6.8,
                    7.7,
                    8.1,
                    8.4,
                    8.5,
                    7.7,
                    7.7,
                    8.6,
                    7.8,
                    8,
                    8.1,
                    7.8,
                    8,
                    8.4,
                    8.2,
                    8.2,
                    7.8,
                    7.8,
                    8.2,
                    7.4,
                    7.8,
                    7.7,
                    8.2,
                    9,
                    8.3,
                    7.6,
                    8.5,
                    8.4,
                    9.4,
                    7.5,
                    9.3,
                    7.8,
                    9,
                    9.8,
                    7.6,
                    8.7,
                    8.8,
                    8.1,
                    8.1,
                    7.3,
                    8.1,
                    7.5,
                    7.7,
                    7.7,
                    6.9,
                    7.7,
                    7.9,
                    7.9,
                    8,
                    7.4,
                    7.7,
                    7.8,
                    8.1,
                    7.8,
                    7.8,
                    6.6,
                    7.1,
                    7,
                    7,
                    7.6,
                    7.7,
                    7.6,
                    7.1,
                    7.4,
                    7.8,
                    7,
                    7.7,
                    7.6,
                    7.8,
                    8.4,
                    7.6,
                    7.8,
                    7.9,
                    7.6,
                    7.5,
                    7.3,
                    8.1,
                    7.5,
                    8,
                    8,
                    8,
                    9,
                    9.5,
                    9.8
                  ],
                  "xaxis": "x",
                  "y": [
                    null,
                    null,
                    null,
                    null,
                    null,
                    "Amy Adams",
                    null,
                    null,
                    "Nancy Carell",
                    "Amy Adams",
                    null,
                    null,
                    "Tim Meadows",
                    null,
                    "Ken Jeong",
                    null,
                    "Rob Riggle",
                    null,
                    null,
                    null,
                    null,
                    "Conan O'Brien",
                    null,
                    null,
                    null,
                    null,
                    null,
                    null,
                    null,
                    "Jerome Bettis",
                    null,
                    null,
                    null,
                    null,
                    null,
                    null,
                    null,
                    null,
                    null,
                    null,
                    null,
                    null,
                    null,
                    null,
                    null,
                    null,
                    null,
                    null,
                    null,
                    null,
                    null,
                    null,
                    null,
                    "Kevin McHale",
                    null,
                    null,
                    null,
                    null,
                    null,
                    null,
                    null,
                    null,
                    null,
                    null,
                    null,
                    null,
                    "Wendi McLendon-Covey",
                    null,
                    null,
                    null,
                    null,
                    null,
                    null,
                    null,
                    null,
                    null,
                    null,
                    "Cloris Leachman, Jack Black, Jessica Alba",
                    null,
                    null,
                    null,
                    null,
                    "Idris Elba",
                    null,
                    null,
                    null,
                    null,
                    null,
                    null,
                    null,
                    null,
                    null,
                    null,
                    null,
                    null,
                    null,
                    "Mike Starr",
                    null,
                    null,
                    null,
                    null,
                    null,
                    null,
                    null,
                    null,
                    "Christian Slater",
                    null,
                    null,
                    "Mellisa Rauch",
                    null,
                    null,
                    null,
                    null,
                    null,
                    null,
                    null,
                    null,
                    "Evan Peters",
                    null,
                    null,
                    null,
                    "Timothy Olyphant",
                    null,
                    null,
                    null,
                    null,
                    null,
                    null,
                    null,
                    "Ricky Gervais",
                    "Will Arnett,  Ray Romano, Jim Carrey, Ricky Gervais",
                    null,
                    null,
                    null,
                    null,
                    "Will Ferrell",
                    null,
                    null,
                    null,
                    null,
                    null,
                    null,
                    null,
                    null,
                    "Josh Groban, Stephen Collins",
                    null,
                    null,
                    null,
                    null,
                    "Maura Tierney",
                    null,
                    null,
                    null,
                    null,
                    null,
                    null,
                    null,
                    null,
                    null,
                    null,
                    null,
                    null,
                    null,
                    "Chris Bauer",
                    null,
                    null,
                    null,
                    null,
                    null,
                    "Stephen Colbert",
                    "Josh Groban",
                    null,
                    null,
                    null,
                    "Julius Winfield Erving",
                    null,
                    null,
                    null,
                    null,
                    null,
                    null,
                    null,
                    "Ryan Howard",
                    null,
                    null,
                    "Michael Imperioli ",
                    null,
                    "Joan Cusack, Ed Begley Jr, Rachel Harris, Nancy Walls"
                  ],
                  "yaxis": "y"
                }
              ],
              "layout": {
                "coloraxis": {
                  "colorbar": {
                    "title": {
                      "text": "Season"
                    }
                  },
                  "colorscale": [
                    [
                      0,
                      "#0d0887"
                    ],
                    [
                      0.1111111111111111,
                      "#46039f"
                    ],
                    [
                      0.2222222222222222,
                      "#7201a8"
                    ],
                    [
                      0.3333333333333333,
                      "#9c179e"
                    ],
                    [
                      0.4444444444444444,
                      "#bd3786"
                    ],
                    [
                      0.5555555555555556,
                      "#d8576b"
                    ],
                    [
                      0.6666666666666666,
                      "#ed7953"
                    ],
                    [
                      0.7777777777777778,
                      "#fb9f3a"
                    ],
                    [
                      0.8888888888888888,
                      "#fdca26"
                    ],
                    [
                      1,
                      "#f0f921"
                    ]
                  ]
                },
                "legend": {
                  "tracegroupgap": 0
                },
                "template": {
                  "data": {
                    "bar": [
                      {
                        "error_x": {
                          "color": "#2a3f5f"
                        },
                        "error_y": {
                          "color": "#2a3f5f"
                        },
                        "marker": {
                          "line": {
                            "color": "#E5ECF6",
                            "width": 0.5
                          }
                        },
                        "type": "bar"
                      }
                    ],
                    "barpolar": [
                      {
                        "marker": {
                          "line": {
                            "color": "#E5ECF6",
                            "width": 0.5
                          }
                        },
                        "type": "barpolar"
                      }
                    ],
                    "carpet": [
                      {
                        "aaxis": {
                          "endlinecolor": "#2a3f5f",
                          "gridcolor": "white",
                          "linecolor": "white",
                          "minorgridcolor": "white",
                          "startlinecolor": "#2a3f5f"
                        },
                        "baxis": {
                          "endlinecolor": "#2a3f5f",
                          "gridcolor": "white",
                          "linecolor": "white",
                          "minorgridcolor": "white",
                          "startlinecolor": "#2a3f5f"
                        },
                        "type": "carpet"
                      }
                    ],
                    "choropleth": [
                      {
                        "colorbar": {
                          "outlinewidth": 0,
                          "ticks": ""
                        },
                        "type": "choropleth"
                      }
                    ],
                    "contour": [
                      {
                        "colorbar": {
                          "outlinewidth": 0,
                          "ticks": ""
                        },
                        "colorscale": [
                          [
                            0,
                            "#0d0887"
                          ],
                          [
                            0.1111111111111111,
                            "#46039f"
                          ],
                          [
                            0.2222222222222222,
                            "#7201a8"
                          ],
                          [
                            0.3333333333333333,
                            "#9c179e"
                          ],
                          [
                            0.4444444444444444,
                            "#bd3786"
                          ],
                          [
                            0.5555555555555556,
                            "#d8576b"
                          ],
                          [
                            0.6666666666666666,
                            "#ed7953"
                          ],
                          [
                            0.7777777777777778,
                            "#fb9f3a"
                          ],
                          [
                            0.8888888888888888,
                            "#fdca26"
                          ],
                          [
                            1,
                            "#f0f921"
                          ]
                        ],
                        "type": "contour"
                      }
                    ],
                    "contourcarpet": [
                      {
                        "colorbar": {
                          "outlinewidth": 0,
                          "ticks": ""
                        },
                        "type": "contourcarpet"
                      }
                    ],
                    "heatmap": [
                      {
                        "colorbar": {
                          "outlinewidth": 0,
                          "ticks": ""
                        },
                        "colorscale": [
                          [
                            0,
                            "#0d0887"
                          ],
                          [
                            0.1111111111111111,
                            "#46039f"
                          ],
                          [
                            0.2222222222222222,
                            "#7201a8"
                          ],
                          [
                            0.3333333333333333,
                            "#9c179e"
                          ],
                          [
                            0.4444444444444444,
                            "#bd3786"
                          ],
                          [
                            0.5555555555555556,
                            "#d8576b"
                          ],
                          [
                            0.6666666666666666,
                            "#ed7953"
                          ],
                          [
                            0.7777777777777778,
                            "#fb9f3a"
                          ],
                          [
                            0.8888888888888888,
                            "#fdca26"
                          ],
                          [
                            1,
                            "#f0f921"
                          ]
                        ],
                        "type": "heatmap"
                      }
                    ],
                    "heatmapgl": [
                      {
                        "colorbar": {
                          "outlinewidth": 0,
                          "ticks": ""
                        },
                        "colorscale": [
                          [
                            0,
                            "#0d0887"
                          ],
                          [
                            0.1111111111111111,
                            "#46039f"
                          ],
                          [
                            0.2222222222222222,
                            "#7201a8"
                          ],
                          [
                            0.3333333333333333,
                            "#9c179e"
                          ],
                          [
                            0.4444444444444444,
                            "#bd3786"
                          ],
                          [
                            0.5555555555555556,
                            "#d8576b"
                          ],
                          [
                            0.6666666666666666,
                            "#ed7953"
                          ],
                          [
                            0.7777777777777778,
                            "#fb9f3a"
                          ],
                          [
                            0.8888888888888888,
                            "#fdca26"
                          ],
                          [
                            1,
                            "#f0f921"
                          ]
                        ],
                        "type": "heatmapgl"
                      }
                    ],
                    "histogram": [
                      {
                        "marker": {
                          "colorbar": {
                            "outlinewidth": 0,
                            "ticks": ""
                          }
                        },
                        "type": "histogram"
                      }
                    ],
                    "histogram2d": [
                      {
                        "colorbar": {
                          "outlinewidth": 0,
                          "ticks": ""
                        },
                        "colorscale": [
                          [
                            0,
                            "#0d0887"
                          ],
                          [
                            0.1111111111111111,
                            "#46039f"
                          ],
                          [
                            0.2222222222222222,
                            "#7201a8"
                          ],
                          [
                            0.3333333333333333,
                            "#9c179e"
                          ],
                          [
                            0.4444444444444444,
                            "#bd3786"
                          ],
                          [
                            0.5555555555555556,
                            "#d8576b"
                          ],
                          [
                            0.6666666666666666,
                            "#ed7953"
                          ],
                          [
                            0.7777777777777778,
                            "#fb9f3a"
                          ],
                          [
                            0.8888888888888888,
                            "#fdca26"
                          ],
                          [
                            1,
                            "#f0f921"
                          ]
                        ],
                        "type": "histogram2d"
                      }
                    ],
                    "histogram2dcontour": [
                      {
                        "colorbar": {
                          "outlinewidth": 0,
                          "ticks": ""
                        },
                        "colorscale": [
                          [
                            0,
                            "#0d0887"
                          ],
                          [
                            0.1111111111111111,
                            "#46039f"
                          ],
                          [
                            0.2222222222222222,
                            "#7201a8"
                          ],
                          [
                            0.3333333333333333,
                            "#9c179e"
                          ],
                          [
                            0.4444444444444444,
                            "#bd3786"
                          ],
                          [
                            0.5555555555555556,
                            "#d8576b"
                          ],
                          [
                            0.6666666666666666,
                            "#ed7953"
                          ],
                          [
                            0.7777777777777778,
                            "#fb9f3a"
                          ],
                          [
                            0.8888888888888888,
                            "#fdca26"
                          ],
                          [
                            1,
                            "#f0f921"
                          ]
                        ],
                        "type": "histogram2dcontour"
                      }
                    ],
                    "mesh3d": [
                      {
                        "colorbar": {
                          "outlinewidth": 0,
                          "ticks": ""
                        },
                        "type": "mesh3d"
                      }
                    ],
                    "parcoords": [
                      {
                        "line": {
                          "colorbar": {
                            "outlinewidth": 0,
                            "ticks": ""
                          }
                        },
                        "type": "parcoords"
                      }
                    ],
                    "pie": [
                      {
                        "automargin": true,
                        "type": "pie"
                      }
                    ],
                    "scatter": [
                      {
                        "marker": {
                          "colorbar": {
                            "outlinewidth": 0,
                            "ticks": ""
                          }
                        },
                        "type": "scatter"
                      }
                    ],
                    "scatter3d": [
                      {
                        "line": {
                          "colorbar": {
                            "outlinewidth": 0,
                            "ticks": ""
                          }
                        },
                        "marker": {
                          "colorbar": {
                            "outlinewidth": 0,
                            "ticks": ""
                          }
                        },
                        "type": "scatter3d"
                      }
                    ],
                    "scattercarpet": [
                      {
                        "marker": {
                          "colorbar": {
                            "outlinewidth": 0,
                            "ticks": ""
                          }
                        },
                        "type": "scattercarpet"
                      }
                    ],
                    "scattergeo": [
                      {
                        "marker": {
                          "colorbar": {
                            "outlinewidth": 0,
                            "ticks": ""
                          }
                        },
                        "type": "scattergeo"
                      }
                    ],
                    "scattergl": [
                      {
                        "marker": {
                          "colorbar": {
                            "outlinewidth": 0,
                            "ticks": ""
                          }
                        },
                        "type": "scattergl"
                      }
                    ],
                    "scattermapbox": [
                      {
                        "marker": {
                          "colorbar": {
                            "outlinewidth": 0,
                            "ticks": ""
                          }
                        },
                        "type": "scattermapbox"
                      }
                    ],
                    "scatterpolar": [
                      {
                        "marker": {
                          "colorbar": {
                            "outlinewidth": 0,
                            "ticks": ""
                          }
                        },
                        "type": "scatterpolar"
                      }
                    ],
                    "scatterpolargl": [
                      {
                        "marker": {
                          "colorbar": {
                            "outlinewidth": 0,
                            "ticks": ""
                          }
                        },
                        "type": "scatterpolargl"
                      }
                    ],
                    "scatterternary": [
                      {
                        "marker": {
                          "colorbar": {
                            "outlinewidth": 0,
                            "ticks": ""
                          }
                        },
                        "type": "scatterternary"
                      }
                    ],
                    "surface": [
                      {
                        "colorbar": {
                          "outlinewidth": 0,
                          "ticks": ""
                        },
                        "colorscale": [
                          [
                            0,
                            "#0d0887"
                          ],
                          [
                            0.1111111111111111,
                            "#46039f"
                          ],
                          [
                            0.2222222222222222,
                            "#7201a8"
                          ],
                          [
                            0.3333333333333333,
                            "#9c179e"
                          ],
                          [
                            0.4444444444444444,
                            "#bd3786"
                          ],
                          [
                            0.5555555555555556,
                            "#d8576b"
                          ],
                          [
                            0.6666666666666666,
                            "#ed7953"
                          ],
                          [
                            0.7777777777777778,
                            "#fb9f3a"
                          ],
                          [
                            0.8888888888888888,
                            "#fdca26"
                          ],
                          [
                            1,
                            "#f0f921"
                          ]
                        ],
                        "type": "surface"
                      }
                    ],
                    "table": [
                      {
                        "cells": {
                          "fill": {
                            "color": "#EBF0F8"
                          },
                          "line": {
                            "color": "white"
                          }
                        },
                        "header": {
                          "fill": {
                            "color": "#C8D4E3"
                          },
                          "line": {
                            "color": "white"
                          }
                        },
                        "type": "table"
                      }
                    ]
                  },
                  "layout": {
                    "annotationdefaults": {
                      "arrowcolor": "#2a3f5f",
                      "arrowhead": 0,
                      "arrowwidth": 1
                    },
                    "autotypenumbers": "strict",
                    "coloraxis": {
                      "colorbar": {
                        "outlinewidth": 0,
                        "ticks": ""
                      }
                    },
                    "colorscale": {
                      "diverging": [
                        [
                          0,
                          "#8e0152"
                        ],
                        [
                          0.1,
                          "#c51b7d"
                        ],
                        [
                          0.2,
                          "#de77ae"
                        ],
                        [
                          0.3,
                          "#f1b6da"
                        ],
                        [
                          0.4,
                          "#fde0ef"
                        ],
                        [
                          0.5,
                          "#f7f7f7"
                        ],
                        [
                          0.6,
                          "#e6f5d0"
                        ],
                        [
                          0.7,
                          "#b8e186"
                        ],
                        [
                          0.8,
                          "#7fbc41"
                        ],
                        [
                          0.9,
                          "#4d9221"
                        ],
                        [
                          1,
                          "#276419"
                        ]
                      ],
                      "sequential": [
                        [
                          0,
                          "#0d0887"
                        ],
                        [
                          0.1111111111111111,
                          "#46039f"
                        ],
                        [
                          0.2222222222222222,
                          "#7201a8"
                        ],
                        [
                          0.3333333333333333,
                          "#9c179e"
                        ],
                        [
                          0.4444444444444444,
                          "#bd3786"
                        ],
                        [
                          0.5555555555555556,
                          "#d8576b"
                        ],
                        [
                          0.6666666666666666,
                          "#ed7953"
                        ],
                        [
                          0.7777777777777778,
                          "#fb9f3a"
                        ],
                        [
                          0.8888888888888888,
                          "#fdca26"
                        ],
                        [
                          1,
                          "#f0f921"
                        ]
                      ],
                      "sequentialminus": [
                        [
                          0,
                          "#0d0887"
                        ],
                        [
                          0.1111111111111111,
                          "#46039f"
                        ],
                        [
                          0.2222222222222222,
                          "#7201a8"
                        ],
                        [
                          0.3333333333333333,
                          "#9c179e"
                        ],
                        [
                          0.4444444444444444,
                          "#bd3786"
                        ],
                        [
                          0.5555555555555556,
                          "#d8576b"
                        ],
                        [
                          0.6666666666666666,
                          "#ed7953"
                        ],
                        [
                          0.7777777777777778,
                          "#fb9f3a"
                        ],
                        [
                          0.8888888888888888,
                          "#fdca26"
                        ],
                        [
                          1,
                          "#f0f921"
                        ]
                      ]
                    },
                    "colorway": [
                      "#636efa",
                      "#EF553B",
                      "#00cc96",
                      "#ab63fa",
                      "#FFA15A",
                      "#19d3f3",
                      "#FF6692",
                      "#B6E880",
                      "#FF97FF",
                      "#FECB52"
                    ],
                    "font": {
                      "color": "#2a3f5f"
                    },
                    "geo": {
                      "bgcolor": "white",
                      "lakecolor": "white",
                      "landcolor": "#E5ECF6",
                      "showlakes": true,
                      "showland": true,
                      "subunitcolor": "white"
                    },
                    "hoverlabel": {
                      "align": "left"
                    },
                    "hovermode": "closest",
                    "mapbox": {
                      "style": "light"
                    },
                    "paper_bgcolor": "white",
                    "plot_bgcolor": "#E5ECF6",
                    "polar": {
                      "angularaxis": {
                        "gridcolor": "white",
                        "linecolor": "white",
                        "ticks": ""
                      },
                      "bgcolor": "#E5ECF6",
                      "radialaxis": {
                        "gridcolor": "white",
                        "linecolor": "white",
                        "ticks": ""
                      }
                    },
                    "scene": {
                      "xaxis": {
                        "backgroundcolor": "#E5ECF6",
                        "gridcolor": "white",
                        "gridwidth": 2,
                        "linecolor": "white",
                        "showbackground": true,
                        "ticks": "",
                        "zerolinecolor": "white"
                      },
                      "yaxis": {
                        "backgroundcolor": "#E5ECF6",
                        "gridcolor": "white",
                        "gridwidth": 2,
                        "linecolor": "white",
                        "showbackground": true,
                        "ticks": "",
                        "zerolinecolor": "white"
                      },
                      "zaxis": {
                        "backgroundcolor": "#E5ECF6",
                        "gridcolor": "white",
                        "gridwidth": 2,
                        "linecolor": "white",
                        "showbackground": true,
                        "ticks": "",
                        "zerolinecolor": "white"
                      }
                    },
                    "shapedefaults": {
                      "line": {
                        "color": "#2a3f5f"
                      }
                    },
                    "ternary": {
                      "aaxis": {
                        "gridcolor": "white",
                        "linecolor": "white",
                        "ticks": ""
                      },
                      "baxis": {
                        "gridcolor": "white",
                        "linecolor": "white",
                        "ticks": ""
                      },
                      "bgcolor": "#E5ECF6",
                      "caxis": {
                        "gridcolor": "white",
                        "linecolor": "white",
                        "ticks": ""
                      }
                    },
                    "title": {
                      "x": 0.05
                    },
                    "xaxis": {
                      "automargin": true,
                      "gridcolor": "white",
                      "linecolor": "white",
                      "ticks": "",
                      "title": {
                        "standoff": 15
                      },
                      "zerolinecolor": "white",
                      "zerolinewidth": 2
                    },
                    "yaxis": {
                      "automargin": true,
                      "gridcolor": "white",
                      "linecolor": "white",
                      "ticks": "",
                      "title": {
                        "standoff": 15
                      },
                      "zerolinecolor": "white",
                      "zerolinewidth": 2
                    }
                  }
                },
                "title": {
                  "text": "The Office Episode Ratings by Guest Stars"
                },
                "xaxis": {
                  "anchor": "y",
                  "domain": [
                    0,
                    1
                  ],
                  "title": {
                    "text": "Ratings"
                  }
                },
                "yaxis": {
                  "anchor": "x",
                  "domain": [
                    0,
                    1
                  ],
                  "title": {
                    "text": "GuestStars"
                  }
                }
              }
            },
            "text/html": "<div>                            <div id=\"ca5d0ae7-a3e8-431c-b233-2cebf579c064\" class=\"plotly-graph-div\" style=\"height:525px; width:100%;\"></div>            <script type=\"text/javascript\">                require([\"plotly\"], function(Plotly) {                    window.PLOTLYENV=window.PLOTLYENV || {};                                    if (document.getElementById(\"ca5d0ae7-a3e8-431c-b233-2cebf579c064\")) {                    Plotly.newPlot(                        \"ca5d0ae7-a3e8-431c-b233-2cebf579c064\",                        [{\"hovertemplate\": \"<b>%{hovertext}</b><br><br>Ratings=%{x}<br>GuestStars=%{y}<br>Season=%{marker.color}<extra></extra>\", \"hovertext\": [11.2, 6.0, 5.8, 5.4, 5.0, 4.8, 9.0, 7.13, 8.3, 7.6, 8.0, 7.9, 7.5, 8.0, 8.1, 9.7, 8.7, 10.3, 8.7, 8.6, 5.42, 8.95, 8.4, 8.8, 7.8, 7.8, 7.4, 7.6, 9.11, 7.78, 8.89, 8.83, 8.46, 8.81, 8.05, 8.63, 9.07, 8.44, 8.8, 10.12, 10.2, 10.11, 8.84, 8.84, 8.3, 6.74, 7.71, 7.56, 7.0, 7.2, 7.88, 9.7, 8.49, 8.91, 8.5, 8.98, 8.39, 8.29, 8.86, 9.22, 9.81, 7.56, 7.67, 7.22, 8.07, 9.2, 8.99, 8.07, 7.74, 9.32, 8.35, 8.18, 8.4, 8.33, 8.79, 8.5, 8.74, 22.91, 8.39, 8.89, 8.63, 7.51, 7.95, 8.45, 7.2, 7.94, 8.24, 7.21, 7.31, 7.71, 6.72, 8.2, 7.33, 7.28, 9.42, 9.42, 8.1, 8.52, 8.2, 7.94, 7.76, 7.43, 8.1, 8.51, 7.29, 7.36, 7.4, 9.0, 9.0, 7.51, 7.63, 7.17, 6.3, 7.01, 6.84, 6.6, 6.6, 8.4, 7.36, 6.95, 7.36, 6.87, 8.07, 7.65, 7.15, 7.28, 7.31, 7.18, 8.26, 7.93, 7.29, 6.9, 6.41, 6.12, 7.07, 7.87, 6.85, 8.42, 6.9, 6.45, 7.29, 7.64, 6.7, 5.82, 6.08, 5.53, 6.15, 5.96, 5.5, 5.71, 5.79, 5.9, 6.02, 5.31, 5.19, 4.38, 5.02, 4.95, 4.89, 4.87, 4.39, 4.35, 4.17, 4.44, 4.49, 4.28, 4.13, 4.14, 4.28, 4.0, 4.83, 4.16, 3.88, 4.16, 4.54, 4.15, 4.19, 4.45, 3.97, 4.15, 4.06, 3.54, 3.44, 3.83, 3.25, 3.51, 4.56, 5.69], \"legendgroup\": \"\", \"marker\": {\"color\": [1, 1, 1, 1, 1, 1, 2, 2, 2, 2, 2, 2, 2, 2, 2, 2, 2, 2, 2, 2, 2, 2, 2, 2, 2, 2, 2, 2, 3, 3, 3, 3, 3, 3, 3, 3, 3, 3, 3, 3, 3, 3, 3, 3, 3, 3, 3, 3, 3, 3, 3, 4, 4, 4, 4, 4, 4, 4, 4, 4, 4, 4, 4, 4, 4, 5, 5, 5, 5, 5, 5, 5, 5, 5, 5, 5, 5, 5, 5, 5, 5, 5, 5, 5, 5, 5, 5, 5, 5, 5, 5, 6, 6, 6, 6, 6, 6, 6, 6, 6, 6, 6, 6, 6, 6, 6, 6, 6, 6, 6, 6, 6, 6, 6, 6, 6, 6, 7, 7, 7, 7, 7, 7, 7, 7, 7, 7, 7, 7, 7, 7, 7, 7, 7, 7, 7, 7, 7, 7, 7, 7, 8, 8, 8, 8, 8, 8, 8, 8, 8, 8, 8, 8, 8, 8, 8, 8, 8, 8, 8, 8, 8, 8, 8, 8, 9, 9, 9, 9, 9, 9, 9, 9, 9, 9, 9, 9, 9, 9, 9, 9, 9, 9, 9, 9, 9, 9, 9], \"coloraxis\": \"coloraxis\", \"symbol\": \"circle\"}, \"mode\": \"markers\", \"name\": \"\", \"orientation\": \"h\", \"showlegend\": false, \"type\": \"scatter\", \"x\": [7.5, 8.3, 7.8, 8.1, 8.4, 7.7, 8.7, 8.2, 8.4, 8.4, 8.1, 8.1, 8.6, 8.2, 8.4, 8.9, 8.6, 9.1, 8.3, 7.8, 8.2, 8.3, 8.5, 8.3, 8.1, 8.4, 8.7, 9.4, 9.0, 8.2, 8.5, 8.0, 8.1, 7.9, 8.6, 8.7, 8.3, 8.8, 8.5, 8.6, 8.8, 8.1, 8.2, 8.9, 8.5, 9.0, 8.8, 8.7, 8.8, 9.2, 9.3, 8.8, 8.3, 8.4, 8.7, 8.8, 8.5, 8.2, 8.7, 9.5, 8.0, 8.6, 8.3, 7.8, 9.3, 8.8, 8.3, 8.0, 8.1, 8.0, 8.5, 8.2, 8.6, 8.8, 8.4, 8.7, 8.0, 9.7, 8.2, 8.1, 8.0, 8.7, 8.3, 8.4, 8.3, 8.7, 8.7, 9.2, 8.3, 8.7, 9.0, 8.8, 8.1, 8.0, 9.4, 9.4, 7.6, 8.6, 8.2, 8.1, 8.7, 8.2, 8.3, 8.5, 6.8, 7.7, 8.1, 8.4, 8.5, 7.7, 7.7, 8.6, 7.8, 8.0, 8.1, 7.8, 8.0, 8.4, 8.2, 8.2, 7.8, 7.8, 8.2, 7.4, 7.8, 7.7, 8.2, 9.0, 8.3, 7.6, 8.5, 8.4, 9.4, 7.5, 9.3, 7.8, 9.0, 9.8, 7.6, 8.7, 8.8, 8.1, 8.1, 7.3, 8.1, 7.5, 7.7, 7.7, 6.9, 7.7, 7.9, 7.9, 8.0, 7.4, 7.7, 7.8, 8.1, 7.8, 7.8, 6.6, 7.1, 7.0, 7.0, 7.6, 7.7, 7.6, 7.1, 7.4, 7.8, 7.0, 7.7, 7.6, 7.8, 8.4, 7.6, 7.8, 7.9, 7.6, 7.5, 7.3, 8.1, 7.5, 8.0, 8.0, 8.0, 9.0, 9.5, 9.8], \"xaxis\": \"x\", \"y\": [null, null, null, null, null, \"Amy Adams\", null, null, \"Nancy Carell\", \"Amy Adams\", null, null, \"Tim Meadows\", null, \"Ken Jeong\", null, \"Rob Riggle\", null, null, null, null, \"Conan O'Brien\", null, null, null, null, null, null, null, \"Jerome Bettis\", null, null, null, null, null, null, null, null, null, null, null, null, null, null, null, null, null, null, null, null, null, null, null, \"Kevin McHale\", null, null, null, null, null, null, null, null, null, null, null, null, \"Wendi McLendon-Covey\", null, null, null, null, null, null, null, null, null, null, \"Cloris Leachman, Jack Black, Jessica Alba\", null, null, null, null, \"Idris Elba\", null, null, null, null, null, null, null, null, null, null, null, null, null, \"Mike Starr\", null, null, null, null, null, null, null, null, \"Christian Slater\", null, null, \"Mellisa Rauch\", null, null, null, null, null, null, null, null, \"Evan Peters\", null, null, null, \"Timothy Olyphant\", null, null, null, null, null, null, null, \"Ricky Gervais\", \"Will Arnett,  Ray Romano, Jim Carrey, Ricky Gervais\", null, null, null, null, \"Will Ferrell\", null, null, null, null, null, null, null, null, \"Josh Groban, Stephen Collins\", null, null, null, null, \"Maura Tierney\", null, null, null, null, null, null, null, null, null, null, null, null, null, \"Chris Bauer\", null, null, null, null, null, \"Stephen Colbert\", \"Josh Groban\", null, null, null, \"Julius Winfield Erving\", null, null, null, null, null, null, null, \"Ryan Howard\", null, null, \"Michael Imperioli \", null, \"Joan Cusack, Ed Begley Jr, Rachel Harris, Nancy Walls\"], \"yaxis\": \"y\"}],                        {\"coloraxis\": {\"colorbar\": {\"title\": {\"text\": \"Season\"}}, \"colorscale\": [[0.0, \"#0d0887\"], [0.1111111111111111, \"#46039f\"], [0.2222222222222222, \"#7201a8\"], [0.3333333333333333, \"#9c179e\"], [0.4444444444444444, \"#bd3786\"], [0.5555555555555556, \"#d8576b\"], [0.6666666666666666, \"#ed7953\"], [0.7777777777777778, \"#fb9f3a\"], [0.8888888888888888, \"#fdca26\"], [1.0, \"#f0f921\"]]}, \"legend\": {\"tracegroupgap\": 0}, \"template\": {\"data\": {\"bar\": [{\"error_x\": {\"color\": \"#2a3f5f\"}, \"error_y\": {\"color\": \"#2a3f5f\"}, \"marker\": {\"line\": {\"color\": \"#E5ECF6\", \"width\": 0.5}}, \"type\": \"bar\"}], \"barpolar\": [{\"marker\": {\"line\": {\"color\": \"#E5ECF6\", \"width\": 0.5}}, \"type\": \"barpolar\"}], \"carpet\": [{\"aaxis\": {\"endlinecolor\": \"#2a3f5f\", \"gridcolor\": \"white\", \"linecolor\": \"white\", \"minorgridcolor\": \"white\", \"startlinecolor\": \"#2a3f5f\"}, \"baxis\": {\"endlinecolor\": \"#2a3f5f\", \"gridcolor\": \"white\", \"linecolor\": \"white\", \"minorgridcolor\": \"white\", \"startlinecolor\": \"#2a3f5f\"}, \"type\": \"carpet\"}], \"choropleth\": [{\"colorbar\": {\"outlinewidth\": 0, \"ticks\": \"\"}, \"type\": \"choropleth\"}], \"contour\": [{\"colorbar\": {\"outlinewidth\": 0, \"ticks\": \"\"}, \"colorscale\": [[0.0, \"#0d0887\"], [0.1111111111111111, \"#46039f\"], [0.2222222222222222, \"#7201a8\"], [0.3333333333333333, \"#9c179e\"], [0.4444444444444444, \"#bd3786\"], [0.5555555555555556, \"#d8576b\"], [0.6666666666666666, \"#ed7953\"], [0.7777777777777778, \"#fb9f3a\"], [0.8888888888888888, \"#fdca26\"], [1.0, \"#f0f921\"]], \"type\": \"contour\"}], \"contourcarpet\": [{\"colorbar\": {\"outlinewidth\": 0, \"ticks\": \"\"}, \"type\": \"contourcarpet\"}], \"heatmap\": [{\"colorbar\": {\"outlinewidth\": 0, \"ticks\": \"\"}, \"colorscale\": [[0.0, \"#0d0887\"], [0.1111111111111111, \"#46039f\"], [0.2222222222222222, \"#7201a8\"], [0.3333333333333333, \"#9c179e\"], [0.4444444444444444, \"#bd3786\"], [0.5555555555555556, \"#d8576b\"], [0.6666666666666666, \"#ed7953\"], [0.7777777777777778, \"#fb9f3a\"], [0.8888888888888888, \"#fdca26\"], [1.0, \"#f0f921\"]], \"type\": \"heatmap\"}], \"heatmapgl\": [{\"colorbar\": {\"outlinewidth\": 0, \"ticks\": \"\"}, \"colorscale\": [[0.0, \"#0d0887\"], [0.1111111111111111, \"#46039f\"], [0.2222222222222222, \"#7201a8\"], [0.3333333333333333, \"#9c179e\"], [0.4444444444444444, \"#bd3786\"], [0.5555555555555556, \"#d8576b\"], [0.6666666666666666, \"#ed7953\"], [0.7777777777777778, \"#fb9f3a\"], [0.8888888888888888, \"#fdca26\"], [1.0, \"#f0f921\"]], \"type\": \"heatmapgl\"}], \"histogram\": [{\"marker\": {\"colorbar\": {\"outlinewidth\": 0, \"ticks\": \"\"}}, \"type\": \"histogram\"}], \"histogram2d\": [{\"colorbar\": {\"outlinewidth\": 0, \"ticks\": \"\"}, \"colorscale\": [[0.0, \"#0d0887\"], [0.1111111111111111, \"#46039f\"], [0.2222222222222222, \"#7201a8\"], [0.3333333333333333, \"#9c179e\"], [0.4444444444444444, \"#bd3786\"], [0.5555555555555556, \"#d8576b\"], [0.6666666666666666, \"#ed7953\"], [0.7777777777777778, \"#fb9f3a\"], [0.8888888888888888, \"#fdca26\"], [1.0, \"#f0f921\"]], \"type\": \"histogram2d\"}], \"histogram2dcontour\": [{\"colorbar\": {\"outlinewidth\": 0, \"ticks\": \"\"}, \"colorscale\": [[0.0, \"#0d0887\"], [0.1111111111111111, \"#46039f\"], [0.2222222222222222, \"#7201a8\"], [0.3333333333333333, \"#9c179e\"], [0.4444444444444444, \"#bd3786\"], [0.5555555555555556, \"#d8576b\"], [0.6666666666666666, \"#ed7953\"], [0.7777777777777778, \"#fb9f3a\"], [0.8888888888888888, \"#fdca26\"], [1.0, \"#f0f921\"]], \"type\": \"histogram2dcontour\"}], \"mesh3d\": [{\"colorbar\": {\"outlinewidth\": 0, \"ticks\": \"\"}, \"type\": \"mesh3d\"}], \"parcoords\": [{\"line\": {\"colorbar\": {\"outlinewidth\": 0, \"ticks\": \"\"}}, \"type\": \"parcoords\"}], \"pie\": [{\"automargin\": true, \"type\": \"pie\"}], \"scatter\": [{\"marker\": {\"colorbar\": {\"outlinewidth\": 0, \"ticks\": \"\"}}, \"type\": \"scatter\"}], \"scatter3d\": [{\"line\": {\"colorbar\": {\"outlinewidth\": 0, \"ticks\": \"\"}}, \"marker\": {\"colorbar\": {\"outlinewidth\": 0, \"ticks\": \"\"}}, \"type\": \"scatter3d\"}], \"scattercarpet\": [{\"marker\": {\"colorbar\": {\"outlinewidth\": 0, \"ticks\": \"\"}}, \"type\": \"scattercarpet\"}], \"scattergeo\": [{\"marker\": {\"colorbar\": {\"outlinewidth\": 0, \"ticks\": \"\"}}, \"type\": \"scattergeo\"}], \"scattergl\": [{\"marker\": {\"colorbar\": {\"outlinewidth\": 0, \"ticks\": \"\"}}, \"type\": \"scattergl\"}], \"scattermapbox\": [{\"marker\": {\"colorbar\": {\"outlinewidth\": 0, \"ticks\": \"\"}}, \"type\": \"scattermapbox\"}], \"scatterpolar\": [{\"marker\": {\"colorbar\": {\"outlinewidth\": 0, \"ticks\": \"\"}}, \"type\": \"scatterpolar\"}], \"scatterpolargl\": [{\"marker\": {\"colorbar\": {\"outlinewidth\": 0, \"ticks\": \"\"}}, \"type\": \"scatterpolargl\"}], \"scatterternary\": [{\"marker\": {\"colorbar\": {\"outlinewidth\": 0, \"ticks\": \"\"}}, \"type\": \"scatterternary\"}], \"surface\": [{\"colorbar\": {\"outlinewidth\": 0, \"ticks\": \"\"}, \"colorscale\": [[0.0, \"#0d0887\"], [0.1111111111111111, \"#46039f\"], [0.2222222222222222, \"#7201a8\"], [0.3333333333333333, \"#9c179e\"], [0.4444444444444444, \"#bd3786\"], [0.5555555555555556, \"#d8576b\"], [0.6666666666666666, \"#ed7953\"], [0.7777777777777778, \"#fb9f3a\"], [0.8888888888888888, \"#fdca26\"], [1.0, \"#f0f921\"]], \"type\": \"surface\"}], \"table\": [{\"cells\": {\"fill\": {\"color\": \"#EBF0F8\"}, \"line\": {\"color\": \"white\"}}, \"header\": {\"fill\": {\"color\": \"#C8D4E3\"}, \"line\": {\"color\": \"white\"}}, \"type\": \"table\"}]}, \"layout\": {\"annotationdefaults\": {\"arrowcolor\": \"#2a3f5f\", \"arrowhead\": 0, \"arrowwidth\": 1}, \"autotypenumbers\": \"strict\", \"coloraxis\": {\"colorbar\": {\"outlinewidth\": 0, \"ticks\": \"\"}}, \"colorscale\": {\"diverging\": [[0, \"#8e0152\"], [0.1, \"#c51b7d\"], [0.2, \"#de77ae\"], [0.3, \"#f1b6da\"], [0.4, \"#fde0ef\"], [0.5, \"#f7f7f7\"], [0.6, \"#e6f5d0\"], [0.7, \"#b8e186\"], [0.8, \"#7fbc41\"], [0.9, \"#4d9221\"], [1, \"#276419\"]], \"sequential\": [[0.0, \"#0d0887\"], [0.1111111111111111, \"#46039f\"], [0.2222222222222222, \"#7201a8\"], [0.3333333333333333, \"#9c179e\"], [0.4444444444444444, \"#bd3786\"], [0.5555555555555556, \"#d8576b\"], [0.6666666666666666, \"#ed7953\"], [0.7777777777777778, \"#fb9f3a\"], [0.8888888888888888, \"#fdca26\"], [1.0, \"#f0f921\"]], \"sequentialminus\": [[0.0, \"#0d0887\"], [0.1111111111111111, \"#46039f\"], [0.2222222222222222, \"#7201a8\"], [0.3333333333333333, \"#9c179e\"], [0.4444444444444444, \"#bd3786\"], [0.5555555555555556, \"#d8576b\"], [0.6666666666666666, \"#ed7953\"], [0.7777777777777778, \"#fb9f3a\"], [0.8888888888888888, \"#fdca26\"], [1.0, \"#f0f921\"]]}, \"colorway\": [\"#636efa\", \"#EF553B\", \"#00cc96\", \"#ab63fa\", \"#FFA15A\", \"#19d3f3\", \"#FF6692\", \"#B6E880\", \"#FF97FF\", \"#FECB52\"], \"font\": {\"color\": \"#2a3f5f\"}, \"geo\": {\"bgcolor\": \"white\", \"lakecolor\": \"white\", \"landcolor\": \"#E5ECF6\", \"showlakes\": true, \"showland\": true, \"subunitcolor\": \"white\"}, \"hoverlabel\": {\"align\": \"left\"}, \"hovermode\": \"closest\", \"mapbox\": {\"style\": \"light\"}, \"paper_bgcolor\": \"white\", \"plot_bgcolor\": \"#E5ECF6\", \"polar\": {\"angularaxis\": {\"gridcolor\": \"white\", \"linecolor\": \"white\", \"ticks\": \"\"}, \"bgcolor\": \"#E5ECF6\", \"radialaxis\": {\"gridcolor\": \"white\", \"linecolor\": \"white\", \"ticks\": \"\"}}, \"scene\": {\"xaxis\": {\"backgroundcolor\": \"#E5ECF6\", \"gridcolor\": \"white\", \"gridwidth\": 2, \"linecolor\": \"white\", \"showbackground\": true, \"ticks\": \"\", \"zerolinecolor\": \"white\"}, \"yaxis\": {\"backgroundcolor\": \"#E5ECF6\", \"gridcolor\": \"white\", \"gridwidth\": 2, \"linecolor\": \"white\", \"showbackground\": true, \"ticks\": \"\", \"zerolinecolor\": \"white\"}, \"zaxis\": {\"backgroundcolor\": \"#E5ECF6\", \"gridcolor\": \"white\", \"gridwidth\": 2, \"linecolor\": \"white\", \"showbackground\": true, \"ticks\": \"\", \"zerolinecolor\": \"white\"}}, \"shapedefaults\": {\"line\": {\"color\": \"#2a3f5f\"}}, \"ternary\": {\"aaxis\": {\"gridcolor\": \"white\", \"linecolor\": \"white\", \"ticks\": \"\"}, \"baxis\": {\"gridcolor\": \"white\", \"linecolor\": \"white\", \"ticks\": \"\"}, \"bgcolor\": \"#E5ECF6\", \"caxis\": {\"gridcolor\": \"white\", \"linecolor\": \"white\", \"ticks\": \"\"}}, \"title\": {\"x\": 0.05}, \"xaxis\": {\"automargin\": true, \"gridcolor\": \"white\", \"linecolor\": \"white\", \"ticks\": \"\", \"title\": {\"standoff\": 15}, \"zerolinecolor\": \"white\", \"zerolinewidth\": 2}, \"yaxis\": {\"automargin\": true, \"gridcolor\": \"white\", \"linecolor\": \"white\", \"ticks\": \"\", \"title\": {\"standoff\": 15}, \"zerolinecolor\": \"white\", \"zerolinewidth\": 2}}}, \"title\": {\"text\": \"The Office Episode Ratings by Guest Stars\"}, \"xaxis\": {\"anchor\": \"y\", \"domain\": [0.0, 1.0], \"title\": {\"text\": \"Ratings\"}}, \"yaxis\": {\"anchor\": \"x\", \"domain\": [0.0, 1.0], \"title\": {\"text\": \"GuestStars\"}}},                        {\"responsive\": true}                    ).then(function(){\n                            \nvar gd = document.getElementById('ca5d0ae7-a3e8-431c-b233-2cebf579c064');\nvar x = new MutationObserver(function (mutations, observer) {{\n        var display = window.getComputedStyle(gd).display;\n        if (!display || display === 'none') {{\n            console.log([gd, 'removed!']);\n            Plotly.purge(gd);\n            observer.disconnect();\n        }}\n}});\n\n// Listen for the removal of the full notebook cells\nvar notebookContainer = gd.closest('#notebook-container');\nif (notebookContainer) {{\n    x.observe(notebookContainer, {childList: true});\n}}\n\n// Listen for the clearing of the current output cell\nvar outputEl = gd.closest('.output');\nif (outputEl) {{\n    x.observe(outputEl, {childList: true});\n}}\n\n                        })                };                });            </script>        </div>"
          },
          "metadata": {}
        }
      ],
      "execution_count": 25,
      "metadata": {
        "collapsed": false,
        "jupyter": {
          "source_hidden": false,
          "outputs_hidden": false
        },
        "nteract": {
          "transient": {
            "deleting": false
          }
        },
        "execution": {
          "iopub.status.busy": "2020-12-27T18:07:08.522Z",
          "iopub.execute_input": "2020-12-27T18:07:08.533Z",
          "iopub.status.idle": "2020-12-27T18:07:08.758Z",
          "shell.execute_reply": "2020-12-27T18:07:08.787Z"
        }
      }
    },
    {
      "cell_type": "code",
      "source": [
        "\n",
        "fig = px.scatter(df,y=\"Ratings\", x=\"Episode_Number\", size=\"Viewership\", \n",
        "                 color=\"Season\", hover_data=[\"Writers\",\"Date\"], title= \"The Office Episodes Ratings and Viewership by Episode\" )\n",
        "fig.show()"
      ],
      "outputs": [
        {
          "output_type": "display_data",
          "data": {
            "application/vnd.plotly.v1+json": {
              "config": {
                "plotlyServerURL": "https://plot.ly"
              },
              "data": [
                {
                  "customdata": [
                    [
                      "Ricky Gervais |Stephen Merchant and Greg Daniels",
                      " 24 March 2005"
                    ],
                    [
                      "B. J. Novak",
                      " 29 March 2005"
                    ],
                    [
                      "Paul Lieberstein",
                      " 5 April 2005"
                    ],
                    [
                      "Michael Schur",
                      " 12 April 2005"
                    ],
                    [
                      "Greg Daniels",
                      " 19 April 2005"
                    ],
                    [
                      "Mindy Kaling",
                      " 26 April 2005"
                    ],
                    [
                      "Mindy Kaling",
                      " 20 September 2005"
                    ],
                    [
                      "B. J. Novak",
                      " 27 September 2005"
                    ],
                    [
                      "Michael Schur",
                      " 4 October 2005"
                    ],
                    [
                      "B. J. Novak",
                      " 11 October 2005"
                    ],
                    [
                      "Greg Daniels",
                      " 18 October 2005"
                    ],
                    [
                      "Gene Stupnitsky | Lee Eisenberg",
                      " 1 November 2005"
                    ],
                    [
                      "Paul Lieberstein",
                      " 8 November 2005"
                    ],
                    [
                      "Larry Wilmore",
                      " 15 November 2005"
                    ],
                    [
                      "Jennifer Celotta",
                      " 22 November 2005"
                    ],
                    [
                      "Michael Schur",
                      " 6 December 2005"
                    ],
                    [
                      "Greg Daniels",
                      " 5 January 2006"
                    ],
                    [
                      "Mindy Kaling",
                      " 12 January 2006"
                    ],
                    [
                      "Lee Eisenberg | Gene Stupnitsky",
                      " 19 January 2006"
                    ],
                    [
                      "Paul Lieberstein",
                      " 26 January 2006"
                    ],
                    [
                      "B. J. Novak",
                      " 2 February 2006"
                    ],
                    [
                      "Michael Schur",
                      " 9 February 2006"
                    ],
                    [
                      "Paul Lieberstein",
                      " 2 March 2006"
                    ],
                    [
                      "Mindy Kaling",
                      " 16 March 2006"
                    ],
                    [
                      "Gene Stupnitsky | Lee Eisenberg",
                      " 30 March 2006"
                    ],
                    [
                      "Jennifer Celotta",
                      " 27 April 2006"
                    ],
                    [
                      "Greg Daniels",
                      " 4 May 2006"
                    ],
                    [
                      "Steve Carell",
                      " 11 May 2006"
                    ],
                    [
                      "Greg Daniels",
                      " 21 September 2006"
                    ],
                    [
                      "Gene Stupnitsky | Lee Eisenberg",
                      " 28 September 2006"
                    ],
                    [
                      "Paul Lieberstein",
                      " 5 October 2006"
                    ],
                    [
                      "Jennifer Celotta",
                      " 12 October 2006"
                    ],
                    [
                      "B. J. Novak",
                      " 19 October 2006"
                    ],
                    [
                      "Mindy Kaling",
                      " 2 November 2006"
                    ],
                    [
                      "Michael Schur",
                      " 9 November 2006"
                    ],
                    [
                      "Brent Forrester",
                      " 16 November 2006"
                    ],
                    [
                      "Ricky Gervais | Stephen Merchant",
                      " 30 November 2006"
                    ],
                    [
                      "Jennifer Celotta",
                      " 14 December 2006"
                    ],
                    [
                      "Justin Spitzer",
                      " 4 January 2007"
                    ],
                    [
                      "Michael Schur | Lee Eisenberg | Gene Stupnitsky",
                      " 11 January 2007"
                    ],
                    [
                      "Lee Eisenberg | Gene Stupnitsky | Michael Schur",
                      " 18 January 2007"
                    ],
                    [
                      "Mindy Kaling",
                      " 1 February 2007"
                    ],
                    [
                      "Caroline Williams",
                      " 8 February 2007"
                    ],
                    [
                      "Brent Forrester",
                      " 15 February 2007"
                    ],
                    [
                      "Paul Lieberstein",
                      " 22 February 2007"
                    ],
                    [
                      "Michael Schur",
                      " 5 April 2007"
                    ],
                    [
                      "B. J. Novak",
                      " 12 April 2007"
                    ],
                    [
                      "Justin Spitzer | Brent Forrester",
                      " 26 April 2007"
                    ],
                    [
                      "Gene Stupnitsky | Lee Eisenberg",
                      " 3 May 2007"
                    ],
                    [
                      "Jennifer Celotta | Greg Daniels",
                      " 10 May 2007"
                    ],
                    [
                      "Paul Lieberstein | Michael Schur",
                      " 17 May 2007"
                    ],
                    [
                      "Greg Daniels",
                      " 27 September 2007"
                    ],
                    [
                      "Michael Schur",
                      " 4 October 2007"
                    ],
                    [
                      "Jennifer Celotta",
                      " 11 October 2007"
                    ],
                    [
                      "Paul Lieberstein",
                      " 18 October 2007"
                    ],
                    [
                      "B. J. Novak",
                      " 25 October 2007"
                    ],
                    [
                      "Mindy Kaling",
                      " 1 November 2007"
                    ],
                    [
                      "Steve Carell",
                      " 8 November 2007"
                    ],
                    [
                      "Lester Lewis",
                      " 15 November 2007"
                    ],
                    [
                      "Gene Stupnitsky | Lee Eisenberg",
                      " 10 April 2008"
                    ],
                    [
                      "B. J. Novak",
                      " 17 April 2008"
                    ],
                    [
                      "Mindy Kaling",
                      " 24 April 2008"
                    ],
                    [
                      "Brent Forrester | Justin Spitzer",
                      " 1 May 2008"
                    ],
                    [
                      "Lee Eisenberg | Gene Stupnitsky",
                      " 8 May 2008"
                    ],
                    [
                      "Jennifer Celotta | Paul Lieberstein",
                      " 15 May 2008"
                    ],
                    [
                      "Lee Eisenberg | Gene Stupnitsky",
                      " 25 September 2008"
                    ],
                    [
                      "Ryan Koh",
                      " 9 October 2008"
                    ],
                    [
                      "Aaron Shure",
                      " 16 October 2008"
                    ],
                    [
                      "Charlie Grandy",
                      " 23 October 2008"
                    ],
                    [
                      "Anthony Q. Farrell",
                      " 30 October 2008"
                    ],
                    [
                      "Lester Lewis",
                      " 6 November 2008"
                    ],
                    [
                      "Brent Forrester",
                      " 13 November 2008"
                    ],
                    [
                      "Mindy Kaling",
                      " 20 November 2008"
                    ],
                    [
                      "Gene Stupnitsky | Lee Eisenberg",
                      " 4 December 2008"
                    ],
                    [
                      "Justin Spitzer",
                      " 11 December 2008"
                    ],
                    [
                      "Jennifer Celotta",
                      " 15 January 2009"
                    ],
                    [
                      "B. J. Novak",
                      " 22 January 2009"
                    ],
                    [
                      "Paul Lieberstein",
                      " 1 February 2009"
                    ],
                    [
                      "Mindy Kaling",
                      " 5 February 2009"
                    ],
                    [
                      "Mindy Kaling",
                      " 12 February 2009"
                    ],
                    [
                      "Brent Forrester",
                      " 5 March 2009"
                    ],
                    [
                      "Mindy Kaling",
                      " 12 March 2009"
                    ],
                    [
                      "Lee Eisenberg | Gene Stupnitsky",
                      " 19 March 2009"
                    ],
                    [
                      "Aaron Shure",
                      " 26 March 2009"
                    ],
                    [
                      "B. J. Novak",
                      " 9 April 2009"
                    ],
                    [
                      "Justin Spitzer",
                      " 9 April 2009"
                    ],
                    [
                      "Ryan Koh",
                      " 16 April 2009"
                    ],
                    [
                      "Charlie Grandy",
                      " 23 April 2009"
                    ],
                    [
                      "Anthony Q. Farrell",
                      " 30 April 2009"
                    ],
                    [
                      "Warren Lieberstein | Halsted Sullivan",
                      " 7 May 2009"
                    ],
                    [
                      "Jennifer Celotta | Paul Lieberstein",
                      " 14 May 2009"
                    ],
                    [
                      "Paul Lieberstein",
                      " 17 September 2009"
                    ],
                    [
                      "Aaron Shure",
                      " 24 September 2009"
                    ],
                    [
                      "Jennifer Celotta",
                      " 1 October 2009"
                    ],
                    [
                      "Greg Daniels | Mindy Kaling",
                      " 8 October 2009"
                    ],
                    [
                      "Greg Daniels | Mindy Kaling",
                      " 8 October 2009"
                    ],
                    [
                      "Brent Forrester",
                      " 15 October 2009"
                    ],
                    [
                      "Lee Eisenberg | Gene Stupnitsky",
                      " 22 October 2009"
                    ],
                    [
                      "Warren Lieberstein | Halsted Sullivan",
                      " 29 October 2009"
                    ],
                    [
                      "Charlie Grandy",
                      " 5 November 2009"
                    ],
                    [
                      "Daniel Chun",
                      " 12 November 2009"
                    ],
                    [
                      "Justin Spitzer",
                      " 19 November 2009"
                    ],
                    [
                      "Gene Stupnitsky | Lee Eisenberg",
                      " 3 December 2009"
                    ],
                    [
                      "Mindy Kaling",
                      " 10 December 2009"
                    ],
                    [
                      "Jason Kessler",
                      " 21 January 2010"
                    ],
                    [
                      "Jennifer Celotta",
                      " 4 February 2010"
                    ],
                    [
                      "Mindy Kaling",
                      " 11 February 2010"
                    ],
                    [
                      "Daniel Chun",
                      " 4 March 2010"
                    ],
                    [
                      "Daniel Chun",
                      " 4 March 2010"
                    ],
                    [
                      "Jonathan Hughes",
                      " 11 March 2010"
                    ],
                    [
                      "Brent Forrester",
                      " 18 March 2010"
                    ],
                    [
                      "B. J. Novak",
                      " 25 March 2010"
                    ],
                    [
                      "Mindy Kaling",
                      " 22 April 2010"
                    ],
                    [
                      "Justin Spitzer",
                      " 29 April 2010"
                    ],
                    [
                      "Gene Stupnitsky | Lee Eisenberg",
                      " 6 May 2010"
                    ],
                    [
                      "Aaron Shure",
                      " 13 May 2010"
                    ],
                    [
                      "Warren Lieberstein | Halsted Sullivan",
                      " 20 May 2010"
                    ],
                    [
                      "Daniel Chun",
                      " 23 September 2010"
                    ],
                    [
                      "B. J. Novak",
                      " 30 September 2010"
                    ],
                    [
                      "Charlie Grandy",
                      " 7 October 2010"
                    ],
                    [
                      "Paul Lieberstein",
                      " 14 October 2010"
                    ],
                    [
                      "Mindy Kaling",
                      " 21 October 2010"
                    ],
                    [
                      "Justin Spitzer",
                      " 28 October 2010"
                    ],
                    [
                      "Peter Ocko",
                      " 4 November 2010"
                    ],
                    [
                      "Jon Vitti",
                      " 11 November 2010"
                    ],
                    [
                      "Aaron Shure",
                      " 18 November 2010"
                    ],
                    [
                      "Halsted Sullivan | Warren Lieberstein",
                      " 2 December 2010"
                    ],
                    [
                      "Mindy Kaling",
                      " 9 December 2010"
                    ],
                    [
                      "Carrie Kemper",
                      " 20 January 2011"
                    ],
                    [
                      "Steve Hely",
                      " 27 January 2011"
                    ],
                    [
                      "Brent Forrester",
                      " 3 February 2011"
                    ],
                    [
                      "Robert Padnick",
                      " 10 February 2011"
                    ],
                    [
                      "B. J. Novak",
                      " 17 February 2011"
                    ],
                    [
                      "Amelie Gillette",
                      " 24 February 2011"
                    ],
                    [
                      "Jon Vitti",
                      " 24 March 2011"
                    ],
                    [
                      "Daniel Chun",
                      " 14 April 2011"
                    ],
                    [
                      "Mindy Kaling",
                      " 21 April 2011"
                    ],
                    [
                      "Greg Daniels",
                      " 28 April 2011"
                    ],
                    [
                      "Charlie Grandy",
                      " 5 May 2011"
                    ],
                    [
                      "Justin Spitzer",
                      " 12 May 2011"
                    ],
                    [
                      "Paul Lieberstein",
                      " 19 May 2011"
                    ],
                    [
                      "B. J. Novak",
                      " 22 September 2011"
                    ],
                    [
                      "Paul Lieberstein",
                      " 29 September 2011"
                    ],
                    [
                      "Charlie Grandy",
                      " 6 October 2011"
                    ],
                    [
                      "Justin Spitzer",
                      " 13 October 2011"
                    ],
                    [
                      "Carrie Kemper",
                      " 27 October 2011"
                    ],
                    [
                      "Daniel Chun",
                      " 3 November 2011"
                    ],
                    [
                      "Allison Silverman",
                      " 10 November 2011"
                    ],
                    [
                      "Robert Padnick",
                      " 17 November 2011"
                    ],
                    [
                      "Dan Greaney",
                      " 1 December 2011"
                    ],
                    [
                      "Mindy Kaling",
                      " 8 December 2011"
                    ],
                    [
                      "Steve Hely",
                      " 12 January 2012"
                    ],
                    [
                      "Owen Ellickson",
                      " 19 January 2012"
                    ],
                    [
                      "Aaron Shure",
                      " 2 February 2012"
                    ],
                    [
                      "Amelie Gillette",
                      " 9 February 2012"
                    ],
                    [
                      "Daniel Chun",
                      " 16 February 2012"
                    ],
                    [
                      "Halsted Sullivan | Warren Lieberstein",
                      " 23 February 2012"
                    ],
                    [
                      "Mindy Kaling",
                      " 1 March 2012"
                    ],
                    [
                      "Robert Padnick",
                      " 8 March 2012"
                    ],
                    [
                      "Charlie Grandy",
                      " 15 March 2012"
                    ],
                    [
                      "Steve Hely",
                      " 12 April 2012"
                    ],
                    [
                      "Justin Spitzer",
                      " 19 April 2012"
                    ],
                    [
                      "Owen Ellickson",
                      " 26 April 2012"
                    ],
                    [
                      "Warren Lieberstein | Halsted Sullivan",
                      " 3 May 2012"
                    ],
                    [
                      "B. J. Novak",
                      " 10 May 2012"
                    ],
                    [
                      "Greg Daniels",
                      " 20 September 2012"
                    ],
                    [
                      "Allison Silverman",
                      " 27 September 2012"
                    ],
                    [
                      "Jonathan Green | Gabe Miller",
                      " 4 October 2012"
                    ],
                    [
                      "Brent Forrester",
                      " 18 October 2012"
                    ],
                    [
                      "Owen Ellickson",
                      " 25 October 2012"
                    ],
                    [
                      "Dan Sterling",
                      " 8 November 2012"
                    ],
                    [
                      "Carrie Kemper",
                      " 15 November 2012"
                    ],
                    [
                      "Graham Wagner",
                      " 29 November 2012"
                    ],
                    [
                      "Robert Padnick",
                      " 6 December 2012"
                    ],
                    [
                      "Niki Schwartz-Wright",
                      " 10 January 2013"
                    ],
                    [
                      "Dan Greaney",
                      " 17 January 2013"
                    ],
                    [
                      "Jonathan Green | Gabe Miller",
                      " 24 January 2013"
                    ],
                    [
                      "Carrie Kemper",
                      " 31 January 2013"
                    ],
                    [
                      "Owen Ellickson",
                      " 31 January 2013"
                    ],
                    [
                      "Allison Silverman",
                      " 7 February 2013"
                    ],
                    [
                      "Graham Wagner",
                      " 14 February 2013"
                    ],
                    [
                      "Paul Lieberstein",
                      " 14 March 2013"
                    ],
                    [
                      "Tim McAuliffe",
                      " 4 April 2013"
                    ],
                    [
                      "Dan Sterling",
                      " 11 April 2013"
                    ],
                    [
                      "Halsted Sullivan | Warren Lieberstein",
                      " 25 April 2013"
                    ],
                    [
                      "Niki Schwartz-Wright",
                      " 2 May 2013"
                    ],
                    [
                      "Brent Forrester",
                      " 9 May 2013"
                    ],
                    [
                      "Greg Daniels",
                      " 16 May 2013"
                    ]
                  ],
                  "hovertemplate": "Episode_Number=%{x}<br>Ratings=%{y}<br>Viewership=%{marker.size}<br>Writers=%{customdata[0]}<br>Date=%{customdata[1]}<br>Season=%{marker.color}<extra></extra>",
                  "legendgroup": "",
                  "marker": {
                    "color": [
                      1,
                      1,
                      1,
                      1,
                      1,
                      1,
                      2,
                      2,
                      2,
                      2,
                      2,
                      2,
                      2,
                      2,
                      2,
                      2,
                      2,
                      2,
                      2,
                      2,
                      2,
                      2,
                      2,
                      2,
                      2,
                      2,
                      2,
                      2,
                      3,
                      3,
                      3,
                      3,
                      3,
                      3,
                      3,
                      3,
                      3,
                      3,
                      3,
                      3,
                      3,
                      3,
                      3,
                      3,
                      3,
                      3,
                      3,
                      3,
                      3,
                      3,
                      3,
                      4,
                      4,
                      4,
                      4,
                      4,
                      4,
                      4,
                      4,
                      4,
                      4,
                      4,
                      4,
                      4,
                      4,
                      5,
                      5,
                      5,
                      5,
                      5,
                      5,
                      5,
                      5,
                      5,
                      5,
                      5,
                      5,
                      5,
                      5,
                      5,
                      5,
                      5,
                      5,
                      5,
                      5,
                      5,
                      5,
                      5,
                      5,
                      5,
                      5,
                      6,
                      6,
                      6,
                      6,
                      6,
                      6,
                      6,
                      6,
                      6,
                      6,
                      6,
                      6,
                      6,
                      6,
                      6,
                      6,
                      6,
                      6,
                      6,
                      6,
                      6,
                      6,
                      6,
                      6,
                      6,
                      6,
                      7,
                      7,
                      7,
                      7,
                      7,
                      7,
                      7,
                      7,
                      7,
                      7,
                      7,
                      7,
                      7,
                      7,
                      7,
                      7,
                      7,
                      7,
                      7,
                      7,
                      7,
                      7,
                      7,
                      7,
                      8,
                      8,
                      8,
                      8,
                      8,
                      8,
                      8,
                      8,
                      8,
                      8,
                      8,
                      8,
                      8,
                      8,
                      8,
                      8,
                      8,
                      8,
                      8,
                      8,
                      8,
                      8,
                      8,
                      8,
                      9,
                      9,
                      9,
                      9,
                      9,
                      9,
                      9,
                      9,
                      9,
                      9,
                      9,
                      9,
                      9,
                      9,
                      9,
                      9,
                      9,
                      9,
                      9,
                      9,
                      9,
                      9,
                      9
                    ],
                    "coloraxis": "coloraxis",
                    "size": [
                      11.2,
                      6,
                      5.8,
                      5.4,
                      5,
                      4.8,
                      9,
                      7.13,
                      8.3,
                      7.6,
                      8,
                      7.9,
                      7.5,
                      8,
                      8.1,
                      9.7,
                      8.7,
                      10.3,
                      8.7,
                      8.6,
                      5.42,
                      8.95,
                      8.4,
                      8.8,
                      7.8,
                      7.8,
                      7.4,
                      7.6,
                      9.11,
                      7.78,
                      8.89,
                      8.83,
                      8.46,
                      8.81,
                      8.05,
                      8.63,
                      9.07,
                      8.44,
                      8.8,
                      10.12,
                      10.2,
                      10.11,
                      8.84,
                      8.84,
                      8.3,
                      6.74,
                      7.71,
                      7.56,
                      7,
                      7.2,
                      7.88,
                      9.7,
                      8.49,
                      8.91,
                      8.5,
                      8.98,
                      8.39,
                      8.29,
                      8.86,
                      9.22,
                      9.81,
                      7.56,
                      7.67,
                      7.22,
                      8.07,
                      9.2,
                      8.99,
                      8.07,
                      7.74,
                      9.32,
                      8.35,
                      8.18,
                      8.4,
                      8.33,
                      8.79,
                      8.5,
                      8.74,
                      22.91,
                      8.39,
                      8.89,
                      8.63,
                      7.51,
                      7.95,
                      8.45,
                      7.2,
                      7.94,
                      8.24,
                      7.21,
                      7.31,
                      7.71,
                      6.72,
                      8.2,
                      7.33,
                      7.28,
                      9.42,
                      9.42,
                      8.1,
                      8.52,
                      8.2,
                      7.94,
                      7.76,
                      7.43,
                      8.1,
                      8.51,
                      7.29,
                      7.36,
                      7.4,
                      9,
                      9,
                      7.51,
                      7.63,
                      7.17,
                      6.3,
                      7.01,
                      6.84,
                      6.6,
                      6.6,
                      8.4,
                      7.36,
                      6.95,
                      7.36,
                      6.87,
                      8.07,
                      7.65,
                      7.15,
                      7.28,
                      7.31,
                      7.18,
                      8.26,
                      7.93,
                      7.29,
                      6.9,
                      6.41,
                      6.12,
                      7.07,
                      7.87,
                      6.85,
                      8.42,
                      6.9,
                      6.45,
                      7.29,
                      7.64,
                      6.7,
                      5.82,
                      6.08,
                      5.53,
                      6.15,
                      5.96,
                      5.5,
                      5.71,
                      5.79,
                      5.9,
                      6.02,
                      5.31,
                      5.19,
                      4.38,
                      5.02,
                      4.95,
                      4.89,
                      4.87,
                      4.39,
                      4.35,
                      4.17,
                      4.44,
                      4.49,
                      4.28,
                      4.13,
                      4.14,
                      4.28,
                      4,
                      4.83,
                      4.16,
                      3.88,
                      4.16,
                      4.54,
                      4.15,
                      4.19,
                      4.45,
                      3.97,
                      4.15,
                      4.06,
                      3.54,
                      3.44,
                      3.83,
                      3.25,
                      3.51,
                      4.56,
                      5.69
                    ],
                    "sizemode": "area",
                    "sizeref": 0.057275,
                    "symbol": "circle"
                  },
                  "mode": "markers",
                  "name": "",
                  "orientation": "v",
                  "showlegend": false,
                  "type": "scatter",
                  "x": [
                    0,
                    1,
                    2,
                    3,
                    4,
                    5,
                    6,
                    7,
                    8,
                    9,
                    10,
                    11,
                    12,
                    13,
                    14,
                    15,
                    16,
                    17,
                    18,
                    19,
                    20,
                    21,
                    22,
                    23,
                    24,
                    25,
                    26,
                    27,
                    28,
                    29,
                    30,
                    31,
                    32,
                    33,
                    34,
                    35,
                    36,
                    37,
                    38,
                    39,
                    40,
                    41,
                    42,
                    43,
                    44,
                    45,
                    46,
                    47,
                    48,
                    49,
                    50,
                    51,
                    52,
                    53,
                    54,
                    55,
                    56,
                    57,
                    58,
                    59,
                    60,
                    61,
                    62,
                    63,
                    64,
                    65,
                    66,
                    67,
                    68,
                    69,
                    70,
                    71,
                    72,
                    73,
                    74,
                    75,
                    76,
                    77,
                    78,
                    79,
                    80,
                    81,
                    82,
                    83,
                    84,
                    85,
                    86,
                    87,
                    88,
                    89,
                    90,
                    91,
                    92,
                    93,
                    94,
                    95,
                    96,
                    97,
                    98,
                    99,
                    100,
                    101,
                    102,
                    103,
                    104,
                    105,
                    106,
                    107,
                    108,
                    109,
                    110,
                    111,
                    112,
                    113,
                    114,
                    115,
                    116,
                    117,
                    118,
                    119,
                    120,
                    121,
                    122,
                    123,
                    124,
                    125,
                    126,
                    127,
                    128,
                    129,
                    130,
                    131,
                    132,
                    133,
                    134,
                    135,
                    136,
                    137,
                    138,
                    139,
                    140,
                    141,
                    142,
                    143,
                    144,
                    145,
                    146,
                    147,
                    148,
                    149,
                    150,
                    151,
                    152,
                    153,
                    154,
                    155,
                    156,
                    157,
                    158,
                    159,
                    160,
                    161,
                    162,
                    163,
                    164,
                    165,
                    166,
                    167,
                    168,
                    169,
                    170,
                    171,
                    172,
                    173,
                    174,
                    175,
                    176,
                    177,
                    178,
                    179,
                    180,
                    181,
                    182,
                    183,
                    184,
                    185,
                    186,
                    187
                  ],
                  "xaxis": "x",
                  "y": [
                    7.5,
                    8.3,
                    7.8,
                    8.1,
                    8.4,
                    7.7,
                    8.7,
                    8.2,
                    8.4,
                    8.4,
                    8.1,
                    8.1,
                    8.6,
                    8.2,
                    8.4,
                    8.9,
                    8.6,
                    9.1,
                    8.3,
                    7.8,
                    8.2,
                    8.3,
                    8.5,
                    8.3,
                    8.1,
                    8.4,
                    8.7,
                    9.4,
                    9,
                    8.2,
                    8.5,
                    8,
                    8.1,
                    7.9,
                    8.6,
                    8.7,
                    8.3,
                    8.8,
                    8.5,
                    8.6,
                    8.8,
                    8.1,
                    8.2,
                    8.9,
                    8.5,
                    9,
                    8.8,
                    8.7,
                    8.8,
                    9.2,
                    9.3,
                    8.8,
                    8.3,
                    8.4,
                    8.7,
                    8.8,
                    8.5,
                    8.2,
                    8.7,
                    9.5,
                    8,
                    8.6,
                    8.3,
                    7.8,
                    9.3,
                    8.8,
                    8.3,
                    8,
                    8.1,
                    8,
                    8.5,
                    8.2,
                    8.6,
                    8.8,
                    8.4,
                    8.7,
                    8,
                    9.7,
                    8.2,
                    8.1,
                    8,
                    8.7,
                    8.3,
                    8.4,
                    8.3,
                    8.7,
                    8.7,
                    9.2,
                    8.3,
                    8.7,
                    9,
                    8.8,
                    8.1,
                    8,
                    9.4,
                    9.4,
                    7.6,
                    8.6,
                    8.2,
                    8.1,
                    8.7,
                    8.2,
                    8.3,
                    8.5,
                    6.8,
                    7.7,
                    8.1,
                    8.4,
                    8.5,
                    7.7,
                    7.7,
                    8.6,
                    7.8,
                    8,
                    8.1,
                    7.8,
                    8,
                    8.4,
                    8.2,
                    8.2,
                    7.8,
                    7.8,
                    8.2,
                    7.4,
                    7.8,
                    7.7,
                    8.2,
                    9,
                    8.3,
                    7.6,
                    8.5,
                    8.4,
                    9.4,
                    7.5,
                    9.3,
                    7.8,
                    9,
                    9.8,
                    7.6,
                    8.7,
                    8.8,
                    8.1,
                    8.1,
                    7.3,
                    8.1,
                    7.5,
                    7.7,
                    7.7,
                    6.9,
                    7.7,
                    7.9,
                    7.9,
                    8,
                    7.4,
                    7.7,
                    7.8,
                    8.1,
                    7.8,
                    7.8,
                    6.6,
                    7.1,
                    7,
                    7,
                    7.6,
                    7.7,
                    7.6,
                    7.1,
                    7.4,
                    7.8,
                    7,
                    7.7,
                    7.6,
                    7.8,
                    8.4,
                    7.6,
                    7.8,
                    7.9,
                    7.6,
                    7.5,
                    7.3,
                    8.1,
                    7.5,
                    8,
                    8,
                    8,
                    9,
                    9.5,
                    9.8
                  ],
                  "yaxis": "y"
                }
              ],
              "layout": {
                "coloraxis": {
                  "colorbar": {
                    "title": {
                      "text": "Season"
                    }
                  },
                  "colorscale": [
                    [
                      0,
                      "#0d0887"
                    ],
                    [
                      0.1111111111111111,
                      "#46039f"
                    ],
                    [
                      0.2222222222222222,
                      "#7201a8"
                    ],
                    [
                      0.3333333333333333,
                      "#9c179e"
                    ],
                    [
                      0.4444444444444444,
                      "#bd3786"
                    ],
                    [
                      0.5555555555555556,
                      "#d8576b"
                    ],
                    [
                      0.6666666666666666,
                      "#ed7953"
                    ],
                    [
                      0.7777777777777778,
                      "#fb9f3a"
                    ],
                    [
                      0.8888888888888888,
                      "#fdca26"
                    ],
                    [
                      1,
                      "#f0f921"
                    ]
                  ]
                },
                "legend": {
                  "itemsizing": "constant",
                  "tracegroupgap": 0
                },
                "template": {
                  "data": {
                    "bar": [
                      {
                        "error_x": {
                          "color": "#2a3f5f"
                        },
                        "error_y": {
                          "color": "#2a3f5f"
                        },
                        "marker": {
                          "line": {
                            "color": "#E5ECF6",
                            "width": 0.5
                          }
                        },
                        "type": "bar"
                      }
                    ],
                    "barpolar": [
                      {
                        "marker": {
                          "line": {
                            "color": "#E5ECF6",
                            "width": 0.5
                          }
                        },
                        "type": "barpolar"
                      }
                    ],
                    "carpet": [
                      {
                        "aaxis": {
                          "endlinecolor": "#2a3f5f",
                          "gridcolor": "white",
                          "linecolor": "white",
                          "minorgridcolor": "white",
                          "startlinecolor": "#2a3f5f"
                        },
                        "baxis": {
                          "endlinecolor": "#2a3f5f",
                          "gridcolor": "white",
                          "linecolor": "white",
                          "minorgridcolor": "white",
                          "startlinecolor": "#2a3f5f"
                        },
                        "type": "carpet"
                      }
                    ],
                    "choropleth": [
                      {
                        "colorbar": {
                          "outlinewidth": 0,
                          "ticks": ""
                        },
                        "type": "choropleth"
                      }
                    ],
                    "contour": [
                      {
                        "colorbar": {
                          "outlinewidth": 0,
                          "ticks": ""
                        },
                        "colorscale": [
                          [
                            0,
                            "#0d0887"
                          ],
                          [
                            0.1111111111111111,
                            "#46039f"
                          ],
                          [
                            0.2222222222222222,
                            "#7201a8"
                          ],
                          [
                            0.3333333333333333,
                            "#9c179e"
                          ],
                          [
                            0.4444444444444444,
                            "#bd3786"
                          ],
                          [
                            0.5555555555555556,
                            "#d8576b"
                          ],
                          [
                            0.6666666666666666,
                            "#ed7953"
                          ],
                          [
                            0.7777777777777778,
                            "#fb9f3a"
                          ],
                          [
                            0.8888888888888888,
                            "#fdca26"
                          ],
                          [
                            1,
                            "#f0f921"
                          ]
                        ],
                        "type": "contour"
                      }
                    ],
                    "contourcarpet": [
                      {
                        "colorbar": {
                          "outlinewidth": 0,
                          "ticks": ""
                        },
                        "type": "contourcarpet"
                      }
                    ],
                    "heatmap": [
                      {
                        "colorbar": {
                          "outlinewidth": 0,
                          "ticks": ""
                        },
                        "colorscale": [
                          [
                            0,
                            "#0d0887"
                          ],
                          [
                            0.1111111111111111,
                            "#46039f"
                          ],
                          [
                            0.2222222222222222,
                            "#7201a8"
                          ],
                          [
                            0.3333333333333333,
                            "#9c179e"
                          ],
                          [
                            0.4444444444444444,
                            "#bd3786"
                          ],
                          [
                            0.5555555555555556,
                            "#d8576b"
                          ],
                          [
                            0.6666666666666666,
                            "#ed7953"
                          ],
                          [
                            0.7777777777777778,
                            "#fb9f3a"
                          ],
                          [
                            0.8888888888888888,
                            "#fdca26"
                          ],
                          [
                            1,
                            "#f0f921"
                          ]
                        ],
                        "type": "heatmap"
                      }
                    ],
                    "heatmapgl": [
                      {
                        "colorbar": {
                          "outlinewidth": 0,
                          "ticks": ""
                        },
                        "colorscale": [
                          [
                            0,
                            "#0d0887"
                          ],
                          [
                            0.1111111111111111,
                            "#46039f"
                          ],
                          [
                            0.2222222222222222,
                            "#7201a8"
                          ],
                          [
                            0.3333333333333333,
                            "#9c179e"
                          ],
                          [
                            0.4444444444444444,
                            "#bd3786"
                          ],
                          [
                            0.5555555555555556,
                            "#d8576b"
                          ],
                          [
                            0.6666666666666666,
                            "#ed7953"
                          ],
                          [
                            0.7777777777777778,
                            "#fb9f3a"
                          ],
                          [
                            0.8888888888888888,
                            "#fdca26"
                          ],
                          [
                            1,
                            "#f0f921"
                          ]
                        ],
                        "type": "heatmapgl"
                      }
                    ],
                    "histogram": [
                      {
                        "marker": {
                          "colorbar": {
                            "outlinewidth": 0,
                            "ticks": ""
                          }
                        },
                        "type": "histogram"
                      }
                    ],
                    "histogram2d": [
                      {
                        "colorbar": {
                          "outlinewidth": 0,
                          "ticks": ""
                        },
                        "colorscale": [
                          [
                            0,
                            "#0d0887"
                          ],
                          [
                            0.1111111111111111,
                            "#46039f"
                          ],
                          [
                            0.2222222222222222,
                            "#7201a8"
                          ],
                          [
                            0.3333333333333333,
                            "#9c179e"
                          ],
                          [
                            0.4444444444444444,
                            "#bd3786"
                          ],
                          [
                            0.5555555555555556,
                            "#d8576b"
                          ],
                          [
                            0.6666666666666666,
                            "#ed7953"
                          ],
                          [
                            0.7777777777777778,
                            "#fb9f3a"
                          ],
                          [
                            0.8888888888888888,
                            "#fdca26"
                          ],
                          [
                            1,
                            "#f0f921"
                          ]
                        ],
                        "type": "histogram2d"
                      }
                    ],
                    "histogram2dcontour": [
                      {
                        "colorbar": {
                          "outlinewidth": 0,
                          "ticks": ""
                        },
                        "colorscale": [
                          [
                            0,
                            "#0d0887"
                          ],
                          [
                            0.1111111111111111,
                            "#46039f"
                          ],
                          [
                            0.2222222222222222,
                            "#7201a8"
                          ],
                          [
                            0.3333333333333333,
                            "#9c179e"
                          ],
                          [
                            0.4444444444444444,
                            "#bd3786"
                          ],
                          [
                            0.5555555555555556,
                            "#d8576b"
                          ],
                          [
                            0.6666666666666666,
                            "#ed7953"
                          ],
                          [
                            0.7777777777777778,
                            "#fb9f3a"
                          ],
                          [
                            0.8888888888888888,
                            "#fdca26"
                          ],
                          [
                            1,
                            "#f0f921"
                          ]
                        ],
                        "type": "histogram2dcontour"
                      }
                    ],
                    "mesh3d": [
                      {
                        "colorbar": {
                          "outlinewidth": 0,
                          "ticks": ""
                        },
                        "type": "mesh3d"
                      }
                    ],
                    "parcoords": [
                      {
                        "line": {
                          "colorbar": {
                            "outlinewidth": 0,
                            "ticks": ""
                          }
                        },
                        "type": "parcoords"
                      }
                    ],
                    "pie": [
                      {
                        "automargin": true,
                        "type": "pie"
                      }
                    ],
                    "scatter": [
                      {
                        "marker": {
                          "colorbar": {
                            "outlinewidth": 0,
                            "ticks": ""
                          }
                        },
                        "type": "scatter"
                      }
                    ],
                    "scatter3d": [
                      {
                        "line": {
                          "colorbar": {
                            "outlinewidth": 0,
                            "ticks": ""
                          }
                        },
                        "marker": {
                          "colorbar": {
                            "outlinewidth": 0,
                            "ticks": ""
                          }
                        },
                        "type": "scatter3d"
                      }
                    ],
                    "scattercarpet": [
                      {
                        "marker": {
                          "colorbar": {
                            "outlinewidth": 0,
                            "ticks": ""
                          }
                        },
                        "type": "scattercarpet"
                      }
                    ],
                    "scattergeo": [
                      {
                        "marker": {
                          "colorbar": {
                            "outlinewidth": 0,
                            "ticks": ""
                          }
                        },
                        "type": "scattergeo"
                      }
                    ],
                    "scattergl": [
                      {
                        "marker": {
                          "colorbar": {
                            "outlinewidth": 0,
                            "ticks": ""
                          }
                        },
                        "type": "scattergl"
                      }
                    ],
                    "scattermapbox": [
                      {
                        "marker": {
                          "colorbar": {
                            "outlinewidth": 0,
                            "ticks": ""
                          }
                        },
                        "type": "scattermapbox"
                      }
                    ],
                    "scatterpolar": [
                      {
                        "marker": {
                          "colorbar": {
                            "outlinewidth": 0,
                            "ticks": ""
                          }
                        },
                        "type": "scatterpolar"
                      }
                    ],
                    "scatterpolargl": [
                      {
                        "marker": {
                          "colorbar": {
                            "outlinewidth": 0,
                            "ticks": ""
                          }
                        },
                        "type": "scatterpolargl"
                      }
                    ],
                    "scatterternary": [
                      {
                        "marker": {
                          "colorbar": {
                            "outlinewidth": 0,
                            "ticks": ""
                          }
                        },
                        "type": "scatterternary"
                      }
                    ],
                    "surface": [
                      {
                        "colorbar": {
                          "outlinewidth": 0,
                          "ticks": ""
                        },
                        "colorscale": [
                          [
                            0,
                            "#0d0887"
                          ],
                          [
                            0.1111111111111111,
                            "#46039f"
                          ],
                          [
                            0.2222222222222222,
                            "#7201a8"
                          ],
                          [
                            0.3333333333333333,
                            "#9c179e"
                          ],
                          [
                            0.4444444444444444,
                            "#bd3786"
                          ],
                          [
                            0.5555555555555556,
                            "#d8576b"
                          ],
                          [
                            0.6666666666666666,
                            "#ed7953"
                          ],
                          [
                            0.7777777777777778,
                            "#fb9f3a"
                          ],
                          [
                            0.8888888888888888,
                            "#fdca26"
                          ],
                          [
                            1,
                            "#f0f921"
                          ]
                        ],
                        "type": "surface"
                      }
                    ],
                    "table": [
                      {
                        "cells": {
                          "fill": {
                            "color": "#EBF0F8"
                          },
                          "line": {
                            "color": "white"
                          }
                        },
                        "header": {
                          "fill": {
                            "color": "#C8D4E3"
                          },
                          "line": {
                            "color": "white"
                          }
                        },
                        "type": "table"
                      }
                    ]
                  },
                  "layout": {
                    "annotationdefaults": {
                      "arrowcolor": "#2a3f5f",
                      "arrowhead": 0,
                      "arrowwidth": 1
                    },
                    "autotypenumbers": "strict",
                    "coloraxis": {
                      "colorbar": {
                        "outlinewidth": 0,
                        "ticks": ""
                      }
                    },
                    "colorscale": {
                      "diverging": [
                        [
                          0,
                          "#8e0152"
                        ],
                        [
                          0.1,
                          "#c51b7d"
                        ],
                        [
                          0.2,
                          "#de77ae"
                        ],
                        [
                          0.3,
                          "#f1b6da"
                        ],
                        [
                          0.4,
                          "#fde0ef"
                        ],
                        [
                          0.5,
                          "#f7f7f7"
                        ],
                        [
                          0.6,
                          "#e6f5d0"
                        ],
                        [
                          0.7,
                          "#b8e186"
                        ],
                        [
                          0.8,
                          "#7fbc41"
                        ],
                        [
                          0.9,
                          "#4d9221"
                        ],
                        [
                          1,
                          "#276419"
                        ]
                      ],
                      "sequential": [
                        [
                          0,
                          "#0d0887"
                        ],
                        [
                          0.1111111111111111,
                          "#46039f"
                        ],
                        [
                          0.2222222222222222,
                          "#7201a8"
                        ],
                        [
                          0.3333333333333333,
                          "#9c179e"
                        ],
                        [
                          0.4444444444444444,
                          "#bd3786"
                        ],
                        [
                          0.5555555555555556,
                          "#d8576b"
                        ],
                        [
                          0.6666666666666666,
                          "#ed7953"
                        ],
                        [
                          0.7777777777777778,
                          "#fb9f3a"
                        ],
                        [
                          0.8888888888888888,
                          "#fdca26"
                        ],
                        [
                          1,
                          "#f0f921"
                        ]
                      ],
                      "sequentialminus": [
                        [
                          0,
                          "#0d0887"
                        ],
                        [
                          0.1111111111111111,
                          "#46039f"
                        ],
                        [
                          0.2222222222222222,
                          "#7201a8"
                        ],
                        [
                          0.3333333333333333,
                          "#9c179e"
                        ],
                        [
                          0.4444444444444444,
                          "#bd3786"
                        ],
                        [
                          0.5555555555555556,
                          "#d8576b"
                        ],
                        [
                          0.6666666666666666,
                          "#ed7953"
                        ],
                        [
                          0.7777777777777778,
                          "#fb9f3a"
                        ],
                        [
                          0.8888888888888888,
                          "#fdca26"
                        ],
                        [
                          1,
                          "#f0f921"
                        ]
                      ]
                    },
                    "colorway": [
                      "#636efa",
                      "#EF553B",
                      "#00cc96",
                      "#ab63fa",
                      "#FFA15A",
                      "#19d3f3",
                      "#FF6692",
                      "#B6E880",
                      "#FF97FF",
                      "#FECB52"
                    ],
                    "font": {
                      "color": "#2a3f5f"
                    },
                    "geo": {
                      "bgcolor": "white",
                      "lakecolor": "white",
                      "landcolor": "#E5ECF6",
                      "showlakes": true,
                      "showland": true,
                      "subunitcolor": "white"
                    },
                    "hoverlabel": {
                      "align": "left"
                    },
                    "hovermode": "closest",
                    "mapbox": {
                      "style": "light"
                    },
                    "paper_bgcolor": "white",
                    "plot_bgcolor": "#E5ECF6",
                    "polar": {
                      "angularaxis": {
                        "gridcolor": "white",
                        "linecolor": "white",
                        "ticks": ""
                      },
                      "bgcolor": "#E5ECF6",
                      "radialaxis": {
                        "gridcolor": "white",
                        "linecolor": "white",
                        "ticks": ""
                      }
                    },
                    "scene": {
                      "xaxis": {
                        "backgroundcolor": "#E5ECF6",
                        "gridcolor": "white",
                        "gridwidth": 2,
                        "linecolor": "white",
                        "showbackground": true,
                        "ticks": "",
                        "zerolinecolor": "white"
                      },
                      "yaxis": {
                        "backgroundcolor": "#E5ECF6",
                        "gridcolor": "white",
                        "gridwidth": 2,
                        "linecolor": "white",
                        "showbackground": true,
                        "ticks": "",
                        "zerolinecolor": "white"
                      },
                      "zaxis": {
                        "backgroundcolor": "#E5ECF6",
                        "gridcolor": "white",
                        "gridwidth": 2,
                        "linecolor": "white",
                        "showbackground": true,
                        "ticks": "",
                        "zerolinecolor": "white"
                      }
                    },
                    "shapedefaults": {
                      "line": {
                        "color": "#2a3f5f"
                      }
                    },
                    "ternary": {
                      "aaxis": {
                        "gridcolor": "white",
                        "linecolor": "white",
                        "ticks": ""
                      },
                      "baxis": {
                        "gridcolor": "white",
                        "linecolor": "white",
                        "ticks": ""
                      },
                      "bgcolor": "#E5ECF6",
                      "caxis": {
                        "gridcolor": "white",
                        "linecolor": "white",
                        "ticks": ""
                      }
                    },
                    "title": {
                      "x": 0.05
                    },
                    "xaxis": {
                      "automargin": true,
                      "gridcolor": "white",
                      "linecolor": "white",
                      "ticks": "",
                      "title": {
                        "standoff": 15
                      },
                      "zerolinecolor": "white",
                      "zerolinewidth": 2
                    },
                    "yaxis": {
                      "automargin": true,
                      "gridcolor": "white",
                      "linecolor": "white",
                      "ticks": "",
                      "title": {
                        "standoff": 15
                      },
                      "zerolinecolor": "white",
                      "zerolinewidth": 2
                    }
                  }
                },
                "title": {
                  "text": "The Office Episodes Ratings and Viewership by Episode"
                },
                "xaxis": {
                  "anchor": "y",
                  "domain": [
                    0,
                    1
                  ],
                  "title": {
                    "text": "Episode_Number"
                  }
                },
                "yaxis": {
                  "anchor": "x",
                  "domain": [
                    0,
                    1
                  ],
                  "title": {
                    "text": "Ratings"
                  }
                }
              }
            },
            "text/html": "<div>                            <div id=\"e476c1f9-67b3-428f-9152-417d35010742\" class=\"plotly-graph-div\" style=\"height:525px; width:100%;\"></div>            <script type=\"text/javascript\">                require([\"plotly\"], function(Plotly) {                    window.PLOTLYENV=window.PLOTLYENV || {};                                    if (document.getElementById(\"e476c1f9-67b3-428f-9152-417d35010742\")) {                    Plotly.newPlot(                        \"e476c1f9-67b3-428f-9152-417d35010742\",                        [{\"customdata\": [[\"Ricky Gervais |Stephen Merchant and Greg Daniels\", \" 24 March 2005\"], [\"B. J. Novak\", \" 29 March 2005\"], [\"Paul Lieberstein\", \" 5 April 2005\"], [\"Michael Schur\", \" 12 April 2005\"], [\"Greg Daniels\", \" 19 April 2005\"], [\"Mindy Kaling\", \" 26 April 2005\"], [\"Mindy Kaling\", \" 20 September 2005\"], [\"B. J. Novak\", \" 27 September 2005\"], [\"Michael Schur\", \" 4 October 2005\"], [\"B. J. Novak\", \" 11 October 2005\"], [\"Greg Daniels\", \" 18 October 2005\"], [\"Gene Stupnitsky | Lee Eisenberg\", \" 1 November 2005\"], [\"Paul Lieberstein\", \" 8 November 2005\"], [\"Larry Wilmore\", \" 15 November 2005\"], [\"Jennifer Celotta\", \" 22 November 2005\"], [\"Michael Schur\", \" 6 December 2005\"], [\"Greg Daniels\", \" 5 January 2006\"], [\"Mindy Kaling\", \" 12 January 2006\"], [\"Lee Eisenberg | Gene Stupnitsky\", \" 19 January 2006\"], [\"Paul Lieberstein\", \" 26 January 2006\"], [\"B. J. Novak\", \" 2 February 2006\"], [\"Michael Schur\", \" 9 February 2006\"], [\"Paul Lieberstein\", \" 2 March 2006\"], [\"Mindy Kaling\", \" 16 March 2006\"], [\"Gene Stupnitsky | Lee Eisenberg\", \" 30 March 2006\"], [\"Jennifer Celotta\", \" 27 April 2006\"], [\"Greg Daniels\", \" 4 May 2006\"], [\"Steve Carell\", \" 11 May 2006\"], [\"Greg Daniels\", \" 21 September 2006\"], [\"Gene Stupnitsky | Lee Eisenberg\", \" 28 September 2006\"], [\"Paul Lieberstein\", \" 5 October 2006\"], [\"Jennifer Celotta\", \" 12 October 2006\"], [\"B. J. Novak\", \" 19 October 2006\"], [\"Mindy Kaling\", \" 2 November 2006\"], [\"Michael Schur\", \" 9 November 2006\"], [\"Brent Forrester\", \" 16 November 2006\"], [\"Ricky Gervais | Stephen Merchant\", \" 30 November 2006\"], [\"Jennifer Celotta\", \" 14 December 2006\"], [\"Justin Spitzer\", \" 4 January 2007\"], [\"Michael Schur | Lee Eisenberg | Gene Stupnitsky\", \" 11 January 2007\"], [\"Lee Eisenberg | Gene Stupnitsky | Michael Schur\", \" 18 January 2007\"], [\"Mindy Kaling\", \" 1 February 2007\"], [\"Caroline Williams\", \" 8 February 2007\"], [\"Brent Forrester\", \" 15 February 2007\"], [\"Paul Lieberstein\", \" 22 February 2007\"], [\"Michael Schur\", \" 5 April 2007\"], [\"B. J. Novak\", \" 12 April 2007\"], [\"Justin Spitzer | Brent Forrester\", \" 26 April 2007\"], [\"Gene Stupnitsky | Lee Eisenberg\", \" 3 May 2007\"], [\"Jennifer Celotta | Greg Daniels\", \" 10 May 2007\"], [\"Paul Lieberstein | Michael Schur\", \" 17 May 2007\"], [\"Greg Daniels\", \" 27 September 2007\"], [\"Michael Schur\", \" 4 October 2007\"], [\"Jennifer Celotta\", \" 11 October 2007\"], [\"Paul Lieberstein\", \" 18 October 2007\"], [\"B. J. Novak\", \" 25 October 2007\"], [\"Mindy Kaling\", \" 1 November 2007\"], [\"Steve Carell\", \" 8 November 2007\"], [\"Lester Lewis\", \" 15 November 2007\"], [\"Gene Stupnitsky | Lee Eisenberg\", \" 10 April 2008\"], [\"B. J. Novak\", \" 17 April 2008\"], [\"Mindy Kaling\", \" 24 April 2008\"], [\"Brent Forrester | Justin Spitzer\", \" 1 May 2008\"], [\"Lee Eisenberg | Gene Stupnitsky\", \" 8 May 2008\"], [\"Jennifer Celotta | Paul Lieberstein\", \" 15 May 2008\"], [\"Lee Eisenberg | Gene Stupnitsky\", \" 25 September 2008\"], [\"Ryan Koh\", \" 9 October 2008\"], [\"Aaron Shure\", \" 16 October 2008\"], [\"Charlie Grandy\", \" 23 October 2008\"], [\"Anthony Q. Farrell\", \" 30 October 2008\"], [\"Lester Lewis\", \" 6 November 2008\"], [\"Brent Forrester\", \" 13 November 2008\"], [\"Mindy Kaling\", \" 20 November 2008\"], [\"Gene Stupnitsky | Lee Eisenberg\", \" 4 December 2008\"], [\"Justin Spitzer\", \" 11 December 2008\"], [\"Jennifer Celotta\", \" 15 January 2009\"], [\"B. J. Novak\", \" 22 January 2009\"], [\"Paul Lieberstein\", \" 1 February 2009\"], [\"Mindy Kaling\", \" 5 February 2009\"], [\"Mindy Kaling\", \" 12 February 2009\"], [\"Brent Forrester\", \" 5 March 2009\"], [\"Mindy Kaling\", \" 12 March 2009\"], [\"Lee Eisenberg | Gene Stupnitsky\", \" 19 March 2009\"], [\"Aaron Shure\", \" 26 March 2009\"], [\"B. J. Novak\", \" 9 April 2009\"], [\"Justin Spitzer\", \" 9 April 2009\"], [\"Ryan Koh\", \" 16 April 2009\"], [\"Charlie Grandy\", \" 23 April 2009\"], [\"Anthony Q. Farrell\", \" 30 April 2009\"], [\"Warren Lieberstein | Halsted Sullivan\", \" 7 May 2009\"], [\"Jennifer Celotta | Paul Lieberstein\", \" 14 May 2009\"], [\"Paul Lieberstein\", \" 17 September 2009\"], [\"Aaron Shure\", \" 24 September 2009\"], [\"Jennifer Celotta\", \" 1 October 2009\"], [\"Greg Daniels | Mindy Kaling\", \" 8 October 2009\"], [\"Greg Daniels | Mindy Kaling\", \" 8 October 2009\"], [\"Brent Forrester\", \" 15 October 2009\"], [\"Lee Eisenberg | Gene Stupnitsky\", \" 22 October 2009\"], [\"Warren Lieberstein | Halsted Sullivan\", \" 29 October 2009\"], [\"Charlie Grandy\", \" 5 November 2009\"], [\"Daniel Chun\", \" 12 November 2009\"], [\"Justin Spitzer\", \" 19 November 2009\"], [\"Gene Stupnitsky | Lee Eisenberg\", \" 3 December 2009\"], [\"Mindy Kaling\", \" 10 December 2009\"], [\"Jason Kessler\", \" 21 January 2010\"], [\"Jennifer Celotta\", \" 4 February 2010\"], [\"Mindy Kaling\", \" 11 February 2010\"], [\"Daniel Chun\", \" 4 March 2010\"], [\"Daniel Chun\", \" 4 March 2010\"], [\"Jonathan Hughes\", \" 11 March 2010\"], [\"Brent Forrester\", \" 18 March 2010\"], [\"B. J. Novak\", \" 25 March 2010\"], [\"Mindy Kaling\", \" 22 April 2010\"], [\"Justin Spitzer\", \" 29 April 2010\"], [\"Gene Stupnitsky | Lee Eisenberg\", \" 6 May 2010\"], [\"Aaron Shure\", \" 13 May 2010\"], [\"Warren Lieberstein | Halsted Sullivan\", \" 20 May 2010\"], [\"Daniel Chun\", \" 23 September 2010\"], [\"B. J. Novak\", \" 30 September 2010\"], [\"Charlie Grandy\", \" 7 October 2010\"], [\"Paul Lieberstein\", \" 14 October 2010\"], [\"Mindy Kaling\", \" 21 October 2010\"], [\"Justin Spitzer\", \" 28 October 2010\"], [\"Peter Ocko\", \" 4 November 2010\"], [\"Jon Vitti\", \" 11 November 2010\"], [\"Aaron Shure\", \" 18 November 2010\"], [\"Halsted Sullivan | Warren Lieberstein\", \" 2 December 2010\"], [\"Mindy Kaling\", \" 9 December 2010\"], [\"Carrie Kemper\", \" 20 January 2011\"], [\"Steve Hely\", \" 27 January 2011\"], [\"Brent Forrester\", \" 3 February 2011\"], [\"Robert Padnick\", \" 10 February 2011\"], [\"B. J. Novak\", \" 17 February 2011\"], [\"Amelie Gillette\", \" 24 February 2011\"], [\"Jon Vitti\", \" 24 March 2011\"], [\"Daniel Chun\", \" 14 April 2011\"], [\"Mindy Kaling\", \" 21 April 2011\"], [\"Greg Daniels\", \" 28 April 2011\"], [\"Charlie Grandy\", \" 5 May 2011\"], [\"Justin Spitzer\", \" 12 May 2011\"], [\"Paul Lieberstein\", \" 19 May 2011\"], [\"B. J. Novak\", \" 22 September 2011\"], [\"Paul Lieberstein\", \" 29 September 2011\"], [\"Charlie Grandy\", \" 6 October 2011\"], [\"Justin Spitzer\", \" 13 October 2011\"], [\"Carrie Kemper\", \" 27 October 2011\"], [\"Daniel Chun\", \" 3 November 2011\"], [\"Allison Silverman\", \" 10 November 2011\"], [\"Robert Padnick\", \" 17 November 2011\"], [\"Dan Greaney\", \" 1 December 2011\"], [\"Mindy Kaling\", \" 8 December 2011\"], [\"Steve Hely\", \" 12 January 2012\"], [\"Owen Ellickson\", \" 19 January 2012\"], [\"Aaron Shure\", \" 2 February 2012\"], [\"Amelie Gillette\", \" 9 February 2012\"], [\"Daniel Chun\", \" 16 February 2012\"], [\"Halsted Sullivan | Warren Lieberstein\", \" 23 February 2012\"], [\"Mindy Kaling\", \" 1 March 2012\"], [\"Robert Padnick\", \" 8 March 2012\"], [\"Charlie Grandy\", \" 15 March 2012\"], [\"Steve Hely\", \" 12 April 2012\"], [\"Justin Spitzer\", \" 19 April 2012\"], [\"Owen Ellickson\", \" 26 April 2012\"], [\"Warren Lieberstein | Halsted Sullivan\", \" 3 May 2012\"], [\"B. J. Novak\", \" 10 May 2012\"], [\"Greg Daniels\", \" 20 September 2012\"], [\"Allison Silverman\", \" 27 September 2012\"], [\"Jonathan Green | Gabe Miller\", \" 4 October 2012\"], [\"Brent Forrester\", \" 18 October 2012\"], [\"Owen Ellickson\", \" 25 October 2012\"], [\"Dan Sterling\", \" 8 November 2012\"], [\"Carrie Kemper\", \" 15 November 2012\"], [\"Graham Wagner\", \" 29 November 2012\"], [\"Robert Padnick\", \" 6 December 2012\"], [\"Niki Schwartz-Wright\", \" 10 January 2013\"], [\"Dan Greaney\", \" 17 January 2013\"], [\"Jonathan Green | Gabe Miller\", \" 24 January 2013\"], [\"Carrie Kemper\", \" 31 January 2013\"], [\"Owen Ellickson\", \" 31 January 2013\"], [\"Allison Silverman\", \" 7 February 2013\"], [\"Graham Wagner\", \" 14 February 2013\"], [\"Paul Lieberstein\", \" 14 March 2013\"], [\"Tim McAuliffe\", \" 4 April 2013\"], [\"Dan Sterling\", \" 11 April 2013\"], [\"Halsted Sullivan | Warren Lieberstein\", \" 25 April 2013\"], [\"Niki Schwartz-Wright\", \" 2 May 2013\"], [\"Brent Forrester\", \" 9 May 2013\"], [\"Greg Daniels\", \" 16 May 2013\"]], \"hovertemplate\": \"Episode_Number=%{x}<br>Ratings=%{y}<br>Viewership=%{marker.size}<br>Writers=%{customdata[0]}<br>Date=%{customdata[1]}<br>Season=%{marker.color}<extra></extra>\", \"legendgroup\": \"\", \"marker\": {\"color\": [1, 1, 1, 1, 1, 1, 2, 2, 2, 2, 2, 2, 2, 2, 2, 2, 2, 2, 2, 2, 2, 2, 2, 2, 2, 2, 2, 2, 3, 3, 3, 3, 3, 3, 3, 3, 3, 3, 3, 3, 3, 3, 3, 3, 3, 3, 3, 3, 3, 3, 3, 4, 4, 4, 4, 4, 4, 4, 4, 4, 4, 4, 4, 4, 4, 5, 5, 5, 5, 5, 5, 5, 5, 5, 5, 5, 5, 5, 5, 5, 5, 5, 5, 5, 5, 5, 5, 5, 5, 5, 5, 6, 6, 6, 6, 6, 6, 6, 6, 6, 6, 6, 6, 6, 6, 6, 6, 6, 6, 6, 6, 6, 6, 6, 6, 6, 6, 7, 7, 7, 7, 7, 7, 7, 7, 7, 7, 7, 7, 7, 7, 7, 7, 7, 7, 7, 7, 7, 7, 7, 7, 8, 8, 8, 8, 8, 8, 8, 8, 8, 8, 8, 8, 8, 8, 8, 8, 8, 8, 8, 8, 8, 8, 8, 8, 9, 9, 9, 9, 9, 9, 9, 9, 9, 9, 9, 9, 9, 9, 9, 9, 9, 9, 9, 9, 9, 9, 9], \"coloraxis\": \"coloraxis\", \"size\": [11.2, 6.0, 5.8, 5.4, 5.0, 4.8, 9.0, 7.13, 8.3, 7.6, 8.0, 7.9, 7.5, 8.0, 8.1, 9.7, 8.7, 10.3, 8.7, 8.6, 5.42, 8.95, 8.4, 8.8, 7.8, 7.8, 7.4, 7.6, 9.11, 7.78, 8.89, 8.83, 8.46, 8.81, 8.05, 8.63, 9.07, 8.44, 8.8, 10.12, 10.2, 10.11, 8.84, 8.84, 8.3, 6.74, 7.71, 7.56, 7.0, 7.2, 7.88, 9.7, 8.49, 8.91, 8.5, 8.98, 8.39, 8.29, 8.86, 9.22, 9.81, 7.56, 7.67, 7.22, 8.07, 9.2, 8.99, 8.07, 7.74, 9.32, 8.35, 8.18, 8.4, 8.33, 8.79, 8.5, 8.74, 22.91, 8.39, 8.89, 8.63, 7.51, 7.95, 8.45, 7.2, 7.94, 8.24, 7.21, 7.31, 7.71, 6.72, 8.2, 7.33, 7.28, 9.42, 9.42, 8.1, 8.52, 8.2, 7.94, 7.76, 7.43, 8.1, 8.51, 7.29, 7.36, 7.4, 9.0, 9.0, 7.51, 7.63, 7.17, 6.3, 7.01, 6.84, 6.6, 6.6, 8.4, 7.36, 6.95, 7.36, 6.87, 8.07, 7.65, 7.15, 7.28, 7.31, 7.18, 8.26, 7.93, 7.29, 6.9, 6.41, 6.12, 7.07, 7.87, 6.85, 8.42, 6.9, 6.45, 7.29, 7.64, 6.7, 5.82, 6.08, 5.53, 6.15, 5.96, 5.5, 5.71, 5.79, 5.9, 6.02, 5.31, 5.19, 4.38, 5.02, 4.95, 4.89, 4.87, 4.39, 4.35, 4.17, 4.44, 4.49, 4.28, 4.13, 4.14, 4.28, 4.0, 4.83, 4.16, 3.88, 4.16, 4.54, 4.15, 4.19, 4.45, 3.97, 4.15, 4.06, 3.54, 3.44, 3.83, 3.25, 3.51, 4.56, 5.69], \"sizemode\": \"area\", \"sizeref\": 0.057275, \"symbol\": \"circle\"}, \"mode\": \"markers\", \"name\": \"\", \"orientation\": \"v\", \"showlegend\": false, \"type\": \"scatter\", \"x\": [0, 1, 2, 3, 4, 5, 6, 7, 8, 9, 10, 11, 12, 13, 14, 15, 16, 17, 18, 19, 20, 21, 22, 23, 24, 25, 26, 27, 28, 29, 30, 31, 32, 33, 34, 35, 36, 37, 38, 39, 40, 41, 42, 43, 44, 45, 46, 47, 48, 49, 50, 51, 52, 53, 54, 55, 56, 57, 58, 59, 60, 61, 62, 63, 64, 65, 66, 67, 68, 69, 70, 71, 72, 73, 74, 75, 76, 77, 78, 79, 80, 81, 82, 83, 84, 85, 86, 87, 88, 89, 90, 91, 92, 93, 94, 95, 96, 97, 98, 99, 100, 101, 102, 103, 104, 105, 106, 107, 108, 109, 110, 111, 112, 113, 114, 115, 116, 117, 118, 119, 120, 121, 122, 123, 124, 125, 126, 127, 128, 129, 130, 131, 132, 133, 134, 135, 136, 137, 138, 139, 140, 141, 142, 143, 144, 145, 146, 147, 148, 149, 150, 151, 152, 153, 154, 155, 156, 157, 158, 159, 160, 161, 162, 163, 164, 165, 166, 167, 168, 169, 170, 171, 172, 173, 174, 175, 176, 177, 178, 179, 180, 181, 182, 183, 184, 185, 186, 187], \"xaxis\": \"x\", \"y\": [7.5, 8.3, 7.8, 8.1, 8.4, 7.7, 8.7, 8.2, 8.4, 8.4, 8.1, 8.1, 8.6, 8.2, 8.4, 8.9, 8.6, 9.1, 8.3, 7.8, 8.2, 8.3, 8.5, 8.3, 8.1, 8.4, 8.7, 9.4, 9.0, 8.2, 8.5, 8.0, 8.1, 7.9, 8.6, 8.7, 8.3, 8.8, 8.5, 8.6, 8.8, 8.1, 8.2, 8.9, 8.5, 9.0, 8.8, 8.7, 8.8, 9.2, 9.3, 8.8, 8.3, 8.4, 8.7, 8.8, 8.5, 8.2, 8.7, 9.5, 8.0, 8.6, 8.3, 7.8, 9.3, 8.8, 8.3, 8.0, 8.1, 8.0, 8.5, 8.2, 8.6, 8.8, 8.4, 8.7, 8.0, 9.7, 8.2, 8.1, 8.0, 8.7, 8.3, 8.4, 8.3, 8.7, 8.7, 9.2, 8.3, 8.7, 9.0, 8.8, 8.1, 8.0, 9.4, 9.4, 7.6, 8.6, 8.2, 8.1, 8.7, 8.2, 8.3, 8.5, 6.8, 7.7, 8.1, 8.4, 8.5, 7.7, 7.7, 8.6, 7.8, 8.0, 8.1, 7.8, 8.0, 8.4, 8.2, 8.2, 7.8, 7.8, 8.2, 7.4, 7.8, 7.7, 8.2, 9.0, 8.3, 7.6, 8.5, 8.4, 9.4, 7.5, 9.3, 7.8, 9.0, 9.8, 7.6, 8.7, 8.8, 8.1, 8.1, 7.3, 8.1, 7.5, 7.7, 7.7, 6.9, 7.7, 7.9, 7.9, 8.0, 7.4, 7.7, 7.8, 8.1, 7.8, 7.8, 6.6, 7.1, 7.0, 7.0, 7.6, 7.7, 7.6, 7.1, 7.4, 7.8, 7.0, 7.7, 7.6, 7.8, 8.4, 7.6, 7.8, 7.9, 7.6, 7.5, 7.3, 8.1, 7.5, 8.0, 8.0, 8.0, 9.0, 9.5, 9.8], \"yaxis\": \"y\"}],                        {\"coloraxis\": {\"colorbar\": {\"title\": {\"text\": \"Season\"}}, \"colorscale\": [[0.0, \"#0d0887\"], [0.1111111111111111, \"#46039f\"], [0.2222222222222222, \"#7201a8\"], [0.3333333333333333, \"#9c179e\"], [0.4444444444444444, \"#bd3786\"], [0.5555555555555556, \"#d8576b\"], [0.6666666666666666, \"#ed7953\"], [0.7777777777777778, \"#fb9f3a\"], [0.8888888888888888, \"#fdca26\"], [1.0, \"#f0f921\"]]}, \"legend\": {\"itemsizing\": \"constant\", \"tracegroupgap\": 0}, \"template\": {\"data\": {\"bar\": [{\"error_x\": {\"color\": \"#2a3f5f\"}, \"error_y\": {\"color\": \"#2a3f5f\"}, \"marker\": {\"line\": {\"color\": \"#E5ECF6\", \"width\": 0.5}}, \"type\": \"bar\"}], \"barpolar\": [{\"marker\": {\"line\": {\"color\": \"#E5ECF6\", \"width\": 0.5}}, \"type\": \"barpolar\"}], \"carpet\": [{\"aaxis\": {\"endlinecolor\": \"#2a3f5f\", \"gridcolor\": \"white\", \"linecolor\": \"white\", \"minorgridcolor\": \"white\", \"startlinecolor\": \"#2a3f5f\"}, \"baxis\": {\"endlinecolor\": \"#2a3f5f\", \"gridcolor\": \"white\", \"linecolor\": \"white\", \"minorgridcolor\": \"white\", \"startlinecolor\": \"#2a3f5f\"}, \"type\": \"carpet\"}], \"choropleth\": [{\"colorbar\": {\"outlinewidth\": 0, \"ticks\": \"\"}, \"type\": \"choropleth\"}], \"contour\": [{\"colorbar\": {\"outlinewidth\": 0, \"ticks\": \"\"}, \"colorscale\": [[0.0, \"#0d0887\"], [0.1111111111111111, \"#46039f\"], [0.2222222222222222, \"#7201a8\"], [0.3333333333333333, \"#9c179e\"], [0.4444444444444444, \"#bd3786\"], [0.5555555555555556, \"#d8576b\"], [0.6666666666666666, \"#ed7953\"], [0.7777777777777778, \"#fb9f3a\"], [0.8888888888888888, \"#fdca26\"], [1.0, \"#f0f921\"]], \"type\": \"contour\"}], \"contourcarpet\": [{\"colorbar\": {\"outlinewidth\": 0, \"ticks\": \"\"}, \"type\": \"contourcarpet\"}], \"heatmap\": [{\"colorbar\": {\"outlinewidth\": 0, \"ticks\": \"\"}, \"colorscale\": [[0.0, \"#0d0887\"], [0.1111111111111111, \"#46039f\"], [0.2222222222222222, \"#7201a8\"], [0.3333333333333333, \"#9c179e\"], [0.4444444444444444, \"#bd3786\"], [0.5555555555555556, \"#d8576b\"], [0.6666666666666666, \"#ed7953\"], [0.7777777777777778, \"#fb9f3a\"], [0.8888888888888888, \"#fdca26\"], [1.0, \"#f0f921\"]], \"type\": \"heatmap\"}], \"heatmapgl\": [{\"colorbar\": {\"outlinewidth\": 0, \"ticks\": \"\"}, \"colorscale\": [[0.0, \"#0d0887\"], [0.1111111111111111, \"#46039f\"], [0.2222222222222222, \"#7201a8\"], [0.3333333333333333, \"#9c179e\"], [0.4444444444444444, \"#bd3786\"], [0.5555555555555556, \"#d8576b\"], [0.6666666666666666, \"#ed7953\"], [0.7777777777777778, \"#fb9f3a\"], [0.8888888888888888, \"#fdca26\"], [1.0, \"#f0f921\"]], \"type\": \"heatmapgl\"}], \"histogram\": [{\"marker\": {\"colorbar\": {\"outlinewidth\": 0, \"ticks\": \"\"}}, \"type\": \"histogram\"}], \"histogram2d\": [{\"colorbar\": {\"outlinewidth\": 0, \"ticks\": \"\"}, \"colorscale\": [[0.0, \"#0d0887\"], [0.1111111111111111, \"#46039f\"], [0.2222222222222222, \"#7201a8\"], [0.3333333333333333, \"#9c179e\"], [0.4444444444444444, \"#bd3786\"], [0.5555555555555556, \"#d8576b\"], [0.6666666666666666, \"#ed7953\"], [0.7777777777777778, \"#fb9f3a\"], [0.8888888888888888, \"#fdca26\"], [1.0, \"#f0f921\"]], \"type\": \"histogram2d\"}], \"histogram2dcontour\": [{\"colorbar\": {\"outlinewidth\": 0, \"ticks\": \"\"}, \"colorscale\": [[0.0, \"#0d0887\"], [0.1111111111111111, \"#46039f\"], [0.2222222222222222, \"#7201a8\"], [0.3333333333333333, \"#9c179e\"], [0.4444444444444444, \"#bd3786\"], [0.5555555555555556, \"#d8576b\"], [0.6666666666666666, \"#ed7953\"], [0.7777777777777778, \"#fb9f3a\"], [0.8888888888888888, \"#fdca26\"], [1.0, \"#f0f921\"]], \"type\": \"histogram2dcontour\"}], \"mesh3d\": [{\"colorbar\": {\"outlinewidth\": 0, \"ticks\": \"\"}, \"type\": \"mesh3d\"}], \"parcoords\": [{\"line\": {\"colorbar\": {\"outlinewidth\": 0, \"ticks\": \"\"}}, \"type\": \"parcoords\"}], \"pie\": [{\"automargin\": true, \"type\": \"pie\"}], \"scatter\": [{\"marker\": {\"colorbar\": {\"outlinewidth\": 0, \"ticks\": \"\"}}, \"type\": \"scatter\"}], \"scatter3d\": [{\"line\": {\"colorbar\": {\"outlinewidth\": 0, \"ticks\": \"\"}}, \"marker\": {\"colorbar\": {\"outlinewidth\": 0, \"ticks\": \"\"}}, \"type\": \"scatter3d\"}], \"scattercarpet\": [{\"marker\": {\"colorbar\": {\"outlinewidth\": 0, \"ticks\": \"\"}}, \"type\": \"scattercarpet\"}], \"scattergeo\": [{\"marker\": {\"colorbar\": {\"outlinewidth\": 0, \"ticks\": \"\"}}, \"type\": \"scattergeo\"}], \"scattergl\": [{\"marker\": {\"colorbar\": {\"outlinewidth\": 0, \"ticks\": \"\"}}, \"type\": \"scattergl\"}], \"scattermapbox\": [{\"marker\": {\"colorbar\": {\"outlinewidth\": 0, \"ticks\": \"\"}}, \"type\": \"scattermapbox\"}], \"scatterpolar\": [{\"marker\": {\"colorbar\": {\"outlinewidth\": 0, \"ticks\": \"\"}}, \"type\": \"scatterpolar\"}], \"scatterpolargl\": [{\"marker\": {\"colorbar\": {\"outlinewidth\": 0, \"ticks\": \"\"}}, \"type\": \"scatterpolargl\"}], \"scatterternary\": [{\"marker\": {\"colorbar\": {\"outlinewidth\": 0, \"ticks\": \"\"}}, \"type\": \"scatterternary\"}], \"surface\": [{\"colorbar\": {\"outlinewidth\": 0, \"ticks\": \"\"}, \"colorscale\": [[0.0, \"#0d0887\"], [0.1111111111111111, \"#46039f\"], [0.2222222222222222, \"#7201a8\"], [0.3333333333333333, \"#9c179e\"], [0.4444444444444444, \"#bd3786\"], [0.5555555555555556, \"#d8576b\"], [0.6666666666666666, \"#ed7953\"], [0.7777777777777778, \"#fb9f3a\"], [0.8888888888888888, \"#fdca26\"], [1.0, \"#f0f921\"]], \"type\": \"surface\"}], \"table\": [{\"cells\": {\"fill\": {\"color\": \"#EBF0F8\"}, \"line\": {\"color\": \"white\"}}, \"header\": {\"fill\": {\"color\": \"#C8D4E3\"}, \"line\": {\"color\": \"white\"}}, \"type\": \"table\"}]}, \"layout\": {\"annotationdefaults\": {\"arrowcolor\": \"#2a3f5f\", \"arrowhead\": 0, \"arrowwidth\": 1}, \"autotypenumbers\": \"strict\", \"coloraxis\": {\"colorbar\": {\"outlinewidth\": 0, \"ticks\": \"\"}}, \"colorscale\": {\"diverging\": [[0, \"#8e0152\"], [0.1, \"#c51b7d\"], [0.2, \"#de77ae\"], [0.3, \"#f1b6da\"], [0.4, \"#fde0ef\"], [0.5, \"#f7f7f7\"], [0.6, \"#e6f5d0\"], [0.7, \"#b8e186\"], [0.8, \"#7fbc41\"], [0.9, \"#4d9221\"], [1, \"#276419\"]], \"sequential\": [[0.0, \"#0d0887\"], [0.1111111111111111, \"#46039f\"], [0.2222222222222222, \"#7201a8\"], [0.3333333333333333, \"#9c179e\"], [0.4444444444444444, \"#bd3786\"], [0.5555555555555556, \"#d8576b\"], [0.6666666666666666, \"#ed7953\"], [0.7777777777777778, \"#fb9f3a\"], [0.8888888888888888, \"#fdca26\"], [1.0, \"#f0f921\"]], \"sequentialminus\": [[0.0, \"#0d0887\"], [0.1111111111111111, \"#46039f\"], [0.2222222222222222, \"#7201a8\"], [0.3333333333333333, \"#9c179e\"], [0.4444444444444444, \"#bd3786\"], [0.5555555555555556, \"#d8576b\"], [0.6666666666666666, \"#ed7953\"], [0.7777777777777778, \"#fb9f3a\"], [0.8888888888888888, \"#fdca26\"], [1.0, \"#f0f921\"]]}, \"colorway\": [\"#636efa\", \"#EF553B\", \"#00cc96\", \"#ab63fa\", \"#FFA15A\", \"#19d3f3\", \"#FF6692\", \"#B6E880\", \"#FF97FF\", \"#FECB52\"], \"font\": {\"color\": \"#2a3f5f\"}, \"geo\": {\"bgcolor\": \"white\", \"lakecolor\": \"white\", \"landcolor\": \"#E5ECF6\", \"showlakes\": true, \"showland\": true, \"subunitcolor\": \"white\"}, \"hoverlabel\": {\"align\": \"left\"}, \"hovermode\": \"closest\", \"mapbox\": {\"style\": \"light\"}, \"paper_bgcolor\": \"white\", \"plot_bgcolor\": \"#E5ECF6\", \"polar\": {\"angularaxis\": {\"gridcolor\": \"white\", \"linecolor\": \"white\", \"ticks\": \"\"}, \"bgcolor\": \"#E5ECF6\", \"radialaxis\": {\"gridcolor\": \"white\", \"linecolor\": \"white\", \"ticks\": \"\"}}, \"scene\": {\"xaxis\": {\"backgroundcolor\": \"#E5ECF6\", \"gridcolor\": \"white\", \"gridwidth\": 2, \"linecolor\": \"white\", \"showbackground\": true, \"ticks\": \"\", \"zerolinecolor\": \"white\"}, \"yaxis\": {\"backgroundcolor\": \"#E5ECF6\", \"gridcolor\": \"white\", \"gridwidth\": 2, \"linecolor\": \"white\", \"showbackground\": true, \"ticks\": \"\", \"zerolinecolor\": \"white\"}, \"zaxis\": {\"backgroundcolor\": \"#E5ECF6\", \"gridcolor\": \"white\", \"gridwidth\": 2, \"linecolor\": \"white\", \"showbackground\": true, \"ticks\": \"\", \"zerolinecolor\": \"white\"}}, \"shapedefaults\": {\"line\": {\"color\": \"#2a3f5f\"}}, \"ternary\": {\"aaxis\": {\"gridcolor\": \"white\", \"linecolor\": \"white\", \"ticks\": \"\"}, \"baxis\": {\"gridcolor\": \"white\", \"linecolor\": \"white\", \"ticks\": \"\"}, \"bgcolor\": \"#E5ECF6\", \"caxis\": {\"gridcolor\": \"white\", \"linecolor\": \"white\", \"ticks\": \"\"}}, \"title\": {\"x\": 0.05}, \"xaxis\": {\"automargin\": true, \"gridcolor\": \"white\", \"linecolor\": \"white\", \"ticks\": \"\", \"title\": {\"standoff\": 15}, \"zerolinecolor\": \"white\", \"zerolinewidth\": 2}, \"yaxis\": {\"automargin\": true, \"gridcolor\": \"white\", \"linecolor\": \"white\", \"ticks\": \"\", \"title\": {\"standoff\": 15}, \"zerolinecolor\": \"white\", \"zerolinewidth\": 2}}}, \"title\": {\"text\": \"The Office Episodes Ratings and Viewership by Episode\"}, \"xaxis\": {\"anchor\": \"y\", \"domain\": [0.0, 1.0], \"title\": {\"text\": \"Episode_Number\"}}, \"yaxis\": {\"anchor\": \"x\", \"domain\": [0.0, 1.0], \"title\": {\"text\": \"Ratings\"}}},                        {\"responsive\": true}                    ).then(function(){\n                            \nvar gd = document.getElementById('e476c1f9-67b3-428f-9152-417d35010742');\nvar x = new MutationObserver(function (mutations, observer) {{\n        var display = window.getComputedStyle(gd).display;\n        if (!display || display === 'none') {{\n            console.log([gd, 'removed!']);\n            Plotly.purge(gd);\n            observer.disconnect();\n        }}\n}});\n\n// Listen for the removal of the full notebook cells\nvar notebookContainer = gd.closest('#notebook-container');\nif (notebookContainer) {{\n    x.observe(notebookContainer, {childList: true});\n}}\n\n// Listen for the clearing of the current output cell\nvar outputEl = gd.closest('.output');\nif (outputEl) {{\n    x.observe(outputEl, {childList: true});\n}}\n\n                        })                };                });            </script>        </div>"
          },
          "metadata": {}
        }
      ],
      "execution_count": 11,
      "metadata": {
        "collapsed": false,
        "jupyter": {
          "source_hidden": false,
          "outputs_hidden": false
        },
        "nteract": {
          "transient": {
            "deleting": false
          }
        },
        "execution": {
          "iopub.status.busy": "2020-12-27T18:00:26.986Z",
          "iopub.execute_input": "2020-12-27T18:00:26.991Z",
          "iopub.status.idle": "2020-12-27T18:00:27.089Z",
          "shell.execute_reply": "2020-12-27T18:00:27.794Z"
        }
      }
    },
    {
      "cell_type": "code",
      "source": [
        "fig = px.density_heatmap(df, x=\"Episode_Number\", y=\"Votes\", nbinsx=30, title=\"Density Heatmap of Episodes by Votes\")\n",
        "fig.show()"
      ],
      "outputs": [
        {
          "output_type": "display_data",
          "data": {
            "application/vnd.plotly.v1+json": {
              "config": {
                "plotlyServerURL": "https://plot.ly"
              },
              "data": [
                {
                  "coloraxis": "coloraxis",
                  "hovertemplate": "Episode_Number=%{x}<br>Votes=%{y}<br>count=%{z}<extra></extra>",
                  "name": "",
                  "nbinsx": 30,
                  "type": "histogram2d",
                  "x": [
                    0,
                    1,
                    2,
                    3,
                    4,
                    5,
                    6,
                    7,
                    8,
                    9,
                    10,
                    11,
                    12,
                    13,
                    14,
                    15,
                    16,
                    17,
                    18,
                    19,
                    20,
                    21,
                    22,
                    23,
                    24,
                    25,
                    26,
                    27,
                    28,
                    29,
                    30,
                    31,
                    32,
                    33,
                    34,
                    35,
                    36,
                    37,
                    38,
                    39,
                    40,
                    41,
                    42,
                    43,
                    44,
                    45,
                    46,
                    47,
                    48,
                    49,
                    50,
                    51,
                    52,
                    53,
                    54,
                    55,
                    56,
                    57,
                    58,
                    59,
                    60,
                    61,
                    62,
                    63,
                    64,
                    65,
                    66,
                    67,
                    68,
                    69,
                    70,
                    71,
                    72,
                    73,
                    74,
                    75,
                    76,
                    77,
                    78,
                    79,
                    80,
                    81,
                    82,
                    83,
                    84,
                    85,
                    86,
                    87,
                    88,
                    89,
                    90,
                    91,
                    92,
                    93,
                    94,
                    95,
                    96,
                    97,
                    98,
                    99,
                    100,
                    101,
                    102,
                    103,
                    104,
                    105,
                    106,
                    107,
                    108,
                    109,
                    110,
                    111,
                    112,
                    113,
                    114,
                    115,
                    116,
                    117,
                    118,
                    119,
                    120,
                    121,
                    122,
                    123,
                    124,
                    125,
                    126,
                    127,
                    128,
                    129,
                    130,
                    131,
                    132,
                    133,
                    134,
                    135,
                    136,
                    137,
                    138,
                    139,
                    140,
                    141,
                    142,
                    143,
                    144,
                    145,
                    146,
                    147,
                    148,
                    149,
                    150,
                    151,
                    152,
                    153,
                    154,
                    155,
                    156,
                    157,
                    158,
                    159,
                    160,
                    161,
                    162,
                    163,
                    164,
                    165,
                    166,
                    167,
                    168,
                    169,
                    170,
                    171,
                    172,
                    173,
                    174,
                    175,
                    176,
                    177,
                    178,
                    179,
                    180,
                    181,
                    182,
                    183,
                    184,
                    185,
                    186,
                    187
                  ],
                  "xaxis": "x",
                  "xbingroup": "x",
                  "y": [
                    4936,
                    4801,
                    4024,
                    3915,
                    4294,
                    3854,
                    4315,
                    3665,
                    3665,
                    3607,
                    3392,
                    3388,
                    3533,
                    3216,
                    3338,
                    3663,
                    3536,
                    4314,
                    3142,
                    3118,
                    3091,
                    3104,
                    3283,
                    3212,
                    3094,
                    3172,
                    3253,
                    4765,
                    4133,
                    3027,
                    3175,
                    3049,
                    2976,
                    3082,
                    3021,
                    3166,
                    3151,
                    3343,
                    3001,
                    3053,
                    3211,
                    2975,
                    2995,
                    3460,
                    2969,
                    3368,
                    3164,
                    3138,
                    3158,
                    3641,
                    3898,
                    3635,
                    2934,
                    2844,
                    3073,
                    3125,
                    2878,
                    2775,
                    2923,
                    5601,
                    2757,
                    2872,
                    2756,
                    2627,
                    3939,
                    3264,
                    2654,
                    2621,
                    2525,
                    2600,
                    2717,
                    2516,
                    2799,
                    2776,
                    2613,
                    2711,
                    2615,
                    8170,
                    2474,
                    2431,
                    2464,
                    2667,
                    2503,
                    2492,
                    2484,
                    2718,
                    2568,
                    3409,
                    2467,
                    2814,
                    2954,
                    2866,
                    2349,
                    2344,
                    4560,
                    3114,
                    2464,
                    2590,
                    2348,
                    2314,
                    2761,
                    2336,
                    2681,
                    2467,
                    3039,
                    2251,
                    2223,
                    2347,
                    2370,
                    2196,
                    2154,
                    2503,
                    2168,
                    2197,
                    2199,
                    2113,
                    2184,
                    2520,
                    2272,
                    2413,
                    2209,
                    2156,
                    2249,
                    2238,
                    2200,
                    2141,
                    2246,
                    2878,
                    2282,
                    2171,
                    2369,
                    2347,
                    4877,
                    2123,
                    3730,
                    2215,
                    3039,
                    8059,
                    2183,
                    2414,
                    2623,
                    2366,
                    2200,
                    2098,
                    2266,
                    2024,
                    1948,
                    2077,
                    2089,
                    2050,
                    2020,
                    1980,
                    2139,
                    1937,
                    1891,
                    1994,
                    2068,
                    1958,
                    1903,
                    2203,
                    1972,
                    2107,
                    1902,
                    1832,
                    1918,
                    2074,
                    1963,
                    1938,
                    2059,
                    2021,
                    1955,
                    1872,
                    1928,
                    2204,
                    1952,
                    1920,
                    1984,
                    1866,
                    1866,
                    1888,
                    2089,
                    2189,
                    1924,
                    1985,
                    2007,
                    2831,
                    3914,
                    10515
                  ],
                  "yaxis": "y",
                  "ybingroup": "y"
                }
              ],
              "layout": {
                "coloraxis": {
                  "colorbar": {
                    "title": {
                      "text": "count"
                    }
                  },
                  "colorscale": [
                    [
                      0,
                      "#0d0887"
                    ],
                    [
                      0.1111111111111111,
                      "#46039f"
                    ],
                    [
                      0.2222222222222222,
                      "#7201a8"
                    ],
                    [
                      0.3333333333333333,
                      "#9c179e"
                    ],
                    [
                      0.4444444444444444,
                      "#bd3786"
                    ],
                    [
                      0.5555555555555556,
                      "#d8576b"
                    ],
                    [
                      0.6666666666666666,
                      "#ed7953"
                    ],
                    [
                      0.7777777777777778,
                      "#fb9f3a"
                    ],
                    [
                      0.8888888888888888,
                      "#fdca26"
                    ],
                    [
                      1,
                      "#f0f921"
                    ]
                  ]
                },
                "legend": {
                  "tracegroupgap": 0
                },
                "template": {
                  "data": {
                    "bar": [
                      {
                        "error_x": {
                          "color": "#2a3f5f"
                        },
                        "error_y": {
                          "color": "#2a3f5f"
                        },
                        "marker": {
                          "line": {
                            "color": "#E5ECF6",
                            "width": 0.5
                          }
                        },
                        "type": "bar"
                      }
                    ],
                    "barpolar": [
                      {
                        "marker": {
                          "line": {
                            "color": "#E5ECF6",
                            "width": 0.5
                          }
                        },
                        "type": "barpolar"
                      }
                    ],
                    "carpet": [
                      {
                        "aaxis": {
                          "endlinecolor": "#2a3f5f",
                          "gridcolor": "white",
                          "linecolor": "white",
                          "minorgridcolor": "white",
                          "startlinecolor": "#2a3f5f"
                        },
                        "baxis": {
                          "endlinecolor": "#2a3f5f",
                          "gridcolor": "white",
                          "linecolor": "white",
                          "minorgridcolor": "white",
                          "startlinecolor": "#2a3f5f"
                        },
                        "type": "carpet"
                      }
                    ],
                    "choropleth": [
                      {
                        "colorbar": {
                          "outlinewidth": 0,
                          "ticks": ""
                        },
                        "type": "choropleth"
                      }
                    ],
                    "contour": [
                      {
                        "colorbar": {
                          "outlinewidth": 0,
                          "ticks": ""
                        },
                        "colorscale": [
                          [
                            0,
                            "#0d0887"
                          ],
                          [
                            0.1111111111111111,
                            "#46039f"
                          ],
                          [
                            0.2222222222222222,
                            "#7201a8"
                          ],
                          [
                            0.3333333333333333,
                            "#9c179e"
                          ],
                          [
                            0.4444444444444444,
                            "#bd3786"
                          ],
                          [
                            0.5555555555555556,
                            "#d8576b"
                          ],
                          [
                            0.6666666666666666,
                            "#ed7953"
                          ],
                          [
                            0.7777777777777778,
                            "#fb9f3a"
                          ],
                          [
                            0.8888888888888888,
                            "#fdca26"
                          ],
                          [
                            1,
                            "#f0f921"
                          ]
                        ],
                        "type": "contour"
                      }
                    ],
                    "contourcarpet": [
                      {
                        "colorbar": {
                          "outlinewidth": 0,
                          "ticks": ""
                        },
                        "type": "contourcarpet"
                      }
                    ],
                    "heatmap": [
                      {
                        "colorbar": {
                          "outlinewidth": 0,
                          "ticks": ""
                        },
                        "colorscale": [
                          [
                            0,
                            "#0d0887"
                          ],
                          [
                            0.1111111111111111,
                            "#46039f"
                          ],
                          [
                            0.2222222222222222,
                            "#7201a8"
                          ],
                          [
                            0.3333333333333333,
                            "#9c179e"
                          ],
                          [
                            0.4444444444444444,
                            "#bd3786"
                          ],
                          [
                            0.5555555555555556,
                            "#d8576b"
                          ],
                          [
                            0.6666666666666666,
                            "#ed7953"
                          ],
                          [
                            0.7777777777777778,
                            "#fb9f3a"
                          ],
                          [
                            0.8888888888888888,
                            "#fdca26"
                          ],
                          [
                            1,
                            "#f0f921"
                          ]
                        ],
                        "type": "heatmap"
                      }
                    ],
                    "heatmapgl": [
                      {
                        "colorbar": {
                          "outlinewidth": 0,
                          "ticks": ""
                        },
                        "colorscale": [
                          [
                            0,
                            "#0d0887"
                          ],
                          [
                            0.1111111111111111,
                            "#46039f"
                          ],
                          [
                            0.2222222222222222,
                            "#7201a8"
                          ],
                          [
                            0.3333333333333333,
                            "#9c179e"
                          ],
                          [
                            0.4444444444444444,
                            "#bd3786"
                          ],
                          [
                            0.5555555555555556,
                            "#d8576b"
                          ],
                          [
                            0.6666666666666666,
                            "#ed7953"
                          ],
                          [
                            0.7777777777777778,
                            "#fb9f3a"
                          ],
                          [
                            0.8888888888888888,
                            "#fdca26"
                          ],
                          [
                            1,
                            "#f0f921"
                          ]
                        ],
                        "type": "heatmapgl"
                      }
                    ],
                    "histogram": [
                      {
                        "marker": {
                          "colorbar": {
                            "outlinewidth": 0,
                            "ticks": ""
                          }
                        },
                        "type": "histogram"
                      }
                    ],
                    "histogram2d": [
                      {
                        "colorbar": {
                          "outlinewidth": 0,
                          "ticks": ""
                        },
                        "colorscale": [
                          [
                            0,
                            "#0d0887"
                          ],
                          [
                            0.1111111111111111,
                            "#46039f"
                          ],
                          [
                            0.2222222222222222,
                            "#7201a8"
                          ],
                          [
                            0.3333333333333333,
                            "#9c179e"
                          ],
                          [
                            0.4444444444444444,
                            "#bd3786"
                          ],
                          [
                            0.5555555555555556,
                            "#d8576b"
                          ],
                          [
                            0.6666666666666666,
                            "#ed7953"
                          ],
                          [
                            0.7777777777777778,
                            "#fb9f3a"
                          ],
                          [
                            0.8888888888888888,
                            "#fdca26"
                          ],
                          [
                            1,
                            "#f0f921"
                          ]
                        ],
                        "type": "histogram2d"
                      }
                    ],
                    "histogram2dcontour": [
                      {
                        "colorbar": {
                          "outlinewidth": 0,
                          "ticks": ""
                        },
                        "colorscale": [
                          [
                            0,
                            "#0d0887"
                          ],
                          [
                            0.1111111111111111,
                            "#46039f"
                          ],
                          [
                            0.2222222222222222,
                            "#7201a8"
                          ],
                          [
                            0.3333333333333333,
                            "#9c179e"
                          ],
                          [
                            0.4444444444444444,
                            "#bd3786"
                          ],
                          [
                            0.5555555555555556,
                            "#d8576b"
                          ],
                          [
                            0.6666666666666666,
                            "#ed7953"
                          ],
                          [
                            0.7777777777777778,
                            "#fb9f3a"
                          ],
                          [
                            0.8888888888888888,
                            "#fdca26"
                          ],
                          [
                            1,
                            "#f0f921"
                          ]
                        ],
                        "type": "histogram2dcontour"
                      }
                    ],
                    "mesh3d": [
                      {
                        "colorbar": {
                          "outlinewidth": 0,
                          "ticks": ""
                        },
                        "type": "mesh3d"
                      }
                    ],
                    "parcoords": [
                      {
                        "line": {
                          "colorbar": {
                            "outlinewidth": 0,
                            "ticks": ""
                          }
                        },
                        "type": "parcoords"
                      }
                    ],
                    "pie": [
                      {
                        "automargin": true,
                        "type": "pie"
                      }
                    ],
                    "scatter": [
                      {
                        "marker": {
                          "colorbar": {
                            "outlinewidth": 0,
                            "ticks": ""
                          }
                        },
                        "type": "scatter"
                      }
                    ],
                    "scatter3d": [
                      {
                        "line": {
                          "colorbar": {
                            "outlinewidth": 0,
                            "ticks": ""
                          }
                        },
                        "marker": {
                          "colorbar": {
                            "outlinewidth": 0,
                            "ticks": ""
                          }
                        },
                        "type": "scatter3d"
                      }
                    ],
                    "scattercarpet": [
                      {
                        "marker": {
                          "colorbar": {
                            "outlinewidth": 0,
                            "ticks": ""
                          }
                        },
                        "type": "scattercarpet"
                      }
                    ],
                    "scattergeo": [
                      {
                        "marker": {
                          "colorbar": {
                            "outlinewidth": 0,
                            "ticks": ""
                          }
                        },
                        "type": "scattergeo"
                      }
                    ],
                    "scattergl": [
                      {
                        "marker": {
                          "colorbar": {
                            "outlinewidth": 0,
                            "ticks": ""
                          }
                        },
                        "type": "scattergl"
                      }
                    ],
                    "scattermapbox": [
                      {
                        "marker": {
                          "colorbar": {
                            "outlinewidth": 0,
                            "ticks": ""
                          }
                        },
                        "type": "scattermapbox"
                      }
                    ],
                    "scatterpolar": [
                      {
                        "marker": {
                          "colorbar": {
                            "outlinewidth": 0,
                            "ticks": ""
                          }
                        },
                        "type": "scatterpolar"
                      }
                    ],
                    "scatterpolargl": [
                      {
                        "marker": {
                          "colorbar": {
                            "outlinewidth": 0,
                            "ticks": ""
                          }
                        },
                        "type": "scatterpolargl"
                      }
                    ],
                    "scatterternary": [
                      {
                        "marker": {
                          "colorbar": {
                            "outlinewidth": 0,
                            "ticks": ""
                          }
                        },
                        "type": "scatterternary"
                      }
                    ],
                    "surface": [
                      {
                        "colorbar": {
                          "outlinewidth": 0,
                          "ticks": ""
                        },
                        "colorscale": [
                          [
                            0,
                            "#0d0887"
                          ],
                          [
                            0.1111111111111111,
                            "#46039f"
                          ],
                          [
                            0.2222222222222222,
                            "#7201a8"
                          ],
                          [
                            0.3333333333333333,
                            "#9c179e"
                          ],
                          [
                            0.4444444444444444,
                            "#bd3786"
                          ],
                          [
                            0.5555555555555556,
                            "#d8576b"
                          ],
                          [
                            0.6666666666666666,
                            "#ed7953"
                          ],
                          [
                            0.7777777777777778,
                            "#fb9f3a"
                          ],
                          [
                            0.8888888888888888,
                            "#fdca26"
                          ],
                          [
                            1,
                            "#f0f921"
                          ]
                        ],
                        "type": "surface"
                      }
                    ],
                    "table": [
                      {
                        "cells": {
                          "fill": {
                            "color": "#EBF0F8"
                          },
                          "line": {
                            "color": "white"
                          }
                        },
                        "header": {
                          "fill": {
                            "color": "#C8D4E3"
                          },
                          "line": {
                            "color": "white"
                          }
                        },
                        "type": "table"
                      }
                    ]
                  },
                  "layout": {
                    "annotationdefaults": {
                      "arrowcolor": "#2a3f5f",
                      "arrowhead": 0,
                      "arrowwidth": 1
                    },
                    "autotypenumbers": "strict",
                    "coloraxis": {
                      "colorbar": {
                        "outlinewidth": 0,
                        "ticks": ""
                      }
                    },
                    "colorscale": {
                      "diverging": [
                        [
                          0,
                          "#8e0152"
                        ],
                        [
                          0.1,
                          "#c51b7d"
                        ],
                        [
                          0.2,
                          "#de77ae"
                        ],
                        [
                          0.3,
                          "#f1b6da"
                        ],
                        [
                          0.4,
                          "#fde0ef"
                        ],
                        [
                          0.5,
                          "#f7f7f7"
                        ],
                        [
                          0.6,
                          "#e6f5d0"
                        ],
                        [
                          0.7,
                          "#b8e186"
                        ],
                        [
                          0.8,
                          "#7fbc41"
                        ],
                        [
                          0.9,
                          "#4d9221"
                        ],
                        [
                          1,
                          "#276419"
                        ]
                      ],
                      "sequential": [
                        [
                          0,
                          "#0d0887"
                        ],
                        [
                          0.1111111111111111,
                          "#46039f"
                        ],
                        [
                          0.2222222222222222,
                          "#7201a8"
                        ],
                        [
                          0.3333333333333333,
                          "#9c179e"
                        ],
                        [
                          0.4444444444444444,
                          "#bd3786"
                        ],
                        [
                          0.5555555555555556,
                          "#d8576b"
                        ],
                        [
                          0.6666666666666666,
                          "#ed7953"
                        ],
                        [
                          0.7777777777777778,
                          "#fb9f3a"
                        ],
                        [
                          0.8888888888888888,
                          "#fdca26"
                        ],
                        [
                          1,
                          "#f0f921"
                        ]
                      ],
                      "sequentialminus": [
                        [
                          0,
                          "#0d0887"
                        ],
                        [
                          0.1111111111111111,
                          "#46039f"
                        ],
                        [
                          0.2222222222222222,
                          "#7201a8"
                        ],
                        [
                          0.3333333333333333,
                          "#9c179e"
                        ],
                        [
                          0.4444444444444444,
                          "#bd3786"
                        ],
                        [
                          0.5555555555555556,
                          "#d8576b"
                        ],
                        [
                          0.6666666666666666,
                          "#ed7953"
                        ],
                        [
                          0.7777777777777778,
                          "#fb9f3a"
                        ],
                        [
                          0.8888888888888888,
                          "#fdca26"
                        ],
                        [
                          1,
                          "#f0f921"
                        ]
                      ]
                    },
                    "colorway": [
                      "#636efa",
                      "#EF553B",
                      "#00cc96",
                      "#ab63fa",
                      "#FFA15A",
                      "#19d3f3",
                      "#FF6692",
                      "#B6E880",
                      "#FF97FF",
                      "#FECB52"
                    ],
                    "font": {
                      "color": "#2a3f5f"
                    },
                    "geo": {
                      "bgcolor": "white",
                      "lakecolor": "white",
                      "landcolor": "#E5ECF6",
                      "showlakes": true,
                      "showland": true,
                      "subunitcolor": "white"
                    },
                    "hoverlabel": {
                      "align": "left"
                    },
                    "hovermode": "closest",
                    "mapbox": {
                      "style": "light"
                    },
                    "paper_bgcolor": "white",
                    "plot_bgcolor": "#E5ECF6",
                    "polar": {
                      "angularaxis": {
                        "gridcolor": "white",
                        "linecolor": "white",
                        "ticks": ""
                      },
                      "bgcolor": "#E5ECF6",
                      "radialaxis": {
                        "gridcolor": "white",
                        "linecolor": "white",
                        "ticks": ""
                      }
                    },
                    "scene": {
                      "xaxis": {
                        "backgroundcolor": "#E5ECF6",
                        "gridcolor": "white",
                        "gridwidth": 2,
                        "linecolor": "white",
                        "showbackground": true,
                        "ticks": "",
                        "zerolinecolor": "white"
                      },
                      "yaxis": {
                        "backgroundcolor": "#E5ECF6",
                        "gridcolor": "white",
                        "gridwidth": 2,
                        "linecolor": "white",
                        "showbackground": true,
                        "ticks": "",
                        "zerolinecolor": "white"
                      },
                      "zaxis": {
                        "backgroundcolor": "#E5ECF6",
                        "gridcolor": "white",
                        "gridwidth": 2,
                        "linecolor": "white",
                        "showbackground": true,
                        "ticks": "",
                        "zerolinecolor": "white"
                      }
                    },
                    "shapedefaults": {
                      "line": {
                        "color": "#2a3f5f"
                      }
                    },
                    "ternary": {
                      "aaxis": {
                        "gridcolor": "white",
                        "linecolor": "white",
                        "ticks": ""
                      },
                      "baxis": {
                        "gridcolor": "white",
                        "linecolor": "white",
                        "ticks": ""
                      },
                      "bgcolor": "#E5ECF6",
                      "caxis": {
                        "gridcolor": "white",
                        "linecolor": "white",
                        "ticks": ""
                      }
                    },
                    "title": {
                      "x": 0.05
                    },
                    "xaxis": {
                      "automargin": true,
                      "gridcolor": "white",
                      "linecolor": "white",
                      "ticks": "",
                      "title": {
                        "standoff": 15
                      },
                      "zerolinecolor": "white",
                      "zerolinewidth": 2
                    },
                    "yaxis": {
                      "automargin": true,
                      "gridcolor": "white",
                      "linecolor": "white",
                      "ticks": "",
                      "title": {
                        "standoff": 15
                      },
                      "zerolinecolor": "white",
                      "zerolinewidth": 2
                    }
                  }
                },
                "title": {
                  "text": "Density Heatmap of Episodes by Votes"
                },
                "xaxis": {
                  "anchor": "y",
                  "domain": [
                    0,
                    1
                  ],
                  "title": {
                    "text": "Episode_Number"
                  }
                },
                "yaxis": {
                  "anchor": "x",
                  "domain": [
                    0,
                    1
                  ],
                  "title": {
                    "text": "Votes"
                  }
                }
              }
            },
            "text/html": "<div>                            <div id=\"b1e87835-5726-40d7-b879-0dabb4fbd72c\" class=\"plotly-graph-div\" style=\"height:525px; width:100%;\"></div>            <script type=\"text/javascript\">                require([\"plotly\"], function(Plotly) {                    window.PLOTLYENV=window.PLOTLYENV || {};                                    if (document.getElementById(\"b1e87835-5726-40d7-b879-0dabb4fbd72c\")) {                    Plotly.newPlot(                        \"b1e87835-5726-40d7-b879-0dabb4fbd72c\",                        [{\"coloraxis\": \"coloraxis\", \"hovertemplate\": \"Episode_Number=%{x}<br>Votes=%{y}<br>count=%{z}<extra></extra>\", \"name\": \"\", \"nbinsx\": 30, \"type\": \"histogram2d\", \"x\": [0, 1, 2, 3, 4, 5, 6, 7, 8, 9, 10, 11, 12, 13, 14, 15, 16, 17, 18, 19, 20, 21, 22, 23, 24, 25, 26, 27, 28, 29, 30, 31, 32, 33, 34, 35, 36, 37, 38, 39, 40, 41, 42, 43, 44, 45, 46, 47, 48, 49, 50, 51, 52, 53, 54, 55, 56, 57, 58, 59, 60, 61, 62, 63, 64, 65, 66, 67, 68, 69, 70, 71, 72, 73, 74, 75, 76, 77, 78, 79, 80, 81, 82, 83, 84, 85, 86, 87, 88, 89, 90, 91, 92, 93, 94, 95, 96, 97, 98, 99, 100, 101, 102, 103, 104, 105, 106, 107, 108, 109, 110, 111, 112, 113, 114, 115, 116, 117, 118, 119, 120, 121, 122, 123, 124, 125, 126, 127, 128, 129, 130, 131, 132, 133, 134, 135, 136, 137, 138, 139, 140, 141, 142, 143, 144, 145, 146, 147, 148, 149, 150, 151, 152, 153, 154, 155, 156, 157, 158, 159, 160, 161, 162, 163, 164, 165, 166, 167, 168, 169, 170, 171, 172, 173, 174, 175, 176, 177, 178, 179, 180, 181, 182, 183, 184, 185, 186, 187], \"xaxis\": \"x\", \"xbingroup\": \"x\", \"y\": [4936, 4801, 4024, 3915, 4294, 3854, 4315, 3665, 3665, 3607, 3392, 3388, 3533, 3216, 3338, 3663, 3536, 4314, 3142, 3118, 3091, 3104, 3283, 3212, 3094, 3172, 3253, 4765, 4133, 3027, 3175, 3049, 2976, 3082, 3021, 3166, 3151, 3343, 3001, 3053, 3211, 2975, 2995, 3460, 2969, 3368, 3164, 3138, 3158, 3641, 3898, 3635, 2934, 2844, 3073, 3125, 2878, 2775, 2923, 5601, 2757, 2872, 2756, 2627, 3939, 3264, 2654, 2621, 2525, 2600, 2717, 2516, 2799, 2776, 2613, 2711, 2615, 8170, 2474, 2431, 2464, 2667, 2503, 2492, 2484, 2718, 2568, 3409, 2467, 2814, 2954, 2866, 2349, 2344, 4560, 3114, 2464, 2590, 2348, 2314, 2761, 2336, 2681, 2467, 3039, 2251, 2223, 2347, 2370, 2196, 2154, 2503, 2168, 2197, 2199, 2113, 2184, 2520, 2272, 2413, 2209, 2156, 2249, 2238, 2200, 2141, 2246, 2878, 2282, 2171, 2369, 2347, 4877, 2123, 3730, 2215, 3039, 8059, 2183, 2414, 2623, 2366, 2200, 2098, 2266, 2024, 1948, 2077, 2089, 2050, 2020, 1980, 2139, 1937, 1891, 1994, 2068, 1958, 1903, 2203, 1972, 2107, 1902, 1832, 1918, 2074, 1963, 1938, 2059, 2021, 1955, 1872, 1928, 2204, 1952, 1920, 1984, 1866, 1866, 1888, 2089, 2189, 1924, 1985, 2007, 2831, 3914, 10515], \"yaxis\": \"y\", \"ybingroup\": \"y\"}],                        {\"coloraxis\": {\"colorbar\": {\"title\": {\"text\": \"count\"}}, \"colorscale\": [[0.0, \"#0d0887\"], [0.1111111111111111, \"#46039f\"], [0.2222222222222222, \"#7201a8\"], [0.3333333333333333, \"#9c179e\"], [0.4444444444444444, \"#bd3786\"], [0.5555555555555556, \"#d8576b\"], [0.6666666666666666, \"#ed7953\"], [0.7777777777777778, \"#fb9f3a\"], [0.8888888888888888, \"#fdca26\"], [1.0, \"#f0f921\"]]}, \"legend\": {\"tracegroupgap\": 0}, \"template\": {\"data\": {\"bar\": [{\"error_x\": {\"color\": \"#2a3f5f\"}, \"error_y\": {\"color\": \"#2a3f5f\"}, \"marker\": {\"line\": {\"color\": \"#E5ECF6\", \"width\": 0.5}}, \"type\": \"bar\"}], \"barpolar\": [{\"marker\": {\"line\": {\"color\": \"#E5ECF6\", \"width\": 0.5}}, \"type\": \"barpolar\"}], \"carpet\": [{\"aaxis\": {\"endlinecolor\": \"#2a3f5f\", \"gridcolor\": \"white\", \"linecolor\": \"white\", \"minorgridcolor\": \"white\", \"startlinecolor\": \"#2a3f5f\"}, \"baxis\": {\"endlinecolor\": \"#2a3f5f\", \"gridcolor\": \"white\", \"linecolor\": \"white\", \"minorgridcolor\": \"white\", \"startlinecolor\": \"#2a3f5f\"}, \"type\": \"carpet\"}], \"choropleth\": [{\"colorbar\": {\"outlinewidth\": 0, \"ticks\": \"\"}, \"type\": \"choropleth\"}], \"contour\": [{\"colorbar\": {\"outlinewidth\": 0, \"ticks\": \"\"}, \"colorscale\": [[0.0, \"#0d0887\"], [0.1111111111111111, \"#46039f\"], [0.2222222222222222, \"#7201a8\"], [0.3333333333333333, \"#9c179e\"], [0.4444444444444444, \"#bd3786\"], [0.5555555555555556, \"#d8576b\"], [0.6666666666666666, \"#ed7953\"], [0.7777777777777778, \"#fb9f3a\"], [0.8888888888888888, \"#fdca26\"], [1.0, \"#f0f921\"]], \"type\": \"contour\"}], \"contourcarpet\": [{\"colorbar\": {\"outlinewidth\": 0, \"ticks\": \"\"}, \"type\": \"contourcarpet\"}], \"heatmap\": [{\"colorbar\": {\"outlinewidth\": 0, \"ticks\": \"\"}, \"colorscale\": [[0.0, \"#0d0887\"], [0.1111111111111111, \"#46039f\"], [0.2222222222222222, \"#7201a8\"], [0.3333333333333333, \"#9c179e\"], [0.4444444444444444, \"#bd3786\"], [0.5555555555555556, \"#d8576b\"], [0.6666666666666666, \"#ed7953\"], [0.7777777777777778, \"#fb9f3a\"], [0.8888888888888888, \"#fdca26\"], [1.0, \"#f0f921\"]], \"type\": \"heatmap\"}], \"heatmapgl\": [{\"colorbar\": {\"outlinewidth\": 0, \"ticks\": \"\"}, \"colorscale\": [[0.0, \"#0d0887\"], [0.1111111111111111, \"#46039f\"], [0.2222222222222222, \"#7201a8\"], [0.3333333333333333, \"#9c179e\"], [0.4444444444444444, \"#bd3786\"], [0.5555555555555556, \"#d8576b\"], [0.6666666666666666, \"#ed7953\"], [0.7777777777777778, \"#fb9f3a\"], [0.8888888888888888, \"#fdca26\"], [1.0, \"#f0f921\"]], \"type\": \"heatmapgl\"}], \"histogram\": [{\"marker\": {\"colorbar\": {\"outlinewidth\": 0, \"ticks\": \"\"}}, \"type\": \"histogram\"}], \"histogram2d\": [{\"colorbar\": {\"outlinewidth\": 0, \"ticks\": \"\"}, \"colorscale\": [[0.0, \"#0d0887\"], [0.1111111111111111, \"#46039f\"], [0.2222222222222222, \"#7201a8\"], [0.3333333333333333, \"#9c179e\"], [0.4444444444444444, \"#bd3786\"], [0.5555555555555556, \"#d8576b\"], [0.6666666666666666, \"#ed7953\"], [0.7777777777777778, \"#fb9f3a\"], [0.8888888888888888, \"#fdca26\"], [1.0, \"#f0f921\"]], \"type\": \"histogram2d\"}], \"histogram2dcontour\": [{\"colorbar\": {\"outlinewidth\": 0, \"ticks\": \"\"}, \"colorscale\": [[0.0, \"#0d0887\"], [0.1111111111111111, \"#46039f\"], [0.2222222222222222, \"#7201a8\"], [0.3333333333333333, \"#9c179e\"], [0.4444444444444444, \"#bd3786\"], [0.5555555555555556, \"#d8576b\"], [0.6666666666666666, \"#ed7953\"], [0.7777777777777778, \"#fb9f3a\"], [0.8888888888888888, \"#fdca26\"], [1.0, \"#f0f921\"]], \"type\": \"histogram2dcontour\"}], \"mesh3d\": [{\"colorbar\": {\"outlinewidth\": 0, \"ticks\": \"\"}, \"type\": \"mesh3d\"}], \"parcoords\": [{\"line\": {\"colorbar\": {\"outlinewidth\": 0, \"ticks\": \"\"}}, \"type\": \"parcoords\"}], \"pie\": [{\"automargin\": true, \"type\": \"pie\"}], \"scatter\": [{\"marker\": {\"colorbar\": {\"outlinewidth\": 0, \"ticks\": \"\"}}, \"type\": \"scatter\"}], \"scatter3d\": [{\"line\": {\"colorbar\": {\"outlinewidth\": 0, \"ticks\": \"\"}}, \"marker\": {\"colorbar\": {\"outlinewidth\": 0, \"ticks\": \"\"}}, \"type\": \"scatter3d\"}], \"scattercarpet\": [{\"marker\": {\"colorbar\": {\"outlinewidth\": 0, \"ticks\": \"\"}}, \"type\": \"scattercarpet\"}], \"scattergeo\": [{\"marker\": {\"colorbar\": {\"outlinewidth\": 0, \"ticks\": \"\"}}, \"type\": \"scattergeo\"}], \"scattergl\": [{\"marker\": {\"colorbar\": {\"outlinewidth\": 0, \"ticks\": \"\"}}, \"type\": \"scattergl\"}], \"scattermapbox\": [{\"marker\": {\"colorbar\": {\"outlinewidth\": 0, \"ticks\": \"\"}}, \"type\": \"scattermapbox\"}], \"scatterpolar\": [{\"marker\": {\"colorbar\": {\"outlinewidth\": 0, \"ticks\": \"\"}}, \"type\": \"scatterpolar\"}], \"scatterpolargl\": [{\"marker\": {\"colorbar\": {\"outlinewidth\": 0, \"ticks\": \"\"}}, \"type\": \"scatterpolargl\"}], \"scatterternary\": [{\"marker\": {\"colorbar\": {\"outlinewidth\": 0, \"ticks\": \"\"}}, \"type\": \"scatterternary\"}], \"surface\": [{\"colorbar\": {\"outlinewidth\": 0, \"ticks\": \"\"}, \"colorscale\": [[0.0, \"#0d0887\"], [0.1111111111111111, \"#46039f\"], [0.2222222222222222, \"#7201a8\"], [0.3333333333333333, \"#9c179e\"], [0.4444444444444444, \"#bd3786\"], [0.5555555555555556, \"#d8576b\"], [0.6666666666666666, \"#ed7953\"], [0.7777777777777778, \"#fb9f3a\"], [0.8888888888888888, \"#fdca26\"], [1.0, \"#f0f921\"]], \"type\": \"surface\"}], \"table\": [{\"cells\": {\"fill\": {\"color\": \"#EBF0F8\"}, \"line\": {\"color\": \"white\"}}, \"header\": {\"fill\": {\"color\": \"#C8D4E3\"}, \"line\": {\"color\": \"white\"}}, \"type\": \"table\"}]}, \"layout\": {\"annotationdefaults\": {\"arrowcolor\": \"#2a3f5f\", \"arrowhead\": 0, \"arrowwidth\": 1}, \"autotypenumbers\": \"strict\", \"coloraxis\": {\"colorbar\": {\"outlinewidth\": 0, \"ticks\": \"\"}}, \"colorscale\": {\"diverging\": [[0, \"#8e0152\"], [0.1, \"#c51b7d\"], [0.2, \"#de77ae\"], [0.3, \"#f1b6da\"], [0.4, \"#fde0ef\"], [0.5, \"#f7f7f7\"], [0.6, \"#e6f5d0\"], [0.7, \"#b8e186\"], [0.8, \"#7fbc41\"], [0.9, \"#4d9221\"], [1, \"#276419\"]], \"sequential\": [[0.0, \"#0d0887\"], [0.1111111111111111, \"#46039f\"], [0.2222222222222222, \"#7201a8\"], [0.3333333333333333, \"#9c179e\"], [0.4444444444444444, \"#bd3786\"], [0.5555555555555556, \"#d8576b\"], [0.6666666666666666, \"#ed7953\"], [0.7777777777777778, \"#fb9f3a\"], [0.8888888888888888, \"#fdca26\"], [1.0, \"#f0f921\"]], \"sequentialminus\": [[0.0, \"#0d0887\"], [0.1111111111111111, \"#46039f\"], [0.2222222222222222, \"#7201a8\"], [0.3333333333333333, \"#9c179e\"], [0.4444444444444444, \"#bd3786\"], [0.5555555555555556, \"#d8576b\"], [0.6666666666666666, \"#ed7953\"], [0.7777777777777778, \"#fb9f3a\"], [0.8888888888888888, \"#fdca26\"], [1.0, \"#f0f921\"]]}, \"colorway\": [\"#636efa\", \"#EF553B\", \"#00cc96\", \"#ab63fa\", \"#FFA15A\", \"#19d3f3\", \"#FF6692\", \"#B6E880\", \"#FF97FF\", \"#FECB52\"], \"font\": {\"color\": \"#2a3f5f\"}, \"geo\": {\"bgcolor\": \"white\", \"lakecolor\": \"white\", \"landcolor\": \"#E5ECF6\", \"showlakes\": true, \"showland\": true, \"subunitcolor\": \"white\"}, \"hoverlabel\": {\"align\": \"left\"}, \"hovermode\": \"closest\", \"mapbox\": {\"style\": \"light\"}, \"paper_bgcolor\": \"white\", \"plot_bgcolor\": \"#E5ECF6\", \"polar\": {\"angularaxis\": {\"gridcolor\": \"white\", \"linecolor\": \"white\", \"ticks\": \"\"}, \"bgcolor\": \"#E5ECF6\", \"radialaxis\": {\"gridcolor\": \"white\", \"linecolor\": \"white\", \"ticks\": \"\"}}, \"scene\": {\"xaxis\": {\"backgroundcolor\": \"#E5ECF6\", \"gridcolor\": \"white\", \"gridwidth\": 2, \"linecolor\": \"white\", \"showbackground\": true, \"ticks\": \"\", \"zerolinecolor\": \"white\"}, \"yaxis\": {\"backgroundcolor\": \"#E5ECF6\", \"gridcolor\": \"white\", \"gridwidth\": 2, \"linecolor\": \"white\", \"showbackground\": true, \"ticks\": \"\", \"zerolinecolor\": \"white\"}, \"zaxis\": {\"backgroundcolor\": \"#E5ECF6\", \"gridcolor\": \"white\", \"gridwidth\": 2, \"linecolor\": \"white\", \"showbackground\": true, \"ticks\": \"\", \"zerolinecolor\": \"white\"}}, \"shapedefaults\": {\"line\": {\"color\": \"#2a3f5f\"}}, \"ternary\": {\"aaxis\": {\"gridcolor\": \"white\", \"linecolor\": \"white\", \"ticks\": \"\"}, \"baxis\": {\"gridcolor\": \"white\", \"linecolor\": \"white\", \"ticks\": \"\"}, \"bgcolor\": \"#E5ECF6\", \"caxis\": {\"gridcolor\": \"white\", \"linecolor\": \"white\", \"ticks\": \"\"}}, \"title\": {\"x\": 0.05}, \"xaxis\": {\"automargin\": true, \"gridcolor\": \"white\", \"linecolor\": \"white\", \"ticks\": \"\", \"title\": {\"standoff\": 15}, \"zerolinecolor\": \"white\", \"zerolinewidth\": 2}, \"yaxis\": {\"automargin\": true, \"gridcolor\": \"white\", \"linecolor\": \"white\", \"ticks\": \"\", \"title\": {\"standoff\": 15}, \"zerolinecolor\": \"white\", \"zerolinewidth\": 2}}}, \"title\": {\"text\": \"Density Heatmap of Episodes by Votes\"}, \"xaxis\": {\"anchor\": \"y\", \"domain\": [0.0, 1.0], \"title\": {\"text\": \"Episode_Number\"}}, \"yaxis\": {\"anchor\": \"x\", \"domain\": [0.0, 1.0], \"title\": {\"text\": \"Votes\"}}},                        {\"responsive\": true}                    ).then(function(){\n                            \nvar gd = document.getElementById('b1e87835-5726-40d7-b879-0dabb4fbd72c');\nvar x = new MutationObserver(function (mutations, observer) {{\n        var display = window.getComputedStyle(gd).display;\n        if (!display || display === 'none') {{\n            console.log([gd, 'removed!']);\n            Plotly.purge(gd);\n            observer.disconnect();\n        }}\n}});\n\n// Listen for the removal of the full notebook cells\nvar notebookContainer = gd.closest('#notebook-container');\nif (notebookContainer) {{\n    x.observe(notebookContainer, {childList: true});\n}}\n\n// Listen for the clearing of the current output cell\nvar outputEl = gd.closest('.output');\nif (outputEl) {{\n    x.observe(outputEl, {childList: true});\n}}\n\n                        })                };                });            </script>        </div>"
          },
          "metadata": {}
        }
      ],
      "execution_count": 28,
      "metadata": {
        "collapsed": false,
        "jupyter": {
          "source_hidden": false,
          "outputs_hidden": false
        },
        "nteract": {
          "transient": {
            "deleting": false
          }
        },
        "execution": {
          "iopub.status.busy": "2020-12-28T16:35:38.771Z",
          "iopub.execute_input": "2020-12-28T16:35:38.788Z",
          "iopub.status.idle": "2020-12-28T16:35:38.890Z",
          "shell.execute_reply": "2020-12-28T16:35:38.920Z"
        }
      }
    },
    {
      "cell_type": "code",
      "source": [
        "\n",
        "fig = px.scatter_3d(df,x=\"Episode_Number\", y=\"Ratings\", z=\"Viewership\",\n",
        "                    color=\"Season\", hover_data=[\"Writers\"], title=\"3D Map of The Office Episode by Viewership and Rating\")\n",
        "fig.show()"
      ],
      "outputs": [
        {
          "output_type": "display_data",
          "data": {
            "application/vnd.plotly.v1+json": {
              "config": {
                "plotlyServerURL": "https://plot.ly"
              },
              "data": [
                {
                  "customdata": [
                    [
                      "Ricky Gervais |Stephen Merchant and Greg Daniels"
                    ],
                    [
                      "B. J. Novak"
                    ],
                    [
                      "Paul Lieberstein"
                    ],
                    [
                      "Michael Schur"
                    ],
                    [
                      "Greg Daniels"
                    ],
                    [
                      "Mindy Kaling"
                    ],
                    [
                      "Mindy Kaling"
                    ],
                    [
                      "B. J. Novak"
                    ],
                    [
                      "Michael Schur"
                    ],
                    [
                      "B. J. Novak"
                    ],
                    [
                      "Greg Daniels"
                    ],
                    [
                      "Gene Stupnitsky | Lee Eisenberg"
                    ],
                    [
                      "Paul Lieberstein"
                    ],
                    [
                      "Larry Wilmore"
                    ],
                    [
                      "Jennifer Celotta"
                    ],
                    [
                      "Michael Schur"
                    ],
                    [
                      "Greg Daniels"
                    ],
                    [
                      "Mindy Kaling"
                    ],
                    [
                      "Lee Eisenberg | Gene Stupnitsky"
                    ],
                    [
                      "Paul Lieberstein"
                    ],
                    [
                      "B. J. Novak"
                    ],
                    [
                      "Michael Schur"
                    ],
                    [
                      "Paul Lieberstein"
                    ],
                    [
                      "Mindy Kaling"
                    ],
                    [
                      "Gene Stupnitsky | Lee Eisenberg"
                    ],
                    [
                      "Jennifer Celotta"
                    ],
                    [
                      "Greg Daniels"
                    ],
                    [
                      "Steve Carell"
                    ],
                    [
                      "Greg Daniels"
                    ],
                    [
                      "Gene Stupnitsky | Lee Eisenberg"
                    ],
                    [
                      "Paul Lieberstein"
                    ],
                    [
                      "Jennifer Celotta"
                    ],
                    [
                      "B. J. Novak"
                    ],
                    [
                      "Mindy Kaling"
                    ],
                    [
                      "Michael Schur"
                    ],
                    [
                      "Brent Forrester"
                    ],
                    [
                      "Ricky Gervais | Stephen Merchant"
                    ],
                    [
                      "Jennifer Celotta"
                    ],
                    [
                      "Justin Spitzer"
                    ],
                    [
                      "Michael Schur | Lee Eisenberg | Gene Stupnitsky"
                    ],
                    [
                      "Lee Eisenberg | Gene Stupnitsky | Michael Schur"
                    ],
                    [
                      "Mindy Kaling"
                    ],
                    [
                      "Caroline Williams"
                    ],
                    [
                      "Brent Forrester"
                    ],
                    [
                      "Paul Lieberstein"
                    ],
                    [
                      "Michael Schur"
                    ],
                    [
                      "B. J. Novak"
                    ],
                    [
                      "Justin Spitzer | Brent Forrester"
                    ],
                    [
                      "Gene Stupnitsky | Lee Eisenberg"
                    ],
                    [
                      "Jennifer Celotta | Greg Daniels"
                    ],
                    [
                      "Paul Lieberstein | Michael Schur"
                    ],
                    [
                      "Greg Daniels"
                    ],
                    [
                      "Michael Schur"
                    ],
                    [
                      "Jennifer Celotta"
                    ],
                    [
                      "Paul Lieberstein"
                    ],
                    [
                      "B. J. Novak"
                    ],
                    [
                      "Mindy Kaling"
                    ],
                    [
                      "Steve Carell"
                    ],
                    [
                      "Lester Lewis"
                    ],
                    [
                      "Gene Stupnitsky | Lee Eisenberg"
                    ],
                    [
                      "B. J. Novak"
                    ],
                    [
                      "Mindy Kaling"
                    ],
                    [
                      "Brent Forrester | Justin Spitzer"
                    ],
                    [
                      "Lee Eisenberg | Gene Stupnitsky"
                    ],
                    [
                      "Jennifer Celotta | Paul Lieberstein"
                    ],
                    [
                      "Lee Eisenberg | Gene Stupnitsky"
                    ],
                    [
                      "Ryan Koh"
                    ],
                    [
                      "Aaron Shure"
                    ],
                    [
                      "Charlie Grandy"
                    ],
                    [
                      "Anthony Q. Farrell"
                    ],
                    [
                      "Lester Lewis"
                    ],
                    [
                      "Brent Forrester"
                    ],
                    [
                      "Mindy Kaling"
                    ],
                    [
                      "Gene Stupnitsky | Lee Eisenberg"
                    ],
                    [
                      "Justin Spitzer"
                    ],
                    [
                      "Jennifer Celotta"
                    ],
                    [
                      "B. J. Novak"
                    ],
                    [
                      "Paul Lieberstein"
                    ],
                    [
                      "Mindy Kaling"
                    ],
                    [
                      "Mindy Kaling"
                    ],
                    [
                      "Brent Forrester"
                    ],
                    [
                      "Mindy Kaling"
                    ],
                    [
                      "Lee Eisenberg | Gene Stupnitsky"
                    ],
                    [
                      "Aaron Shure"
                    ],
                    [
                      "B. J. Novak"
                    ],
                    [
                      "Justin Spitzer"
                    ],
                    [
                      "Ryan Koh"
                    ],
                    [
                      "Charlie Grandy"
                    ],
                    [
                      "Anthony Q. Farrell"
                    ],
                    [
                      "Warren Lieberstein | Halsted Sullivan"
                    ],
                    [
                      "Jennifer Celotta | Paul Lieberstein"
                    ],
                    [
                      "Paul Lieberstein"
                    ],
                    [
                      "Aaron Shure"
                    ],
                    [
                      "Jennifer Celotta"
                    ],
                    [
                      "Greg Daniels | Mindy Kaling"
                    ],
                    [
                      "Greg Daniels | Mindy Kaling"
                    ],
                    [
                      "Brent Forrester"
                    ],
                    [
                      "Lee Eisenberg | Gene Stupnitsky"
                    ],
                    [
                      "Warren Lieberstein | Halsted Sullivan"
                    ],
                    [
                      "Charlie Grandy"
                    ],
                    [
                      "Daniel Chun"
                    ],
                    [
                      "Justin Spitzer"
                    ],
                    [
                      "Gene Stupnitsky | Lee Eisenberg"
                    ],
                    [
                      "Mindy Kaling"
                    ],
                    [
                      "Jason Kessler"
                    ],
                    [
                      "Jennifer Celotta"
                    ],
                    [
                      "Mindy Kaling"
                    ],
                    [
                      "Daniel Chun"
                    ],
                    [
                      "Daniel Chun"
                    ],
                    [
                      "Jonathan Hughes"
                    ],
                    [
                      "Brent Forrester"
                    ],
                    [
                      "B. J. Novak"
                    ],
                    [
                      "Mindy Kaling"
                    ],
                    [
                      "Justin Spitzer"
                    ],
                    [
                      "Gene Stupnitsky | Lee Eisenberg"
                    ],
                    [
                      "Aaron Shure"
                    ],
                    [
                      "Warren Lieberstein | Halsted Sullivan"
                    ],
                    [
                      "Daniel Chun"
                    ],
                    [
                      "B. J. Novak"
                    ],
                    [
                      "Charlie Grandy"
                    ],
                    [
                      "Paul Lieberstein"
                    ],
                    [
                      "Mindy Kaling"
                    ],
                    [
                      "Justin Spitzer"
                    ],
                    [
                      "Peter Ocko"
                    ],
                    [
                      "Jon Vitti"
                    ],
                    [
                      "Aaron Shure"
                    ],
                    [
                      "Halsted Sullivan | Warren Lieberstein"
                    ],
                    [
                      "Mindy Kaling"
                    ],
                    [
                      "Carrie Kemper"
                    ],
                    [
                      "Steve Hely"
                    ],
                    [
                      "Brent Forrester"
                    ],
                    [
                      "Robert Padnick"
                    ],
                    [
                      "B. J. Novak"
                    ],
                    [
                      "Amelie Gillette"
                    ],
                    [
                      "Jon Vitti"
                    ],
                    [
                      "Daniel Chun"
                    ],
                    [
                      "Mindy Kaling"
                    ],
                    [
                      "Greg Daniels"
                    ],
                    [
                      "Charlie Grandy"
                    ],
                    [
                      "Justin Spitzer"
                    ],
                    [
                      "Paul Lieberstein"
                    ],
                    [
                      "B. J. Novak"
                    ],
                    [
                      "Paul Lieberstein"
                    ],
                    [
                      "Charlie Grandy"
                    ],
                    [
                      "Justin Spitzer"
                    ],
                    [
                      "Carrie Kemper"
                    ],
                    [
                      "Daniel Chun"
                    ],
                    [
                      "Allison Silverman"
                    ],
                    [
                      "Robert Padnick"
                    ],
                    [
                      "Dan Greaney"
                    ],
                    [
                      "Mindy Kaling"
                    ],
                    [
                      "Steve Hely"
                    ],
                    [
                      "Owen Ellickson"
                    ],
                    [
                      "Aaron Shure"
                    ],
                    [
                      "Amelie Gillette"
                    ],
                    [
                      "Daniel Chun"
                    ],
                    [
                      "Halsted Sullivan | Warren Lieberstein"
                    ],
                    [
                      "Mindy Kaling"
                    ],
                    [
                      "Robert Padnick"
                    ],
                    [
                      "Charlie Grandy"
                    ],
                    [
                      "Steve Hely"
                    ],
                    [
                      "Justin Spitzer"
                    ],
                    [
                      "Owen Ellickson"
                    ],
                    [
                      "Warren Lieberstein | Halsted Sullivan"
                    ],
                    [
                      "B. J. Novak"
                    ],
                    [
                      "Greg Daniels"
                    ],
                    [
                      "Allison Silverman"
                    ],
                    [
                      "Jonathan Green | Gabe Miller"
                    ],
                    [
                      "Brent Forrester"
                    ],
                    [
                      "Owen Ellickson"
                    ],
                    [
                      "Dan Sterling"
                    ],
                    [
                      "Carrie Kemper"
                    ],
                    [
                      "Graham Wagner"
                    ],
                    [
                      "Robert Padnick"
                    ],
                    [
                      "Niki Schwartz-Wright"
                    ],
                    [
                      "Dan Greaney"
                    ],
                    [
                      "Jonathan Green | Gabe Miller"
                    ],
                    [
                      "Carrie Kemper"
                    ],
                    [
                      "Owen Ellickson"
                    ],
                    [
                      "Allison Silverman"
                    ],
                    [
                      "Graham Wagner"
                    ],
                    [
                      "Paul Lieberstein"
                    ],
                    [
                      "Tim McAuliffe"
                    ],
                    [
                      "Dan Sterling"
                    ],
                    [
                      "Halsted Sullivan | Warren Lieberstein"
                    ],
                    [
                      "Niki Schwartz-Wright"
                    ],
                    [
                      "Brent Forrester"
                    ],
                    [
                      "Greg Daniels"
                    ]
                  ],
                  "hovertemplate": "Episode_Number=%{x}<br>Ratings=%{y}<br>Viewership=%{z}<br>Writers=%{customdata[0]}<br>Season=%{marker.color}<extra></extra>",
                  "legendgroup": "",
                  "marker": {
                    "color": [
                      1,
                      1,
                      1,
                      1,
                      1,
                      1,
                      2,
                      2,
                      2,
                      2,
                      2,
                      2,
                      2,
                      2,
                      2,
                      2,
                      2,
                      2,
                      2,
                      2,
                      2,
                      2,
                      2,
                      2,
                      2,
                      2,
                      2,
                      2,
                      3,
                      3,
                      3,
                      3,
                      3,
                      3,
                      3,
                      3,
                      3,
                      3,
                      3,
                      3,
                      3,
                      3,
                      3,
                      3,
                      3,
                      3,
                      3,
                      3,
                      3,
                      3,
                      3,
                      4,
                      4,
                      4,
                      4,
                      4,
                      4,
                      4,
                      4,
                      4,
                      4,
                      4,
                      4,
                      4,
                      4,
                      5,
                      5,
                      5,
                      5,
                      5,
                      5,
                      5,
                      5,
                      5,
                      5,
                      5,
                      5,
                      5,
                      5,
                      5,
                      5,
                      5,
                      5,
                      5,
                      5,
                      5,
                      5,
                      5,
                      5,
                      5,
                      5,
                      6,
                      6,
                      6,
                      6,
                      6,
                      6,
                      6,
                      6,
                      6,
                      6,
                      6,
                      6,
                      6,
                      6,
                      6,
                      6,
                      6,
                      6,
                      6,
                      6,
                      6,
                      6,
                      6,
                      6,
                      6,
                      6,
                      7,
                      7,
                      7,
                      7,
                      7,
                      7,
                      7,
                      7,
                      7,
                      7,
                      7,
                      7,
                      7,
                      7,
                      7,
                      7,
                      7,
                      7,
                      7,
                      7,
                      7,
                      7,
                      7,
                      7,
                      8,
                      8,
                      8,
                      8,
                      8,
                      8,
                      8,
                      8,
                      8,
                      8,
                      8,
                      8,
                      8,
                      8,
                      8,
                      8,
                      8,
                      8,
                      8,
                      8,
                      8,
                      8,
                      8,
                      8,
                      9,
                      9,
                      9,
                      9,
                      9,
                      9,
                      9,
                      9,
                      9,
                      9,
                      9,
                      9,
                      9,
                      9,
                      9,
                      9,
                      9,
                      9,
                      9,
                      9,
                      9,
                      9,
                      9
                    ],
                    "coloraxis": "coloraxis",
                    "symbol": "circle"
                  },
                  "mode": "markers",
                  "name": "",
                  "scene": "scene",
                  "showlegend": false,
                  "type": "scatter3d",
                  "x": [
                    0,
                    1,
                    2,
                    3,
                    4,
                    5,
                    6,
                    7,
                    8,
                    9,
                    10,
                    11,
                    12,
                    13,
                    14,
                    15,
                    16,
                    17,
                    18,
                    19,
                    20,
                    21,
                    22,
                    23,
                    24,
                    25,
                    26,
                    27,
                    28,
                    29,
                    30,
                    31,
                    32,
                    33,
                    34,
                    35,
                    36,
                    37,
                    38,
                    39,
                    40,
                    41,
                    42,
                    43,
                    44,
                    45,
                    46,
                    47,
                    48,
                    49,
                    50,
                    51,
                    52,
                    53,
                    54,
                    55,
                    56,
                    57,
                    58,
                    59,
                    60,
                    61,
                    62,
                    63,
                    64,
                    65,
                    66,
                    67,
                    68,
                    69,
                    70,
                    71,
                    72,
                    73,
                    74,
                    75,
                    76,
                    77,
                    78,
                    79,
                    80,
                    81,
                    82,
                    83,
                    84,
                    85,
                    86,
                    87,
                    88,
                    89,
                    90,
                    91,
                    92,
                    93,
                    94,
                    95,
                    96,
                    97,
                    98,
                    99,
                    100,
                    101,
                    102,
                    103,
                    104,
                    105,
                    106,
                    107,
                    108,
                    109,
                    110,
                    111,
                    112,
                    113,
                    114,
                    115,
                    116,
                    117,
                    118,
                    119,
                    120,
                    121,
                    122,
                    123,
                    124,
                    125,
                    126,
                    127,
                    128,
                    129,
                    130,
                    131,
                    132,
                    133,
                    134,
                    135,
                    136,
                    137,
                    138,
                    139,
                    140,
                    141,
                    142,
                    143,
                    144,
                    145,
                    146,
                    147,
                    148,
                    149,
                    150,
                    151,
                    152,
                    153,
                    154,
                    155,
                    156,
                    157,
                    158,
                    159,
                    160,
                    161,
                    162,
                    163,
                    164,
                    165,
                    166,
                    167,
                    168,
                    169,
                    170,
                    171,
                    172,
                    173,
                    174,
                    175,
                    176,
                    177,
                    178,
                    179,
                    180,
                    181,
                    182,
                    183,
                    184,
                    185,
                    186,
                    187
                  ],
                  "y": [
                    7.5,
                    8.3,
                    7.8,
                    8.1,
                    8.4,
                    7.7,
                    8.7,
                    8.2,
                    8.4,
                    8.4,
                    8.1,
                    8.1,
                    8.6,
                    8.2,
                    8.4,
                    8.9,
                    8.6,
                    9.1,
                    8.3,
                    7.8,
                    8.2,
                    8.3,
                    8.5,
                    8.3,
                    8.1,
                    8.4,
                    8.7,
                    9.4,
                    9,
                    8.2,
                    8.5,
                    8,
                    8.1,
                    7.9,
                    8.6,
                    8.7,
                    8.3,
                    8.8,
                    8.5,
                    8.6,
                    8.8,
                    8.1,
                    8.2,
                    8.9,
                    8.5,
                    9,
                    8.8,
                    8.7,
                    8.8,
                    9.2,
                    9.3,
                    8.8,
                    8.3,
                    8.4,
                    8.7,
                    8.8,
                    8.5,
                    8.2,
                    8.7,
                    9.5,
                    8,
                    8.6,
                    8.3,
                    7.8,
                    9.3,
                    8.8,
                    8.3,
                    8,
                    8.1,
                    8,
                    8.5,
                    8.2,
                    8.6,
                    8.8,
                    8.4,
                    8.7,
                    8,
                    9.7,
                    8.2,
                    8.1,
                    8,
                    8.7,
                    8.3,
                    8.4,
                    8.3,
                    8.7,
                    8.7,
                    9.2,
                    8.3,
                    8.7,
                    9,
                    8.8,
                    8.1,
                    8,
                    9.4,
                    9.4,
                    7.6,
                    8.6,
                    8.2,
                    8.1,
                    8.7,
                    8.2,
                    8.3,
                    8.5,
                    6.8,
                    7.7,
                    8.1,
                    8.4,
                    8.5,
                    7.7,
                    7.7,
                    8.6,
                    7.8,
                    8,
                    8.1,
                    7.8,
                    8,
                    8.4,
                    8.2,
                    8.2,
                    7.8,
                    7.8,
                    8.2,
                    7.4,
                    7.8,
                    7.7,
                    8.2,
                    9,
                    8.3,
                    7.6,
                    8.5,
                    8.4,
                    9.4,
                    7.5,
                    9.3,
                    7.8,
                    9,
                    9.8,
                    7.6,
                    8.7,
                    8.8,
                    8.1,
                    8.1,
                    7.3,
                    8.1,
                    7.5,
                    7.7,
                    7.7,
                    6.9,
                    7.7,
                    7.9,
                    7.9,
                    8,
                    7.4,
                    7.7,
                    7.8,
                    8.1,
                    7.8,
                    7.8,
                    6.6,
                    7.1,
                    7,
                    7,
                    7.6,
                    7.7,
                    7.6,
                    7.1,
                    7.4,
                    7.8,
                    7,
                    7.7,
                    7.6,
                    7.8,
                    8.4,
                    7.6,
                    7.8,
                    7.9,
                    7.6,
                    7.5,
                    7.3,
                    8.1,
                    7.5,
                    8,
                    8,
                    8,
                    9,
                    9.5,
                    9.8
                  ],
                  "z": [
                    11.2,
                    6,
                    5.8,
                    5.4,
                    5,
                    4.8,
                    9,
                    7.13,
                    8.3,
                    7.6,
                    8,
                    7.9,
                    7.5,
                    8,
                    8.1,
                    9.7,
                    8.7,
                    10.3,
                    8.7,
                    8.6,
                    5.42,
                    8.95,
                    8.4,
                    8.8,
                    7.8,
                    7.8,
                    7.4,
                    7.6,
                    9.11,
                    7.78,
                    8.89,
                    8.83,
                    8.46,
                    8.81,
                    8.05,
                    8.63,
                    9.07,
                    8.44,
                    8.8,
                    10.12,
                    10.2,
                    10.11,
                    8.84,
                    8.84,
                    8.3,
                    6.74,
                    7.71,
                    7.56,
                    7,
                    7.2,
                    7.88,
                    9.7,
                    8.49,
                    8.91,
                    8.5,
                    8.98,
                    8.39,
                    8.29,
                    8.86,
                    9.22,
                    9.81,
                    7.56,
                    7.67,
                    7.22,
                    8.07,
                    9.2,
                    8.99,
                    8.07,
                    7.74,
                    9.32,
                    8.35,
                    8.18,
                    8.4,
                    8.33,
                    8.79,
                    8.5,
                    8.74,
                    22.91,
                    8.39,
                    8.89,
                    8.63,
                    7.51,
                    7.95,
                    8.45,
                    7.2,
                    7.94,
                    8.24,
                    7.21,
                    7.31,
                    7.71,
                    6.72,
                    8.2,
                    7.33,
                    7.28,
                    9.42,
                    9.42,
                    8.1,
                    8.52,
                    8.2,
                    7.94,
                    7.76,
                    7.43,
                    8.1,
                    8.51,
                    7.29,
                    7.36,
                    7.4,
                    9,
                    9,
                    7.51,
                    7.63,
                    7.17,
                    6.3,
                    7.01,
                    6.84,
                    6.6,
                    6.6,
                    8.4,
                    7.36,
                    6.95,
                    7.36,
                    6.87,
                    8.07,
                    7.65,
                    7.15,
                    7.28,
                    7.31,
                    7.18,
                    8.26,
                    7.93,
                    7.29,
                    6.9,
                    6.41,
                    6.12,
                    7.07,
                    7.87,
                    6.85,
                    8.42,
                    6.9,
                    6.45,
                    7.29,
                    7.64,
                    6.7,
                    5.82,
                    6.08,
                    5.53,
                    6.15,
                    5.96,
                    5.5,
                    5.71,
                    5.79,
                    5.9,
                    6.02,
                    5.31,
                    5.19,
                    4.38,
                    5.02,
                    4.95,
                    4.89,
                    4.87,
                    4.39,
                    4.35,
                    4.17,
                    4.44,
                    4.49,
                    4.28,
                    4.13,
                    4.14,
                    4.28,
                    4,
                    4.83,
                    4.16,
                    3.88,
                    4.16,
                    4.54,
                    4.15,
                    4.19,
                    4.45,
                    3.97,
                    4.15,
                    4.06,
                    3.54,
                    3.44,
                    3.83,
                    3.25,
                    3.51,
                    4.56,
                    5.69
                  ]
                }
              ],
              "layout": {
                "coloraxis": {
                  "colorbar": {
                    "title": {
                      "text": "Season"
                    }
                  },
                  "colorscale": [
                    [
                      0,
                      "#0d0887"
                    ],
                    [
                      0.1111111111111111,
                      "#46039f"
                    ],
                    [
                      0.2222222222222222,
                      "#7201a8"
                    ],
                    [
                      0.3333333333333333,
                      "#9c179e"
                    ],
                    [
                      0.4444444444444444,
                      "#bd3786"
                    ],
                    [
                      0.5555555555555556,
                      "#d8576b"
                    ],
                    [
                      0.6666666666666666,
                      "#ed7953"
                    ],
                    [
                      0.7777777777777778,
                      "#fb9f3a"
                    ],
                    [
                      0.8888888888888888,
                      "#fdca26"
                    ],
                    [
                      1,
                      "#f0f921"
                    ]
                  ]
                },
                "legend": {
                  "tracegroupgap": 0
                },
                "scene": {
                  "domain": {
                    "x": [
                      0,
                      1
                    ],
                    "y": [
                      0,
                      1
                    ]
                  },
                  "xaxis": {
                    "title": {
                      "text": "Episode_Number"
                    }
                  },
                  "yaxis": {
                    "title": {
                      "text": "Ratings"
                    }
                  },
                  "zaxis": {
                    "title": {
                      "text": "Viewership"
                    }
                  }
                },
                "template": {
                  "data": {
                    "bar": [
                      {
                        "error_x": {
                          "color": "#2a3f5f"
                        },
                        "error_y": {
                          "color": "#2a3f5f"
                        },
                        "marker": {
                          "line": {
                            "color": "#E5ECF6",
                            "width": 0.5
                          }
                        },
                        "type": "bar"
                      }
                    ],
                    "barpolar": [
                      {
                        "marker": {
                          "line": {
                            "color": "#E5ECF6",
                            "width": 0.5
                          }
                        },
                        "type": "barpolar"
                      }
                    ],
                    "carpet": [
                      {
                        "aaxis": {
                          "endlinecolor": "#2a3f5f",
                          "gridcolor": "white",
                          "linecolor": "white",
                          "minorgridcolor": "white",
                          "startlinecolor": "#2a3f5f"
                        },
                        "baxis": {
                          "endlinecolor": "#2a3f5f",
                          "gridcolor": "white",
                          "linecolor": "white",
                          "minorgridcolor": "white",
                          "startlinecolor": "#2a3f5f"
                        },
                        "type": "carpet"
                      }
                    ],
                    "choropleth": [
                      {
                        "colorbar": {
                          "outlinewidth": 0,
                          "ticks": ""
                        },
                        "type": "choropleth"
                      }
                    ],
                    "contour": [
                      {
                        "colorbar": {
                          "outlinewidth": 0,
                          "ticks": ""
                        },
                        "colorscale": [
                          [
                            0,
                            "#0d0887"
                          ],
                          [
                            0.1111111111111111,
                            "#46039f"
                          ],
                          [
                            0.2222222222222222,
                            "#7201a8"
                          ],
                          [
                            0.3333333333333333,
                            "#9c179e"
                          ],
                          [
                            0.4444444444444444,
                            "#bd3786"
                          ],
                          [
                            0.5555555555555556,
                            "#d8576b"
                          ],
                          [
                            0.6666666666666666,
                            "#ed7953"
                          ],
                          [
                            0.7777777777777778,
                            "#fb9f3a"
                          ],
                          [
                            0.8888888888888888,
                            "#fdca26"
                          ],
                          [
                            1,
                            "#f0f921"
                          ]
                        ],
                        "type": "contour"
                      }
                    ],
                    "contourcarpet": [
                      {
                        "colorbar": {
                          "outlinewidth": 0,
                          "ticks": ""
                        },
                        "type": "contourcarpet"
                      }
                    ],
                    "heatmap": [
                      {
                        "colorbar": {
                          "outlinewidth": 0,
                          "ticks": ""
                        },
                        "colorscale": [
                          [
                            0,
                            "#0d0887"
                          ],
                          [
                            0.1111111111111111,
                            "#46039f"
                          ],
                          [
                            0.2222222222222222,
                            "#7201a8"
                          ],
                          [
                            0.3333333333333333,
                            "#9c179e"
                          ],
                          [
                            0.4444444444444444,
                            "#bd3786"
                          ],
                          [
                            0.5555555555555556,
                            "#d8576b"
                          ],
                          [
                            0.6666666666666666,
                            "#ed7953"
                          ],
                          [
                            0.7777777777777778,
                            "#fb9f3a"
                          ],
                          [
                            0.8888888888888888,
                            "#fdca26"
                          ],
                          [
                            1,
                            "#f0f921"
                          ]
                        ],
                        "type": "heatmap"
                      }
                    ],
                    "heatmapgl": [
                      {
                        "colorbar": {
                          "outlinewidth": 0,
                          "ticks": ""
                        },
                        "colorscale": [
                          [
                            0,
                            "#0d0887"
                          ],
                          [
                            0.1111111111111111,
                            "#46039f"
                          ],
                          [
                            0.2222222222222222,
                            "#7201a8"
                          ],
                          [
                            0.3333333333333333,
                            "#9c179e"
                          ],
                          [
                            0.4444444444444444,
                            "#bd3786"
                          ],
                          [
                            0.5555555555555556,
                            "#d8576b"
                          ],
                          [
                            0.6666666666666666,
                            "#ed7953"
                          ],
                          [
                            0.7777777777777778,
                            "#fb9f3a"
                          ],
                          [
                            0.8888888888888888,
                            "#fdca26"
                          ],
                          [
                            1,
                            "#f0f921"
                          ]
                        ],
                        "type": "heatmapgl"
                      }
                    ],
                    "histogram": [
                      {
                        "marker": {
                          "colorbar": {
                            "outlinewidth": 0,
                            "ticks": ""
                          }
                        },
                        "type": "histogram"
                      }
                    ],
                    "histogram2d": [
                      {
                        "colorbar": {
                          "outlinewidth": 0,
                          "ticks": ""
                        },
                        "colorscale": [
                          [
                            0,
                            "#0d0887"
                          ],
                          [
                            0.1111111111111111,
                            "#46039f"
                          ],
                          [
                            0.2222222222222222,
                            "#7201a8"
                          ],
                          [
                            0.3333333333333333,
                            "#9c179e"
                          ],
                          [
                            0.4444444444444444,
                            "#bd3786"
                          ],
                          [
                            0.5555555555555556,
                            "#d8576b"
                          ],
                          [
                            0.6666666666666666,
                            "#ed7953"
                          ],
                          [
                            0.7777777777777778,
                            "#fb9f3a"
                          ],
                          [
                            0.8888888888888888,
                            "#fdca26"
                          ],
                          [
                            1,
                            "#f0f921"
                          ]
                        ],
                        "type": "histogram2d"
                      }
                    ],
                    "histogram2dcontour": [
                      {
                        "colorbar": {
                          "outlinewidth": 0,
                          "ticks": ""
                        },
                        "colorscale": [
                          [
                            0,
                            "#0d0887"
                          ],
                          [
                            0.1111111111111111,
                            "#46039f"
                          ],
                          [
                            0.2222222222222222,
                            "#7201a8"
                          ],
                          [
                            0.3333333333333333,
                            "#9c179e"
                          ],
                          [
                            0.4444444444444444,
                            "#bd3786"
                          ],
                          [
                            0.5555555555555556,
                            "#d8576b"
                          ],
                          [
                            0.6666666666666666,
                            "#ed7953"
                          ],
                          [
                            0.7777777777777778,
                            "#fb9f3a"
                          ],
                          [
                            0.8888888888888888,
                            "#fdca26"
                          ],
                          [
                            1,
                            "#f0f921"
                          ]
                        ],
                        "type": "histogram2dcontour"
                      }
                    ],
                    "mesh3d": [
                      {
                        "colorbar": {
                          "outlinewidth": 0,
                          "ticks": ""
                        },
                        "type": "mesh3d"
                      }
                    ],
                    "parcoords": [
                      {
                        "line": {
                          "colorbar": {
                            "outlinewidth": 0,
                            "ticks": ""
                          }
                        },
                        "type": "parcoords"
                      }
                    ],
                    "pie": [
                      {
                        "automargin": true,
                        "type": "pie"
                      }
                    ],
                    "scatter": [
                      {
                        "marker": {
                          "colorbar": {
                            "outlinewidth": 0,
                            "ticks": ""
                          }
                        },
                        "type": "scatter"
                      }
                    ],
                    "scatter3d": [
                      {
                        "line": {
                          "colorbar": {
                            "outlinewidth": 0,
                            "ticks": ""
                          }
                        },
                        "marker": {
                          "colorbar": {
                            "outlinewidth": 0,
                            "ticks": ""
                          }
                        },
                        "type": "scatter3d"
                      }
                    ],
                    "scattercarpet": [
                      {
                        "marker": {
                          "colorbar": {
                            "outlinewidth": 0,
                            "ticks": ""
                          }
                        },
                        "type": "scattercarpet"
                      }
                    ],
                    "scattergeo": [
                      {
                        "marker": {
                          "colorbar": {
                            "outlinewidth": 0,
                            "ticks": ""
                          }
                        },
                        "type": "scattergeo"
                      }
                    ],
                    "scattergl": [
                      {
                        "marker": {
                          "colorbar": {
                            "outlinewidth": 0,
                            "ticks": ""
                          }
                        },
                        "type": "scattergl"
                      }
                    ],
                    "scattermapbox": [
                      {
                        "marker": {
                          "colorbar": {
                            "outlinewidth": 0,
                            "ticks": ""
                          }
                        },
                        "type": "scattermapbox"
                      }
                    ],
                    "scatterpolar": [
                      {
                        "marker": {
                          "colorbar": {
                            "outlinewidth": 0,
                            "ticks": ""
                          }
                        },
                        "type": "scatterpolar"
                      }
                    ],
                    "scatterpolargl": [
                      {
                        "marker": {
                          "colorbar": {
                            "outlinewidth": 0,
                            "ticks": ""
                          }
                        },
                        "type": "scatterpolargl"
                      }
                    ],
                    "scatterternary": [
                      {
                        "marker": {
                          "colorbar": {
                            "outlinewidth": 0,
                            "ticks": ""
                          }
                        },
                        "type": "scatterternary"
                      }
                    ],
                    "surface": [
                      {
                        "colorbar": {
                          "outlinewidth": 0,
                          "ticks": ""
                        },
                        "colorscale": [
                          [
                            0,
                            "#0d0887"
                          ],
                          [
                            0.1111111111111111,
                            "#46039f"
                          ],
                          [
                            0.2222222222222222,
                            "#7201a8"
                          ],
                          [
                            0.3333333333333333,
                            "#9c179e"
                          ],
                          [
                            0.4444444444444444,
                            "#bd3786"
                          ],
                          [
                            0.5555555555555556,
                            "#d8576b"
                          ],
                          [
                            0.6666666666666666,
                            "#ed7953"
                          ],
                          [
                            0.7777777777777778,
                            "#fb9f3a"
                          ],
                          [
                            0.8888888888888888,
                            "#fdca26"
                          ],
                          [
                            1,
                            "#f0f921"
                          ]
                        ],
                        "type": "surface"
                      }
                    ],
                    "table": [
                      {
                        "cells": {
                          "fill": {
                            "color": "#EBF0F8"
                          },
                          "line": {
                            "color": "white"
                          }
                        },
                        "header": {
                          "fill": {
                            "color": "#C8D4E3"
                          },
                          "line": {
                            "color": "white"
                          }
                        },
                        "type": "table"
                      }
                    ]
                  },
                  "layout": {
                    "annotationdefaults": {
                      "arrowcolor": "#2a3f5f",
                      "arrowhead": 0,
                      "arrowwidth": 1
                    },
                    "autotypenumbers": "strict",
                    "coloraxis": {
                      "colorbar": {
                        "outlinewidth": 0,
                        "ticks": ""
                      }
                    },
                    "colorscale": {
                      "diverging": [
                        [
                          0,
                          "#8e0152"
                        ],
                        [
                          0.1,
                          "#c51b7d"
                        ],
                        [
                          0.2,
                          "#de77ae"
                        ],
                        [
                          0.3,
                          "#f1b6da"
                        ],
                        [
                          0.4,
                          "#fde0ef"
                        ],
                        [
                          0.5,
                          "#f7f7f7"
                        ],
                        [
                          0.6,
                          "#e6f5d0"
                        ],
                        [
                          0.7,
                          "#b8e186"
                        ],
                        [
                          0.8,
                          "#7fbc41"
                        ],
                        [
                          0.9,
                          "#4d9221"
                        ],
                        [
                          1,
                          "#276419"
                        ]
                      ],
                      "sequential": [
                        [
                          0,
                          "#0d0887"
                        ],
                        [
                          0.1111111111111111,
                          "#46039f"
                        ],
                        [
                          0.2222222222222222,
                          "#7201a8"
                        ],
                        [
                          0.3333333333333333,
                          "#9c179e"
                        ],
                        [
                          0.4444444444444444,
                          "#bd3786"
                        ],
                        [
                          0.5555555555555556,
                          "#d8576b"
                        ],
                        [
                          0.6666666666666666,
                          "#ed7953"
                        ],
                        [
                          0.7777777777777778,
                          "#fb9f3a"
                        ],
                        [
                          0.8888888888888888,
                          "#fdca26"
                        ],
                        [
                          1,
                          "#f0f921"
                        ]
                      ],
                      "sequentialminus": [
                        [
                          0,
                          "#0d0887"
                        ],
                        [
                          0.1111111111111111,
                          "#46039f"
                        ],
                        [
                          0.2222222222222222,
                          "#7201a8"
                        ],
                        [
                          0.3333333333333333,
                          "#9c179e"
                        ],
                        [
                          0.4444444444444444,
                          "#bd3786"
                        ],
                        [
                          0.5555555555555556,
                          "#d8576b"
                        ],
                        [
                          0.6666666666666666,
                          "#ed7953"
                        ],
                        [
                          0.7777777777777778,
                          "#fb9f3a"
                        ],
                        [
                          0.8888888888888888,
                          "#fdca26"
                        ],
                        [
                          1,
                          "#f0f921"
                        ]
                      ]
                    },
                    "colorway": [
                      "#636efa",
                      "#EF553B",
                      "#00cc96",
                      "#ab63fa",
                      "#FFA15A",
                      "#19d3f3",
                      "#FF6692",
                      "#B6E880",
                      "#FF97FF",
                      "#FECB52"
                    ],
                    "font": {
                      "color": "#2a3f5f"
                    },
                    "geo": {
                      "bgcolor": "white",
                      "lakecolor": "white",
                      "landcolor": "#E5ECF6",
                      "showlakes": true,
                      "showland": true,
                      "subunitcolor": "white"
                    },
                    "hoverlabel": {
                      "align": "left"
                    },
                    "hovermode": "closest",
                    "mapbox": {
                      "style": "light"
                    },
                    "paper_bgcolor": "white",
                    "plot_bgcolor": "#E5ECF6",
                    "polar": {
                      "angularaxis": {
                        "gridcolor": "white",
                        "linecolor": "white",
                        "ticks": ""
                      },
                      "bgcolor": "#E5ECF6",
                      "radialaxis": {
                        "gridcolor": "white",
                        "linecolor": "white",
                        "ticks": ""
                      }
                    },
                    "scene": {
                      "xaxis": {
                        "backgroundcolor": "#E5ECF6",
                        "gridcolor": "white",
                        "gridwidth": 2,
                        "linecolor": "white",
                        "showbackground": true,
                        "ticks": "",
                        "zerolinecolor": "white"
                      },
                      "yaxis": {
                        "backgroundcolor": "#E5ECF6",
                        "gridcolor": "white",
                        "gridwidth": 2,
                        "linecolor": "white",
                        "showbackground": true,
                        "ticks": "",
                        "zerolinecolor": "white"
                      },
                      "zaxis": {
                        "backgroundcolor": "#E5ECF6",
                        "gridcolor": "white",
                        "gridwidth": 2,
                        "linecolor": "white",
                        "showbackground": true,
                        "ticks": "",
                        "zerolinecolor": "white"
                      }
                    },
                    "shapedefaults": {
                      "line": {
                        "color": "#2a3f5f"
                      }
                    },
                    "ternary": {
                      "aaxis": {
                        "gridcolor": "white",
                        "linecolor": "white",
                        "ticks": ""
                      },
                      "baxis": {
                        "gridcolor": "white",
                        "linecolor": "white",
                        "ticks": ""
                      },
                      "bgcolor": "#E5ECF6",
                      "caxis": {
                        "gridcolor": "white",
                        "linecolor": "white",
                        "ticks": ""
                      }
                    },
                    "title": {
                      "x": 0.05
                    },
                    "xaxis": {
                      "automargin": true,
                      "gridcolor": "white",
                      "linecolor": "white",
                      "ticks": "",
                      "title": {
                        "standoff": 15
                      },
                      "zerolinecolor": "white",
                      "zerolinewidth": 2
                    },
                    "yaxis": {
                      "automargin": true,
                      "gridcolor": "white",
                      "linecolor": "white",
                      "ticks": "",
                      "title": {
                        "standoff": 15
                      },
                      "zerolinecolor": "white",
                      "zerolinewidth": 2
                    }
                  }
                },
                "title": {
                  "text": "3D Map of The Office Episode by Viewership and Rating"
                }
              }
            },
            "text/html": "<div>                            <div id=\"4410dcff-b986-4d16-83aa-4c1433bdabb7\" class=\"plotly-graph-div\" style=\"height:525px; width:100%;\"></div>            <script type=\"text/javascript\">                require([\"plotly\"], function(Plotly) {                    window.PLOTLYENV=window.PLOTLYENV || {};                                    if (document.getElementById(\"4410dcff-b986-4d16-83aa-4c1433bdabb7\")) {                    Plotly.newPlot(                        \"4410dcff-b986-4d16-83aa-4c1433bdabb7\",                        [{\"customdata\": [[\"Ricky Gervais |Stephen Merchant and Greg Daniels\"], [\"B. J. Novak\"], [\"Paul Lieberstein\"], [\"Michael Schur\"], [\"Greg Daniels\"], [\"Mindy Kaling\"], [\"Mindy Kaling\"], [\"B. J. Novak\"], [\"Michael Schur\"], [\"B. J. Novak\"], [\"Greg Daniels\"], [\"Gene Stupnitsky | Lee Eisenberg\"], [\"Paul Lieberstein\"], [\"Larry Wilmore\"], [\"Jennifer Celotta\"], [\"Michael Schur\"], [\"Greg Daniels\"], [\"Mindy Kaling\"], [\"Lee Eisenberg | Gene Stupnitsky\"], [\"Paul Lieberstein\"], [\"B. J. Novak\"], [\"Michael Schur\"], [\"Paul Lieberstein\"], [\"Mindy Kaling\"], [\"Gene Stupnitsky | Lee Eisenberg\"], [\"Jennifer Celotta\"], [\"Greg Daniels\"], [\"Steve Carell\"], [\"Greg Daniels\"], [\"Gene Stupnitsky | Lee Eisenberg\"], [\"Paul Lieberstein\"], [\"Jennifer Celotta\"], [\"B. J. Novak\"], [\"Mindy Kaling\"], [\"Michael Schur\"], [\"Brent Forrester\"], [\"Ricky Gervais | Stephen Merchant\"], [\"Jennifer Celotta\"], [\"Justin Spitzer\"], [\"Michael Schur | Lee Eisenberg | Gene Stupnitsky\"], [\"Lee Eisenberg | Gene Stupnitsky | Michael Schur\"], [\"Mindy Kaling\"], [\"Caroline Williams\"], [\"Brent Forrester\"], [\"Paul Lieberstein\"], [\"Michael Schur\"], [\"B. J. Novak\"], [\"Justin Spitzer | Brent Forrester\"], [\"Gene Stupnitsky | Lee Eisenberg\"], [\"Jennifer Celotta | Greg Daniels\"], [\"Paul Lieberstein | Michael Schur\"], [\"Greg Daniels\"], [\"Michael Schur\"], [\"Jennifer Celotta\"], [\"Paul Lieberstein\"], [\"B. J. Novak\"], [\"Mindy Kaling\"], [\"Steve Carell\"], [\"Lester Lewis\"], [\"Gene Stupnitsky | Lee Eisenberg\"], [\"B. J. Novak\"], [\"Mindy Kaling\"], [\"Brent Forrester | Justin Spitzer\"], [\"Lee Eisenberg | Gene Stupnitsky\"], [\"Jennifer Celotta | Paul Lieberstein\"], [\"Lee Eisenberg | Gene Stupnitsky\"], [\"Ryan Koh\"], [\"Aaron Shure\"], [\"Charlie Grandy\"], [\"Anthony Q. Farrell\"], [\"Lester Lewis\"], [\"Brent Forrester\"], [\"Mindy Kaling\"], [\"Gene Stupnitsky | Lee Eisenberg\"], [\"Justin Spitzer\"], [\"Jennifer Celotta\"], [\"B. J. Novak\"], [\"Paul Lieberstein\"], [\"Mindy Kaling\"], [\"Mindy Kaling\"], [\"Brent Forrester\"], [\"Mindy Kaling\"], [\"Lee Eisenberg | Gene Stupnitsky\"], [\"Aaron Shure\"], [\"B. J. Novak\"], [\"Justin Spitzer\"], [\"Ryan Koh\"], [\"Charlie Grandy\"], [\"Anthony Q. Farrell\"], [\"Warren Lieberstein | Halsted Sullivan\"], [\"Jennifer Celotta | Paul Lieberstein\"], [\"Paul Lieberstein\"], [\"Aaron Shure\"], [\"Jennifer Celotta\"], [\"Greg Daniels | Mindy Kaling\"], [\"Greg Daniels | Mindy Kaling\"], [\"Brent Forrester\"], [\"Lee Eisenberg | Gene Stupnitsky\"], [\"Warren Lieberstein | Halsted Sullivan\"], [\"Charlie Grandy\"], [\"Daniel Chun\"], [\"Justin Spitzer\"], [\"Gene Stupnitsky | Lee Eisenberg\"], [\"Mindy Kaling\"], [\"Jason Kessler\"], [\"Jennifer Celotta\"], [\"Mindy Kaling\"], [\"Daniel Chun\"], [\"Daniel Chun\"], [\"Jonathan Hughes\"], [\"Brent Forrester\"], [\"B. J. Novak\"], [\"Mindy Kaling\"], [\"Justin Spitzer\"], [\"Gene Stupnitsky | Lee Eisenberg\"], [\"Aaron Shure\"], [\"Warren Lieberstein | Halsted Sullivan\"], [\"Daniel Chun\"], [\"B. J. Novak\"], [\"Charlie Grandy\"], [\"Paul Lieberstein\"], [\"Mindy Kaling\"], [\"Justin Spitzer\"], [\"Peter Ocko\"], [\"Jon Vitti\"], [\"Aaron Shure\"], [\"Halsted Sullivan | Warren Lieberstein\"], [\"Mindy Kaling\"], [\"Carrie Kemper\"], [\"Steve Hely\"], [\"Brent Forrester\"], [\"Robert Padnick\"], [\"B. J. Novak\"], [\"Amelie Gillette\"], [\"Jon Vitti\"], [\"Daniel Chun\"], [\"Mindy Kaling\"], [\"Greg Daniels\"], [\"Charlie Grandy\"], [\"Justin Spitzer\"], [\"Paul Lieberstein\"], [\"B. J. Novak\"], [\"Paul Lieberstein\"], [\"Charlie Grandy\"], [\"Justin Spitzer\"], [\"Carrie Kemper\"], [\"Daniel Chun\"], [\"Allison Silverman\"], [\"Robert Padnick\"], [\"Dan Greaney\"], [\"Mindy Kaling\"], [\"Steve Hely\"], [\"Owen Ellickson\"], [\"Aaron Shure\"], [\"Amelie Gillette\"], [\"Daniel Chun\"], [\"Halsted Sullivan | Warren Lieberstein\"], [\"Mindy Kaling\"], [\"Robert Padnick\"], [\"Charlie Grandy\"], [\"Steve Hely\"], [\"Justin Spitzer\"], [\"Owen Ellickson\"], [\"Warren Lieberstein | Halsted Sullivan\"], [\"B. J. Novak\"], [\"Greg Daniels\"], [\"Allison Silverman\"], [\"Jonathan Green | Gabe Miller\"], [\"Brent Forrester\"], [\"Owen Ellickson\"], [\"Dan Sterling\"], [\"Carrie Kemper\"], [\"Graham Wagner\"], [\"Robert Padnick\"], [\"Niki Schwartz-Wright\"], [\"Dan Greaney\"], [\"Jonathan Green | Gabe Miller\"], [\"Carrie Kemper\"], [\"Owen Ellickson\"], [\"Allison Silverman\"], [\"Graham Wagner\"], [\"Paul Lieberstein\"], [\"Tim McAuliffe\"], [\"Dan Sterling\"], [\"Halsted Sullivan | Warren Lieberstein\"], [\"Niki Schwartz-Wright\"], [\"Brent Forrester\"], [\"Greg Daniels\"]], \"hovertemplate\": \"Episode_Number=%{x}<br>Ratings=%{y}<br>Viewership=%{z}<br>Writers=%{customdata[0]}<br>Season=%{marker.color}<extra></extra>\", \"legendgroup\": \"\", \"marker\": {\"color\": [1, 1, 1, 1, 1, 1, 2, 2, 2, 2, 2, 2, 2, 2, 2, 2, 2, 2, 2, 2, 2, 2, 2, 2, 2, 2, 2, 2, 3, 3, 3, 3, 3, 3, 3, 3, 3, 3, 3, 3, 3, 3, 3, 3, 3, 3, 3, 3, 3, 3, 3, 4, 4, 4, 4, 4, 4, 4, 4, 4, 4, 4, 4, 4, 4, 5, 5, 5, 5, 5, 5, 5, 5, 5, 5, 5, 5, 5, 5, 5, 5, 5, 5, 5, 5, 5, 5, 5, 5, 5, 5, 6, 6, 6, 6, 6, 6, 6, 6, 6, 6, 6, 6, 6, 6, 6, 6, 6, 6, 6, 6, 6, 6, 6, 6, 6, 6, 7, 7, 7, 7, 7, 7, 7, 7, 7, 7, 7, 7, 7, 7, 7, 7, 7, 7, 7, 7, 7, 7, 7, 7, 8, 8, 8, 8, 8, 8, 8, 8, 8, 8, 8, 8, 8, 8, 8, 8, 8, 8, 8, 8, 8, 8, 8, 8, 9, 9, 9, 9, 9, 9, 9, 9, 9, 9, 9, 9, 9, 9, 9, 9, 9, 9, 9, 9, 9, 9, 9], \"coloraxis\": \"coloraxis\", \"symbol\": \"circle\"}, \"mode\": \"markers\", \"name\": \"\", \"scene\": \"scene\", \"showlegend\": false, \"type\": \"scatter3d\", \"x\": [0, 1, 2, 3, 4, 5, 6, 7, 8, 9, 10, 11, 12, 13, 14, 15, 16, 17, 18, 19, 20, 21, 22, 23, 24, 25, 26, 27, 28, 29, 30, 31, 32, 33, 34, 35, 36, 37, 38, 39, 40, 41, 42, 43, 44, 45, 46, 47, 48, 49, 50, 51, 52, 53, 54, 55, 56, 57, 58, 59, 60, 61, 62, 63, 64, 65, 66, 67, 68, 69, 70, 71, 72, 73, 74, 75, 76, 77, 78, 79, 80, 81, 82, 83, 84, 85, 86, 87, 88, 89, 90, 91, 92, 93, 94, 95, 96, 97, 98, 99, 100, 101, 102, 103, 104, 105, 106, 107, 108, 109, 110, 111, 112, 113, 114, 115, 116, 117, 118, 119, 120, 121, 122, 123, 124, 125, 126, 127, 128, 129, 130, 131, 132, 133, 134, 135, 136, 137, 138, 139, 140, 141, 142, 143, 144, 145, 146, 147, 148, 149, 150, 151, 152, 153, 154, 155, 156, 157, 158, 159, 160, 161, 162, 163, 164, 165, 166, 167, 168, 169, 170, 171, 172, 173, 174, 175, 176, 177, 178, 179, 180, 181, 182, 183, 184, 185, 186, 187], \"y\": [7.5, 8.3, 7.8, 8.1, 8.4, 7.7, 8.7, 8.2, 8.4, 8.4, 8.1, 8.1, 8.6, 8.2, 8.4, 8.9, 8.6, 9.1, 8.3, 7.8, 8.2, 8.3, 8.5, 8.3, 8.1, 8.4, 8.7, 9.4, 9.0, 8.2, 8.5, 8.0, 8.1, 7.9, 8.6, 8.7, 8.3, 8.8, 8.5, 8.6, 8.8, 8.1, 8.2, 8.9, 8.5, 9.0, 8.8, 8.7, 8.8, 9.2, 9.3, 8.8, 8.3, 8.4, 8.7, 8.8, 8.5, 8.2, 8.7, 9.5, 8.0, 8.6, 8.3, 7.8, 9.3, 8.8, 8.3, 8.0, 8.1, 8.0, 8.5, 8.2, 8.6, 8.8, 8.4, 8.7, 8.0, 9.7, 8.2, 8.1, 8.0, 8.7, 8.3, 8.4, 8.3, 8.7, 8.7, 9.2, 8.3, 8.7, 9.0, 8.8, 8.1, 8.0, 9.4, 9.4, 7.6, 8.6, 8.2, 8.1, 8.7, 8.2, 8.3, 8.5, 6.8, 7.7, 8.1, 8.4, 8.5, 7.7, 7.7, 8.6, 7.8, 8.0, 8.1, 7.8, 8.0, 8.4, 8.2, 8.2, 7.8, 7.8, 8.2, 7.4, 7.8, 7.7, 8.2, 9.0, 8.3, 7.6, 8.5, 8.4, 9.4, 7.5, 9.3, 7.8, 9.0, 9.8, 7.6, 8.7, 8.8, 8.1, 8.1, 7.3, 8.1, 7.5, 7.7, 7.7, 6.9, 7.7, 7.9, 7.9, 8.0, 7.4, 7.7, 7.8, 8.1, 7.8, 7.8, 6.6, 7.1, 7.0, 7.0, 7.6, 7.7, 7.6, 7.1, 7.4, 7.8, 7.0, 7.7, 7.6, 7.8, 8.4, 7.6, 7.8, 7.9, 7.6, 7.5, 7.3, 8.1, 7.5, 8.0, 8.0, 8.0, 9.0, 9.5, 9.8], \"z\": [11.2, 6.0, 5.8, 5.4, 5.0, 4.8, 9.0, 7.13, 8.3, 7.6, 8.0, 7.9, 7.5, 8.0, 8.1, 9.7, 8.7, 10.3, 8.7, 8.6, 5.42, 8.95, 8.4, 8.8, 7.8, 7.8, 7.4, 7.6, 9.11, 7.78, 8.89, 8.83, 8.46, 8.81, 8.05, 8.63, 9.07, 8.44, 8.8, 10.12, 10.2, 10.11, 8.84, 8.84, 8.3, 6.74, 7.71, 7.56, 7.0, 7.2, 7.88, 9.7, 8.49, 8.91, 8.5, 8.98, 8.39, 8.29, 8.86, 9.22, 9.81, 7.56, 7.67, 7.22, 8.07, 9.2, 8.99, 8.07, 7.74, 9.32, 8.35, 8.18, 8.4, 8.33, 8.79, 8.5, 8.74, 22.91, 8.39, 8.89, 8.63, 7.51, 7.95, 8.45, 7.2, 7.94, 8.24, 7.21, 7.31, 7.71, 6.72, 8.2, 7.33, 7.28, 9.42, 9.42, 8.1, 8.52, 8.2, 7.94, 7.76, 7.43, 8.1, 8.51, 7.29, 7.36, 7.4, 9.0, 9.0, 7.51, 7.63, 7.17, 6.3, 7.01, 6.84, 6.6, 6.6, 8.4, 7.36, 6.95, 7.36, 6.87, 8.07, 7.65, 7.15, 7.28, 7.31, 7.18, 8.26, 7.93, 7.29, 6.9, 6.41, 6.12, 7.07, 7.87, 6.85, 8.42, 6.9, 6.45, 7.29, 7.64, 6.7, 5.82, 6.08, 5.53, 6.15, 5.96, 5.5, 5.71, 5.79, 5.9, 6.02, 5.31, 5.19, 4.38, 5.02, 4.95, 4.89, 4.87, 4.39, 4.35, 4.17, 4.44, 4.49, 4.28, 4.13, 4.14, 4.28, 4.0, 4.83, 4.16, 3.88, 4.16, 4.54, 4.15, 4.19, 4.45, 3.97, 4.15, 4.06, 3.54, 3.44, 3.83, 3.25, 3.51, 4.56, 5.69]}],                        {\"coloraxis\": {\"colorbar\": {\"title\": {\"text\": \"Season\"}}, \"colorscale\": [[0.0, \"#0d0887\"], [0.1111111111111111, \"#46039f\"], [0.2222222222222222, \"#7201a8\"], [0.3333333333333333, \"#9c179e\"], [0.4444444444444444, \"#bd3786\"], [0.5555555555555556, \"#d8576b\"], [0.6666666666666666, \"#ed7953\"], [0.7777777777777778, \"#fb9f3a\"], [0.8888888888888888, \"#fdca26\"], [1.0, \"#f0f921\"]]}, \"legend\": {\"tracegroupgap\": 0}, \"scene\": {\"domain\": {\"x\": [0.0, 1.0], \"y\": [0.0, 1.0]}, \"xaxis\": {\"title\": {\"text\": \"Episode_Number\"}}, \"yaxis\": {\"title\": {\"text\": \"Ratings\"}}, \"zaxis\": {\"title\": {\"text\": \"Viewership\"}}}, \"template\": {\"data\": {\"bar\": [{\"error_x\": {\"color\": \"#2a3f5f\"}, \"error_y\": {\"color\": \"#2a3f5f\"}, \"marker\": {\"line\": {\"color\": \"#E5ECF6\", \"width\": 0.5}}, \"type\": \"bar\"}], \"barpolar\": [{\"marker\": {\"line\": {\"color\": \"#E5ECF6\", \"width\": 0.5}}, \"type\": \"barpolar\"}], \"carpet\": [{\"aaxis\": {\"endlinecolor\": \"#2a3f5f\", \"gridcolor\": \"white\", \"linecolor\": \"white\", \"minorgridcolor\": \"white\", \"startlinecolor\": \"#2a3f5f\"}, \"baxis\": {\"endlinecolor\": \"#2a3f5f\", \"gridcolor\": \"white\", \"linecolor\": \"white\", \"minorgridcolor\": \"white\", \"startlinecolor\": \"#2a3f5f\"}, \"type\": \"carpet\"}], \"choropleth\": [{\"colorbar\": {\"outlinewidth\": 0, \"ticks\": \"\"}, \"type\": \"choropleth\"}], \"contour\": [{\"colorbar\": {\"outlinewidth\": 0, \"ticks\": \"\"}, \"colorscale\": [[0.0, \"#0d0887\"], [0.1111111111111111, \"#46039f\"], [0.2222222222222222, \"#7201a8\"], [0.3333333333333333, \"#9c179e\"], [0.4444444444444444, \"#bd3786\"], [0.5555555555555556, \"#d8576b\"], [0.6666666666666666, \"#ed7953\"], [0.7777777777777778, \"#fb9f3a\"], [0.8888888888888888, \"#fdca26\"], [1.0, \"#f0f921\"]], \"type\": \"contour\"}], \"contourcarpet\": [{\"colorbar\": {\"outlinewidth\": 0, \"ticks\": \"\"}, \"type\": \"contourcarpet\"}], \"heatmap\": [{\"colorbar\": {\"outlinewidth\": 0, \"ticks\": \"\"}, \"colorscale\": [[0.0, \"#0d0887\"], [0.1111111111111111, \"#46039f\"], [0.2222222222222222, \"#7201a8\"], [0.3333333333333333, \"#9c179e\"], [0.4444444444444444, \"#bd3786\"], [0.5555555555555556, \"#d8576b\"], [0.6666666666666666, \"#ed7953\"], [0.7777777777777778, \"#fb9f3a\"], [0.8888888888888888, \"#fdca26\"], [1.0, \"#f0f921\"]], \"type\": \"heatmap\"}], \"heatmapgl\": [{\"colorbar\": {\"outlinewidth\": 0, \"ticks\": \"\"}, \"colorscale\": [[0.0, \"#0d0887\"], [0.1111111111111111, \"#46039f\"], [0.2222222222222222, \"#7201a8\"], [0.3333333333333333, \"#9c179e\"], [0.4444444444444444, \"#bd3786\"], [0.5555555555555556, \"#d8576b\"], [0.6666666666666666, \"#ed7953\"], [0.7777777777777778, \"#fb9f3a\"], [0.8888888888888888, \"#fdca26\"], [1.0, \"#f0f921\"]], \"type\": \"heatmapgl\"}], \"histogram\": [{\"marker\": {\"colorbar\": {\"outlinewidth\": 0, \"ticks\": \"\"}}, \"type\": \"histogram\"}], \"histogram2d\": [{\"colorbar\": {\"outlinewidth\": 0, \"ticks\": \"\"}, \"colorscale\": [[0.0, \"#0d0887\"], [0.1111111111111111, \"#46039f\"], [0.2222222222222222, \"#7201a8\"], [0.3333333333333333, \"#9c179e\"], [0.4444444444444444, \"#bd3786\"], [0.5555555555555556, \"#d8576b\"], [0.6666666666666666, \"#ed7953\"], [0.7777777777777778, \"#fb9f3a\"], [0.8888888888888888, \"#fdca26\"], [1.0, \"#f0f921\"]], \"type\": \"histogram2d\"}], \"histogram2dcontour\": [{\"colorbar\": {\"outlinewidth\": 0, \"ticks\": \"\"}, \"colorscale\": [[0.0, \"#0d0887\"], [0.1111111111111111, \"#46039f\"], [0.2222222222222222, \"#7201a8\"], [0.3333333333333333, \"#9c179e\"], [0.4444444444444444, \"#bd3786\"], [0.5555555555555556, \"#d8576b\"], [0.6666666666666666, \"#ed7953\"], [0.7777777777777778, \"#fb9f3a\"], [0.8888888888888888, \"#fdca26\"], [1.0, \"#f0f921\"]], \"type\": \"histogram2dcontour\"}], \"mesh3d\": [{\"colorbar\": {\"outlinewidth\": 0, \"ticks\": \"\"}, \"type\": \"mesh3d\"}], \"parcoords\": [{\"line\": {\"colorbar\": {\"outlinewidth\": 0, \"ticks\": \"\"}}, \"type\": \"parcoords\"}], \"pie\": [{\"automargin\": true, \"type\": \"pie\"}], \"scatter\": [{\"marker\": {\"colorbar\": {\"outlinewidth\": 0, \"ticks\": \"\"}}, \"type\": \"scatter\"}], \"scatter3d\": [{\"line\": {\"colorbar\": {\"outlinewidth\": 0, \"ticks\": \"\"}}, \"marker\": {\"colorbar\": {\"outlinewidth\": 0, \"ticks\": \"\"}}, \"type\": \"scatter3d\"}], \"scattercarpet\": [{\"marker\": {\"colorbar\": {\"outlinewidth\": 0, \"ticks\": \"\"}}, \"type\": \"scattercarpet\"}], \"scattergeo\": [{\"marker\": {\"colorbar\": {\"outlinewidth\": 0, \"ticks\": \"\"}}, \"type\": \"scattergeo\"}], \"scattergl\": [{\"marker\": {\"colorbar\": {\"outlinewidth\": 0, \"ticks\": \"\"}}, \"type\": \"scattergl\"}], \"scattermapbox\": [{\"marker\": {\"colorbar\": {\"outlinewidth\": 0, \"ticks\": \"\"}}, \"type\": \"scattermapbox\"}], \"scatterpolar\": [{\"marker\": {\"colorbar\": {\"outlinewidth\": 0, \"ticks\": \"\"}}, \"type\": \"scatterpolar\"}], \"scatterpolargl\": [{\"marker\": {\"colorbar\": {\"outlinewidth\": 0, \"ticks\": \"\"}}, \"type\": \"scatterpolargl\"}], \"scatterternary\": [{\"marker\": {\"colorbar\": {\"outlinewidth\": 0, \"ticks\": \"\"}}, \"type\": \"scatterternary\"}], \"surface\": [{\"colorbar\": {\"outlinewidth\": 0, \"ticks\": \"\"}, \"colorscale\": [[0.0, \"#0d0887\"], [0.1111111111111111, \"#46039f\"], [0.2222222222222222, \"#7201a8\"], [0.3333333333333333, \"#9c179e\"], [0.4444444444444444, \"#bd3786\"], [0.5555555555555556, \"#d8576b\"], [0.6666666666666666, \"#ed7953\"], [0.7777777777777778, \"#fb9f3a\"], [0.8888888888888888, \"#fdca26\"], [1.0, \"#f0f921\"]], \"type\": \"surface\"}], \"table\": [{\"cells\": {\"fill\": {\"color\": \"#EBF0F8\"}, \"line\": {\"color\": \"white\"}}, \"header\": {\"fill\": {\"color\": \"#C8D4E3\"}, \"line\": {\"color\": \"white\"}}, \"type\": \"table\"}]}, \"layout\": {\"annotationdefaults\": {\"arrowcolor\": \"#2a3f5f\", \"arrowhead\": 0, \"arrowwidth\": 1}, \"autotypenumbers\": \"strict\", \"coloraxis\": {\"colorbar\": {\"outlinewidth\": 0, \"ticks\": \"\"}}, \"colorscale\": {\"diverging\": [[0, \"#8e0152\"], [0.1, \"#c51b7d\"], [0.2, \"#de77ae\"], [0.3, \"#f1b6da\"], [0.4, \"#fde0ef\"], [0.5, \"#f7f7f7\"], [0.6, \"#e6f5d0\"], [0.7, \"#b8e186\"], [0.8, \"#7fbc41\"], [0.9, \"#4d9221\"], [1, \"#276419\"]], \"sequential\": [[0.0, \"#0d0887\"], [0.1111111111111111, \"#46039f\"], [0.2222222222222222, \"#7201a8\"], [0.3333333333333333, \"#9c179e\"], [0.4444444444444444, \"#bd3786\"], [0.5555555555555556, \"#d8576b\"], [0.6666666666666666, \"#ed7953\"], [0.7777777777777778, \"#fb9f3a\"], [0.8888888888888888, \"#fdca26\"], [1.0, \"#f0f921\"]], \"sequentialminus\": [[0.0, \"#0d0887\"], [0.1111111111111111, \"#46039f\"], [0.2222222222222222, \"#7201a8\"], [0.3333333333333333, \"#9c179e\"], [0.4444444444444444, \"#bd3786\"], [0.5555555555555556, \"#d8576b\"], [0.6666666666666666, \"#ed7953\"], [0.7777777777777778, \"#fb9f3a\"], [0.8888888888888888, \"#fdca26\"], [1.0, \"#f0f921\"]]}, \"colorway\": [\"#636efa\", \"#EF553B\", \"#00cc96\", \"#ab63fa\", \"#FFA15A\", \"#19d3f3\", \"#FF6692\", \"#B6E880\", \"#FF97FF\", \"#FECB52\"], \"font\": {\"color\": \"#2a3f5f\"}, \"geo\": {\"bgcolor\": \"white\", \"lakecolor\": \"white\", \"landcolor\": \"#E5ECF6\", \"showlakes\": true, \"showland\": true, \"subunitcolor\": \"white\"}, \"hoverlabel\": {\"align\": \"left\"}, \"hovermode\": \"closest\", \"mapbox\": {\"style\": \"light\"}, \"paper_bgcolor\": \"white\", \"plot_bgcolor\": \"#E5ECF6\", \"polar\": {\"angularaxis\": {\"gridcolor\": \"white\", \"linecolor\": \"white\", \"ticks\": \"\"}, \"bgcolor\": \"#E5ECF6\", \"radialaxis\": {\"gridcolor\": \"white\", \"linecolor\": \"white\", \"ticks\": \"\"}}, \"scene\": {\"xaxis\": {\"backgroundcolor\": \"#E5ECF6\", \"gridcolor\": \"white\", \"gridwidth\": 2, \"linecolor\": \"white\", \"showbackground\": true, \"ticks\": \"\", \"zerolinecolor\": \"white\"}, \"yaxis\": {\"backgroundcolor\": \"#E5ECF6\", \"gridcolor\": \"white\", \"gridwidth\": 2, \"linecolor\": \"white\", \"showbackground\": true, \"ticks\": \"\", \"zerolinecolor\": \"white\"}, \"zaxis\": {\"backgroundcolor\": \"#E5ECF6\", \"gridcolor\": \"white\", \"gridwidth\": 2, \"linecolor\": \"white\", \"showbackground\": true, \"ticks\": \"\", \"zerolinecolor\": \"white\"}}, \"shapedefaults\": {\"line\": {\"color\": \"#2a3f5f\"}}, \"ternary\": {\"aaxis\": {\"gridcolor\": \"white\", \"linecolor\": \"white\", \"ticks\": \"\"}, \"baxis\": {\"gridcolor\": \"white\", \"linecolor\": \"white\", \"ticks\": \"\"}, \"bgcolor\": \"#E5ECF6\", \"caxis\": {\"gridcolor\": \"white\", \"linecolor\": \"white\", \"ticks\": \"\"}}, \"title\": {\"x\": 0.05}, \"xaxis\": {\"automargin\": true, \"gridcolor\": \"white\", \"linecolor\": \"white\", \"ticks\": \"\", \"title\": {\"standoff\": 15}, \"zerolinecolor\": \"white\", \"zerolinewidth\": 2}, \"yaxis\": {\"automargin\": true, \"gridcolor\": \"white\", \"linecolor\": \"white\", \"ticks\": \"\", \"title\": {\"standoff\": 15}, \"zerolinecolor\": \"white\", \"zerolinewidth\": 2}}}, \"title\": {\"text\": \"3D Map of The Office Episode by Viewership and Rating\"}},                        {\"responsive\": true}                    ).then(function(){\n                            \nvar gd = document.getElementById('4410dcff-b986-4d16-83aa-4c1433bdabb7');\nvar x = new MutationObserver(function (mutations, observer) {{\n        var display = window.getComputedStyle(gd).display;\n        if (!display || display === 'none') {{\n            console.log([gd, 'removed!']);\n            Plotly.purge(gd);\n            observer.disconnect();\n        }}\n}});\n\n// Listen for the removal of the full notebook cells\nvar notebookContainer = gd.closest('#notebook-container');\nif (notebookContainer) {{\n    x.observe(notebookContainer, {childList: true});\n}}\n\n// Listen for the clearing of the current output cell\nvar outputEl = gd.closest('.output');\nif (outputEl) {{\n    x.observe(outputEl, {childList: true});\n}}\n\n                        })                };                });            </script>        </div>"
          },
          "metadata": {}
        }
      ],
      "execution_count": 13,
      "metadata": {
        "collapsed": false,
        "jupyter": {
          "source_hidden": false,
          "outputs_hidden": false
        },
        "nteract": {
          "transient": {
            "deleting": false
          }
        },
        "execution": {
          "iopub.status.busy": "2020-12-27T18:00:27.174Z",
          "iopub.execute_input": "2020-12-27T18:00:27.179Z",
          "iopub.status.idle": "2020-12-27T18:00:27.710Z",
          "shell.execute_reply": "2020-12-27T18:00:27.803Z"
        }
      }
    }
  ],
  "metadata": {
    "kernel_info": {
      "name": "python3"
    },
    "language_info": {
      "name": "python",
      "version": "3.8.3",
      "mimetype": "text/x-python",
      "codemirror_mode": {
        "name": "ipython",
        "version": 3
      },
      "pygments_lexer": "ipython3",
      "nbconvert_exporter": "python",
      "file_extension": ".py"
    },
    "kernelspec": {
      "argv": [
        "/Users/deana/opt/anaconda3/bin/python3",
        "-m",
        "ipykernel_launcher",
        "-f",
        "{connection_file}"
      ],
      "display_name": "Python 3",
      "language": "python",
      "name": "python3"
    },
    "nteract": {
      "version": "0.27.0"
    }
  },
  "nbformat": 4,
  "nbformat_minor": 0
}